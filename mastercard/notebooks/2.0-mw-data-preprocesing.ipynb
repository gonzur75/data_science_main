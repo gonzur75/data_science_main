{
 "cells": [
  {
   "metadata": {},
   "cell_type": "markdown",
   "source": "# Feature engineering\n",
   "id": "f2b1cc7cc0f32cfa"
  },
  {
   "metadata": {
    "ExecuteTime": {
     "end_time": "2025-06-10T14:13:57.215007Z",
     "start_time": "2025-06-10T14:13:55.894441Z"
    }
   },
   "cell_type": "code",
   "source": [
    "\n",
    "from pathlib import Path\n",
    "\n",
    "import numpy as np\n",
    "import pandas as pd\n",
    "import matplotlib.pyplot as plt\n",
    "import seaborn as sns\n",
    "import plotly.express as px\n",
    "from debugpy.adapter.components import missing\n",
    "from networkx.algorithms.bipartite.basic import color\n",
    "from pyarrow.compute import top_k_unstable, scalar\n",
    "\n",
    "# from ydata_profiling import ProfileReport\n",
    "\n",
    "from mastercard import dist_visualisation, dist_categorical_visualisation\n",
    "\n",
    "PROCESSED_DATA_DIR = Path(\"../data/processed\")\n",
    "INTERIM_DATA_DIR = Path(\"../data/interim\")\n",
    "\n",
    "FIGURES_DIR = Path(\"../reports/figures\")\n",
    "df = pd.read_parquet(INTERIM_DATA_DIR / \"merge_data.parquet\")\n"
   ],
   "id": "initial_id",
   "outputs": [
    {
     "name": "stderr",
     "output_type": "stream",
     "text": [
      "\u001B[32m2025-06-10 16:13:56.218\u001B[0m | \u001B[1mINFO    \u001B[0m | \u001B[36mmastercard.config\u001B[0m:\u001B[36m<module>\u001B[0m:\u001B[36m11\u001B[0m - \u001B[1mPROJ_ROOT path is: /home/marcin/workspace/data_sience/mastercard\u001B[0m\n"
     ]
    }
   ],
   "execution_count": 1
  },
  {
   "metadata": {
    "ExecuteTime": {
     "end_time": "2025-06-10T14:13:57.585415Z",
     "start_time": "2025-06-10T14:13:57.418431Z"
    }
   },
   "cell_type": "code",
   "source": "df.drop(columns=[\"currency\", 'user_id', 'merchant_id', 'location'], inplace=True)",
   "id": "2aada2b5558ef5f6",
   "outputs": [],
   "execution_count": 2
  },
  {
   "metadata": {
    "jupyter": {
     "is_executing": true
    },
    "ExecuteTime": {
     "start_time": "2025-06-10T14:13:57.608987Z"
    }
   },
   "cell_type": "code",
   "source": "df.info()\n",
   "id": "8669021241c99944",
   "outputs": [],
   "execution_count": null
  },
  {
   "metadata": {
    "ExecuteTime": {
     "end_time": "2025-06-10T14:11:28.602820Z",
     "start_time": "2025-06-10T14:11:28.543487Z"
    }
   },
   "cell_type": "code",
   "source": [
    "df[\"education\"] = (\n",
    "    df['education'].fillna('Missing'))"
   ],
   "id": "2661a90078372045",
   "outputs": [],
   "execution_count": 4
  },
  {
   "metadata": {
    "ExecuteTime": {
     "end_time": "2025-06-10T14:11:31.212046Z",
     "start_time": "2025-06-10T14:11:31.092927Z"
    }
   },
   "cell_type": "code",
   "source": "df.drop(columns=[\"transaction_id\"], inplace=True)",
   "id": "9cb771a7c45ac25",
   "outputs": [],
   "execution_count": 5
  },
  {
   "metadata": {
    "ExecuteTime": {
     "end_time": "2025-06-10T14:11:32.148146Z",
     "start_time": "2025-06-10T14:11:31.931110Z"
    }
   },
   "cell_type": "code",
   "source": "df.info()\n",
   "id": "27cb7208ea787e57",
   "outputs": [
    {
     "name": "stdout",
     "output_type": "stream",
     "text": [
      "<class 'pandas.core.frame.DataFrame'>\n",
      "RangeIndex: 500000 entries, 0 to 499999\n",
      "Data columns (total 25 columns):\n",
      " #   Column                          Non-Null Count   Dtype         \n",
      "---  ------                          --------------   -----         \n",
      " 0   timestamp                       500000 non-null  datetime64[ns]\n",
      " 1   amount                          500000 non-null  float64       \n",
      " 2   channel                         500000 non-null  object        \n",
      " 3   device                          500000 non-null  object        \n",
      " 4   payment_method                  500000 non-null  object        \n",
      " 5   is_international                500000 non-null  int64         \n",
      " 6   session_length_seconds          500000 non-null  int64         \n",
      " 7   is_first_time_merchant          500000 non-null  int64         \n",
      " 8   is_fraud                        500000 non-null  int64         \n",
      " 9   age                             500000 non-null  int64         \n",
      " 10  sex                             500000 non-null  object        \n",
      " 11  education                       500000 non-null  object        \n",
      " 12  primary_source_of_income        500000 non-null  object        \n",
      " 13  sum_of_monthly_installments     500000 non-null  float64       \n",
      " 14  sum_of_monthly_expenses         500000 non-null  float64       \n",
      " 15  country_users                   500000 non-null  object        \n",
      " 16  signup_date                     500000 non-null  datetime64[ns]\n",
      " 17  risk_score                      500000 non-null  float64       \n",
      " 18  category                        500000 non-null  object        \n",
      " 19  country_merchant                500000 non-null  object        \n",
      " 20  trust_score                     500000 non-null  float64       \n",
      " 21  number_of_alerts_last_6_months  500000 non-null  int64         \n",
      " 22  avg_transaction_amount          500000 non-null  float64       \n",
      " 23  account_age_months              500000 non-null  int64         \n",
      " 24  has_fraud_history               500000 non-null  int64         \n",
      "dtypes: datetime64[ns](2), float64(6), int64(8), object(9)\n",
      "memory usage: 95.4+ MB\n"
     ]
    }
   ],
   "execution_count": 6
  },
  {
   "metadata": {
    "ExecuteTime": {
     "end_time": "2025-06-10T14:11:56.781752Z",
     "start_time": "2025-06-10T14:11:56.262328Z"
    }
   },
   "cell_type": "code",
   "source": [
    "categorical_cols = [\"education\", \"channel\", \"device\", \"payment_method\", \"sex\", \"primary_source_of_income\", \"category\", \"country_users \", \"country_merchant\"]\n",
    "df_encoded = pd.get_dummies(df, columns=categorical_cols, dtype=int, drop_first=True)"
   ],
   "id": "aa1c0e49da4a3",
   "outputs": [],
   "execution_count": 7
  },
  {
   "metadata": {
    "ExecuteTime": {
     "end_time": "2025-06-10T14:12:12.649833Z",
     "start_time": "2025-06-10T14:12:12.644119Z"
    }
   },
   "cell_type": "code",
   "source": "df_encoded.columns\n",
   "id": "7d516c592ba4e4d8",
   "outputs": [
    {
     "data": {
      "text/plain": [
       "Index(['timestamp', 'amount', 'is_international', 'session_length_seconds',\n",
       "       'is_first_time_merchant', 'is_fraud', 'age',\n",
       "       'sum_of_monthly_installments', 'sum_of_monthly_expenses',\n",
       "       'country_users', 'signup_date', 'risk_score', 'country_merchant',\n",
       "       'trust_score', 'number_of_alerts_last_6_months',\n",
       "       'avg_transaction_amount', 'account_age_months', 'has_fraud_history',\n",
       "       'education_High School', 'education_Master', 'education_Missing',\n",
       "       'education_PhD', 'channel_mobile', 'channel_online', 'device_Web',\n",
       "       'device_iOS', 'payment_method_credit_card', 'payment_method_debit_card',\n",
       "       'payment_method_mobile_payment', 'sex_Male', 'sex_Other',\n",
       "       'primary_source_of_income_Employment',\n",
       "       'primary_source_of_income_Retirement',\n",
       "       'primary_source_of_income_Savings',\n",
       "       'primary_source_of_income_Student Aid',\n",
       "       'primary_source_of_income_Unemployment', 'category_education',\n",
       "       'category_electronics', 'category_gaming', 'category_grocery',\n",
       "       'category_restaurants', 'category_travel'],\n",
       "      dtype='object')"
      ]
     },
     "execution_count": 9,
     "metadata": {},
     "output_type": "execute_result"
    }
   ],
   "execution_count": 9
  },
  {
   "metadata": {
    "ExecuteTime": {
     "end_time": "2025-06-10T14:12:12.715968Z",
     "start_time": "2025-06-10T14:12:12.710877Z"
    }
   },
   "cell_type": "code",
   "source": "# df_encoded.info()",
   "id": "174c8a5f2dcbc65",
   "outputs": [],
   "execution_count": 10
  },
  {
   "metadata": {
    "ExecuteTime": {
     "end_time": "2025-06-10T14:12:13.163804Z",
     "start_time": "2025-06-10T14:12:12.808532Z"
    }
   },
   "cell_type": "code",
   "source": "from sklearn.preprocessing import StandardScaler",
   "id": "e9d4743fa1a90f0f",
   "outputs": [],
   "execution_count": 11
  },
  {
   "metadata": {
    "ExecuteTime": {
     "end_time": "2025-06-10T14:12:13.197507Z",
     "start_time": "2025-06-10T14:12:13.192657Z"
    }
   },
   "cell_type": "code",
   "source": "df.columns\n",
   "id": "6d5a52d3773c90e1",
   "outputs": [
    {
     "data": {
      "text/plain": [
       "Index(['timestamp', 'amount', 'channel', 'device', 'payment_method',\n",
       "       'is_international', 'session_length_seconds', 'is_first_time_merchant',\n",
       "       'is_fraud', 'age', 'sex', 'education', 'primary_source_of_income',\n",
       "       'sum_of_monthly_installments', 'sum_of_monthly_expenses',\n",
       "       'country_users', 'signup_date', 'risk_score', 'category',\n",
       "       'country_merchant', 'trust_score', 'number_of_alerts_last_6_months',\n",
       "       'avg_transaction_amount', 'account_age_months', 'has_fraud_history'],\n",
       "      dtype='object')"
      ]
     },
     "execution_count": 12,
     "metadata": {},
     "output_type": "execute_result"
    }
   ],
   "execution_count": 12
  },
  {
   "metadata": {
    "ExecuteTime": {
     "end_time": "2025-06-10T14:12:13.297396Z",
     "start_time": "2025-06-10T14:12:13.291165Z"
    }
   },
   "cell_type": "code",
   "source": [
    "numerical_cols = [\"amount\", \"session_length_seconds\", \"age\", \"sum_of_monthly_installments\", \"sum_of_monthly_expenses\", \"risk_score\", \"number_of_alerts_last_6_months\", \"avg_transaction_amount\", \"account_age_months\"]\n",
    "\n",
    "scaler = StandardScaler()"
   ],
   "id": "18648e1c2870f520",
   "outputs": [],
   "execution_count": 13
  },
  {
   "metadata": {
    "ExecuteTime": {
     "end_time": "2025-06-10T14:12:13.480226Z",
     "start_time": "2025-06-10T14:12:13.389353Z"
    }
   },
   "cell_type": "code",
   "source": "df_encoded[numerical_cols] =  scaler.fit_transform(df_encoded[numerical_cols])",
   "id": "8baba9ed73cf2f10",
   "outputs": [],
   "execution_count": 14
  },
  {
   "metadata": {
    "ExecuteTime": {
     "end_time": "2025-06-10T14:12:13.527382Z",
     "start_time": "2025-06-10T14:12:13.521582Z"
    }
   },
   "cell_type": "code",
   "source": "df_encoded.columns",
   "id": "e2eeabfa4e7a6bf",
   "outputs": [
    {
     "data": {
      "text/plain": [
       "Index(['timestamp', 'amount', 'is_international', 'session_length_seconds',\n",
       "       'is_first_time_merchant', 'is_fraud', 'age',\n",
       "       'sum_of_monthly_installments', 'sum_of_monthly_expenses',\n",
       "       'country_users', 'signup_date', 'risk_score', 'country_merchant',\n",
       "       'trust_score', 'number_of_alerts_last_6_months',\n",
       "       'avg_transaction_amount', 'account_age_months', 'has_fraud_history',\n",
       "       'education_High School', 'education_Master', 'education_Missing',\n",
       "       'education_PhD', 'channel_mobile', 'channel_online', 'device_Web',\n",
       "       'device_iOS', 'payment_method_credit_card', 'payment_method_debit_card',\n",
       "       'payment_method_mobile_payment', 'sex_Male', 'sex_Other',\n",
       "       'primary_source_of_income_Employment',\n",
       "       'primary_source_of_income_Retirement',\n",
       "       'primary_source_of_income_Savings',\n",
       "       'primary_source_of_income_Student Aid',\n",
       "       'primary_source_of_income_Unemployment', 'category_education',\n",
       "       'category_electronics', 'category_gaming', 'category_grocery',\n",
       "       'category_restaurants', 'category_travel'],\n",
       "      dtype='object')"
      ]
     },
     "execution_count": 15,
     "metadata": {},
     "output_type": "execute_result"
    }
   ],
   "execution_count": 15
  },
  {
   "metadata": {
    "ExecuteTime": {
     "end_time": "2025-06-10T14:12:14.501742Z",
     "start_time": "2025-06-10T14:12:13.596405Z"
    }
   },
   "cell_type": "code",
   "source": "df_encoded.to_parquet(INTERIM_DATA_DIR / \"df_encoded1.parquet\")\n",
   "id": "978c155233b144ad",
   "outputs": [],
   "execution_count": 16
  },
  {
   "metadata": {
    "ExecuteTime": {
     "end_time": "2025-06-10T14:12:14.549082Z",
     "start_time": "2025-06-10T14:12:14.543512Z"
    }
   },
   "cell_type": "code",
   "source": "",
   "id": "fbcb6eff0ac9cde7",
   "outputs": [
    {
     "name": "stdout",
     "output_type": "stream",
     "text": [
      "Index([], dtype='object')\n"
     ]
    }
   ],
   "execution_count": 17
  },
  {
   "metadata": {
    "ExecuteTime": {
     "end_time": "2025-06-10T14:12:14.631203Z",
     "start_time": "2025-06-10T14:12:14.627240Z"
    }
   },
   "cell_type": "code",
   "source": "",
   "id": "9164ea9b8d000bc7",
   "outputs": [],
   "execution_count": null
  }
 ],
 "metadata": {
  "kernelspec": {
   "display_name": "Python 3",
   "language": "python",
   "name": "python3"
  },
  "language_info": {
   "codemirror_mode": {
    "name": "ipython",
    "version": 2
   },
   "file_extension": ".py",
   "mimetype": "text/x-python",
   "name": "python",
   "nbconvert_exporter": "python",
   "pygments_lexer": "ipython2",
   "version": "2.7.6"
  }
 },
 "nbformat": 4,
 "nbformat_minor": 5
}
