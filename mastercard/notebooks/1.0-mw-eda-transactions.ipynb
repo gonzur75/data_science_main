{
 "cells": [
  {
   "cell_type": "code",
   "id": "initial_id",
   "metadata": {
    "collapsed": true,
    "ExecuteTime": {
     "end_time": "2025-05-31T09:49:21.696308Z",
     "start_time": "2025-05-31T09:49:21.692581Z"
    }
   },
   "source": [
    "from pathlib import Path\n",
    "\n",
    "import pandas as pd\n",
    "import matplotlib.pyplot as plt\n",
    "import seaborn as sns\n"
   ],
   "outputs": [],
   "execution_count": 1
  },
  {
   "metadata": {
    "ExecuteTime": {
     "end_time": "2025-05-31T09:50:58.954810Z",
     "start_time": "2025-05-31T09:50:58.949006Z"
    }
   },
   "cell_type": "code",
   "source": "RAW_DATA_DIR = Path(\"../data/raw/\")",
   "id": "d77b058fd58a1311",
   "outputs": [],
   "execution_count": 6
  },
  {
   "metadata": {
    "ExecuteTime": {
     "end_time": "2025-05-31T09:50:59.725479Z",
     "start_time": "2025-05-31T09:50:59.714016Z"
    }
   },
   "cell_type": "code",
   "source": "RAW_DATA_DIR\n",
   "id": "e01634cd49ff57d7",
   "outputs": [
    {
     "data": {
      "text/plain": [
       "PosixPath('../data/raw')"
      ]
     },
     "execution_count": 7,
     "metadata": {},
     "output_type": "execute_result"
    }
   ],
   "execution_count": 7
  },
  {
   "metadata": {
    "jupyter": {
     "is_executing": true
    }
   },
   "cell_type": "code",
   "source": "df = pd.read_json(RAW_DATA_DIR / \"transactions.json\", lines=True)",
   "id": "c7174927d5ba827d",
   "outputs": [],
   "execution_count": null
  },
  {
   "metadata": {},
   "cell_type": "code",
   "outputs": [],
   "execution_count": null,
   "source": "df.to_parquet(RAW_DATA_DIR / \"transactions.parquet\")",
   "id": "5a8affce60f5be28"
  }
 ],
 "metadata": {
  "kernelspec": {
   "display_name": "Python 3",
   "language": "python",
   "name": "python3"
  },
  "language_info": {
   "codemirror_mode": {
    "name": "ipython",
    "version": 2
   },
   "file_extension": ".py",
   "mimetype": "text/x-python",
   "name": "python",
   "nbconvert_exporter": "python",
   "pygments_lexer": "ipython2",
   "version": "2.7.6"
  }
 },
 "nbformat": 4,
 "nbformat_minor": 5
}
