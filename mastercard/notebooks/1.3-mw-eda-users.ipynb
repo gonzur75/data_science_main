{
 "cells": [
  {
   "metadata": {},
   "cell_type": "markdown",
   "source": [
    "# Users EDA\n",
    "\n",
    "Goal: Analyze users-level attributes\n"
   ],
   "id": "dca804ab4f4bba78"
  },
  {
   "metadata": {
    "ExecuteTime": {
     "end_time": "2025-06-08T08:08:35.994612Z",
     "start_time": "2025-06-08T08:08:35.918517Z"
    }
   },
   "cell_type": "code",
   "source": [
    "from pathlib import Path\n",
    "\n",
    "import pandas as pd\n",
    "import matplotlib.pyplot as plt\n",
    "import seaborn as sns\n",
    "from debugpy.adapter.components import missing\n",
    "\n",
    "# from ydata_profiling import ProfileReport\n",
    "\n",
    "from mastercard import dist_visualisation, dist_categorical_visualisation"
   ],
   "id": "19cca2a9c724c950",
   "outputs": [
    {
     "name": "stderr",
     "output_type": "stream",
     "text": [
      "\u001B[32m2025-06-08 10:08:35.974\u001B[0m | \u001B[1mINFO    \u001B[0m | \u001B[36mmastercard.config\u001B[0m:\u001B[36m<module>\u001B[0m:\u001B[36m11\u001B[0m - \u001B[1mPROJ_ROOT path is: /home/marcin/workspace/data_sience/mastercard\u001B[0m\n"
     ]
    }
   ],
   "execution_count": 1
  },
  {
   "metadata": {
    "ExecuteTime": {
     "end_time": "2025-06-08T08:08:36.239828Z",
     "start_time": "2025-06-08T08:08:36.152813Z"
    }
   },
   "cell_type": "code",
   "source": [
    "PROCESSED_DATA_DIR = Path(\"../data/processed\")\n",
    "FIGURES_DIR = Path(\"../reports/figures\")\n",
    "df = pd.read_parquet(PROCESSED_DATA_DIR / \"users.parquet\")"
   ],
   "id": "c22dae05b4c67058",
   "outputs": [],
   "execution_count": 2
  },
  {
   "metadata": {
    "ExecuteTime": {
     "end_time": "2025-06-08T08:08:36.282254Z",
     "start_time": "2025-06-08T08:08:36.276841Z"
    }
   },
   "cell_type": "code",
   "source": "print(\"Initial shape:\", df.shape)",
   "id": "2db2183958b75f3a",
   "outputs": [
    {
     "name": "stdout",
     "output_type": "stream",
     "text": [
      "Initial shape: (20000, 10)\n"
     ]
    }
   ],
   "execution_count": 3
  },
  {
   "metadata": {
    "ExecuteTime": {
     "end_time": "2025-06-08T08:08:36.363336Z",
     "start_time": "2025-06-08T08:08:36.350686Z"
    }
   },
   "cell_type": "code",
   "source": "df.columns\n",
   "id": "b39c63fd1543b428",
   "outputs": [
    {
     "data": {
      "text/plain": [
       "Index(['user_id', 'age', 'sex', 'education', 'primary_source_of_income',\n",
       "       'sum_of_monthly_installments', 'sum_of_monthly_expenses', 'country',\n",
       "       'signup_date', 'risk_score'],\n",
       "      dtype='object')"
      ]
     },
     "execution_count": 4,
     "metadata": {},
     "output_type": "execute_result"
    }
   ],
   "execution_count": 4
  },
  {
   "metadata": {
    "ExecuteTime": {
     "end_time": "2025-06-08T08:08:36.478449Z",
     "start_time": "2025-06-08T08:08:36.445347Z"
    }
   },
   "cell_type": "code",
   "source": "df.head()",
   "id": "a858c5fe48d3c4fb",
   "outputs": [
    {
     "data": {
      "text/plain": [
       "  user_id  age     sex    education primary_source_of_income  \\\n",
       "0  U00001   56   Other  High School               Employment   \n",
       "1  U00002   36  Female     Bachelor                 Business   \n",
       "2  U00003   70   Other  High School              Student Aid   \n",
       "3  U00004   38   Other  High School                  Savings   \n",
       "4  U00005   61    Male  High School               Employment   \n",
       "\n",
       "   sum_of_monthly_installments  sum_of_monthly_expenses  country signup_date  \\\n",
       "0                       477.69                   243.18  Finland  2021-04-01   \n",
       "1                        31.60                   737.76   France  2020-07-07   \n",
       "2                       275.72                  1477.50  Finland  2022-08-23   \n",
       "3                       288.29                  1135.03  Belgium  2022-05-21   \n",
       "4                         7.00                   892.76    Italy  2022-03-15   \n",
       "\n",
       "   risk_score  \n",
       "0    0.571079  \n",
       "1    0.705268  \n",
       "2    0.429579  \n",
       "3    0.581384  \n",
       "4    0.420227  "
      ],
      "text/html": [
       "<div>\n",
       "<style scoped>\n",
       "    .dataframe tbody tr th:only-of-type {\n",
       "        vertical-align: middle;\n",
       "    }\n",
       "\n",
       "    .dataframe tbody tr th {\n",
       "        vertical-align: top;\n",
       "    }\n",
       "\n",
       "    .dataframe thead th {\n",
       "        text-align: right;\n",
       "    }\n",
       "</style>\n",
       "<table border=\"1\" class=\"dataframe\">\n",
       "  <thead>\n",
       "    <tr style=\"text-align: right;\">\n",
       "      <th></th>\n",
       "      <th>user_id</th>\n",
       "      <th>age</th>\n",
       "      <th>sex</th>\n",
       "      <th>education</th>\n",
       "      <th>primary_source_of_income</th>\n",
       "      <th>sum_of_monthly_installments</th>\n",
       "      <th>sum_of_monthly_expenses</th>\n",
       "      <th>country</th>\n",
       "      <th>signup_date</th>\n",
       "      <th>risk_score</th>\n",
       "    </tr>\n",
       "  </thead>\n",
       "  <tbody>\n",
       "    <tr>\n",
       "      <th>0</th>\n",
       "      <td>U00001</td>\n",
       "      <td>56</td>\n",
       "      <td>Other</td>\n",
       "      <td>High School</td>\n",
       "      <td>Employment</td>\n",
       "      <td>477.69</td>\n",
       "      <td>243.18</td>\n",
       "      <td>Finland</td>\n",
       "      <td>2021-04-01</td>\n",
       "      <td>0.571079</td>\n",
       "    </tr>\n",
       "    <tr>\n",
       "      <th>1</th>\n",
       "      <td>U00002</td>\n",
       "      <td>36</td>\n",
       "      <td>Female</td>\n",
       "      <td>Bachelor</td>\n",
       "      <td>Business</td>\n",
       "      <td>31.60</td>\n",
       "      <td>737.76</td>\n",
       "      <td>France</td>\n",
       "      <td>2020-07-07</td>\n",
       "      <td>0.705268</td>\n",
       "    </tr>\n",
       "    <tr>\n",
       "      <th>2</th>\n",
       "      <td>U00003</td>\n",
       "      <td>70</td>\n",
       "      <td>Other</td>\n",
       "      <td>High School</td>\n",
       "      <td>Student Aid</td>\n",
       "      <td>275.72</td>\n",
       "      <td>1477.50</td>\n",
       "      <td>Finland</td>\n",
       "      <td>2022-08-23</td>\n",
       "      <td>0.429579</td>\n",
       "    </tr>\n",
       "    <tr>\n",
       "      <th>3</th>\n",
       "      <td>U00004</td>\n",
       "      <td>38</td>\n",
       "      <td>Other</td>\n",
       "      <td>High School</td>\n",
       "      <td>Savings</td>\n",
       "      <td>288.29</td>\n",
       "      <td>1135.03</td>\n",
       "      <td>Belgium</td>\n",
       "      <td>2022-05-21</td>\n",
       "      <td>0.581384</td>\n",
       "    </tr>\n",
       "    <tr>\n",
       "      <th>4</th>\n",
       "      <td>U00005</td>\n",
       "      <td>61</td>\n",
       "      <td>Male</td>\n",
       "      <td>High School</td>\n",
       "      <td>Employment</td>\n",
       "      <td>7.00</td>\n",
       "      <td>892.76</td>\n",
       "      <td>Italy</td>\n",
       "      <td>2022-03-15</td>\n",
       "      <td>0.420227</td>\n",
       "    </tr>\n",
       "  </tbody>\n",
       "</table>\n",
       "</div>"
      ]
     },
     "execution_count": 5,
     "metadata": {},
     "output_type": "execute_result"
    }
   ],
   "execution_count": 5
  },
  {
   "metadata": {
    "ExecuteTime": {
     "end_time": "2025-06-08T08:08:36.589523Z",
     "start_time": "2025-06-08T08:08:36.573211Z"
    }
   },
   "cell_type": "code",
   "source": "df.info()",
   "id": "9ecfe80acd28f45e",
   "outputs": [
    {
     "name": "stdout",
     "output_type": "stream",
     "text": [
      "<class 'pandas.core.frame.DataFrame'>\n",
      "RangeIndex: 20000 entries, 0 to 19999\n",
      "Data columns (total 10 columns):\n",
      " #   Column                       Non-Null Count  Dtype  \n",
      "---  ------                       --------------  -----  \n",
      " 0   user_id                      20000 non-null  object \n",
      " 1   age                          20000 non-null  int64  \n",
      " 2   sex                          20000 non-null  object \n",
      " 3   education                    16138 non-null  object \n",
      " 4   primary_source_of_income     20000 non-null  object \n",
      " 5   sum_of_monthly_installments  20000 non-null  float64\n",
      " 6   sum_of_monthly_expenses      20000 non-null  float64\n",
      " 7   country                      20000 non-null  object \n",
      " 8   signup_date                  20000 non-null  object \n",
      " 9   risk_score                   20000 non-null  float64\n",
      "dtypes: float64(3), int64(1), object(6)\n",
      "memory usage: 1.5+ MB\n"
     ]
    }
   ],
   "execution_count": 6
  },
  {
   "metadata": {
    "ExecuteTime": {
     "end_time": "2025-06-08T08:08:36.716578Z",
     "start_time": "2025-06-08T08:08:36.698079Z"
    }
   },
   "cell_type": "code",
   "source": "df[\"signup_date\"] = pd.to_datetime(df[\"signup_date\"])",
   "id": "7f1317591efa4808",
   "outputs": [],
   "execution_count": 7
  },
  {
   "metadata": {
    "ExecuteTime": {
     "end_time": "2025-06-08T08:08:36.796454Z",
     "start_time": "2025-06-08T08:08:36.780882Z"
    }
   },
   "cell_type": "code",
   "source": "df.head()",
   "id": "b44ed6481b6887a",
   "outputs": [
    {
     "data": {
      "text/plain": [
       "  user_id  age     sex    education primary_source_of_income  \\\n",
       "0  U00001   56   Other  High School               Employment   \n",
       "1  U00002   36  Female     Bachelor                 Business   \n",
       "2  U00003   70   Other  High School              Student Aid   \n",
       "3  U00004   38   Other  High School                  Savings   \n",
       "4  U00005   61    Male  High School               Employment   \n",
       "\n",
       "   sum_of_monthly_installments  sum_of_monthly_expenses  country signup_date  \\\n",
       "0                       477.69                   243.18  Finland  2021-04-01   \n",
       "1                        31.60                   737.76   France  2020-07-07   \n",
       "2                       275.72                  1477.50  Finland  2022-08-23   \n",
       "3                       288.29                  1135.03  Belgium  2022-05-21   \n",
       "4                         7.00                   892.76    Italy  2022-03-15   \n",
       "\n",
       "   risk_score  \n",
       "0    0.571079  \n",
       "1    0.705268  \n",
       "2    0.429579  \n",
       "3    0.581384  \n",
       "4    0.420227  "
      ],
      "text/html": [
       "<div>\n",
       "<style scoped>\n",
       "    .dataframe tbody tr th:only-of-type {\n",
       "        vertical-align: middle;\n",
       "    }\n",
       "\n",
       "    .dataframe tbody tr th {\n",
       "        vertical-align: top;\n",
       "    }\n",
       "\n",
       "    .dataframe thead th {\n",
       "        text-align: right;\n",
       "    }\n",
       "</style>\n",
       "<table border=\"1\" class=\"dataframe\">\n",
       "  <thead>\n",
       "    <tr style=\"text-align: right;\">\n",
       "      <th></th>\n",
       "      <th>user_id</th>\n",
       "      <th>age</th>\n",
       "      <th>sex</th>\n",
       "      <th>education</th>\n",
       "      <th>primary_source_of_income</th>\n",
       "      <th>sum_of_monthly_installments</th>\n",
       "      <th>sum_of_monthly_expenses</th>\n",
       "      <th>country</th>\n",
       "      <th>signup_date</th>\n",
       "      <th>risk_score</th>\n",
       "    </tr>\n",
       "  </thead>\n",
       "  <tbody>\n",
       "    <tr>\n",
       "      <th>0</th>\n",
       "      <td>U00001</td>\n",
       "      <td>56</td>\n",
       "      <td>Other</td>\n",
       "      <td>High School</td>\n",
       "      <td>Employment</td>\n",
       "      <td>477.69</td>\n",
       "      <td>243.18</td>\n",
       "      <td>Finland</td>\n",
       "      <td>2021-04-01</td>\n",
       "      <td>0.571079</td>\n",
       "    </tr>\n",
       "    <tr>\n",
       "      <th>1</th>\n",
       "      <td>U00002</td>\n",
       "      <td>36</td>\n",
       "      <td>Female</td>\n",
       "      <td>Bachelor</td>\n",
       "      <td>Business</td>\n",
       "      <td>31.60</td>\n",
       "      <td>737.76</td>\n",
       "      <td>France</td>\n",
       "      <td>2020-07-07</td>\n",
       "      <td>0.705268</td>\n",
       "    </tr>\n",
       "    <tr>\n",
       "      <th>2</th>\n",
       "      <td>U00003</td>\n",
       "      <td>70</td>\n",
       "      <td>Other</td>\n",
       "      <td>High School</td>\n",
       "      <td>Student Aid</td>\n",
       "      <td>275.72</td>\n",
       "      <td>1477.50</td>\n",
       "      <td>Finland</td>\n",
       "      <td>2022-08-23</td>\n",
       "      <td>0.429579</td>\n",
       "    </tr>\n",
       "    <tr>\n",
       "      <th>3</th>\n",
       "      <td>U00004</td>\n",
       "      <td>38</td>\n",
       "      <td>Other</td>\n",
       "      <td>High School</td>\n",
       "      <td>Savings</td>\n",
       "      <td>288.29</td>\n",
       "      <td>1135.03</td>\n",
       "      <td>Belgium</td>\n",
       "      <td>2022-05-21</td>\n",
       "      <td>0.581384</td>\n",
       "    </tr>\n",
       "    <tr>\n",
       "      <th>4</th>\n",
       "      <td>U00005</td>\n",
       "      <td>61</td>\n",
       "      <td>Male</td>\n",
       "      <td>High School</td>\n",
       "      <td>Employment</td>\n",
       "      <td>7.00</td>\n",
       "      <td>892.76</td>\n",
       "      <td>Italy</td>\n",
       "      <td>2022-03-15</td>\n",
       "      <td>0.420227</td>\n",
       "    </tr>\n",
       "  </tbody>\n",
       "</table>\n",
       "</div>"
      ]
     },
     "execution_count": 8,
     "metadata": {},
     "output_type": "execute_result"
    }
   ],
   "execution_count": 8
  },
  {
   "metadata": {
    "ExecuteTime": {
     "end_time": "2025-06-08T08:08:36.936712Z",
     "start_time": "2025-06-08T08:08:36.922841Z"
    }
   },
   "cell_type": "code",
   "source": [
    "missing = df.isnull().sum()\n",
    "print(\"Explicit Missing Value: \\n\", missing[missing > 0])"
   ],
   "id": "c6be1d9dfd7efafc",
   "outputs": [
    {
     "name": "stdout",
     "output_type": "stream",
     "text": [
      "Explicit Missing Value: \n",
      " education    3862\n",
      "dtype: int64\n"
     ]
    }
   ],
   "execution_count": 9
  },
  {
   "metadata": {
    "ExecuteTime": {
     "end_time": "2025-06-08T08:08:37.068434Z",
     "start_time": "2025-06-08T08:08:37.064476Z"
    }
   },
   "cell_type": "code",
   "source": "categorical_cols = [\"sex\", \"education\", \"primary_source_of_income\", \"country\"]",
   "id": "a8d4753aba1afe8d",
   "outputs": [],
   "execution_count": 10
  },
  {
   "metadata": {
    "ExecuteTime": {
     "end_time": "2025-06-08T08:08:37.166193Z",
     "start_time": "2025-06-08T08:08:37.157103Z"
    }
   },
   "cell_type": "code",
   "source": "df[\"education\"].value_counts()",
   "id": "59e1e4daa733d098",
   "outputs": [
    {
     "data": {
      "text/plain": [
       "education\n",
       "PhD            4162\n",
       "Master         4019\n",
       "Bachelor       4011\n",
       "High School    3946\n",
       "Name: count, dtype: int64"
      ]
     },
     "execution_count": 11,
     "metadata": {},
     "output_type": "execute_result"
    }
   ],
   "execution_count": 11
  },
  {
   "metadata": {
    "ExecuteTime": {
     "end_time": "2025-06-08T08:08:37.348617Z",
     "start_time": "2025-06-08T08:08:37.324440Z"
    }
   },
   "cell_type": "code",
   "source": "df.loc[df[\"education\"].isna()]",
   "id": "37ffc056e7043a0c",
   "outputs": [
    {
     "data": {
      "text/plain": [
       "      user_id  age     sex education primary_source_of_income  \\\n",
       "5      U00006   33    Male      None                  Savings   \n",
       "7      U00008   24   Other      None             Unemployment   \n",
       "8      U00009   21  Female      None               Retirement   \n",
       "16     U00017   62  Female      None                 Business   \n",
       "23     U00024   43    Male      None              Student Aid   \n",
       "...       ...  ...     ...       ...                      ...   \n",
       "19978  U19979   37   Other      None               Retirement   \n",
       "19983  U19984   22  Female      None             Unemployment   \n",
       "19986  U19987   70   Other      None              Student Aid   \n",
       "19997  U19998   53   Other      None             Unemployment   \n",
       "19999  U20000   50  Female      None             Unemployment   \n",
       "\n",
       "       sum_of_monthly_installments  sum_of_monthly_expenses   country  \\\n",
       "5                            79.49                   113.97    Poland   \n",
       "7                            56.09                    80.72     Italy   \n",
       "8                           855.24                   994.18  Portugal   \n",
       "16                           45.57                  1944.58   Finland   \n",
       "23                           80.75                   354.97     Italy   \n",
       "...                            ...                      ...       ...   \n",
       "19978                        22.04                    94.51   Belgium   \n",
       "19983                        15.99                  1776.45   Austria   \n",
       "19986                       440.07                  2010.91     Italy   \n",
       "19997                       142.07                   281.32   Austria   \n",
       "19999                        52.07                   211.52   Ireland   \n",
       "\n",
       "      signup_date  risk_score  \n",
       "5      2021-06-28    0.482379  \n",
       "7      2024-12-10    0.484288  \n",
       "8      2021-01-16    0.478967  \n",
       "16     2020-07-12    0.398462  \n",
       "23     2022-09-02    0.619339  \n",
       "...           ...         ...  \n",
       "19978  2024-11-15    0.558565  \n",
       "19983  2021-09-06    0.817778  \n",
       "19986  2020-12-06    0.392217  \n",
       "19997  2022-05-31    0.411991  \n",
       "19999  2022-08-26    0.607373  \n",
       "\n",
       "[3862 rows x 10 columns]"
      ],
      "text/html": [
       "<div>\n",
       "<style scoped>\n",
       "    .dataframe tbody tr th:only-of-type {\n",
       "        vertical-align: middle;\n",
       "    }\n",
       "\n",
       "    .dataframe tbody tr th {\n",
       "        vertical-align: top;\n",
       "    }\n",
       "\n",
       "    .dataframe thead th {\n",
       "        text-align: right;\n",
       "    }\n",
       "</style>\n",
       "<table border=\"1\" class=\"dataframe\">\n",
       "  <thead>\n",
       "    <tr style=\"text-align: right;\">\n",
       "      <th></th>\n",
       "      <th>user_id</th>\n",
       "      <th>age</th>\n",
       "      <th>sex</th>\n",
       "      <th>education</th>\n",
       "      <th>primary_source_of_income</th>\n",
       "      <th>sum_of_monthly_installments</th>\n",
       "      <th>sum_of_monthly_expenses</th>\n",
       "      <th>country</th>\n",
       "      <th>signup_date</th>\n",
       "      <th>risk_score</th>\n",
       "    </tr>\n",
       "  </thead>\n",
       "  <tbody>\n",
       "    <tr>\n",
       "      <th>5</th>\n",
       "      <td>U00006</td>\n",
       "      <td>33</td>\n",
       "      <td>Male</td>\n",
       "      <td>None</td>\n",
       "      <td>Savings</td>\n",
       "      <td>79.49</td>\n",
       "      <td>113.97</td>\n",
       "      <td>Poland</td>\n",
       "      <td>2021-06-28</td>\n",
       "      <td>0.482379</td>\n",
       "    </tr>\n",
       "    <tr>\n",
       "      <th>7</th>\n",
       "      <td>U00008</td>\n",
       "      <td>24</td>\n",
       "      <td>Other</td>\n",
       "      <td>None</td>\n",
       "      <td>Unemployment</td>\n",
       "      <td>56.09</td>\n",
       "      <td>80.72</td>\n",
       "      <td>Italy</td>\n",
       "      <td>2024-12-10</td>\n",
       "      <td>0.484288</td>\n",
       "    </tr>\n",
       "    <tr>\n",
       "      <th>8</th>\n",
       "      <td>U00009</td>\n",
       "      <td>21</td>\n",
       "      <td>Female</td>\n",
       "      <td>None</td>\n",
       "      <td>Retirement</td>\n",
       "      <td>855.24</td>\n",
       "      <td>994.18</td>\n",
       "      <td>Portugal</td>\n",
       "      <td>2021-01-16</td>\n",
       "      <td>0.478967</td>\n",
       "    </tr>\n",
       "    <tr>\n",
       "      <th>16</th>\n",
       "      <td>U00017</td>\n",
       "      <td>62</td>\n",
       "      <td>Female</td>\n",
       "      <td>None</td>\n",
       "      <td>Business</td>\n",
       "      <td>45.57</td>\n",
       "      <td>1944.58</td>\n",
       "      <td>Finland</td>\n",
       "      <td>2020-07-12</td>\n",
       "      <td>0.398462</td>\n",
       "    </tr>\n",
       "    <tr>\n",
       "      <th>23</th>\n",
       "      <td>U00024</td>\n",
       "      <td>43</td>\n",
       "      <td>Male</td>\n",
       "      <td>None</td>\n",
       "      <td>Student Aid</td>\n",
       "      <td>80.75</td>\n",
       "      <td>354.97</td>\n",
       "      <td>Italy</td>\n",
       "      <td>2022-09-02</td>\n",
       "      <td>0.619339</td>\n",
       "    </tr>\n",
       "    <tr>\n",
       "      <th>...</th>\n",
       "      <td>...</td>\n",
       "      <td>...</td>\n",
       "      <td>...</td>\n",
       "      <td>...</td>\n",
       "      <td>...</td>\n",
       "      <td>...</td>\n",
       "      <td>...</td>\n",
       "      <td>...</td>\n",
       "      <td>...</td>\n",
       "      <td>...</td>\n",
       "    </tr>\n",
       "    <tr>\n",
       "      <th>19978</th>\n",
       "      <td>U19979</td>\n",
       "      <td>37</td>\n",
       "      <td>Other</td>\n",
       "      <td>None</td>\n",
       "      <td>Retirement</td>\n",
       "      <td>22.04</td>\n",
       "      <td>94.51</td>\n",
       "      <td>Belgium</td>\n",
       "      <td>2024-11-15</td>\n",
       "      <td>0.558565</td>\n",
       "    </tr>\n",
       "    <tr>\n",
       "      <th>19983</th>\n",
       "      <td>U19984</td>\n",
       "      <td>22</td>\n",
       "      <td>Female</td>\n",
       "      <td>None</td>\n",
       "      <td>Unemployment</td>\n",
       "      <td>15.99</td>\n",
       "      <td>1776.45</td>\n",
       "      <td>Austria</td>\n",
       "      <td>2021-09-06</td>\n",
       "      <td>0.817778</td>\n",
       "    </tr>\n",
       "    <tr>\n",
       "      <th>19986</th>\n",
       "      <td>U19987</td>\n",
       "      <td>70</td>\n",
       "      <td>Other</td>\n",
       "      <td>None</td>\n",
       "      <td>Student Aid</td>\n",
       "      <td>440.07</td>\n",
       "      <td>2010.91</td>\n",
       "      <td>Italy</td>\n",
       "      <td>2020-12-06</td>\n",
       "      <td>0.392217</td>\n",
       "    </tr>\n",
       "    <tr>\n",
       "      <th>19997</th>\n",
       "      <td>U19998</td>\n",
       "      <td>53</td>\n",
       "      <td>Other</td>\n",
       "      <td>None</td>\n",
       "      <td>Unemployment</td>\n",
       "      <td>142.07</td>\n",
       "      <td>281.32</td>\n",
       "      <td>Austria</td>\n",
       "      <td>2022-05-31</td>\n",
       "      <td>0.411991</td>\n",
       "    </tr>\n",
       "    <tr>\n",
       "      <th>19999</th>\n",
       "      <td>U20000</td>\n",
       "      <td>50</td>\n",
       "      <td>Female</td>\n",
       "      <td>None</td>\n",
       "      <td>Unemployment</td>\n",
       "      <td>52.07</td>\n",
       "      <td>211.52</td>\n",
       "      <td>Ireland</td>\n",
       "      <td>2022-08-26</td>\n",
       "      <td>0.607373</td>\n",
       "    </tr>\n",
       "  </tbody>\n",
       "</table>\n",
       "<p>3862 rows × 10 columns</p>\n",
       "</div>"
      ]
     },
     "execution_count": 12,
     "metadata": {},
     "output_type": "execute_result"
    }
   ],
   "execution_count": 12
  },
  {
   "metadata": {
    "ExecuteTime": {
     "end_time": "2025-06-08T08:08:37.564889Z",
     "start_time": "2025-06-08T08:08:37.556658Z"
    }
   },
   "cell_type": "code",
   "source": "df[\"education\"] = df[\"education\"].fillna(\"Missing\")",
   "id": "d193c591fe76f8b9",
   "outputs": [],
   "execution_count": 13
  },
  {
   "metadata": {
    "ExecuteTime": {
     "end_time": "2025-06-08T08:08:38.709825Z",
     "start_time": "2025-06-08T08:08:37.676598Z"
    }
   },
   "cell_type": "code",
   "source": "dist_categorical_visualisation(df, categorical_cols)",
   "id": "9519ff4961560fe3",
   "outputs": [
    {
     "data": {
      "text/plain": [
       "<Figure size 1200x900 with 4 Axes>"
      ],
      "image/png": "[encoded data removed]"
     },
     "metadata": {},
     "output_type": "display_data"
    },
    {
     "data": {
      "text/plain": [
       "(<Figure size 1200x900 with 4 Axes>,\n",
       " array([<Axes: title={'center': 'Distribution of sex'}, xlabel='Count', ylabel='sex'>,\n",
       "        <Axes: title={'center': 'Distribution of education'}, xlabel='Count', ylabel='education'>,\n",
       "        <Axes: title={'center': 'Distribution of primary_source_of_income'}, xlabel='Count', ylabel='primary_source_of_income'>,\n",
       "        <Axes: title={'center': 'Distribution of country'}, xlabel='Count', ylabel='country'>],\n",
       "       dtype=object))"
      ]
     },
     "execution_count": 14,
     "metadata": {},
     "output_type": "execute_result"
    }
   ],
   "execution_count": 14
  },
  {
   "metadata": {},
   "cell_type": "markdown",
   "source": "# Numerical data",
   "id": "daa62f949fedf11f"
  },
  {
   "metadata": {
    "ExecuteTime": {
     "end_time": "2025-06-08T08:08:38.869874Z",
     "start_time": "2025-06-08T08:08:38.865594Z"
    }
   },
   "cell_type": "code",
   "source": "numerical_cols = df.select_dtypes(include=[\"number\"])",
   "id": "f8892c041014d43e",
   "outputs": [],
   "execution_count": 15
  },
  {
   "metadata": {
    "ExecuteTime": {
     "end_time": "2025-06-08T08:08:38.957741Z",
     "start_time": "2025-06-08T08:08:38.944025Z"
    }
   },
   "cell_type": "code",
   "source": "numerical_cols",
   "id": "5f1094e72691dbdf",
   "outputs": [
    {
     "data": {
      "text/plain": [
       "       age  sum_of_monthly_installments  sum_of_monthly_expenses  risk_score\n",
       "0       56                       477.69                   243.18    0.571079\n",
       "1       36                        31.60                   737.76    0.705268\n",
       "2       70                       275.72                  1477.50    0.429579\n",
       "3       38                       288.29                  1135.03    0.581384\n",
       "4       61                         7.00                   892.76    0.420227\n",
       "...    ...                          ...                      ...         ...\n",
       "19995   38                       676.08                   989.12    0.710221\n",
       "19996   18                       533.61                  3862.27    0.427644\n",
       "19997   53                       142.07                   281.32    0.411991\n",
       "19998   47                       472.89                  1358.58    0.336819\n",
       "19999   50                        52.07                   211.52    0.607373\n",
       "\n",
       "[20000 rows x 4 columns]"
      ],
      "text/html": [
       "<div>\n",
       "<style scoped>\n",
       "    .dataframe tbody tr th:only-of-type {\n",
       "        vertical-align: middle;\n",
       "    }\n",
       "\n",
       "    .dataframe tbody tr th {\n",
       "        vertical-align: top;\n",
       "    }\n",
       "\n",
       "    .dataframe thead th {\n",
       "        text-align: right;\n",
       "    }\n",
       "</style>\n",
       "<table border=\"1\" class=\"dataframe\">\n",
       "  <thead>\n",
       "    <tr style=\"text-align: right;\">\n",
       "      <th></th>\n",
       "      <th>age</th>\n",
       "      <th>sum_of_monthly_installments</th>\n",
       "      <th>sum_of_monthly_expenses</th>\n",
       "      <th>risk_score</th>\n",
       "    </tr>\n",
       "  </thead>\n",
       "  <tbody>\n",
       "    <tr>\n",
       "      <th>0</th>\n",
       "      <td>56</td>\n",
       "      <td>477.69</td>\n",
       "      <td>243.18</td>\n",
       "      <td>0.571079</td>\n",
       "    </tr>\n",
       "    <tr>\n",
       "      <th>1</th>\n",
       "      <td>36</td>\n",
       "      <td>31.60</td>\n",
       "      <td>737.76</td>\n",
       "      <td>0.705268</td>\n",
       "    </tr>\n",
       "    <tr>\n",
       "      <th>2</th>\n",
       "      <td>70</td>\n",
       "      <td>275.72</td>\n",
       "      <td>1477.50</td>\n",
       "      <td>0.429579</td>\n",
       "    </tr>\n",
       "    <tr>\n",
       "      <th>3</th>\n",
       "      <td>38</td>\n",
       "      <td>288.29</td>\n",
       "      <td>1135.03</td>\n",
       "      <td>0.581384</td>\n",
       "    </tr>\n",
       "    <tr>\n",
       "      <th>4</th>\n",
       "      <td>61</td>\n",
       "      <td>7.00</td>\n",
       "      <td>892.76</td>\n",
       "      <td>0.420227</td>\n",
       "    </tr>\n",
       "    <tr>\n",
       "      <th>...</th>\n",
       "      <td>...</td>\n",
       "      <td>...</td>\n",
       "      <td>...</td>\n",
       "      <td>...</td>\n",
       "    </tr>\n",
       "    <tr>\n",
       "      <th>19995</th>\n",
       "      <td>38</td>\n",
       "      <td>676.08</td>\n",
       "      <td>989.12</td>\n",
       "      <td>0.710221</td>\n",
       "    </tr>\n",
       "    <tr>\n",
       "      <th>19996</th>\n",
       "      <td>18</td>\n",
       "      <td>533.61</td>\n",
       "      <td>3862.27</td>\n",
       "      <td>0.427644</td>\n",
       "    </tr>\n",
       "    <tr>\n",
       "      <th>19997</th>\n",
       "      <td>53</td>\n",
       "      <td>142.07</td>\n",
       "      <td>281.32</td>\n",
       "      <td>0.411991</td>\n",
       "    </tr>\n",
       "    <tr>\n",
       "      <th>19998</th>\n",
       "      <td>47</td>\n",
       "      <td>472.89</td>\n",
       "      <td>1358.58</td>\n",
       "      <td>0.336819</td>\n",
       "    </tr>\n",
       "    <tr>\n",
       "      <th>19999</th>\n",
       "      <td>50</td>\n",
       "      <td>52.07</td>\n",
       "      <td>211.52</td>\n",
       "      <td>0.607373</td>\n",
       "    </tr>\n",
       "  </tbody>\n",
       "</table>\n",
       "<p>20000 rows × 4 columns</p>\n",
       "</div>"
      ]
     },
     "execution_count": 16,
     "metadata": {},
     "output_type": "execute_result"
    }
   ],
   "execution_count": 16
  },
  {
   "metadata": {
    "ExecuteTime": {
     "end_time": "2025-06-08T08:08:39.105820Z",
     "start_time": "2025-06-08T08:08:39.078317Z"
    }
   },
   "cell_type": "code",
   "source": "df.describe().T",
   "id": "acb2e41b6cb26e48",
   "outputs": [
    {
     "data": {
      "text/plain": [
       "                               count                           mean  \\\n",
       "age                          20000.0                        45.9733   \n",
       "sum_of_monthly_installments  20000.0                     301.669748   \n",
       "sum_of_monthly_expenses      20000.0                    1184.221874   \n",
       "signup_date                    20000  2022-10-07 04:32:22.560000256   \n",
       "risk_score                   20000.0                       0.501277   \n",
       "\n",
       "                                             min                  25%  \\\n",
       "age                                         18.0                 32.0   \n",
       "sum_of_monthly_installments                 0.01              87.7675   \n",
       "sum_of_monthly_expenses                     0.04              353.655   \n",
       "signup_date                  2020-04-21 00:00:00  2021-07-09 00:00:00   \n",
       "risk_score                                   0.0              0.39848   \n",
       "\n",
       "                                             50%                  75%  \\\n",
       "age                                         46.0                 60.0   \n",
       "sum_of_monthly_installments               207.65             418.2725   \n",
       "sum_of_monthly_expenses                  824.885            1651.9875   \n",
       "signup_date                  2022-10-08 00:00:00  2024-01-02 00:00:00   \n",
       "risk_score                              0.500119             0.603234   \n",
       "\n",
       "                                             max          std  \n",
       "age                                         74.0    16.520649  \n",
       "sum_of_monthly_installments               3165.7   304.160334  \n",
       "sum_of_monthly_expenses                 10994.33  1172.054772  \n",
       "signup_date                  2025-03-22 00:00:00          NaN  \n",
       "risk_score                                   1.0     0.149876  "
      ],
      "text/html": [
       "<div>\n",
       "<style scoped>\n",
       "    .dataframe tbody tr th:only-of-type {\n",
       "        vertical-align: middle;\n",
       "    }\n",
       "\n",
       "    .dataframe tbody tr th {\n",
       "        vertical-align: top;\n",
       "    }\n",
       "\n",
       "    .dataframe thead th {\n",
       "        text-align: right;\n",
       "    }\n",
       "</style>\n",
       "<table border=\"1\" class=\"dataframe\">\n",
       "  <thead>\n",
       "    <tr style=\"text-align: right;\">\n",
       "      <th></th>\n",
       "      <th>count</th>\n",
       "      <th>mean</th>\n",
       "      <th>min</th>\n",
       "      <th>25%</th>\n",
       "      <th>50%</th>\n",
       "      <th>75%</th>\n",
       "      <th>max</th>\n",
       "      <th>std</th>\n",
       "    </tr>\n",
       "  </thead>\n",
       "  <tbody>\n",
       "    <tr>\n",
       "      <th>age</th>\n",
       "      <td>20000.0</td>\n",
       "      <td>45.9733</td>\n",
       "      <td>18.0</td>\n",
       "      <td>32.0</td>\n",
       "      <td>46.0</td>\n",
       "      <td>60.0</td>\n",
       "      <td>74.0</td>\n",
       "      <td>16.520649</td>\n",
       "    </tr>\n",
       "    <tr>\n",
       "      <th>sum_of_monthly_installments</th>\n",
       "      <td>20000.0</td>\n",
       "      <td>301.669748</td>\n",
       "      <td>0.01</td>\n",
       "      <td>87.7675</td>\n",
       "      <td>207.65</td>\n",
       "      <td>418.2725</td>\n",
       "      <td>3165.7</td>\n",
       "      <td>304.160334</td>\n",
       "    </tr>\n",
       "    <tr>\n",
       "      <th>sum_of_monthly_expenses</th>\n",
       "      <td>20000.0</td>\n",
       "      <td>1184.221874</td>\n",
       "      <td>0.04</td>\n",
       "      <td>353.655</td>\n",
       "      <td>824.885</td>\n",
       "      <td>1651.9875</td>\n",
       "      <td>10994.33</td>\n",
       "      <td>1172.054772</td>\n",
       "    </tr>\n",
       "    <tr>\n",
       "      <th>signup_date</th>\n",
       "      <td>20000</td>\n",
       "      <td>2022-10-07 04:32:22.560000256</td>\n",
       "      <td>2020-04-21 00:00:00</td>\n",
       "      <td>2021-07-09 00:00:00</td>\n",
       "      <td>2022-10-08 00:00:00</td>\n",
       "      <td>2024-01-02 00:00:00</td>\n",
       "      <td>2025-03-22 00:00:00</td>\n",
       "      <td>NaN</td>\n",
       "    </tr>\n",
       "    <tr>\n",
       "      <th>risk_score</th>\n",
       "      <td>20000.0</td>\n",
       "      <td>0.501277</td>\n",
       "      <td>0.0</td>\n",
       "      <td>0.39848</td>\n",
       "      <td>0.500119</td>\n",
       "      <td>0.603234</td>\n",
       "      <td>1.0</td>\n",
       "      <td>0.149876</td>\n",
       "    </tr>\n",
       "  </tbody>\n",
       "</table>\n",
       "</div>"
      ]
     },
     "execution_count": 17,
     "metadata": {},
     "output_type": "execute_result"
    }
   ],
   "execution_count": 17
  },
  {
   "metadata": {
    "ExecuteTime": {
     "end_time": "2025-06-08T08:11:32.764146Z",
     "start_time": "2025-06-08T08:11:31.752772Z"
    }
   },
   "cell_type": "code",
   "source": [
    "for col in numerical_cols.columns:\n",
    "    dist_categorical_visualisation(df[col], col.replace(\"_\", \" \"))"
   ],
   "id": "46a2fbd1ed16d2b5",
   "outputs": [
    {
     "ename": "KeyError",
     "evalue": "'a'",
     "output_type": "error",
     "traceback": [
      "\u001B[31m---------------------------------------------------------------------------\u001B[39m",
      "\u001B[31mKeyError\u001B[39m                                  Traceback (most recent call last)",
      "\u001B[36mCell\u001B[39m\u001B[36m \u001B[39m\u001B[32mIn[23]\u001B[39m\u001B[32m, line 2\u001B[39m\n\u001B[32m      1\u001B[39m \u001B[38;5;28;01mfor\u001B[39;00m col \u001B[38;5;129;01min\u001B[39;00m numerical_cols.columns:\n\u001B[32m----> \u001B[39m\u001B[32m2\u001B[39m     \u001B[43mdist_categorical_visualisation\u001B[49m\u001B[43m(\u001B[49m\u001B[43mdf\u001B[49m\u001B[43m[\u001B[49m\u001B[43mcol\u001B[49m\u001B[43m]\u001B[49m\u001B[43m,\u001B[49m\u001B[43m \u001B[49m\u001B[43mcol\u001B[49m\u001B[43m.\u001B[49m\u001B[43mreplace\u001B[49m\u001B[43m(\u001B[49m\u001B[33;43m\"\u001B[39;49m\u001B[33;43m_\u001B[39;49m\u001B[33;43m\"\u001B[39;49m\u001B[43m,\u001B[49m\u001B[43m \u001B[49m\u001B[33;43m\"\u001B[39;49m\u001B[33;43m \u001B[39;49m\u001B[33;43m\"\u001B[39;49m\u001B[43m)\u001B[49m\u001B[43m)\u001B[49m\n",
      "\u001B[36mFile \u001B[39m\u001B[32m~/workspace/data_sience/mastercard/mastercard/visualisation/categorical_data.py:37\u001B[39m, in \u001B[36mdist_categorical_visualisation\u001B[39m\u001B[34m(df, categorical_cols, n_cols, figsize, title, save_path)\u001B[39m\n\u001B[32m     35\u001B[39m \u001B[38;5;28;01mfor\u001B[39;00m i, col \u001B[38;5;129;01min\u001B[39;00m \u001B[38;5;28menumerate\u001B[39m(categorical_cols):\n\u001B[32m     36\u001B[39m     ax = axes[i]\n\u001B[32m---> \u001B[39m\u001B[32m37\u001B[39m     sns.countplot(y=col, data=df, order=\u001B[43mdf\u001B[49m\u001B[43m[\u001B[49m\u001B[43mcol\u001B[49m\u001B[43m]\u001B[49m.value_counts().index, ax=ax, color=\u001B[33m\"\u001B[39m\u001B[33msteelblue\u001B[39m\u001B[33m\"\u001B[39m, edgecolor=\u001B[33m\"\u001B[39m\u001B[33mblack\u001B[39m\u001B[33m\"\u001B[39m)\n\u001B[32m     38\u001B[39m     ax.set_title(\u001B[33mf\u001B[39m\u001B[33m\"\u001B[39m\u001B[33mDistribution of \u001B[39m\u001B[38;5;132;01m{\u001B[39;00mcol\u001B[38;5;132;01m}\u001B[39;00m\u001B[33m\"\u001B[39m, fontsize=\u001B[32m13\u001B[39m, weight=\u001B[33m\"\u001B[39m\u001B[33mbold\u001B[39m\u001B[33m\"\u001B[39m)\n\u001B[32m     39\u001B[39m     ax.set_xlabel(\u001B[33m\"\u001B[39m\u001B[33mCount\u001B[39m\u001B[33m\"\u001B[39m, fontsize=\u001B[32m11\u001B[39m)\n",
      "\u001B[36mFile \u001B[39m\u001B[32m~/workspace/data_sience/mastercard/.venv/lib/python3.12/site-packages/pandas/core/series.py:1121\u001B[39m, in \u001B[36mSeries.__getitem__\u001B[39m\u001B[34m(self, key)\u001B[39m\n\u001B[32m   1118\u001B[39m     \u001B[38;5;28;01mreturn\u001B[39;00m \u001B[38;5;28mself\u001B[39m._values[key]\n\u001B[32m   1120\u001B[39m \u001B[38;5;28;01melif\u001B[39;00m key_is_scalar:\n\u001B[32m-> \u001B[39m\u001B[32m1121\u001B[39m     \u001B[38;5;28;01mreturn\u001B[39;00m \u001B[38;5;28;43mself\u001B[39;49m\u001B[43m.\u001B[49m\u001B[43m_get_value\u001B[49m\u001B[43m(\u001B[49m\u001B[43mkey\u001B[49m\u001B[43m)\u001B[49m\n\u001B[32m   1123\u001B[39m \u001B[38;5;66;03m# Convert generator to list before going through hashable part\u001B[39;00m\n\u001B[32m   1124\u001B[39m \u001B[38;5;66;03m# (We will iterate through the generator there to check for slices)\u001B[39;00m\n\u001B[32m   1125\u001B[39m \u001B[38;5;28;01mif\u001B[39;00m is_iterator(key):\n",
      "\u001B[36mFile \u001B[39m\u001B[32m~/workspace/data_sience/mastercard/.venv/lib/python3.12/site-packages/pandas/core/series.py:1237\u001B[39m, in \u001B[36mSeries._get_value\u001B[39m\u001B[34m(self, label, takeable)\u001B[39m\n\u001B[32m   1234\u001B[39m     \u001B[38;5;28;01mreturn\u001B[39;00m \u001B[38;5;28mself\u001B[39m._values[label]\n\u001B[32m   1236\u001B[39m \u001B[38;5;66;03m# Similar to Index.get_value, but we do not fall back to positional\u001B[39;00m\n\u001B[32m-> \u001B[39m\u001B[32m1237\u001B[39m loc = \u001B[38;5;28;43mself\u001B[39;49m\u001B[43m.\u001B[49m\u001B[43mindex\u001B[49m\u001B[43m.\u001B[49m\u001B[43mget_loc\u001B[49m\u001B[43m(\u001B[49m\u001B[43mlabel\u001B[49m\u001B[43m)\u001B[49m\n\u001B[32m   1239\u001B[39m \u001B[38;5;28;01mif\u001B[39;00m is_integer(loc):\n\u001B[32m   1240\u001B[39m     \u001B[38;5;28;01mreturn\u001B[39;00m \u001B[38;5;28mself\u001B[39m._values[loc]\n",
      "\u001B[36mFile \u001B[39m\u001B[32m~/workspace/data_sience/mastercard/.venv/lib/python3.12/site-packages/pandas/core/indexes/range.py:417\u001B[39m, in \u001B[36mRangeIndex.get_loc\u001B[39m\u001B[34m(self, key)\u001B[39m\n\u001B[32m    415\u001B[39m         \u001B[38;5;28;01mraise\u001B[39;00m \u001B[38;5;167;01mKeyError\u001B[39;00m(key) \u001B[38;5;28;01mfrom\u001B[39;00m\u001B[38;5;250m \u001B[39m\u001B[34;01merr\u001B[39;00m\n\u001B[32m    416\u001B[39m \u001B[38;5;28;01mif\u001B[39;00m \u001B[38;5;28misinstance\u001B[39m(key, Hashable):\n\u001B[32m--> \u001B[39m\u001B[32m417\u001B[39m     \u001B[38;5;28;01mraise\u001B[39;00m \u001B[38;5;167;01mKeyError\u001B[39;00m(key)\n\u001B[32m    418\u001B[39m \u001B[38;5;28mself\u001B[39m._check_indexing_error(key)\n\u001B[32m    419\u001B[39m \u001B[38;5;28;01mraise\u001B[39;00m \u001B[38;5;167;01mKeyError\u001B[39;00m(key)\n",
      "\u001B[31mKeyError\u001B[39m: 'a'"
     ]
    },
    {
     "data": {
      "text/plain": [
       "<Figure size 1200x900 with 4 Axes>"
      ],
      "image/png": "[encoded data removed]"
     },
     "metadata": {},
     "output_type": "display_data"
    }
   ],
   "execution_count": 23
  },
  {
   "metadata": {
    "ExecuteTime": {
     "end_time": "2025-06-08T08:08:52.327212Z",
     "start_time": "2025-06-08T08:08:52.319538Z"
    }
   },
   "cell_type": "code",
   "source": "corr = numerical_cols.corr()",
   "id": "8e469a2962a2627c",
   "outputs": [],
   "execution_count": 19
  },
  {
   "metadata": {
    "ExecuteTime": {
     "end_time": "2025-06-08T08:08:54.158753Z",
     "start_time": "2025-06-08T08:08:53.868821Z"
    }
   },
   "cell_type": "code",
   "source": [
    "fig, ax = plt.subplots(figsize=(12, 8))\n",
    "sns.heatmap(\n",
    "    corr,\n",
    "    ax=ax,\n",
    "    annot=True,\n",
    "    fmt=\".2f\",\n",
    "    square=True,\n",
    "    linewidths=.5,\n",
    "    cbar_kws={\"shrink\": 0.8},\n",
    "    cmap=\"coolwarm\",\n",
    ")\n",
    "\n",
    "ax.set_title(\"Corellation Heatmap\", fontsize=14)\n",
    "plt.tight_layout()\n",
    "plt.show()"
   ],
   "id": "c98e7c2d10641eb9",
   "outputs": [
    {
     "data": {
      "text/plain": [
       "<Figure size 1200x800 with 2 Axes>"
      ],
      "image/png": "[encoded data removed]"
     },
     "metadata": {},
     "output_type": "display_data"
    }
   ],
   "execution_count": 20
  },
  {
   "metadata": {},
   "cell_type": "code",
   "outputs": [],
   "execution_count": null,
   "source": "",
   "id": "ccc0ae0d86cb36f9"
  }
 ],
 "metadata": {
  "kernelspec": {
   "display_name": "Python 3",
   "language": "python",
   "name": "python3"
  },
  "language_info": {
   "codemirror_mode": {
    "name": "ipython",
    "version": 2
   },
   "file_extension": ".py",
   "mimetype": "text/x-python",
   "name": "python",
   "nbconvert_exporter": "python",
   "pygments_lexer": "ipython2",
   "version": "2.7.6"
  }
 },
 "nbformat": 4,
 "nbformat_minor": 5
}
