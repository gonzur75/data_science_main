{
 "cells": [
  {
   "cell_type": "code",
   "id": "initial_id",
   "metadata": {
    "collapsed": true
   },
   "source": [
    "\n",
    "from pathlib import Path\n",
    "\n",
    "import numpy as np\n",
    "import pandas as pd\n",
    "import xgboost as xgb\n",
    "import matplotlib.pyplot as plt\n",
    "import seaborn as sns\n",
    "import plotly.express as px\n",
    "from debugpy.adapter.components import missing\n",
    "from networkx.algorithms.bipartite.basic import color\n",
    "from pyarrow.compute import top_k_unstable, scalar\n",
    "from sklearn.metrics import confusion_matrix\n",
    "from sklearn.metrics import classification_report\n",
    "\n",
    "# from ydata_profiling import ProfileReport\n",
    "from sklearn.model_selection import train_test_split\n",
    "from mastercard import dist_visualisation, dist_categorical_visualisation\n"
   ],
   "outputs": [],
   "execution_count": null
  },
  {
   "metadata": {},
   "cell_type": "code",
   "outputs": [],
   "execution_count": null,
   "source": "",
   "id": "21c60d865eba4047"
  },
  {
   "metadata": {},
   "cell_type": "code",
   "source": [
    "PROCESSED_DATA_DIR = Path(\"../data/processed\")\n",
    "INTERIM_DATA_DIR = Path(\"../data/interim\")\n",
    "\n",
    "FIGURES_DIR = Path(\"../reports/figures\")"
   ],
   "id": "f149151e3fb7377b",
   "outputs": [],
   "execution_count": null
  },
  {
   "metadata": {},
   "cell_type": "code",
   "source": [
    "\n",
    "\n",
    "df = pd.read_parquet(INTERIM_DATA_DIR / \"df_encoded.parquet\")"
   ],
   "id": "c8e5d784ee3dadf3",
   "outputs": [],
   "execution_count": null
  },
  {
   "metadata": {},
   "cell_type": "code",
   "outputs": [],
   "execution_count": null,
   "source": "df.drop(columns=[\"cuntry_users\", \"country_merchants\", \"timestamp\", \"signup_data\"], inplace=True)",
   "id": "65be1eb294d6709a"
  },
  {
   "metadata": {},
   "cell_type": "code",
   "source": [
    "X = df.drop(columns=[\"is_fraud\"])\n",
    "y = df[\"is_fraud\"]"
   ],
   "id": "bba20b98aaf76dd7",
   "outputs": [],
   "execution_count": null
  },
  {
   "metadata": {},
   "cell_type": "code",
   "outputs": [],
   "execution_count": null,
   "source": "X_train, X_test, y_train, y_test = train_test_split(X, y, test_size=0.2, random_state=42)\n",
   "id": "6c296bc5d3857b4b"
  },
  {
   "metadata": {
    "ExecuteTime": {
     "end_time": "2025-06-08T13:45:03.016252Z",
     "start_time": "2025-06-08T13:45:02.977452Z"
    }
   },
   "cell_type": "code",
   "source": "model = xgb.XGBClassifier(n_estimators=100, learning_rate=0.1)",
   "id": "f6f222fa52f5aafe",
   "outputs": [
    {
     "ename": "NameError",
     "evalue": "name 'xgb' is not defined",
     "output_type": "error",
     "traceback": [
      "\u001B[31m---------------------------------------------------------------------------\u001B[39m",
      "\u001B[31mNameError\u001B[39m                                 Traceback (most recent call last)",
      "\u001B[36mCell\u001B[39m\u001B[36m \u001B[39m\u001B[32mIn[4]\u001B[39m\u001B[32m, line 1\u001B[39m\n\u001B[32m----> \u001B[39m\u001B[32m1\u001B[39m model = \u001B[43mxgb\u001B[49m.XGBClassifier(n_estimators=\u001B[32m100\u001B[39m, learning_rate=\u001B[32m0.1\u001B[39m)\n",
      "\u001B[31mNameError\u001B[39m: name 'xgb' is not defined"
     ]
    }
   ],
   "execution_count": 4
  },
  {
   "metadata": {
    "ExecuteTime": {
     "end_time": "2025-06-08T13:49:31.372746Z",
     "start_time": "2025-06-08T13:49:31.326638Z"
    }
   },
   "cell_type": "code",
   "source": "model.fit(X_train, y_train)",
   "id": "eaa3b3dc00969f40",
   "outputs": [
    {
     "ename": "NameError",
     "evalue": "name 'model' is not defined",
     "output_type": "error",
     "traceback": [
      "\u001B[31m---------------------------------------------------------------------------\u001B[39m",
      "\u001B[31mNameError\u001B[39m                                 Traceback (most recent call last)",
      "\u001B[36mCell\u001B[39m\u001B[36m \u001B[39m\u001B[32mIn[6]\u001B[39m\u001B[32m, line 1\u001B[39m\n\u001B[32m----> \u001B[39m\u001B[32m1\u001B[39m \u001B[43mmodel\u001B[49m.fit(X_train, y_train)\n",
      "\u001B[31mNameError\u001B[39m: name 'model' is not defined"
     ]
    }
   ],
   "execution_count": 6
  },
  {
   "metadata": {},
   "cell_type": "code",
   "outputs": [],
   "execution_count": null,
   "source": "y_pred = model.predict(X_test)",
   "id": "2b85005a91a41548"
  },
  {
   "metadata": {},
   "cell_type": "code",
   "outputs": [],
   "execution_count": null,
   "source": "confusion_matrix(y_test, y_pred)",
   "id": "99b28e51ccdba949"
  },
  {
   "metadata": {},
   "cell_type": "code",
   "outputs": [],
   "execution_count": null,
   "source": [
    "\n",
    "\n",
    "print(classification_report(y_test, y_pred))"
   ],
   "id": "d73fd9d75a18b34d"
  }
 ],
 "metadata": {
  "kernelspec": {
   "display_name": "Python 3",
   "language": "python",
   "name": "python3"
  },
  "language_info": {
   "codemirror_mode": {
    "name": "ipython",
    "version": 2
   },
   "file_extension": ".py",
   "mimetype": "text/x-python",
   "name": "python",
   "nbconvert_exporter": "python",
   "pygments_lexer": "ipython2",
   "version": "2.7.6"
  }
 },
 "nbformat": 4,
 "nbformat_minor": 5
}
