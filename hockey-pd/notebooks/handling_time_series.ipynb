{
 "cells": [
  {
   "cell_type": "code",
   "id": "initial_id",
   "metadata": {
    "collapsed": true,
    "ExecuteTime": {
     "end_time": "2025-03-23T13:03:50.985894Z",
     "start_time": "2025-03-23T13:03:50.976742Z"
    }
   },
   "source": "import pandas as pd",
   "outputs": [],
   "execution_count": 373
  },
  {
   "metadata": {
    "ExecuteTime": {
     "end_time": "2025-03-23T13:03:51.082179Z",
     "start_time": "2025-03-23T13:03:51.046918Z"
    }
   },
   "cell_type": "code",
   "source": [
    "master = pd.read_pickle('../data/interim/master.pkl')\n",
    "team_splits = pd.read_pickle('../data/interim/team_splits_multi_index.pkl')"
   ],
   "id": "1e28baa5a8d43d6e",
   "outputs": [],
   "execution_count": 374
  },
  {
   "metadata": {
    "ExecuteTime": {
     "end_time": "2025-03-23T13:03:51.206301Z",
     "start_time": "2025-03-23T13:03:51.135348Z"
    }
   },
   "cell_type": "code",
   "source": "master.head()",
   "id": "2ad9c78960316f0c",
   "outputs": [
    {
     "data": {
      "text/plain": [
       "          firstName     lastName pos  birthYear  birthMon  birthDay  \\\n",
       "playerID                                                              \n",
       "aaltoan01     Antti        Aalto   C     1975.0       3.0       4.0   \n",
       "abdelju01    Justin   Abdelkader   L     1987.0       2.0      25.0   \n",
       "abidra01      Ramzi         Abid   L     1980.0       3.0      24.0   \n",
       "abrahth01    Thommy  Abrahamsson   D     1947.0       4.0      12.0   \n",
       "actonke01     Keith        Acton   C     1958.0       4.0      15.0   \n",
       "\n",
       "          birthCountry birthState     birthCity  \n",
       "playerID                                         \n",
       "aaltoan01      Finland        NaN  Lappeenranta  \n",
       "abdelju01          USA         MI      Muskegon  \n",
       "abidra01        Canada         QC      Montreal  \n",
       "abrahth01       Sweden        NaN       Leksand  \n",
       "actonke01       Canada         ON   Stouffville  "
      ],
      "text/html": [
       "<div>\n",
       "<style scoped>\n",
       "    .dataframe tbody tr th:only-of-type {\n",
       "        vertical-align: middle;\n",
       "    }\n",
       "\n",
       "    .dataframe tbody tr th {\n",
       "        vertical-align: top;\n",
       "    }\n",
       "\n",
       "    .dataframe thead th {\n",
       "        text-align: right;\n",
       "    }\n",
       "</style>\n",
       "<table border=\"1\" class=\"dataframe\">\n",
       "  <thead>\n",
       "    <tr style=\"text-align: right;\">\n",
       "      <th></th>\n",
       "      <th>firstName</th>\n",
       "      <th>lastName</th>\n",
       "      <th>pos</th>\n",
       "      <th>birthYear</th>\n",
       "      <th>birthMon</th>\n",
       "      <th>birthDay</th>\n",
       "      <th>birthCountry</th>\n",
       "      <th>birthState</th>\n",
       "      <th>birthCity</th>\n",
       "    </tr>\n",
       "    <tr>\n",
       "      <th>playerID</th>\n",
       "      <th></th>\n",
       "      <th></th>\n",
       "      <th></th>\n",
       "      <th></th>\n",
       "      <th></th>\n",
       "      <th></th>\n",
       "      <th></th>\n",
       "      <th></th>\n",
       "      <th></th>\n",
       "    </tr>\n",
       "  </thead>\n",
       "  <tbody>\n",
       "    <tr>\n",
       "      <th>aaltoan01</th>\n",
       "      <td>Antti</td>\n",
       "      <td>Aalto</td>\n",
       "      <td>C</td>\n",
       "      <td>1975.0</td>\n",
       "      <td>3.0</td>\n",
       "      <td>4.0</td>\n",
       "      <td>Finland</td>\n",
       "      <td>NaN</td>\n",
       "      <td>Lappeenranta</td>\n",
       "    </tr>\n",
       "    <tr>\n",
       "      <th>abdelju01</th>\n",
       "      <td>Justin</td>\n",
       "      <td>Abdelkader</td>\n",
       "      <td>L</td>\n",
       "      <td>1987.0</td>\n",
       "      <td>2.0</td>\n",
       "      <td>25.0</td>\n",
       "      <td>USA</td>\n",
       "      <td>MI</td>\n",
       "      <td>Muskegon</td>\n",
       "    </tr>\n",
       "    <tr>\n",
       "      <th>abidra01</th>\n",
       "      <td>Ramzi</td>\n",
       "      <td>Abid</td>\n",
       "      <td>L</td>\n",
       "      <td>1980.0</td>\n",
       "      <td>3.0</td>\n",
       "      <td>24.0</td>\n",
       "      <td>Canada</td>\n",
       "      <td>QC</td>\n",
       "      <td>Montreal</td>\n",
       "    </tr>\n",
       "    <tr>\n",
       "      <th>abrahth01</th>\n",
       "      <td>Thommy</td>\n",
       "      <td>Abrahamsson</td>\n",
       "      <td>D</td>\n",
       "      <td>1947.0</td>\n",
       "      <td>4.0</td>\n",
       "      <td>12.0</td>\n",
       "      <td>Sweden</td>\n",
       "      <td>NaN</td>\n",
       "      <td>Leksand</td>\n",
       "    </tr>\n",
       "    <tr>\n",
       "      <th>actonke01</th>\n",
       "      <td>Keith</td>\n",
       "      <td>Acton</td>\n",
       "      <td>C</td>\n",
       "      <td>1958.0</td>\n",
       "      <td>4.0</td>\n",
       "      <td>15.0</td>\n",
       "      <td>Canada</td>\n",
       "      <td>ON</td>\n",
       "      <td>Stouffville</td>\n",
       "    </tr>\n",
       "  </tbody>\n",
       "</table>\n",
       "</div>"
      ]
     },
     "execution_count": 375,
     "metadata": {},
     "output_type": "execute_result"
    }
   ],
   "execution_count": 375
  },
  {
   "metadata": {
    "ExecuteTime": {
     "end_time": "2025-03-23T13:03:51.449713Z",
     "start_time": "2025-03-23T13:03:51.423443Z"
    }
   },
   "cell_type": "code",
   "source": [
    "master['birthDate'] = pd.to_datetime(arg={\n",
    "    'year': master.birthYear,\n",
    "    'month': master.birthMon,\n",
    "    'day': master.birthDay,\n",
    "})"
   ],
   "id": "a2906eccf22c71ec",
   "outputs": [],
   "execution_count": 376
  },
  {
   "metadata": {
    "ExecuteTime": {
     "end_time": "2025-03-23T13:03:51.590510Z",
     "start_time": "2025-03-23T13:03:51.578959Z"
    }
   },
   "cell_type": "code",
   "source": "master.drop(columns=['birthYear', 'birthMon', 'birthDay'], inplace=True)",
   "id": "1c01d9506e8ccf0a",
   "outputs": [],
   "execution_count": 377
  },
  {
   "metadata": {
    "ExecuteTime": {
     "end_time": "2025-03-23T13:03:51.711130Z",
     "start_time": "2025-03-23T13:03:51.683372Z"
    }
   },
   "cell_type": "code",
   "source": "master.head()",
   "id": "f6923459b0988e8",
   "outputs": [
    {
     "data": {
      "text/plain": [
       "          firstName     lastName pos birthCountry birthState     birthCity  \\\n",
       "playerID                                                                     \n",
       "aaltoan01     Antti        Aalto   C      Finland        NaN  Lappeenranta   \n",
       "abdelju01    Justin   Abdelkader   L          USA         MI      Muskegon   \n",
       "abidra01      Ramzi         Abid   L       Canada         QC      Montreal   \n",
       "abrahth01    Thommy  Abrahamsson   D       Sweden        NaN       Leksand   \n",
       "actonke01     Keith        Acton   C       Canada         ON   Stouffville   \n",
       "\n",
       "           birthDate  \n",
       "playerID              \n",
       "aaltoan01 1975-03-04  \n",
       "abdelju01 1987-02-25  \n",
       "abidra01  1980-03-24  \n",
       "abrahth01 1947-04-12  \n",
       "actonke01 1958-04-15  "
      ],
      "text/html": [
       "<div>\n",
       "<style scoped>\n",
       "    .dataframe tbody tr th:only-of-type {\n",
       "        vertical-align: middle;\n",
       "    }\n",
       "\n",
       "    .dataframe tbody tr th {\n",
       "        vertical-align: top;\n",
       "    }\n",
       "\n",
       "    .dataframe thead th {\n",
       "        text-align: right;\n",
       "    }\n",
       "</style>\n",
       "<table border=\"1\" class=\"dataframe\">\n",
       "  <thead>\n",
       "    <tr style=\"text-align: right;\">\n",
       "      <th></th>\n",
       "      <th>firstName</th>\n",
       "      <th>lastName</th>\n",
       "      <th>pos</th>\n",
       "      <th>birthCountry</th>\n",
       "      <th>birthState</th>\n",
       "      <th>birthCity</th>\n",
       "      <th>birthDate</th>\n",
       "    </tr>\n",
       "    <tr>\n",
       "      <th>playerID</th>\n",
       "      <th></th>\n",
       "      <th></th>\n",
       "      <th></th>\n",
       "      <th></th>\n",
       "      <th></th>\n",
       "      <th></th>\n",
       "      <th></th>\n",
       "    </tr>\n",
       "  </thead>\n",
       "  <tbody>\n",
       "    <tr>\n",
       "      <th>aaltoan01</th>\n",
       "      <td>Antti</td>\n",
       "      <td>Aalto</td>\n",
       "      <td>C</td>\n",
       "      <td>Finland</td>\n",
       "      <td>NaN</td>\n",
       "      <td>Lappeenranta</td>\n",
       "      <td>1975-03-04</td>\n",
       "    </tr>\n",
       "    <tr>\n",
       "      <th>abdelju01</th>\n",
       "      <td>Justin</td>\n",
       "      <td>Abdelkader</td>\n",
       "      <td>L</td>\n",
       "      <td>USA</td>\n",
       "      <td>MI</td>\n",
       "      <td>Muskegon</td>\n",
       "      <td>1987-02-25</td>\n",
       "    </tr>\n",
       "    <tr>\n",
       "      <th>abidra01</th>\n",
       "      <td>Ramzi</td>\n",
       "      <td>Abid</td>\n",
       "      <td>L</td>\n",
       "      <td>Canada</td>\n",
       "      <td>QC</td>\n",
       "      <td>Montreal</td>\n",
       "      <td>1980-03-24</td>\n",
       "    </tr>\n",
       "    <tr>\n",
       "      <th>abrahth01</th>\n",
       "      <td>Thommy</td>\n",
       "      <td>Abrahamsson</td>\n",
       "      <td>D</td>\n",
       "      <td>Sweden</td>\n",
       "      <td>NaN</td>\n",
       "      <td>Leksand</td>\n",
       "      <td>1947-04-12</td>\n",
       "    </tr>\n",
       "    <tr>\n",
       "      <th>actonke01</th>\n",
       "      <td>Keith</td>\n",
       "      <td>Acton</td>\n",
       "      <td>C</td>\n",
       "      <td>Canada</td>\n",
       "      <td>ON</td>\n",
       "      <td>Stouffville</td>\n",
       "      <td>1958-04-15</td>\n",
       "    </tr>\n",
       "  </tbody>\n",
       "</table>\n",
       "</div>"
      ]
     },
     "execution_count": 378,
     "metadata": {},
     "output_type": "execute_result"
    }
   ],
   "execution_count": 378
  },
  {
   "metadata": {
    "ExecuteTime": {
     "end_time": "2025-03-23T13:03:51.989430Z",
     "start_time": "2025-03-23T13:03:51.970937Z"
    }
   },
   "cell_type": "code",
   "source": [
    "ts = master.iloc[0, -1]\n",
    "ts.day_name(), ts.month_name(), ts.year, ts.day"
   ],
   "id": "2ed6c61509117ab4",
   "outputs": [
    {
     "data": {
      "text/plain": [
       "('Tuesday', 'March', 1975, 4)"
      ]
     },
     "execution_count": 379,
     "metadata": {},
     "output_type": "execute_result"
    }
   ],
   "execution_count": 379
  },
  {
   "metadata": {
    "ExecuteTime": {
     "end_time": "2025-03-23T13:03:52.212154Z",
     "start_time": "2025-03-23T13:03:52.191159Z"
    }
   },
   "cell_type": "code",
   "source": [
    "tsz = ts.tz_localize('America/Toronto')\n",
    "tsz"
   ],
   "id": "bce3b6b2c6ab6c7a",
   "outputs": [
    {
     "data": {
      "text/plain": [
       "Timestamp('1975-03-04 00:00:00-0500', tz='America/Toronto')"
      ]
     },
     "execution_count": 380,
     "metadata": {},
     "output_type": "execute_result"
    }
   ],
   "execution_count": 380
  },
  {
   "metadata": {
    "ExecuteTime": {
     "end_time": "2025-03-23T13:03:52.615776Z",
     "start_time": "2025-03-23T13:03:52.604916Z"
    }
   },
   "cell_type": "code",
   "source": "tsz.tz_convert('Europe/London')",
   "id": "46f8b1dde1ae6cc1",
   "outputs": [
    {
     "data": {
      "text/plain": [
       "Timestamp('1975-03-04 05:00:00+0000', tz='Europe/London')"
      ]
     },
     "execution_count": 381,
     "metadata": {},
     "output_type": "execute_result"
    }
   ],
   "execution_count": 381
  },
  {
   "metadata": {
    "ExecuteTime": {
     "end_time": "2025-03-23T13:03:53.019527Z",
     "start_time": "2025-03-23T13:03:52.910302Z"
    }
   },
   "cell_type": "code",
   "source": "master['birthDate'].dt.strftime('%d-%m-%Y')",
   "id": "6baf986226cbf3f3",
   "outputs": [
    {
     "data": {
      "text/plain": [
       "playerID\n",
       "aaltoan01    04-03-1975\n",
       "abdelju01    25-02-1987\n",
       "abidra01     24-03-1980\n",
       "abrahth01    12-04-1947\n",
       "actonke01    15-04-1958\n",
       "                ...    \n",
       "zubruda01    16-06-1978\n",
       "zuccama01    01-09-1987\n",
       "zuckeja01    16-01-1992\n",
       "zukemi01     16-04-1954\n",
       "zyuzian01    21-01-1978\n",
       "Name: birthDate, Length: 4627, dtype: object"
      ]
     },
     "execution_count": 382,
     "metadata": {},
     "output_type": "execute_result"
    }
   ],
   "execution_count": 382
  },
  {
   "metadata": {
    "ExecuteTime": {
     "end_time": "2025-03-23T13:03:53.311112Z",
     "start_time": "2025-03-23T13:03:53.280212Z"
    }
   },
   "cell_type": "code",
   "source": [
    "strings = master['birthDate'].dt.strftime('%Y-%m-%d')\n",
    "strings.head(3)"
   ],
   "id": "effb94aa51a403",
   "outputs": [
    {
     "data": {
      "text/plain": [
       "playerID\n",
       "aaltoan01    1975-03-04\n",
       "abdelju01    1987-02-25\n",
       "abidra01     1980-03-24\n",
       "Name: birthDate, dtype: object"
      ]
     },
     "execution_count": 383,
     "metadata": {},
     "output_type": "execute_result"
    }
   ],
   "execution_count": 383
  },
  {
   "metadata": {
    "ExecuteTime": {
     "end_time": "2025-03-23T13:03:53.423268Z",
     "start_time": "2025-03-23T13:03:53.410651Z"
    }
   },
   "cell_type": "code",
   "source": "dates = pd.to_datetime(strings)",
   "id": "f094344ed58e935c",
   "outputs": [],
   "execution_count": 384
  },
  {
   "metadata": {
    "ExecuteTime": {
     "end_time": "2025-03-23T13:03:53.651005Z",
     "start_time": "2025-03-23T13:03:53.638801Z"
    }
   },
   "cell_type": "code",
   "source": "dates.head(3)",
   "id": "84ebab677191b516",
   "outputs": [
    {
     "data": {
      "text/plain": [
       "playerID\n",
       "aaltoan01   1975-03-04\n",
       "abdelju01   1987-02-25\n",
       "abidra01    1980-03-24\n",
       "Name: birthDate, dtype: datetime64[ns]"
      ]
     },
     "execution_count": 385,
     "metadata": {},
     "output_type": "execute_result"
    }
   ],
   "execution_count": 385
  },
  {
   "metadata": {
    "ExecuteTime": {
     "end_time": "2025-03-23T13:03:54.232735Z",
     "start_time": "2025-03-23T13:03:54.207247Z"
    }
   },
   "cell_type": "code",
   "source": [
    "strings = strings.str.replace('-', 'xx')\n",
    "\n",
    "# strings = strings.loc['birthDate'].str.replace('-', 'xx')"
   ],
   "id": "43b8feb8e0b18cd3",
   "outputs": [],
   "execution_count": 386
  },
  {
   "metadata": {
    "ExecuteTime": {
     "end_time": "2025-03-23T13:03:54.610885Z",
     "start_time": "2025-03-23T13:03:54.599060Z"
    }
   },
   "cell_type": "code",
   "source": "# pd.to_datetime(strings)",
   "id": "e76267f0c9989841",
   "outputs": [],
   "execution_count": 387
  },
  {
   "metadata": {
    "ExecuteTime": {
     "end_time": "2025-03-23T13:03:54.743575Z",
     "start_time": "2025-03-23T13:03:54.732798Z"
    }
   },
   "cell_type": "code",
   "source": "strings_errors = strings.copy()",
   "id": "c98bc5d4595d115e",
   "outputs": [],
   "execution_count": 388
  },
  {
   "metadata": {
    "ExecuteTime": {
     "end_time": "2025-03-23T13:03:54.847753Z",
     "start_time": "2025-03-23T13:03:54.841517Z"
    }
   },
   "cell_type": "code",
   "source": "strings_errors.iloc[34] = \"xx123\"",
   "id": "6420b1d491b858bb",
   "outputs": [],
   "execution_count": 389
  },
  {
   "metadata": {
    "ExecuteTime": {
     "end_time": "2025-03-23T13:03:54.891502Z",
     "start_time": "2025-03-23T13:03:54.878808Z"
    }
   },
   "cell_type": "code",
   "source": "strings_errors",
   "id": "b3864eec860a1f7f",
   "outputs": [
    {
     "data": {
      "text/plain": [
       "playerID\n",
       "aaltoan01    1975xx03xx04\n",
       "abdelju01    1987xx02xx25\n",
       "abidra01     1980xx03xx24\n",
       "abrahth01    1947xx04xx12\n",
       "actonke01    1958xx04xx15\n",
       "                 ...     \n",
       "zubruda01    1978xx06xx16\n",
       "zuccama01    1987xx09xx01\n",
       "zuckeja01    1992xx01xx16\n",
       "zukemi01     1954xx04xx16\n",
       "zyuzian01    1978xx01xx21\n",
       "Name: birthDate, Length: 4627, dtype: object"
      ]
     },
     "execution_count": 390,
     "metadata": {},
     "output_type": "execute_result"
    }
   ],
   "execution_count": 390
  },
  {
   "metadata": {
    "ExecuteTime": {
     "end_time": "2025-03-23T13:03:55.143348Z",
     "start_time": "2025-03-23T13:03:55.080981Z"
    }
   },
   "cell_type": "code",
   "source": [
    "parsed = pd.to_datetime(strings_errors, format='%Yxx%mxx%d', errors='coerce')\n",
    "parsed"
   ],
   "id": "c97035a535f8e59c",
   "outputs": [
    {
     "data": {
      "text/plain": [
       "playerID\n",
       "aaltoan01   1975-03-04\n",
       "abdelju01   1987-02-25\n",
       "abidra01    1980-03-24\n",
       "abrahth01   1947-04-12\n",
       "actonke01   1958-04-15\n",
       "               ...    \n",
       "zubruda01   1978-06-16\n",
       "zuccama01   1987-09-01\n",
       "zuckeja01   1992-01-16\n",
       "zukemi01    1954-04-16\n",
       "zyuzian01   1978-01-21\n",
       "Name: birthDate, Length: 4627, dtype: datetime64[ns]"
      ]
     },
     "execution_count": 391,
     "metadata": {},
     "output_type": "execute_result"
    }
   ],
   "execution_count": 391
  },
  {
   "metadata": {
    "ExecuteTime": {
     "end_time": "2025-03-23T13:03:55.395380Z",
     "start_time": "2025-03-23T13:03:55.376906Z"
    }
   },
   "cell_type": "code",
   "source": [
    "parsed1 = pd.to_datetime(strings_errors, format='%Yxx%mxx%d', errors='ignore')\n",
    "parsed1.iloc[32: 40]"
   ],
   "id": "586482c10706986b",
   "outputs": [
    {
     "name": "stderr",
     "output_type": "stream",
     "text": [
      "/tmp/ipykernel_12893/2790913966.py:1: FutureWarning: errors='ignore' is deprecated and will raise in a future version. Use to_datetime without passing `errors` and catch exceptions explicitly instead\n",
      "  parsed1 = pd.to_datetime(strings_errors, format='%Yxx%mxx%d', errors='ignore')\n"
     ]
    },
    {
     "data": {
      "text/plain": [
       "playerID\n",
       "alleyst01    1953xx12xx29\n",
       "allisda01    1959xx04xx14\n",
       "allisja01           xx123\n",
       "allisja02    1975xx05xx13\n",
       "allismi01    1961xx03xx28\n",
       "allisra01    1959xx03xx04\n",
       "almonco01    1989xx07xx24\n",
       "alzneka01    1988xx09xx24\n",
       "Name: birthDate, dtype: object"
      ]
     },
     "execution_count": 392,
     "metadata": {},
     "output_type": "execute_result"
    }
   ],
   "execution_count": 392
  },
  {
   "metadata": {
    "ExecuteTime": {
     "end_time": "2025-03-23T13:03:55.728348Z",
     "start_time": "2025-03-23T13:03:55.713795Z"
    }
   },
   "cell_type": "code",
   "source": "strings_errors",
   "id": "94b7d55506ae523f",
   "outputs": [
    {
     "data": {
      "text/plain": [
       "playerID\n",
       "aaltoan01    1975xx03xx04\n",
       "abdelju01    1987xx02xx25\n",
       "abidra01     1980xx03xx24\n",
       "abrahth01    1947xx04xx12\n",
       "actonke01    1958xx04xx15\n",
       "                 ...     \n",
       "zubruda01    1978xx06xx16\n",
       "zuccama01    1987xx09xx01\n",
       "zuckeja01    1992xx01xx16\n",
       "zukemi01     1954xx04xx16\n",
       "zyuzian01    1978xx01xx21\n",
       "Name: birthDate, Length: 4627, dtype: object"
      ]
     },
     "execution_count": 393,
     "metadata": {},
     "output_type": "execute_result"
    }
   ],
   "execution_count": 393
  },
  {
   "metadata": {
    "ExecuteTime": {
     "end_time": "2025-03-23T13:03:55.993454Z",
     "start_time": "2025-03-23T13:03:55.980831Z"
    }
   },
   "cell_type": "code",
   "source": [
    "birth_dates = pd.Series(master.index, index=master.birthDate)\n",
    "birth_dates.head()"
   ],
   "id": "b130120c6e82b78f",
   "outputs": [
    {
     "data": {
      "text/plain": [
       "birthDate\n",
       "1975-03-04    aaltoan01\n",
       "1987-02-25    abdelju01\n",
       "1980-03-24     abidra01\n",
       "1947-04-12    abrahth01\n",
       "1958-04-15    actonke01\n",
       "Name: playerID, dtype: object"
      ]
     },
     "execution_count": 394,
     "metadata": {},
     "output_type": "execute_result"
    }
   ],
   "execution_count": 394
  },
  {
   "metadata": {
    "ExecuteTime": {
     "end_time": "2025-03-23T13:03:56.173978Z",
     "start_time": "2025-03-23T13:03:56.157028Z"
    }
   },
   "cell_type": "code",
   "source": [
    "birth_dates.sort_index(inplace=True)\n",
    "birth_dates"
   ],
   "id": "859fe2864dc84237",
   "outputs": [
    {
     "data": {
      "text/plain": [
       "birthDate\n",
       "1940-01-27    harpete01\n",
       "1940-03-22     keonda01\n",
       "1940-10-03    ratelje01\n",
       "1942-02-20    esposph01\n",
       "1943-04-23    esposto01\n",
       "                ...    \n",
       "1992-11-23    landega01\n",
       "1992-12-07    coutuse01\n",
       "1993-03-15    scheima01\n",
       "1993-04-12    nugenry01\n",
       "1993-04-18    zibanmi01\n",
       "Name: playerID, Length: 4627, dtype: object"
      ]
     },
     "execution_count": 395,
     "metadata": {},
     "output_type": "execute_result"
    }
   ],
   "execution_count": 395
  },
  {
   "metadata": {
    "ExecuteTime": {
     "end_time": "2025-03-23T13:03:56.453976Z",
     "start_time": "2025-03-23T13:03:56.441254Z"
    }
   },
   "cell_type": "code",
   "source": "birth_dates.loc['1980']",
   "id": "9e29be7049cf9230",
   "outputs": [
    {
     "data": {
      "text/plain": [
       "birthDate\n",
       "1980-01-02    zalesmi01\n",
       "1980-01-10    stanara01\n",
       "1980-01-13    bouckty01\n",
       "1980-01-13     ruppmi01\n",
       "1980-01-15    papinju01\n",
       "                ...    \n",
       "1980-11-24    fritzmi01\n",
       "1980-11-25    lilesjo01\n",
       "1980-12-02     wardjo02\n",
       "1980-12-09    baydary01\n",
       "1980-12-30    lysakbr01\n",
       "Name: playerID, Length: 145, dtype: object"
      ]
     },
     "execution_count": 396,
     "metadata": {},
     "output_type": "execute_result"
    }
   ],
   "execution_count": 396
  },
  {
   "metadata": {
    "ExecuteTime": {
     "end_time": "2025-03-23T13:03:56.749409Z",
     "start_time": "2025-03-23T13:03:56.734931Z"
    }
   },
   "cell_type": "code",
   "source": "birth_dates.loc['1980-07']",
   "id": "219233d0eae846a5",
   "outputs": [
    {
     "data": {
      "text/plain": [
       "birthDate\n",
       "1980-07-03    miettan01\n",
       "1980-07-05    huntetr01\n",
       "1980-07-08    chouier01\n",
       "1980-07-15    cheecjo01\n",
       "1980-07-17    millery01\n",
       "1980-07-19    tanabda01\n",
       "1980-07-20    arsende01\n",
       "1980-07-22    kalindm01\n",
       "1980-07-24    jillsje01\n",
       "1980-07-24    printda01\n",
       "1980-07-31    fischji01\n",
       "Name: playerID, dtype: object"
      ]
     },
     "execution_count": 397,
     "metadata": {},
     "output_type": "execute_result"
    }
   ],
   "execution_count": 397
  },
  {
   "metadata": {
    "ExecuteTime": {
     "end_time": "2025-03-23T13:03:57.146748Z",
     "start_time": "2025-03-23T13:03:57.134290Z"
    }
   },
   "cell_type": "code",
   "source": "birth_dates.loc['1980-07-24'] # data jest rodzajem multindeksu, jest tak obsłużone, żeby można było wyszukać po części daty",
   "id": "6f3dac3decee787",
   "outputs": [
    {
     "data": {
      "text/plain": [
       "birthDate\n",
       "1980-07-24    jillsje01\n",
       "1980-07-24    printda01\n",
       "Name: playerID, dtype: object"
      ]
     },
     "execution_count": 398,
     "metadata": {},
     "output_type": "execute_result"
    }
   ],
   "execution_count": 398
  },
  {
   "metadata": {
    "ExecuteTime": {
     "end_time": "2025-03-23T13:03:57.535294Z",
     "start_time": "2025-03-23T13:03:57.520668Z"
    }
   },
   "cell_type": "code",
   "source": "birth_dates.loc['1980-07-20':'1980-07-31']",
   "id": "2ab27e8d761a8b3c",
   "outputs": [
    {
     "data": {
      "text/plain": [
       "birthDate\n",
       "1980-07-20    arsende01\n",
       "1980-07-22    kalindm01\n",
       "1980-07-24    jillsje01\n",
       "1980-07-24    printda01\n",
       "1980-07-31    fischji01\n",
       "Name: playerID, dtype: object"
      ]
     },
     "execution_count": 399,
     "metadata": {},
     "output_type": "execute_result"
    }
   ],
   "execution_count": 399
  },
  {
   "metadata": {
    "ExecuteTime": {
     "end_time": "2025-03-23T13:03:57.807157Z",
     "start_time": "2025-03-23T13:03:57.789188Z"
    }
   },
   "cell_type": "code",
   "source": "birth_dates.head()",
   "id": "2ce5d1354970a42",
   "outputs": [
    {
     "data": {
      "text/plain": [
       "birthDate\n",
       "1940-01-27    harpete01\n",
       "1940-03-22     keonda01\n",
       "1940-10-03    ratelje01\n",
       "1942-02-20    esposph01\n",
       "1943-04-23    esposto01\n",
       "Name: playerID, dtype: object"
      ]
     },
     "execution_count": 400,
     "metadata": {},
     "output_type": "execute_result"
    }
   ],
   "execution_count": 400
  },
  {
   "metadata": {
    "ExecuteTime": {
     "end_time": "2025-03-23T13:03:58.150612Z",
     "start_time": "2025-03-23T13:03:58.124958Z"
    }
   },
   "cell_type": "code",
   "source": "birth_dates.resample('1QS')",
   "id": "e62ac0bd243d0002",
   "outputs": [
    {
     "data": {
      "text/plain": [
       "<pandas.core.resample.DatetimeIndexResampler object at 0x7704fd588ad0>"
      ]
     },
     "execution_count": 401,
     "metadata": {},
     "output_type": "execute_result"
    }
   ],
   "execution_count": 401
  },
  {
   "metadata": {
    "ExecuteTime": {
     "end_time": "2025-03-23T13:03:58.603165Z",
     "start_time": "2025-03-23T13:03:58.465261Z"
    }
   },
   "cell_type": "code",
   "source": "birth_dates.resample('1W').count()",
   "id": "54fc471a130bffa1",
   "outputs": [
    {
     "data": {
      "text/plain": [
       "birthDate\n",
       "1940-01-28    1\n",
       "1940-02-04    0\n",
       "1940-02-11    0\n",
       "1940-02-18    0\n",
       "1940-02-25    0\n",
       "             ..\n",
       "1993-03-21    1\n",
       "1993-03-28    0\n",
       "1993-04-04    0\n",
       "1993-04-11    0\n",
       "1993-04-18    2\n",
       "Freq: W-SUN, Name: playerID, Length: 2778, dtype: int64"
      ]
     },
     "execution_count": 402,
     "metadata": {},
     "output_type": "execute_result"
    }
   ],
   "execution_count": 402
  },
  {
   "metadata": {
    "ExecuteTime": {
     "end_time": "2025-03-23T13:03:58.932163Z",
     "start_time": "2025-03-23T13:03:58.918584Z"
    }
   },
   "cell_type": "code",
   "source": "birth_dates\n",
   "id": "230ddd9c1e798261",
   "outputs": [
    {
     "data": {
      "text/plain": [
       "birthDate\n",
       "1940-01-27    harpete01\n",
       "1940-03-22     keonda01\n",
       "1940-10-03    ratelje01\n",
       "1942-02-20    esposph01\n",
       "1943-04-23    esposto01\n",
       "                ...    \n",
       "1992-11-23    landega01\n",
       "1992-12-07    coutuse01\n",
       "1993-03-15    scheima01\n",
       "1993-04-12    nugenry01\n",
       "1993-04-18    zibanmi01\n",
       "Name: playerID, Length: 4627, dtype: object"
      ]
     },
     "execution_count": 403,
     "metadata": {},
     "output_type": "execute_result"
    }
   ],
   "execution_count": 403
  },
  {
   "metadata": {
    "ExecuteTime": {
     "end_time": "2025-03-23T13:03:59.255356Z",
     "start_time": "2025-03-23T13:03:59.238605Z"
    }
   },
   "cell_type": "code",
   "source": "birth_dates.shift(1, freq='D') # przesunięcie o jeden dzień wszystkich dat",
   "id": "4e1127e9a72c8ac8",
   "outputs": [
    {
     "data": {
      "text/plain": [
       "birthDate\n",
       "1940-01-28    harpete01\n",
       "1940-03-23     keonda01\n",
       "1940-10-04    ratelje01\n",
       "1942-02-21    esposph01\n",
       "1943-04-24    esposto01\n",
       "                ...    \n",
       "1992-11-24    landega01\n",
       "1992-12-08    coutuse01\n",
       "1993-03-16    scheima01\n",
       "1993-04-13    nugenry01\n",
       "1993-04-19    zibanmi01\n",
       "Name: playerID, Length: 4627, dtype: object"
      ]
     },
     "execution_count": 404,
     "metadata": {},
     "output_type": "execute_result"
    }
   ],
   "execution_count": 404
  },
  {
   "metadata": {
    "ExecuteTime": {
     "end_time": "2025-03-23T13:03:59.582837Z",
     "start_time": "2025-03-23T13:03:59.552908Z"
    }
   },
   "cell_type": "code",
   "source": "team_splits.head()",
   "id": "bcecd012f0eeaaf3",
   "outputs": [
    {
     "data": {
      "text/plain": [
       "                            W    L    T  OL\n",
       "name          year month                   \n",
       "Boston Bruins 1981 Sep    NaN  NaN  NaN NaN\n",
       "                   Oct    6.0  2.0  3.0 NaN\n",
       "                   Nov    7.0  5.0  1.0 NaN\n",
       "                   Dec    9.0  3.0  0.0 NaN\n",
       "                   Jan    7.0  6.0  3.0 NaN"
      ],
      "text/html": [
       "<div>\n",
       "<style scoped>\n",
       "    .dataframe tbody tr th:only-of-type {\n",
       "        vertical-align: middle;\n",
       "    }\n",
       "\n",
       "    .dataframe tbody tr th {\n",
       "        vertical-align: top;\n",
       "    }\n",
       "\n",
       "    .dataframe thead th {\n",
       "        text-align: right;\n",
       "    }\n",
       "</style>\n",
       "<table border=\"1\" class=\"dataframe\">\n",
       "  <thead>\n",
       "    <tr style=\"text-align: right;\">\n",
       "      <th></th>\n",
       "      <th></th>\n",
       "      <th></th>\n",
       "      <th>W</th>\n",
       "      <th>L</th>\n",
       "      <th>T</th>\n",
       "      <th>OL</th>\n",
       "    </tr>\n",
       "    <tr>\n",
       "      <th>name</th>\n",
       "      <th>year</th>\n",
       "      <th>month</th>\n",
       "      <th></th>\n",
       "      <th></th>\n",
       "      <th></th>\n",
       "      <th></th>\n",
       "    </tr>\n",
       "  </thead>\n",
       "  <tbody>\n",
       "    <tr>\n",
       "      <th rowspan=\"5\" valign=\"top\">Boston Bruins</th>\n",
       "      <th rowspan=\"5\" valign=\"top\">1981</th>\n",
       "      <th>Sep</th>\n",
       "      <td>NaN</td>\n",
       "      <td>NaN</td>\n",
       "      <td>NaN</td>\n",
       "      <td>NaN</td>\n",
       "    </tr>\n",
       "    <tr>\n",
       "      <th>Oct</th>\n",
       "      <td>6.0</td>\n",
       "      <td>2.0</td>\n",
       "      <td>3.0</td>\n",
       "      <td>NaN</td>\n",
       "    </tr>\n",
       "    <tr>\n",
       "      <th>Nov</th>\n",
       "      <td>7.0</td>\n",
       "      <td>5.0</td>\n",
       "      <td>1.0</td>\n",
       "      <td>NaN</td>\n",
       "    </tr>\n",
       "    <tr>\n",
       "      <th>Dec</th>\n",
       "      <td>9.0</td>\n",
       "      <td>3.0</td>\n",
       "      <td>0.0</td>\n",
       "      <td>NaN</td>\n",
       "    </tr>\n",
       "    <tr>\n",
       "      <th>Jan</th>\n",
       "      <td>7.0</td>\n",
       "      <td>6.0</td>\n",
       "      <td>3.0</td>\n",
       "      <td>NaN</td>\n",
       "    </tr>\n",
       "  </tbody>\n",
       "</table>\n",
       "</div>"
      ]
     },
     "execution_count": 405,
     "metadata": {},
     "output_type": "execute_result"
    }
   ],
   "execution_count": 405
  },
  {
   "metadata": {
    "ExecuteTime": {
     "end_time": "2025-03-23T13:03:59.866728Z",
     "start_time": "2025-03-23T13:03:59.852503Z"
    }
   },
   "cell_type": "code",
   "source": "pd.Period(\"1980-Sep\")",
   "id": "dd324d63375d0e1b",
   "outputs": [
    {
     "data": {
      "text/plain": [
       "Period('1980-09', 'M')"
      ]
     },
     "execution_count": 406,
     "metadata": {},
     "output_type": "execute_result"
    }
   ],
   "execution_count": 406
  },
  {
   "metadata": {
    "ExecuteTime": {
     "end_time": "2025-03-23T13:04:00.286726Z",
     "start_time": "2025-03-23T13:04:00.273791Z"
    }
   },
   "cell_type": "code",
   "source": "team_splits.index.levels[1]",
   "id": "49a8f025a6ff4fe9",
   "outputs": [
    {
     "data": {
      "text/plain": [
       "Index([1981, 1982, 1983, 1984, 1985, 1986, 1987, 1988, 1989, 1990, 1991, 1992,\n",
       "       1993, 1994, 1995, 1996, 1997, 1998, 1999, 2000, 2001, 2002, 2003, 2005,\n",
       "       2006, 2007, 2008, 2009, 2010, 2011],\n",
       "      dtype='int64', name='year')"
      ]
     },
     "execution_count": 407,
     "metadata": {},
     "output_type": "execute_result"
    }
   ],
   "execution_count": 407
  },
  {
   "metadata": {
    "ExecuteTime": {
     "end_time": "2025-03-23T13:04:00.736235Z",
     "start_time": "2025-03-23T13:04:00.712795Z"
    }
   },
   "cell_type": "code",
   "source": "team_splits.head(2).apply(lambda x: print(x), axis=1)",
   "id": "6f88d26b9c213c44",
   "outputs": [
    {
     "name": "stdout",
     "output_type": "stream",
     "text": [
      "W    NaN\n",
      "L    NaN\n",
      "T    NaN\n",
      "OL   NaN\n",
      "Name: (Boston Bruins, 1981, Sep), dtype: float64\n",
      "W     6.0\n",
      "L     2.0\n",
      "T     3.0\n",
      "OL    NaN\n",
      "Name: (Boston Bruins, 1981, Oct), dtype: float64\n"
     ]
    },
    {
     "data": {
      "text/plain": [
       "name           year  month\n",
       "Boston Bruins  1981  Sep      None\n",
       "                     Oct      None\n",
       "dtype: object"
      ]
     },
     "execution_count": 408,
     "metadata": {},
     "output_type": "execute_result"
    }
   ],
   "execution_count": 408
  },
  {
   "metadata": {
    "ExecuteTime": {
     "end_time": "2025-03-23T13:04:01.007249Z",
     "start_time": "2025-03-23T13:04:00.992099Z"
    }
   },
   "cell_type": "code",
   "source": "team_splits = team_splits.reset_index()",
   "id": "e6c388a33bb8908a",
   "outputs": [],
   "execution_count": 409
  },
  {
   "metadata": {
    "ExecuteTime": {
     "end_time": "2025-03-23T13:04:01.113361Z",
     "start_time": "2025-03-23T13:04:01.086030Z"
    }
   },
   "cell_type": "code",
   "source": "team_splits.head()",
   "id": "92d7620cd0f6bdc5",
   "outputs": [
    {
     "data": {
      "text/plain": [
       "            name  year month    W    L    T  OL\n",
       "0  Boston Bruins  1981   Sep  NaN  NaN  NaN NaN\n",
       "1  Boston Bruins  1981   Oct  6.0  2.0  3.0 NaN\n",
       "2  Boston Bruins  1981   Nov  7.0  5.0  1.0 NaN\n",
       "3  Boston Bruins  1981   Dec  9.0  3.0  0.0 NaN\n",
       "4  Boston Bruins  1981   Jan  7.0  6.0  3.0 NaN"
      ],
      "text/html": [
       "<div>\n",
       "<style scoped>\n",
       "    .dataframe tbody tr th:only-of-type {\n",
       "        vertical-align: middle;\n",
       "    }\n",
       "\n",
       "    .dataframe tbody tr th {\n",
       "        vertical-align: top;\n",
       "    }\n",
       "\n",
       "    .dataframe thead th {\n",
       "        text-align: right;\n",
       "    }\n",
       "</style>\n",
       "<table border=\"1\" class=\"dataframe\">\n",
       "  <thead>\n",
       "    <tr style=\"text-align: right;\">\n",
       "      <th></th>\n",
       "      <th>name</th>\n",
       "      <th>year</th>\n",
       "      <th>month</th>\n",
       "      <th>W</th>\n",
       "      <th>L</th>\n",
       "      <th>T</th>\n",
       "      <th>OL</th>\n",
       "    </tr>\n",
       "  </thead>\n",
       "  <tbody>\n",
       "    <tr>\n",
       "      <th>0</th>\n",
       "      <td>Boston Bruins</td>\n",
       "      <td>1981</td>\n",
       "      <td>Sep</td>\n",
       "      <td>NaN</td>\n",
       "      <td>NaN</td>\n",
       "      <td>NaN</td>\n",
       "      <td>NaN</td>\n",
       "    </tr>\n",
       "    <tr>\n",
       "      <th>1</th>\n",
       "      <td>Boston Bruins</td>\n",
       "      <td>1981</td>\n",
       "      <td>Oct</td>\n",
       "      <td>6.0</td>\n",
       "      <td>2.0</td>\n",
       "      <td>3.0</td>\n",
       "      <td>NaN</td>\n",
       "    </tr>\n",
       "    <tr>\n",
       "      <th>2</th>\n",
       "      <td>Boston Bruins</td>\n",
       "      <td>1981</td>\n",
       "      <td>Nov</td>\n",
       "      <td>7.0</td>\n",
       "      <td>5.0</td>\n",
       "      <td>1.0</td>\n",
       "      <td>NaN</td>\n",
       "    </tr>\n",
       "    <tr>\n",
       "      <th>3</th>\n",
       "      <td>Boston Bruins</td>\n",
       "      <td>1981</td>\n",
       "      <td>Dec</td>\n",
       "      <td>9.0</td>\n",
       "      <td>3.0</td>\n",
       "      <td>0.0</td>\n",
       "      <td>NaN</td>\n",
       "    </tr>\n",
       "    <tr>\n",
       "      <th>4</th>\n",
       "      <td>Boston Bruins</td>\n",
       "      <td>1981</td>\n",
       "      <td>Jan</td>\n",
       "      <td>7.0</td>\n",
       "      <td>6.0</td>\n",
       "      <td>3.0</td>\n",
       "      <td>NaN</td>\n",
       "    </tr>\n",
       "  </tbody>\n",
       "</table>\n",
       "</div>"
      ]
     },
     "execution_count": 410,
     "metadata": {},
     "output_type": "execute_result"
    }
   ],
   "execution_count": 410
  },
  {
   "metadata": {
    "ExecuteTime": {
     "end_time": "2025-03-23T13:04:03.691685Z",
     "start_time": "2025-03-23T13:04:01.472809Z"
    }
   },
   "cell_type": "code",
   "source": [
    "dates = team_splits.apply(lambda row: pd.Period(f\"{row.year}-{row.month}\"), axis=1)\n",
    "dates"
   ],
   "id": "d41a3bb1c7f71dd9",
   "outputs": [
    {
     "data": {
      "text/plain": [
       "0       1981-09\n",
       "1       1981-10\n",
       "2       1981-11\n",
       "3       1981-12\n",
       "4       1981-01\n",
       "         ...   \n",
       "6163    2011-12\n",
       "6164    2011-01\n",
       "6165    2011-02\n",
       "6166    2011-03\n",
       "6167    2011-04\n",
       "Length: 6168, dtype: period[M]"
      ]
     },
     "execution_count": 411,
     "metadata": {},
     "output_type": "execute_result"
    }
   ],
   "execution_count": 411
  },
  {
   "metadata": {
    "ExecuteTime": {
     "end_time": "2025-03-23T13:04:03.867516Z",
     "start_time": "2025-03-23T13:04:03.860862Z"
    }
   },
   "cell_type": "code",
   "source": "team_splits.month = dates",
   "id": "602913d6ae30d409",
   "outputs": [],
   "execution_count": 412
  },
  {
   "metadata": {
    "ExecuteTime": {
     "end_time": "2025-03-23T13:04:04.076784Z",
     "start_time": "2025-03-23T13:04:04.037538Z"
    }
   },
   "cell_type": "code",
   "source": "team_splits",
   "id": "fb5d10c87613dd80",
   "outputs": [
    {
     "data": {
      "text/plain": [
       "               name  year    month     W    L    T   OL\n",
       "0     Boston Bruins  1981  1981-09   NaN  NaN  NaN  NaN\n",
       "1     Boston Bruins  1981  1981-10   6.0  2.0  3.0  NaN\n",
       "2     Boston Bruins  1981  1981-11   7.0  5.0  1.0  NaN\n",
       "3     Boston Bruins  1981  1981-12   9.0  3.0  0.0  NaN\n",
       "4     Boston Bruins  1981  1981-01   7.0  6.0  3.0  NaN\n",
       "...             ...   ...      ...   ...  ...  ...  ...\n",
       "6163  Winnipeg Jets  2011  2011-12  10.0  3.0  NaN  1.0\n",
       "6164  Winnipeg Jets  2011  2011-01   4.0  8.0  NaN  1.0\n",
       "6165  Winnipeg Jets  2011  2011-02   7.0  5.0  NaN  2.0\n",
       "6166  Winnipeg Jets  2011  2011-03   6.0  7.0  NaN  1.0\n",
       "6167  Winnipeg Jets  2011  2011-04   1.0  1.0  NaN  1.0\n",
       "\n",
       "[6168 rows x 7 columns]"
      ],
      "text/html": [
       "<div>\n",
       "<style scoped>\n",
       "    .dataframe tbody tr th:only-of-type {\n",
       "        vertical-align: middle;\n",
       "    }\n",
       "\n",
       "    .dataframe tbody tr th {\n",
       "        vertical-align: top;\n",
       "    }\n",
       "\n",
       "    .dataframe thead th {\n",
       "        text-align: right;\n",
       "    }\n",
       "</style>\n",
       "<table border=\"1\" class=\"dataframe\">\n",
       "  <thead>\n",
       "    <tr style=\"text-align: right;\">\n",
       "      <th></th>\n",
       "      <th>name</th>\n",
       "      <th>year</th>\n",
       "      <th>month</th>\n",
       "      <th>W</th>\n",
       "      <th>L</th>\n",
       "      <th>T</th>\n",
       "      <th>OL</th>\n",
       "    </tr>\n",
       "  </thead>\n",
       "  <tbody>\n",
       "    <tr>\n",
       "      <th>0</th>\n",
       "      <td>Boston Bruins</td>\n",
       "      <td>1981</td>\n",
       "      <td>1981-09</td>\n",
       "      <td>NaN</td>\n",
       "      <td>NaN</td>\n",
       "      <td>NaN</td>\n",
       "      <td>NaN</td>\n",
       "    </tr>\n",
       "    <tr>\n",
       "      <th>1</th>\n",
       "      <td>Boston Bruins</td>\n",
       "      <td>1981</td>\n",
       "      <td>1981-10</td>\n",
       "      <td>6.0</td>\n",
       "      <td>2.0</td>\n",
       "      <td>3.0</td>\n",
       "      <td>NaN</td>\n",
       "    </tr>\n",
       "    <tr>\n",
       "      <th>2</th>\n",
       "      <td>Boston Bruins</td>\n",
       "      <td>1981</td>\n",
       "      <td>1981-11</td>\n",
       "      <td>7.0</td>\n",
       "      <td>5.0</td>\n",
       "      <td>1.0</td>\n",
       "      <td>NaN</td>\n",
       "    </tr>\n",
       "    <tr>\n",
       "      <th>3</th>\n",
       "      <td>Boston Bruins</td>\n",
       "      <td>1981</td>\n",
       "      <td>1981-12</td>\n",
       "      <td>9.0</td>\n",
       "      <td>3.0</td>\n",
       "      <td>0.0</td>\n",
       "      <td>NaN</td>\n",
       "    </tr>\n",
       "    <tr>\n",
       "      <th>4</th>\n",
       "      <td>Boston Bruins</td>\n",
       "      <td>1981</td>\n",
       "      <td>1981-01</td>\n",
       "      <td>7.0</td>\n",
       "      <td>6.0</td>\n",
       "      <td>3.0</td>\n",
       "      <td>NaN</td>\n",
       "    </tr>\n",
       "    <tr>\n",
       "      <th>...</th>\n",
       "      <td>...</td>\n",
       "      <td>...</td>\n",
       "      <td>...</td>\n",
       "      <td>...</td>\n",
       "      <td>...</td>\n",
       "      <td>...</td>\n",
       "      <td>...</td>\n",
       "    </tr>\n",
       "    <tr>\n",
       "      <th>6163</th>\n",
       "      <td>Winnipeg Jets</td>\n",
       "      <td>2011</td>\n",
       "      <td>2011-12</td>\n",
       "      <td>10.0</td>\n",
       "      <td>3.0</td>\n",
       "      <td>NaN</td>\n",
       "      <td>1.0</td>\n",
       "    </tr>\n",
       "    <tr>\n",
       "      <th>6164</th>\n",
       "      <td>Winnipeg Jets</td>\n",
       "      <td>2011</td>\n",
       "      <td>2011-01</td>\n",
       "      <td>4.0</td>\n",
       "      <td>8.0</td>\n",
       "      <td>NaN</td>\n",
       "      <td>1.0</td>\n",
       "    </tr>\n",
       "    <tr>\n",
       "      <th>6165</th>\n",
       "      <td>Winnipeg Jets</td>\n",
       "      <td>2011</td>\n",
       "      <td>2011-02</td>\n",
       "      <td>7.0</td>\n",
       "      <td>5.0</td>\n",
       "      <td>NaN</td>\n",
       "      <td>2.0</td>\n",
       "    </tr>\n",
       "    <tr>\n",
       "      <th>6166</th>\n",
       "      <td>Winnipeg Jets</td>\n",
       "      <td>2011</td>\n",
       "      <td>2011-03</td>\n",
       "      <td>6.0</td>\n",
       "      <td>7.0</td>\n",
       "      <td>NaN</td>\n",
       "      <td>1.0</td>\n",
       "    </tr>\n",
       "    <tr>\n",
       "      <th>6167</th>\n",
       "      <td>Winnipeg Jets</td>\n",
       "      <td>2011</td>\n",
       "      <td>2011-04</td>\n",
       "      <td>1.0</td>\n",
       "      <td>1.0</td>\n",
       "      <td>NaN</td>\n",
       "      <td>1.0</td>\n",
       "    </tr>\n",
       "  </tbody>\n",
       "</table>\n",
       "<p>6168 rows × 7 columns</p>\n",
       "</div>"
      ]
     },
     "execution_count": 413,
     "metadata": {},
     "output_type": "execute_result"
    }
   ],
   "execution_count": 413
  },
  {
   "metadata": {
    "ExecuteTime": {
     "end_time": "2025-03-23T13:04:04.270339Z",
     "start_time": "2025-03-23T13:04:04.259038Z"
    }
   },
   "cell_type": "code",
   "source": "team_splits.drop('year', axis=1, inplace=True)",
   "id": "dde47c912714f481",
   "outputs": [],
   "execution_count": 414
  },
  {
   "metadata": {
    "ExecuteTime": {
     "end_time": "2025-03-23T13:04:04.396290Z",
     "start_time": "2025-03-23T13:04:04.362367Z"
    }
   },
   "cell_type": "code",
   "source": "team_splits",
   "id": "2ccea2821df2d444",
   "outputs": [
    {
     "data": {
      "text/plain": [
       "               name    month     W    L    T   OL\n",
       "0     Boston Bruins  1981-09   NaN  NaN  NaN  NaN\n",
       "1     Boston Bruins  1981-10   6.0  2.0  3.0  NaN\n",
       "2     Boston Bruins  1981-11   7.0  5.0  1.0  NaN\n",
       "3     Boston Bruins  1981-12   9.0  3.0  0.0  NaN\n",
       "4     Boston Bruins  1981-01   7.0  6.0  3.0  NaN\n",
       "...             ...      ...   ...  ...  ...  ...\n",
       "6163  Winnipeg Jets  2011-12  10.0  3.0  NaN  1.0\n",
       "6164  Winnipeg Jets  2011-01   4.0  8.0  NaN  1.0\n",
       "6165  Winnipeg Jets  2011-02   7.0  5.0  NaN  2.0\n",
       "6166  Winnipeg Jets  2011-03   6.0  7.0  NaN  1.0\n",
       "6167  Winnipeg Jets  2011-04   1.0  1.0  NaN  1.0\n",
       "\n",
       "[6168 rows x 6 columns]"
      ],
      "text/html": [
       "<div>\n",
       "<style scoped>\n",
       "    .dataframe tbody tr th:only-of-type {\n",
       "        vertical-align: middle;\n",
       "    }\n",
       "\n",
       "    .dataframe tbody tr th {\n",
       "        vertical-align: top;\n",
       "    }\n",
       "\n",
       "    .dataframe thead th {\n",
       "        text-align: right;\n",
       "    }\n",
       "</style>\n",
       "<table border=\"1\" class=\"dataframe\">\n",
       "  <thead>\n",
       "    <tr style=\"text-align: right;\">\n",
       "      <th></th>\n",
       "      <th>name</th>\n",
       "      <th>month</th>\n",
       "      <th>W</th>\n",
       "      <th>L</th>\n",
       "      <th>T</th>\n",
       "      <th>OL</th>\n",
       "    </tr>\n",
       "  </thead>\n",
       "  <tbody>\n",
       "    <tr>\n",
       "      <th>0</th>\n",
       "      <td>Boston Bruins</td>\n",
       "      <td>1981-09</td>\n",
       "      <td>NaN</td>\n",
       "      <td>NaN</td>\n",
       "      <td>NaN</td>\n",
       "      <td>NaN</td>\n",
       "    </tr>\n",
       "    <tr>\n",
       "      <th>1</th>\n",
       "      <td>Boston Bruins</td>\n",
       "      <td>1981-10</td>\n",
       "      <td>6.0</td>\n",
       "      <td>2.0</td>\n",
       "      <td>3.0</td>\n",
       "      <td>NaN</td>\n",
       "    </tr>\n",
       "    <tr>\n",
       "      <th>2</th>\n",
       "      <td>Boston Bruins</td>\n",
       "      <td>1981-11</td>\n",
       "      <td>7.0</td>\n",
       "      <td>5.0</td>\n",
       "      <td>1.0</td>\n",
       "      <td>NaN</td>\n",
       "    </tr>\n",
       "    <tr>\n",
       "      <th>3</th>\n",
       "      <td>Boston Bruins</td>\n",
       "      <td>1981-12</td>\n",
       "      <td>9.0</td>\n",
       "      <td>3.0</td>\n",
       "      <td>0.0</td>\n",
       "      <td>NaN</td>\n",
       "    </tr>\n",
       "    <tr>\n",
       "      <th>4</th>\n",
       "      <td>Boston Bruins</td>\n",
       "      <td>1981-01</td>\n",
       "      <td>7.0</td>\n",
       "      <td>6.0</td>\n",
       "      <td>3.0</td>\n",
       "      <td>NaN</td>\n",
       "    </tr>\n",
       "    <tr>\n",
       "      <th>...</th>\n",
       "      <td>...</td>\n",
       "      <td>...</td>\n",
       "      <td>...</td>\n",
       "      <td>...</td>\n",
       "      <td>...</td>\n",
       "      <td>...</td>\n",
       "    </tr>\n",
       "    <tr>\n",
       "      <th>6163</th>\n",
       "      <td>Winnipeg Jets</td>\n",
       "      <td>2011-12</td>\n",
       "      <td>10.0</td>\n",
       "      <td>3.0</td>\n",
       "      <td>NaN</td>\n",
       "      <td>1.0</td>\n",
       "    </tr>\n",
       "    <tr>\n",
       "      <th>6164</th>\n",
       "      <td>Winnipeg Jets</td>\n",
       "      <td>2011-01</td>\n",
       "      <td>4.0</td>\n",
       "      <td>8.0</td>\n",
       "      <td>NaN</td>\n",
       "      <td>1.0</td>\n",
       "    </tr>\n",
       "    <tr>\n",
       "      <th>6165</th>\n",
       "      <td>Winnipeg Jets</td>\n",
       "      <td>2011-02</td>\n",
       "      <td>7.0</td>\n",
       "      <td>5.0</td>\n",
       "      <td>NaN</td>\n",
       "      <td>2.0</td>\n",
       "    </tr>\n",
       "    <tr>\n",
       "      <th>6166</th>\n",
       "      <td>Winnipeg Jets</td>\n",
       "      <td>2011-03</td>\n",
       "      <td>6.0</td>\n",
       "      <td>7.0</td>\n",
       "      <td>NaN</td>\n",
       "      <td>1.0</td>\n",
       "    </tr>\n",
       "    <tr>\n",
       "      <th>6167</th>\n",
       "      <td>Winnipeg Jets</td>\n",
       "      <td>2011-04</td>\n",
       "      <td>1.0</td>\n",
       "      <td>1.0</td>\n",
       "      <td>NaN</td>\n",
       "      <td>1.0</td>\n",
       "    </tr>\n",
       "  </tbody>\n",
       "</table>\n",
       "<p>6168 rows × 6 columns</p>\n",
       "</div>"
      ]
     },
     "execution_count": 415,
     "metadata": {},
     "output_type": "execute_result"
    }
   ],
   "execution_count": 415
  },
  {
   "metadata": {
    "ExecuteTime": {
     "end_time": "2025-03-23T13:04:04.678443Z",
     "start_time": "2025-03-23T13:04:04.667152Z"
    }
   },
   "cell_type": "code",
   "source": "team_splits.set_index(\"month\", inplace=True)",
   "id": "ff43c0a863f4a081",
   "outputs": [],
   "execution_count": 416
  },
  {
   "metadata": {
    "ExecuteTime": {
     "end_time": "2025-03-23T13:04:04.943964Z",
     "start_time": "2025-03-23T13:04:04.912352Z"
    }
   },
   "cell_type": "code",
   "source": "team_splits",
   "id": "1d32e8985cc9f58a",
   "outputs": [
    {
     "data": {
      "text/plain": [
       "                  name     W    L    T   OL\n",
       "month                                      \n",
       "1981-09  Boston Bruins   NaN  NaN  NaN  NaN\n",
       "1981-10  Boston Bruins   6.0  2.0  3.0  NaN\n",
       "1981-11  Boston Bruins   7.0  5.0  1.0  NaN\n",
       "1981-12  Boston Bruins   9.0  3.0  0.0  NaN\n",
       "1981-01  Boston Bruins   7.0  6.0  3.0  NaN\n",
       "...                ...   ...  ...  ...  ...\n",
       "2011-12  Winnipeg Jets  10.0  3.0  NaN  1.0\n",
       "2011-01  Winnipeg Jets   4.0  8.0  NaN  1.0\n",
       "2011-02  Winnipeg Jets   7.0  5.0  NaN  2.0\n",
       "2011-03  Winnipeg Jets   6.0  7.0  NaN  1.0\n",
       "2011-04  Winnipeg Jets   1.0  1.0  NaN  1.0\n",
       "\n",
       "[6168 rows x 5 columns]"
      ],
      "text/html": [
       "<div>\n",
       "<style scoped>\n",
       "    .dataframe tbody tr th:only-of-type {\n",
       "        vertical-align: middle;\n",
       "    }\n",
       "\n",
       "    .dataframe tbody tr th {\n",
       "        vertical-align: top;\n",
       "    }\n",
       "\n",
       "    .dataframe thead th {\n",
       "        text-align: right;\n",
       "    }\n",
       "</style>\n",
       "<table border=\"1\" class=\"dataframe\">\n",
       "  <thead>\n",
       "    <tr style=\"text-align: right;\">\n",
       "      <th></th>\n",
       "      <th>name</th>\n",
       "      <th>W</th>\n",
       "      <th>L</th>\n",
       "      <th>T</th>\n",
       "      <th>OL</th>\n",
       "    </tr>\n",
       "    <tr>\n",
       "      <th>month</th>\n",
       "      <th></th>\n",
       "      <th></th>\n",
       "      <th></th>\n",
       "      <th></th>\n",
       "      <th></th>\n",
       "    </tr>\n",
       "  </thead>\n",
       "  <tbody>\n",
       "    <tr>\n",
       "      <th>1981-09</th>\n",
       "      <td>Boston Bruins</td>\n",
       "      <td>NaN</td>\n",
       "      <td>NaN</td>\n",
       "      <td>NaN</td>\n",
       "      <td>NaN</td>\n",
       "    </tr>\n",
       "    <tr>\n",
       "      <th>1981-10</th>\n",
       "      <td>Boston Bruins</td>\n",
       "      <td>6.0</td>\n",
       "      <td>2.0</td>\n",
       "      <td>3.0</td>\n",
       "      <td>NaN</td>\n",
       "    </tr>\n",
       "    <tr>\n",
       "      <th>1981-11</th>\n",
       "      <td>Boston Bruins</td>\n",
       "      <td>7.0</td>\n",
       "      <td>5.0</td>\n",
       "      <td>1.0</td>\n",
       "      <td>NaN</td>\n",
       "    </tr>\n",
       "    <tr>\n",
       "      <th>1981-12</th>\n",
       "      <td>Boston Bruins</td>\n",
       "      <td>9.0</td>\n",
       "      <td>3.0</td>\n",
       "      <td>0.0</td>\n",
       "      <td>NaN</td>\n",
       "    </tr>\n",
       "    <tr>\n",
       "      <th>1981-01</th>\n",
       "      <td>Boston Bruins</td>\n",
       "      <td>7.0</td>\n",
       "      <td>6.0</td>\n",
       "      <td>3.0</td>\n",
       "      <td>NaN</td>\n",
       "    </tr>\n",
       "    <tr>\n",
       "      <th>...</th>\n",
       "      <td>...</td>\n",
       "      <td>...</td>\n",
       "      <td>...</td>\n",
       "      <td>...</td>\n",
       "      <td>...</td>\n",
       "    </tr>\n",
       "    <tr>\n",
       "      <th>2011-12</th>\n",
       "      <td>Winnipeg Jets</td>\n",
       "      <td>10.0</td>\n",
       "      <td>3.0</td>\n",
       "      <td>NaN</td>\n",
       "      <td>1.0</td>\n",
       "    </tr>\n",
       "    <tr>\n",
       "      <th>2011-01</th>\n",
       "      <td>Winnipeg Jets</td>\n",
       "      <td>4.0</td>\n",
       "      <td>8.0</td>\n",
       "      <td>NaN</td>\n",
       "      <td>1.0</td>\n",
       "    </tr>\n",
       "    <tr>\n",
       "      <th>2011-02</th>\n",
       "      <td>Winnipeg Jets</td>\n",
       "      <td>7.0</td>\n",
       "      <td>5.0</td>\n",
       "      <td>NaN</td>\n",
       "      <td>2.0</td>\n",
       "    </tr>\n",
       "    <tr>\n",
       "      <th>2011-03</th>\n",
       "      <td>Winnipeg Jets</td>\n",
       "      <td>6.0</td>\n",
       "      <td>7.0</td>\n",
       "      <td>NaN</td>\n",
       "      <td>1.0</td>\n",
       "    </tr>\n",
       "    <tr>\n",
       "      <th>2011-04</th>\n",
       "      <td>Winnipeg Jets</td>\n",
       "      <td>1.0</td>\n",
       "      <td>1.0</td>\n",
       "      <td>NaN</td>\n",
       "      <td>1.0</td>\n",
       "    </tr>\n",
       "  </tbody>\n",
       "</table>\n",
       "<p>6168 rows × 5 columns</p>\n",
       "</div>"
      ]
     },
     "execution_count": 417,
     "metadata": {},
     "output_type": "execute_result"
    }
   ],
   "execution_count": 417
  },
  {
   "metadata": {
    "ExecuteTime": {
     "end_time": "2025-03-23T13:04:05.327750Z",
     "start_time": "2025-03-23T13:04:05.095591Z"
    }
   },
   "cell_type": "code",
   "source": "team_splits.groupby(\"name\").resample(\"QE\").sum()",
   "id": "b22f3198cffd2c1c",
   "outputs": [
    {
     "name": "stderr",
     "output_type": "stream",
     "text": [
      "/tmp/ipykernel_12893/1670370862.py:1: FutureWarning: Resampling with a PeriodIndex is deprecated. Cast index to DatetimeIndex before resampling instead.\n",
      "  team_splits.groupby(\"name\").resample(\"QE\").sum()\n",
      "/tmp/ipykernel_12893/1670370862.py:1: FutureWarning: Resampling a groupby with a PeriodIndex is deprecated. Cast to DatetimeIndex before resampling instead.\n",
      "  team_splits.groupby(\"name\").resample(\"QE\").sum()\n"
     ]
    },
    {
     "data": {
      "text/plain": [
       "                                                         name     W     L  \\\n",
       "name          month                                                         \n",
       "Anaheim Ducks 2006Q1  Anaheim DucksAnaheim DucksAnaheim Ducks  19.0  13.0   \n",
       "              2006Q2                            Anaheim Ducks   1.0   0.0   \n",
       "              2006Q3                            Anaheim Ducks   0.0   0.0   \n",
       "              2006Q4  Anaheim DucksAnaheim DucksAnaheim Ducks  28.0   7.0   \n",
       "              2007Q1  Anaheim DucksAnaheim DucksAnaheim Ducks  26.0  10.0   \n",
       "...                                                       ...   ...   ...   \n",
       "Winnipeg Jets 2010Q4                                        0   0.0   0.0   \n",
       "              2011Q1  Winnipeg JetsWinnipeg JetsWinnipeg Jets  17.0  20.0   \n",
       "              2011Q2                            Winnipeg Jets   1.0   1.0   \n",
       "              2011Q3                            Winnipeg Jets   0.0   0.0   \n",
       "              2011Q4  Winnipeg JetsWinnipeg JetsWinnipeg Jets  19.0  14.0   \n",
       "\n",
       "                        T   OL  \n",
       "name          month             \n",
       "Anaheim Ducks 2006Q1  0.0  6.0  \n",
       "              2006Q2  0.0  2.0  \n",
       "              2006Q3  0.0  0.0  \n",
       "              2006Q4  0.0  6.0  \n",
       "              2007Q1  0.0  3.0  \n",
       "...                   ...  ...  \n",
       "Winnipeg Jets 2010Q4  0.0  0.0  \n",
       "              2011Q1  0.0  4.0  \n",
       "              2011Q2  0.0  1.0  \n",
       "              2011Q3  0.0  0.0  \n",
       "              2011Q4  0.0  5.0  \n",
       "\n",
       "[3264 rows x 5 columns]"
      ],
      "text/html": [
       "<div>\n",
       "<style scoped>\n",
       "    .dataframe tbody tr th:only-of-type {\n",
       "        vertical-align: middle;\n",
       "    }\n",
       "\n",
       "    .dataframe tbody tr th {\n",
       "        vertical-align: top;\n",
       "    }\n",
       "\n",
       "    .dataframe thead th {\n",
       "        text-align: right;\n",
       "    }\n",
       "</style>\n",
       "<table border=\"1\" class=\"dataframe\">\n",
       "  <thead>\n",
       "    <tr style=\"text-align: right;\">\n",
       "      <th></th>\n",
       "      <th></th>\n",
       "      <th>name</th>\n",
       "      <th>W</th>\n",
       "      <th>L</th>\n",
       "      <th>T</th>\n",
       "      <th>OL</th>\n",
       "    </tr>\n",
       "    <tr>\n",
       "      <th>name</th>\n",
       "      <th>month</th>\n",
       "      <th></th>\n",
       "      <th></th>\n",
       "      <th></th>\n",
       "      <th></th>\n",
       "      <th></th>\n",
       "    </tr>\n",
       "  </thead>\n",
       "  <tbody>\n",
       "    <tr>\n",
       "      <th rowspan=\"5\" valign=\"top\">Anaheim Ducks</th>\n",
       "      <th>2006Q1</th>\n",
       "      <td>Anaheim DucksAnaheim DucksAnaheim Ducks</td>\n",
       "      <td>19.0</td>\n",
       "      <td>13.0</td>\n",
       "      <td>0.0</td>\n",
       "      <td>6.0</td>\n",
       "    </tr>\n",
       "    <tr>\n",
       "      <th>2006Q2</th>\n",
       "      <td>Anaheim Ducks</td>\n",
       "      <td>1.0</td>\n",
       "      <td>0.0</td>\n",
       "      <td>0.0</td>\n",
       "      <td>2.0</td>\n",
       "    </tr>\n",
       "    <tr>\n",
       "      <th>2006Q3</th>\n",
       "      <td>Anaheim Ducks</td>\n",
       "      <td>0.0</td>\n",
       "      <td>0.0</td>\n",
       "      <td>0.0</td>\n",
       "      <td>0.0</td>\n",
       "    </tr>\n",
       "    <tr>\n",
       "      <th>2006Q4</th>\n",
       "      <td>Anaheim DucksAnaheim DucksAnaheim Ducks</td>\n",
       "      <td>28.0</td>\n",
       "      <td>7.0</td>\n",
       "      <td>0.0</td>\n",
       "      <td>6.0</td>\n",
       "    </tr>\n",
       "    <tr>\n",
       "      <th>2007Q1</th>\n",
       "      <td>Anaheim DucksAnaheim DucksAnaheim Ducks</td>\n",
       "      <td>26.0</td>\n",
       "      <td>10.0</td>\n",
       "      <td>0.0</td>\n",
       "      <td>3.0</td>\n",
       "    </tr>\n",
       "    <tr>\n",
       "      <th>...</th>\n",
       "      <th>...</th>\n",
       "      <td>...</td>\n",
       "      <td>...</td>\n",
       "      <td>...</td>\n",
       "      <td>...</td>\n",
       "      <td>...</td>\n",
       "    </tr>\n",
       "    <tr>\n",
       "      <th rowspan=\"5\" valign=\"top\">Winnipeg Jets</th>\n",
       "      <th>2010Q4</th>\n",
       "      <td>0</td>\n",
       "      <td>0.0</td>\n",
       "      <td>0.0</td>\n",
       "      <td>0.0</td>\n",
       "      <td>0.0</td>\n",
       "    </tr>\n",
       "    <tr>\n",
       "      <th>2011Q1</th>\n",
       "      <td>Winnipeg JetsWinnipeg JetsWinnipeg Jets</td>\n",
       "      <td>17.0</td>\n",
       "      <td>20.0</td>\n",
       "      <td>0.0</td>\n",
       "      <td>4.0</td>\n",
       "    </tr>\n",
       "    <tr>\n",
       "      <th>2011Q2</th>\n",
       "      <td>Winnipeg Jets</td>\n",
       "      <td>1.0</td>\n",
       "      <td>1.0</td>\n",
       "      <td>0.0</td>\n",
       "      <td>1.0</td>\n",
       "    </tr>\n",
       "    <tr>\n",
       "      <th>2011Q3</th>\n",
       "      <td>Winnipeg Jets</td>\n",
       "      <td>0.0</td>\n",
       "      <td>0.0</td>\n",
       "      <td>0.0</td>\n",
       "      <td>0.0</td>\n",
       "    </tr>\n",
       "    <tr>\n",
       "      <th>2011Q4</th>\n",
       "      <td>Winnipeg JetsWinnipeg JetsWinnipeg Jets</td>\n",
       "      <td>19.0</td>\n",
       "      <td>14.0</td>\n",
       "      <td>0.0</td>\n",
       "      <td>5.0</td>\n",
       "    </tr>\n",
       "  </tbody>\n",
       "</table>\n",
       "<p>3264 rows × 5 columns</p>\n",
       "</div>"
      ]
     },
     "execution_count": 418,
     "metadata": {},
     "output_type": "execute_result"
    }
   ],
   "execution_count": 418
  },
  {
   "metadata": {
    "ExecuteTime": {
     "end_time": "2025-03-23T13:04:05.593712Z",
     "start_time": "2025-03-23T13:04:05.584924Z"
    }
   },
   "cell_type": "code",
   "source": "team_splits.index = team_splits.index.to_timestamp()",
   "id": "faa0e9017cb626dc",
   "outputs": [],
   "execution_count": 419
  },
  {
   "metadata": {
    "ExecuteTime": {
     "end_time": "2025-03-23T13:04:05.892047Z",
     "start_time": "2025-03-23T13:04:05.856907Z"
    }
   },
   "cell_type": "code",
   "source": "team_splits",
   "id": "9d277cd7c10049eb",
   "outputs": [
    {
     "data": {
      "text/plain": [
       "                     name     W    L    T   OL\n",
       "month                                         \n",
       "1981-09-01  Boston Bruins   NaN  NaN  NaN  NaN\n",
       "1981-10-01  Boston Bruins   6.0  2.0  3.0  NaN\n",
       "1981-11-01  Boston Bruins   7.0  5.0  1.0  NaN\n",
       "1981-12-01  Boston Bruins   9.0  3.0  0.0  NaN\n",
       "1981-01-01  Boston Bruins   7.0  6.0  3.0  NaN\n",
       "...                   ...   ...  ...  ...  ...\n",
       "2011-12-01  Winnipeg Jets  10.0  3.0  NaN  1.0\n",
       "2011-01-01  Winnipeg Jets   4.0  8.0  NaN  1.0\n",
       "2011-02-01  Winnipeg Jets   7.0  5.0  NaN  2.0\n",
       "2011-03-01  Winnipeg Jets   6.0  7.0  NaN  1.0\n",
       "2011-04-01  Winnipeg Jets   1.0  1.0  NaN  1.0\n",
       "\n",
       "[6168 rows x 5 columns]"
      ],
      "text/html": [
       "<div>\n",
       "<style scoped>\n",
       "    .dataframe tbody tr th:only-of-type {\n",
       "        vertical-align: middle;\n",
       "    }\n",
       "\n",
       "    .dataframe tbody tr th {\n",
       "        vertical-align: top;\n",
       "    }\n",
       "\n",
       "    .dataframe thead th {\n",
       "        text-align: right;\n",
       "    }\n",
       "</style>\n",
       "<table border=\"1\" class=\"dataframe\">\n",
       "  <thead>\n",
       "    <tr style=\"text-align: right;\">\n",
       "      <th></th>\n",
       "      <th>name</th>\n",
       "      <th>W</th>\n",
       "      <th>L</th>\n",
       "      <th>T</th>\n",
       "      <th>OL</th>\n",
       "    </tr>\n",
       "    <tr>\n",
       "      <th>month</th>\n",
       "      <th></th>\n",
       "      <th></th>\n",
       "      <th></th>\n",
       "      <th></th>\n",
       "      <th></th>\n",
       "    </tr>\n",
       "  </thead>\n",
       "  <tbody>\n",
       "    <tr>\n",
       "      <th>1981-09-01</th>\n",
       "      <td>Boston Bruins</td>\n",
       "      <td>NaN</td>\n",
       "      <td>NaN</td>\n",
       "      <td>NaN</td>\n",
       "      <td>NaN</td>\n",
       "    </tr>\n",
       "    <tr>\n",
       "      <th>1981-10-01</th>\n",
       "      <td>Boston Bruins</td>\n",
       "      <td>6.0</td>\n",
       "      <td>2.0</td>\n",
       "      <td>3.0</td>\n",
       "      <td>NaN</td>\n",
       "    </tr>\n",
       "    <tr>\n",
       "      <th>1981-11-01</th>\n",
       "      <td>Boston Bruins</td>\n",
       "      <td>7.0</td>\n",
       "      <td>5.0</td>\n",
       "      <td>1.0</td>\n",
       "      <td>NaN</td>\n",
       "    </tr>\n",
       "    <tr>\n",
       "      <th>1981-12-01</th>\n",
       "      <td>Boston Bruins</td>\n",
       "      <td>9.0</td>\n",
       "      <td>3.0</td>\n",
       "      <td>0.0</td>\n",
       "      <td>NaN</td>\n",
       "    </tr>\n",
       "    <tr>\n",
       "      <th>1981-01-01</th>\n",
       "      <td>Boston Bruins</td>\n",
       "      <td>7.0</td>\n",
       "      <td>6.0</td>\n",
       "      <td>3.0</td>\n",
       "      <td>NaN</td>\n",
       "    </tr>\n",
       "    <tr>\n",
       "      <th>...</th>\n",
       "      <td>...</td>\n",
       "      <td>...</td>\n",
       "      <td>...</td>\n",
       "      <td>...</td>\n",
       "      <td>...</td>\n",
       "    </tr>\n",
       "    <tr>\n",
       "      <th>2011-12-01</th>\n",
       "      <td>Winnipeg Jets</td>\n",
       "      <td>10.0</td>\n",
       "      <td>3.0</td>\n",
       "      <td>NaN</td>\n",
       "      <td>1.0</td>\n",
       "    </tr>\n",
       "    <tr>\n",
       "      <th>2011-01-01</th>\n",
       "      <td>Winnipeg Jets</td>\n",
       "      <td>4.0</td>\n",
       "      <td>8.0</td>\n",
       "      <td>NaN</td>\n",
       "      <td>1.0</td>\n",
       "    </tr>\n",
       "    <tr>\n",
       "      <th>2011-02-01</th>\n",
       "      <td>Winnipeg Jets</td>\n",
       "      <td>7.0</td>\n",
       "      <td>5.0</td>\n",
       "      <td>NaN</td>\n",
       "      <td>2.0</td>\n",
       "    </tr>\n",
       "    <tr>\n",
       "      <th>2011-03-01</th>\n",
       "      <td>Winnipeg Jets</td>\n",
       "      <td>6.0</td>\n",
       "      <td>7.0</td>\n",
       "      <td>NaN</td>\n",
       "      <td>1.0</td>\n",
       "    </tr>\n",
       "    <tr>\n",
       "      <th>2011-04-01</th>\n",
       "      <td>Winnipeg Jets</td>\n",
       "      <td>1.0</td>\n",
       "      <td>1.0</td>\n",
       "      <td>NaN</td>\n",
       "      <td>1.0</td>\n",
       "    </tr>\n",
       "  </tbody>\n",
       "</table>\n",
       "<p>6168 rows × 5 columns</p>\n",
       "</div>"
      ]
     },
     "execution_count": 420,
     "metadata": {},
     "output_type": "execute_result"
    }
   ],
   "execution_count": 420
  },
  {
   "metadata": {
    "ExecuteTime": {
     "end_time": "2025-03-23T13:04:28.852800Z",
     "start_time": "2025-03-23T13:04:28.467625Z"
    }
   },
   "cell_type": "code",
   "source": "team_splits.groupby(\"name\")[[\"W\", \"L\", \"T\", \"OL\"]].resample(\"QE\").sum()",
   "id": "2d41fd13fc9b12e9",
   "outputs": [
    {
     "data": {
      "text/plain": [
       "                             W     L    T   OL\n",
       "name          month                           \n",
       "Anaheim Ducks 2006-03-31  19.0  13.0  0.0  6.0\n",
       "              2006-06-30   1.0   0.0  0.0  2.0\n",
       "              2006-09-30   0.0   0.0  0.0  0.0\n",
       "              2006-12-31  28.0   7.0  0.0  6.0\n",
       "              2007-03-31  26.0  10.0  0.0  3.0\n",
       "...                        ...   ...  ...  ...\n",
       "Winnipeg Jets 2010-12-31   0.0   0.0  0.0  0.0\n",
       "              2011-03-31  17.0  20.0  0.0  4.0\n",
       "              2011-06-30   1.0   1.0  0.0  1.0\n",
       "              2011-09-30   0.0   0.0  0.0  0.0\n",
       "              2011-12-31  19.0  14.0  0.0  5.0\n",
       "\n",
       "[3264 rows x 4 columns]"
      ],
      "text/html": [
       "<div>\n",
       "<style scoped>\n",
       "    .dataframe tbody tr th:only-of-type {\n",
       "        vertical-align: middle;\n",
       "    }\n",
       "\n",
       "    .dataframe tbody tr th {\n",
       "        vertical-align: top;\n",
       "    }\n",
       "\n",
       "    .dataframe thead th {\n",
       "        text-align: right;\n",
       "    }\n",
       "</style>\n",
       "<table border=\"1\" class=\"dataframe\">\n",
       "  <thead>\n",
       "    <tr style=\"text-align: right;\">\n",
       "      <th></th>\n",
       "      <th></th>\n",
       "      <th>W</th>\n",
       "      <th>L</th>\n",
       "      <th>T</th>\n",
       "      <th>OL</th>\n",
       "    </tr>\n",
       "    <tr>\n",
       "      <th>name</th>\n",
       "      <th>month</th>\n",
       "      <th></th>\n",
       "      <th></th>\n",
       "      <th></th>\n",
       "      <th></th>\n",
       "    </tr>\n",
       "  </thead>\n",
       "  <tbody>\n",
       "    <tr>\n",
       "      <th rowspan=\"5\" valign=\"top\">Anaheim Ducks</th>\n",
       "      <th>2006-03-31</th>\n",
       "      <td>19.0</td>\n",
       "      <td>13.0</td>\n",
       "      <td>0.0</td>\n",
       "      <td>6.0</td>\n",
       "    </tr>\n",
       "    <tr>\n",
       "      <th>2006-06-30</th>\n",
       "      <td>1.0</td>\n",
       "      <td>0.0</td>\n",
       "      <td>0.0</td>\n",
       "      <td>2.0</td>\n",
       "    </tr>\n",
       "    <tr>\n",
       "      <th>2006-09-30</th>\n",
       "      <td>0.0</td>\n",
       "      <td>0.0</td>\n",
       "      <td>0.0</td>\n",
       "      <td>0.0</td>\n",
       "    </tr>\n",
       "    <tr>\n",
       "      <th>2006-12-31</th>\n",
       "      <td>28.0</td>\n",
       "      <td>7.0</td>\n",
       "      <td>0.0</td>\n",
       "      <td>6.0</td>\n",
       "    </tr>\n",
       "    <tr>\n",
       "      <th>2007-03-31</th>\n",
       "      <td>26.0</td>\n",
       "      <td>10.0</td>\n",
       "      <td>0.0</td>\n",
       "      <td>3.0</td>\n",
       "    </tr>\n",
       "    <tr>\n",
       "      <th>...</th>\n",
       "      <th>...</th>\n",
       "      <td>...</td>\n",
       "      <td>...</td>\n",
       "      <td>...</td>\n",
       "      <td>...</td>\n",
       "    </tr>\n",
       "    <tr>\n",
       "      <th rowspan=\"5\" valign=\"top\">Winnipeg Jets</th>\n",
       "      <th>2010-12-31</th>\n",
       "      <td>0.0</td>\n",
       "      <td>0.0</td>\n",
       "      <td>0.0</td>\n",
       "      <td>0.0</td>\n",
       "    </tr>\n",
       "    <tr>\n",
       "      <th>2011-03-31</th>\n",
       "      <td>17.0</td>\n",
       "      <td>20.0</td>\n",
       "      <td>0.0</td>\n",
       "      <td>4.0</td>\n",
       "    </tr>\n",
       "    <tr>\n",
       "      <th>2011-06-30</th>\n",
       "      <td>1.0</td>\n",
       "      <td>1.0</td>\n",
       "      <td>0.0</td>\n",
       "      <td>1.0</td>\n",
       "    </tr>\n",
       "    <tr>\n",
       "      <th>2011-09-30</th>\n",
       "      <td>0.0</td>\n",
       "      <td>0.0</td>\n",
       "      <td>0.0</td>\n",
       "      <td>0.0</td>\n",
       "    </tr>\n",
       "    <tr>\n",
       "      <th>2011-12-31</th>\n",
       "      <td>19.0</td>\n",
       "      <td>14.0</td>\n",
       "      <td>0.0</td>\n",
       "      <td>5.0</td>\n",
       "    </tr>\n",
       "  </tbody>\n",
       "</table>\n",
       "<p>3264 rows × 4 columns</p>\n",
       "</div>"
      ]
     },
     "execution_count": 423,
     "metadata": {},
     "output_type": "execute_result"
    }
   ],
   "execution_count": 423
  },
  {
   "metadata": {
    "ExecuteTime": {
     "end_time": "2025-03-23T13:04:37.572583Z",
     "start_time": "2025-03-23T13:04:37.193619Z"
    }
   },
   "cell_type": "code",
   "source": "team_splits.groupby(\"name\")[[\"W\", \"L\", \"T\", \"OL\"]].resample(\"QE\").mean()",
   "id": "ad8219a0eac0e7c",
   "outputs": [
    {
     "data": {
      "text/plain": [
       "                                 W         L   T        OL\n",
       "name          month                                       \n",
       "Anaheim Ducks 2006-03-31  6.333333  4.333333 NaN  2.000000\n",
       "              2006-06-30  1.000000  0.000000 NaN  2.000000\n",
       "              2006-09-30       NaN       NaN NaN       NaN\n",
       "              2006-12-31  9.333333  2.333333 NaN  2.000000\n",
       "              2007-03-31  8.666667  3.333333 NaN  1.000000\n",
       "...                            ...       ...  ..       ...\n",
       "Winnipeg Jets 2010-12-31       NaN       NaN NaN       NaN\n",
       "              2011-03-31  5.666667  6.666667 NaN  1.333333\n",
       "              2011-06-30  1.000000  1.000000 NaN  1.000000\n",
       "              2011-09-30       NaN       NaN NaN       NaN\n",
       "              2011-12-31  6.333333  4.666667 NaN  1.666667\n",
       "\n",
       "[3264 rows x 4 columns]"
      ],
      "text/html": [
       "<div>\n",
       "<style scoped>\n",
       "    .dataframe tbody tr th:only-of-type {\n",
       "        vertical-align: middle;\n",
       "    }\n",
       "\n",
       "    .dataframe tbody tr th {\n",
       "        vertical-align: top;\n",
       "    }\n",
       "\n",
       "    .dataframe thead th {\n",
       "        text-align: right;\n",
       "    }\n",
       "</style>\n",
       "<table border=\"1\" class=\"dataframe\">\n",
       "  <thead>\n",
       "    <tr style=\"text-align: right;\">\n",
       "      <th></th>\n",
       "      <th></th>\n",
       "      <th>W</th>\n",
       "      <th>L</th>\n",
       "      <th>T</th>\n",
       "      <th>OL</th>\n",
       "    </tr>\n",
       "    <tr>\n",
       "      <th>name</th>\n",
       "      <th>month</th>\n",
       "      <th></th>\n",
       "      <th></th>\n",
       "      <th></th>\n",
       "      <th></th>\n",
       "    </tr>\n",
       "  </thead>\n",
       "  <tbody>\n",
       "    <tr>\n",
       "      <th rowspan=\"5\" valign=\"top\">Anaheim Ducks</th>\n",
       "      <th>2006-03-31</th>\n",
       "      <td>6.333333</td>\n",
       "      <td>4.333333</td>\n",
       "      <td>NaN</td>\n",
       "      <td>2.000000</td>\n",
       "    </tr>\n",
       "    <tr>\n",
       "      <th>2006-06-30</th>\n",
       "      <td>1.000000</td>\n",
       "      <td>0.000000</td>\n",
       "      <td>NaN</td>\n",
       "      <td>2.000000</td>\n",
       "    </tr>\n",
       "    <tr>\n",
       "      <th>2006-09-30</th>\n",
       "      <td>NaN</td>\n",
       "      <td>NaN</td>\n",
       "      <td>NaN</td>\n",
       "      <td>NaN</td>\n",
       "    </tr>\n",
       "    <tr>\n",
       "      <th>2006-12-31</th>\n",
       "      <td>9.333333</td>\n",
       "      <td>2.333333</td>\n",
       "      <td>NaN</td>\n",
       "      <td>2.000000</td>\n",
       "    </tr>\n",
       "    <tr>\n",
       "      <th>2007-03-31</th>\n",
       "      <td>8.666667</td>\n",
       "      <td>3.333333</td>\n",
       "      <td>NaN</td>\n",
       "      <td>1.000000</td>\n",
       "    </tr>\n",
       "    <tr>\n",
       "      <th>...</th>\n",
       "      <th>...</th>\n",
       "      <td>...</td>\n",
       "      <td>...</td>\n",
       "      <td>...</td>\n",
       "      <td>...</td>\n",
       "    </tr>\n",
       "    <tr>\n",
       "      <th rowspan=\"5\" valign=\"top\">Winnipeg Jets</th>\n",
       "      <th>2010-12-31</th>\n",
       "      <td>NaN</td>\n",
       "      <td>NaN</td>\n",
       "      <td>NaN</td>\n",
       "      <td>NaN</td>\n",
       "    </tr>\n",
       "    <tr>\n",
       "      <th>2011-03-31</th>\n",
       "      <td>5.666667</td>\n",
       "      <td>6.666667</td>\n",
       "      <td>NaN</td>\n",
       "      <td>1.333333</td>\n",
       "    </tr>\n",
       "    <tr>\n",
       "      <th>2011-06-30</th>\n",
       "      <td>1.000000</td>\n",
       "      <td>1.000000</td>\n",
       "      <td>NaN</td>\n",
       "      <td>1.000000</td>\n",
       "    </tr>\n",
       "    <tr>\n",
       "      <th>2011-09-30</th>\n",
       "      <td>NaN</td>\n",
       "      <td>NaN</td>\n",
       "      <td>NaN</td>\n",
       "      <td>NaN</td>\n",
       "    </tr>\n",
       "    <tr>\n",
       "      <th>2011-12-31</th>\n",
       "      <td>6.333333</td>\n",
       "      <td>4.666667</td>\n",
       "      <td>NaN</td>\n",
       "      <td>1.666667</td>\n",
       "    </tr>\n",
       "  </tbody>\n",
       "</table>\n",
       "<p>3264 rows × 4 columns</p>\n",
       "</div>"
      ]
     },
     "execution_count": 424,
     "metadata": {},
     "output_type": "execute_result"
    }
   ],
   "execution_count": 424
  },
  {
   "metadata": {
    "ExecuteTime": {
     "end_time": "2025-03-23T13:07:19.947356Z",
     "start_time": "2025-03-23T13:07:19.932332Z"
    }
   },
   "cell_type": "code",
   "source": "team_splits.to_pickle('../data/interim/team_splits_date_index.pkl')",
   "id": "965e273967d6f5a8",
   "outputs": [],
   "execution_count": 425
  },
  {
   "metadata": {
    "ExecuteTime": {
     "end_time": "2025-03-23T13:07:44.521525Z",
     "start_time": "2025-03-23T13:07:44.509909Z"
    }
   },
   "cell_type": "code",
   "source": "birth_dates.to_pickle('../data/interim/birth_dates.pkl')",
   "id": "8b624ea54bc748b6",
   "outputs": [],
   "execution_count": 426
  },
  {
   "metadata": {},
   "cell_type": "code",
   "outputs": [],
   "execution_count": null,
   "source": "",
   "id": "d17f81ba5aa8e918"
  }
 ],
 "metadata": {
  "kernelspec": {
   "display_name": "Python 3",
   "language": "python",
   "name": "python3"
  },
  "language_info": {
   "codemirror_mode": {
    "name": "ipython",
    "version": 2
   },
   "file_extension": ".py",
   "mimetype": "text/x-python",
   "name": "python",
   "nbconvert_exporter": "python",
   "pygments_lexer": "ipython2",
   "version": "2.7.6"
  }
 },
 "nbformat": 4,
 "nbformat_minor": 5
}
