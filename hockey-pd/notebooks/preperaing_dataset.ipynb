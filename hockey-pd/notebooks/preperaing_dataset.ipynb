{
 "cells": [
  {
   "metadata": {
    "ExecuteTime": {
     "end_time": "2025-03-22T11:36:17.783696Z",
     "start_time": "2025-03-22T11:36:17.776099Z"
    }
   },
   "cell_type": "code",
   "source": [
    "import pandas as pd\n",
    "import os\n",
    "from helpers.memory import memory_mib"
   ],
   "id": "b8eb0e3757ce85f0",
   "outputs": [],
   "execution_count": 198
  },
  {
   "metadata": {
    "ExecuteTime": {
     "end_time": "2025-03-22T11:36:17.860037Z",
     "start_time": "2025-03-22T11:36:17.852805Z"
    }
   },
   "cell_type": "code",
   "source": "data_path = os.path.join('..', 'data', 'raw')",
   "id": "eaac271da313b0a3",
   "outputs": [],
   "execution_count": 199
  },
  {
   "metadata": {
    "ExecuteTime": {
     "end_time": "2025-03-22T11:36:18.154991Z",
     "start_time": "2025-03-22T11:36:18.037368Z"
    }
   },
   "cell_type": "code",
   "source": "master = pd.read_csv(os.path.join(data_path, 'Master.csv'))",
   "id": "13803e4ffd93c93f",
   "outputs": [],
   "execution_count": 200
  },
  {
   "metadata": {
    "ExecuteTime": {
     "end_time": "2025-03-22T11:36:18.204014Z",
     "start_time": "2025-03-22T11:36:18.167951Z"
    }
   },
   "cell_type": "code",
   "source": "master.info()\n",
   "id": "9bf7cad2c27d7c4",
   "outputs": [
    {
     "name": "stdout",
     "output_type": "stream",
     "text": [
      "<class 'pandas.core.frame.DataFrame'>\n",
      "RangeIndex: 7761 entries, 0 to 7760\n",
      "Data columns (total 31 columns):\n",
      " #   Column        Non-Null Count  Dtype  \n",
      "---  ------        --------------  -----  \n",
      " 0   playerID      7520 non-null   object \n",
      " 1   coachID       395 non-null    object \n",
      " 2   hofID         366 non-null    object \n",
      " 3   firstName     7748 non-null   object \n",
      " 4   lastName      7761 non-null   object \n",
      " 5   nameNote      18 non-null     object \n",
      " 6   nameGiven     5985 non-null   object \n",
      " 7   nameNick      1306 non-null   object \n",
      " 8   height        7334 non-null   float64\n",
      " 9   weight        7336 non-null   float64\n",
      " 10  shootCatch    7048 non-null   object \n",
      " 11  legendsID     6577 non-null   object \n",
      " 12  ihdbID        7125 non-null   float64\n",
      " 13  hrefID        7457 non-null   object \n",
      " 14  firstNHL      6851 non-null   float64\n",
      " 15  lastNHL       6851 non-null   float64\n",
      " 16  firstWHA      903 non-null    float64\n",
      " 17  lastWHA       903 non-null    float64\n",
      " 18  pos           7447 non-null   object \n",
      " 19  birthYear     7543 non-null   float64\n",
      " 20  birthMon      7506 non-null   float64\n",
      " 21  birthDay      7504 non-null   float64\n",
      " 22  birthCountry  7396 non-null   object \n",
      " 23  birthState    6324 non-null   object \n",
      " 24  birthCity     7388 non-null   object \n",
      " 25  deathYear     1320 non-null   float64\n",
      " 26  deathMon      1173 non-null   float64\n",
      " 27  deathDay      1168 non-null   float64\n",
      " 28  deathCountry  498 non-null    object \n",
      " 29  deathState    471 non-null    object \n",
      " 30  deathCity     483 non-null    object \n",
      "dtypes: float64(13), object(18)\n",
      "memory usage: 1.8+ MB\n"
     ]
    }
   ],
   "execution_count": 201
  },
  {
   "metadata": {
    "ExecuteTime": {
     "end_time": "2025-03-22T11:36:18.320817Z",
     "start_time": "2025-03-22T11:36:18.301960Z"
    }
   },
   "cell_type": "code",
   "source": [
    "(master['playerID']\n",
    " .pipe(pd.isnull)  # pipy czyli lejki\n",
    " .value_counts(normalize=True))"
   ],
   "id": "de973e97cd3c7e1f",
   "outputs": [
    {
     "data": {
      "text/plain": [
       "playerID\n",
       "False    0.968947\n",
       "True     0.031053\n",
       "Name: proportion, dtype: float64"
      ]
     },
     "execution_count": 202,
     "metadata": {},
     "output_type": "execute_result"
    }
   ],
   "execution_count": 202
  },
  {
   "metadata": {
    "ExecuteTime": {
     "end_time": "2025-03-22T11:36:18.498714Z",
     "start_time": "2025-03-22T11:36:18.486771Z"
    }
   },
   "cell_type": "code",
   "source": "master_original = master.copy() # dobrze sobie zrobić kopię",
   "id": "d9ae677388587874",
   "outputs": [],
   "execution_count": 203
  },
  {
   "metadata": {
    "ExecuteTime": {
     "end_time": "2025-03-22T11:36:18.640296Z",
     "start_time": "2025-03-22T11:36:18.619767Z"
    }
   },
   "cell_type": "code",
   "source": [
    " # usuwamy wiersze z brakującymi danymi\n",
    "master.dropna(subset=['playerID'], inplace=True)"
   ],
   "id": "c28fc2e95a3217ce",
   "outputs": [],
   "execution_count": 204
  },
  {
   "metadata": {
    "ExecuteTime": {
     "end_time": "2025-03-22T11:36:18.744315Z",
     "start_time": "2025-03-22T11:36:18.730421Z"
    }
   },
   "cell_type": "code",
   "source": "master.shape",
   "id": "565f357e86421e39",
   "outputs": [
    {
     "data": {
      "text/plain": [
       "(7520, 31)"
      ]
     },
     "execution_count": 205,
     "metadata": {},
     "output_type": "execute_result"
    }
   ],
   "execution_count": 205
  },
  {
   "metadata": {
    "ExecuteTime": {
     "end_time": "2025-03-22T11:36:18.894587Z",
     "start_time": "2025-03-22T11:36:18.877819Z"
    }
   },
   "cell_type": "code",
   "source": [
    "# pipe to jest metoda, która pozwala na łańcuchowe wywoływanie funkcji\n",
    "# można sobie fajnie, policzyć ile jest brakujących danych\n",
    "(master['playerID']\n",
    " .pipe(pd.isnull)  # pipy czyli lejki\n",
    " .value_counts())\n"
   ],
   "id": "71391ae6394e0095",
   "outputs": [
    {
     "data": {
      "text/plain": [
       "playerID\n",
       "False    7520\n",
       "Name: count, dtype: int64"
      ]
     },
     "execution_count": 206,
     "metadata": {},
     "output_type": "execute_result"
    }
   ],
   "execution_count": 206
  },
  {
   "metadata": {
    "ExecuteTime": {
     "end_time": "2025-03-22T11:36:19.152652Z",
     "start_time": "2025-03-22T11:36:19.124845Z"
    }
   },
   "cell_type": "code",
   "source": [
    "# usuwamy wiersze z brakującymi danymi\n",
    "master.dropna(subset=['firstNHL', 'lastNHL'], how='all', inplace=True)"
   ],
   "id": "bb1af3abd6c9d9cf",
   "outputs": [],
   "execution_count": 207
  },
  {
   "metadata": {
    "ExecuteTime": {
     "end_time": "2025-03-22T11:36:19.231252Z",
     "start_time": "2025-03-22T11:36:19.219190Z"
    }
   },
   "cell_type": "code",
   "source": "master.shape",
   "id": "8bf740f510a291a3",
   "outputs": [
    {
     "data": {
      "text/plain": [
       "(6851, 31)"
      ]
     },
     "execution_count": 208,
     "metadata": {},
     "output_type": "execute_result"
    }
   ],
   "execution_count": 208
  },
  {
   "metadata": {
    "ExecuteTime": {
     "end_time": "2025-03-22T11:36:19.472372Z",
     "start_time": "2025-03-22T11:36:19.397453Z"
    }
   },
   "cell_type": "code",
   "source": [
    "# query alternatywa do filtrowania z .loc\n",
    "master.query(\"lastNHL >= 1980\").head()"
   ],
   "id": "9bfbced6697df944",
   "outputs": [
    {
     "data": {
      "text/plain": [
       "     playerID coachID hofID firstName     lastName nameNote     nameGiven  \\\n",
       "0   aaltoan01     NaN   NaN     Antti        Aalto      NaN         Antti   \n",
       "4   abdelju01     NaN   NaN    Justin   Abdelkader      NaN           NaN   \n",
       "9    abidra01     NaN   NaN     Ramzi         Abid      NaN           NaN   \n",
       "11  abrahth01     NaN   NaN    Thommy  Abrahamsson      NaN    Thommy Ulf   \n",
       "14  actonke01     NaN   NaN     Keith        Acton      NaN  Keith Edward   \n",
       "\n",
       "   nameNick  height  weight  ... birthDay birthCountry  birthState  \\\n",
       "0       NaN    73.0   210.0  ...      4.0      Finland         NaN   \n",
       "4       NaN    73.0   195.0  ...     25.0          USA          MI   \n",
       "9       NaN    74.0   210.0  ...     24.0       Canada          QC   \n",
       "11      NaN    74.0   185.0  ...     12.0       Sweden         NaN   \n",
       "14    Woody    68.0   170.0  ...     15.0       Canada          ON   \n",
       "\n",
       "       birthCity  deathYear  deathMon  deathDay  deathCountry deathState  \\\n",
       "0   Lappeenranta        NaN       NaN       NaN           NaN        NaN   \n",
       "4       Muskegon        NaN       NaN       NaN           NaN        NaN   \n",
       "9       Montreal        NaN       NaN       NaN           NaN        NaN   \n",
       "11       Leksand        NaN       NaN       NaN           NaN        NaN   \n",
       "14   Stouffville        NaN       NaN       NaN           NaN        NaN   \n",
       "\n",
       "    deathCity  \n",
       "0         NaN  \n",
       "4         NaN  \n",
       "9         NaN  \n",
       "11        NaN  \n",
       "14        NaN  \n",
       "\n",
       "[5 rows x 31 columns]"
      ],
      "text/html": [
       "<div>\n",
       "<style scoped>\n",
       "    .dataframe tbody tr th:only-of-type {\n",
       "        vertical-align: middle;\n",
       "    }\n",
       "\n",
       "    .dataframe tbody tr th {\n",
       "        vertical-align: top;\n",
       "    }\n",
       "\n",
       "    .dataframe thead th {\n",
       "        text-align: right;\n",
       "    }\n",
       "</style>\n",
       "<table border=\"1\" class=\"dataframe\">\n",
       "  <thead>\n",
       "    <tr style=\"text-align: right;\">\n",
       "      <th></th>\n",
       "      <th>playerID</th>\n",
       "      <th>coachID</th>\n",
       "      <th>hofID</th>\n",
       "      <th>firstName</th>\n",
       "      <th>lastName</th>\n",
       "      <th>nameNote</th>\n",
       "      <th>nameGiven</th>\n",
       "      <th>nameNick</th>\n",
       "      <th>height</th>\n",
       "      <th>weight</th>\n",
       "      <th>...</th>\n",
       "      <th>birthDay</th>\n",
       "      <th>birthCountry</th>\n",
       "      <th>birthState</th>\n",
       "      <th>birthCity</th>\n",
       "      <th>deathYear</th>\n",
       "      <th>deathMon</th>\n",
       "      <th>deathDay</th>\n",
       "      <th>deathCountry</th>\n",
       "      <th>deathState</th>\n",
       "      <th>deathCity</th>\n",
       "    </tr>\n",
       "  </thead>\n",
       "  <tbody>\n",
       "    <tr>\n",
       "      <th>0</th>\n",
       "      <td>aaltoan01</td>\n",
       "      <td>NaN</td>\n",
       "      <td>NaN</td>\n",
       "      <td>Antti</td>\n",
       "      <td>Aalto</td>\n",
       "      <td>NaN</td>\n",
       "      <td>Antti</td>\n",
       "      <td>NaN</td>\n",
       "      <td>73.0</td>\n",
       "      <td>210.0</td>\n",
       "      <td>...</td>\n",
       "      <td>4.0</td>\n",
       "      <td>Finland</td>\n",
       "      <td>NaN</td>\n",
       "      <td>Lappeenranta</td>\n",
       "      <td>NaN</td>\n",
       "      <td>NaN</td>\n",
       "      <td>NaN</td>\n",
       "      <td>NaN</td>\n",
       "      <td>NaN</td>\n",
       "      <td>NaN</td>\n",
       "    </tr>\n",
       "    <tr>\n",
       "      <th>4</th>\n",
       "      <td>abdelju01</td>\n",
       "      <td>NaN</td>\n",
       "      <td>NaN</td>\n",
       "      <td>Justin</td>\n",
       "      <td>Abdelkader</td>\n",
       "      <td>NaN</td>\n",
       "      <td>NaN</td>\n",
       "      <td>NaN</td>\n",
       "      <td>73.0</td>\n",
       "      <td>195.0</td>\n",
       "      <td>...</td>\n",
       "      <td>25.0</td>\n",
       "      <td>USA</td>\n",
       "      <td>MI</td>\n",
       "      <td>Muskegon</td>\n",
       "      <td>NaN</td>\n",
       "      <td>NaN</td>\n",
       "      <td>NaN</td>\n",
       "      <td>NaN</td>\n",
       "      <td>NaN</td>\n",
       "      <td>NaN</td>\n",
       "    </tr>\n",
       "    <tr>\n",
       "      <th>9</th>\n",
       "      <td>abidra01</td>\n",
       "      <td>NaN</td>\n",
       "      <td>NaN</td>\n",
       "      <td>Ramzi</td>\n",
       "      <td>Abid</td>\n",
       "      <td>NaN</td>\n",
       "      <td>NaN</td>\n",
       "      <td>NaN</td>\n",
       "      <td>74.0</td>\n",
       "      <td>210.0</td>\n",
       "      <td>...</td>\n",
       "      <td>24.0</td>\n",
       "      <td>Canada</td>\n",
       "      <td>QC</td>\n",
       "      <td>Montreal</td>\n",
       "      <td>NaN</td>\n",
       "      <td>NaN</td>\n",
       "      <td>NaN</td>\n",
       "      <td>NaN</td>\n",
       "      <td>NaN</td>\n",
       "      <td>NaN</td>\n",
       "    </tr>\n",
       "    <tr>\n",
       "      <th>11</th>\n",
       "      <td>abrahth01</td>\n",
       "      <td>NaN</td>\n",
       "      <td>NaN</td>\n",
       "      <td>Thommy</td>\n",
       "      <td>Abrahamsson</td>\n",
       "      <td>NaN</td>\n",
       "      <td>Thommy Ulf</td>\n",
       "      <td>NaN</td>\n",
       "      <td>74.0</td>\n",
       "      <td>185.0</td>\n",
       "      <td>...</td>\n",
       "      <td>12.0</td>\n",
       "      <td>Sweden</td>\n",
       "      <td>NaN</td>\n",
       "      <td>Leksand</td>\n",
       "      <td>NaN</td>\n",
       "      <td>NaN</td>\n",
       "      <td>NaN</td>\n",
       "      <td>NaN</td>\n",
       "      <td>NaN</td>\n",
       "      <td>NaN</td>\n",
       "    </tr>\n",
       "    <tr>\n",
       "      <th>14</th>\n",
       "      <td>actonke01</td>\n",
       "      <td>NaN</td>\n",
       "      <td>NaN</td>\n",
       "      <td>Keith</td>\n",
       "      <td>Acton</td>\n",
       "      <td>NaN</td>\n",
       "      <td>Keith Edward</td>\n",
       "      <td>Woody</td>\n",
       "      <td>68.0</td>\n",
       "      <td>170.0</td>\n",
       "      <td>...</td>\n",
       "      <td>15.0</td>\n",
       "      <td>Canada</td>\n",
       "      <td>ON</td>\n",
       "      <td>Stouffville</td>\n",
       "      <td>NaN</td>\n",
       "      <td>NaN</td>\n",
       "      <td>NaN</td>\n",
       "      <td>NaN</td>\n",
       "      <td>NaN</td>\n",
       "      <td>NaN</td>\n",
       "    </tr>\n",
       "  </tbody>\n",
       "</table>\n",
       "<p>5 rows × 31 columns</p>\n",
       "</div>"
      ]
     },
     "execution_count": 209,
     "metadata": {},
     "output_type": "execute_result"
    }
   ],
   "execution_count": 209
  },
  {
   "metadata": {
    "ExecuteTime": {
     "end_time": "2025-03-22T11:36:19.713404Z",
     "start_time": "2025-03-22T11:36:19.700069Z"
    }
   },
   "cell_type": "code",
   "source": [
    "# najczęściej używane filtrowanie\n",
    "master = master.loc[master['lastNHL'] >= 1980]"
   ],
   "id": "f43bc0c22a874430",
   "outputs": [],
   "execution_count": 210
  },
  {
   "metadata": {
    "ExecuteTime": {
     "end_time": "2025-03-23T20:38:59.658350Z",
     "start_time": "2025-03-23T20:38:59.651530Z"
    }
   },
   "cell_type": "code",
   "source": [
    "# współczynnik correlacji Pearsona, Kendala, Spearmana\n",
    "# mierzy liniową zależność między dwiema zmiennymi\n",
    "# -1 korelacja ujemna, 0 brak korelacji, 1 korelacja dodatnia\n",
    "# master.corr()"
   ],
   "id": "4e1ec9186f254f9b",
   "outputs": [],
   "execution_count": 1
  },
  {
   "metadata": {
    "ExecuteTime": {
     "end_time": "2025-03-22T11:36:20.086715Z",
     "start_time": "2025-03-22T11:36:20.079451Z"
    }
   },
   "cell_type": "code",
   "source": [
    "columns_to_keep = [\"playerID\", \"firstName\", \"lastName\",\n",
    "                   \"pos\", \"birthYear\", \"birthMon\", \"birthDay\",\n",
    "                   \"birthCountry\", \"birthState\", \"birthCity\"]"
   ],
   "id": "d95ad621b7ff95d5",
   "outputs": [],
   "execution_count": 212
  },
  {
   "metadata": {
    "ExecuteTime": {
     "end_time": "2025-03-22T11:36:20.185644Z",
     "start_time": "2025-03-22T11:36:20.173053Z"
    }
   },
   "cell_type": "code",
   "source": [
    "# odsiewamy kolumny, które nas interesują\n",
    "master[columns_to_keep].shape"
   ],
   "id": "beac35eeb6e4e405",
   "outputs": [
    {
     "data": {
      "text/plain": [
       "(4627, 10)"
      ]
     },
     "execution_count": 213,
     "metadata": {},
     "output_type": "execute_result"
    }
   ],
   "execution_count": 213
  },
  {
   "metadata": {},
   "cell_type": "markdown",
   "source": "[101Regex](https://regex101.com/)",
   "id": "92f06d8b7c85e1ac"
  },
  {
   "metadata": {
    "ExecuteTime": {
     "end_time": "2025-03-22T11:36:20.290501Z",
     "start_time": "2025-03-22T11:36:20.277444Z"
    }
   },
   "cell_type": "code",
   "source": [
    "# odsiewamy kolumny, z pomocą filter z regex, przydatne do zbiorów z dużą ilością kolumn(może być ich 500+)\n",
    "master.filter(regex='(playerID|pos|^birth)|(Name$)').shape"
   ],
   "id": "f0353dbeaa977d93",
   "outputs": [
    {
     "data": {
      "text/plain": [
       "(4627, 10)"
      ]
     },
     "execution_count": 214,
     "metadata": {},
     "output_type": "execute_result"
    }
   ],
   "execution_count": 214
  },
  {
   "metadata": {
    "ExecuteTime": {
     "end_time": "2025-03-22T11:36:20.510639Z",
     "start_time": "2025-03-22T11:36:20.499787Z"
    }
   },
   "cell_type": "code",
   "source": [
    "# filtrowanie zwraca nowy df z wybranymi kolumnami, więc trzeba przypisać do zmiennej\n",
    "master = master[columns_to_keep]"
   ],
   "id": "b7d2996d207a042b",
   "outputs": [],
   "execution_count": 215
  },
  {
   "metadata": {
    "ExecuteTime": {
     "end_time": "2025-03-22T11:36:20.596374Z",
     "start_time": "2025-03-22T11:36:20.577269Z"
    }
   },
   "cell_type": "code",
   "source": "master.memory_usage()",
   "id": "7c1eaf79bdcee52b",
   "outputs": [
    {
     "data": {
      "text/plain": [
       "Index           37016\n",
       "playerID        37016\n",
       "firstName       37016\n",
       "lastName        37016\n",
       "pos             37016\n",
       "birthYear       37016\n",
       "birthMon        37016\n",
       "birthDay        37016\n",
       "birthCountry    37016\n",
       "birthState      37016\n",
       "birthCity       37016\n",
       "dtype: int64"
      ]
     },
     "execution_count": 216,
     "metadata": {},
     "output_type": "execute_result"
    }
   ],
   "execution_count": 216
  },
  {
   "metadata": {
    "ExecuteTime": {
     "end_time": "2025-03-22T11:36:20.762432Z",
     "start_time": "2025-03-22T11:36:20.750050Z"
    }
   },
   "cell_type": "code",
   "source": "memory_mib(master)",
   "id": "e363c89652ba31b4",
   "outputs": [
    {
     "data": {
      "text/plain": [
       "'0.39 MiB'"
      ]
     },
     "execution_count": 217,
     "metadata": {},
     "output_type": "execute_result"
    }
   ],
   "execution_count": 217
  },
  {
   "metadata": {
    "ExecuteTime": {
     "end_time": "2025-03-22T11:36:20.903818Z",
     "start_time": "2025-03-22T11:36:20.887794Z"
    }
   },
   "cell_type": "code",
   "source": "memory_mib(master_original)",
   "id": "9ecef6da17468e99",
   "outputs": [
    {
     "data": {
      "text/plain": [
       "'1.84 MiB'"
      ]
     },
     "execution_count": 218,
     "metadata": {},
     "output_type": "execute_result"
    }
   ],
   "execution_count": 218
  },
  {
   "metadata": {},
   "cell_type": "markdown",
   "source": "## Dane kategoryczne = przyjmują skończoną liczbę wartości, które nie mają sensu numerycznego",
   "id": "75202d1da52e2e85"
  },
  {
   "metadata": {
    "ExecuteTime": {
     "end_time": "2025-03-22T11:36:21.158280Z",
     "start_time": "2025-03-22T11:36:21.141701Z"
    }
   },
   "cell_type": "code",
   "source": [
    "# przykłąd danych kategorycznych\n",
    "master['pos'].value_counts()"
   ],
   "id": "98f947b576028aff",
   "outputs": [
    {
     "data": {
      "text/plain": [
       "pos\n",
       "D      1418\n",
       "C      1037\n",
       "L       848\n",
       "R       832\n",
       "G       463\n",
       "F        28\n",
       "L/C       1\n",
       "Name: count, dtype: int64"
      ]
     },
     "execution_count": 219,
     "metadata": {},
     "output_type": "execute_result"
    }
   ],
   "execution_count": 219
  },
  {
   "metadata": {
    "ExecuteTime": {
     "end_time": "2025-03-22T11:36:21.445138Z",
     "start_time": "2025-03-22T11:36:21.422884Z"
    }
   },
   "cell_type": "code",
   "source": [
    "# stworzenie kolumny kategorycznej, zmniejsza zużycie pamięci\n",
    "pd.Categorical(master['pos'])"
   ],
   "id": "e123cd7fb47e7b2e",
   "outputs": [
    {
     "data": {
      "text/plain": [
       "['C', 'L', 'L', 'D', 'C', ..., 'R', 'L', 'L', 'C', 'D']\n",
       "Length: 4627\n",
       "Categories (7, object): ['C', 'D', 'F', 'G', 'L', 'L/C', 'R']"
      ]
     },
     "execution_count": 220,
     "metadata": {},
     "output_type": "execute_result"
    }
   ],
   "execution_count": 220
  },
  {
   "metadata": {},
   "cell_type": "markdown",
   "source": [
    "Warning\n",
    "[Copy-on-write](https://pandas.pydata.org/pandas-docs/stable/user_guide/indexing.html#returning-a-view-versus-a-copy)"
   ],
   "id": "4c1ae95aeff9159f"
  },
  {
   "metadata": {
    "ExecuteTime": {
     "end_time": "2025-03-22T11:36:21.601542Z",
     "start_time": "2025-03-22T11:36:21.592071Z"
    }
   },
   "cell_type": "code",
   "source": [
    "# dane numeryczne nie ciągłe\n",
    "# dane kategoryczne nominalne\n",
    "# cztery typy danych\n",
    "# nominalne, porządkowe, interwałowe, ilorazowe\n",
    "\n",
    "master.loc[:, 'pos'] = pd.Categorical(master['pos'])"
   ],
   "id": "afd8f8672ea637e4",
   "outputs": [],
   "execution_count": 221
  },
  {
   "metadata": {
    "ExecuteTime": {
     "end_time": "2025-03-22T11:36:21.753281Z",
     "start_time": "2025-03-22T11:36:21.736919Z"
    }
   },
   "cell_type": "code",
   "source": "master.memory_usage()",
   "id": "db16b2da106c0b0e",
   "outputs": [
    {
     "data": {
      "text/plain": [
       "Index           37016\n",
       "playerID        37016\n",
       "firstName       37016\n",
       "lastName        37016\n",
       "pos             37016\n",
       "birthYear       37016\n",
       "birthMon        37016\n",
       "birthDay        37016\n",
       "birthCountry    37016\n",
       "birthState      37016\n",
       "birthCity       37016\n",
       "dtype: int64"
      ]
     },
     "execution_count": 222,
     "metadata": {},
     "output_type": "execute_result"
    }
   ],
   "execution_count": 222
  },
  {
   "metadata": {
    "ExecuteTime": {
     "end_time": "2025-03-22T11:36:22.220671Z",
     "start_time": "2025-03-22T11:36:22.207947Z"
    }
   },
   "cell_type": "code",
   "source": [
    "# dane kategoryczne oszczędzają pamięć\n",
    "master.loc[:, 'birthCountry'] = pd.Categorical(master['birthCountry'])\n",
    "master.loc[:, 'birthState'] = pd.Categorical(master['birthState'])"
   ],
   "id": "503b66971617cf9",
   "outputs": [],
   "execution_count": 224
  },
  {
   "metadata": {
    "ExecuteTime": {
     "end_time": "2025-03-22T11:36:21.988341Z",
     "start_time": "2025-03-22T11:36:21.970945Z"
    }
   },
   "cell_type": "code",
   "outputs": [
    {
     "data": {
      "text/plain": [
       "'0.39 MiB'"
      ]
     },
     "execution_count": 223,
     "metadata": {},
     "output_type": "execute_result"
    }
   ],
   "execution_count": 223,
   "source": "memory_mib(master)",
   "id": "a301a9f0dd7d184e"
  },
  {
   "metadata": {
    "ExecuteTime": {
     "end_time": "2025-03-22T11:36:22.452338Z",
     "start_time": "2025-03-22T11:36:22.441572Z"
    }
   },
   "cell_type": "code",
   "source": "master.set_index('playerID', inplace=True)",
   "id": "25d2522a5f3eec51",
   "outputs": [],
   "execution_count": 226
  },
  {
   "metadata": {
    "ExecuteTime": {
     "end_time": "2025-03-22T11:36:22.646712Z",
     "start_time": "2025-03-22T11:36:22.626832Z"
    }
   },
   "cell_type": "code",
   "source": "master.dtypes",
   "id": "e69ceca12c2f133d",
   "outputs": [
    {
     "data": {
      "text/plain": [
       "firstName        object\n",
       "lastName         object\n",
       "pos              object\n",
       "birthYear       float64\n",
       "birthMon        float64\n",
       "birthDay        float64\n",
       "birthCountry     object\n",
       "birthState       object\n",
       "birthCity        object\n",
       "dtype: object"
      ]
     },
     "execution_count": 227,
     "metadata": {},
     "output_type": "execute_result"
    }
   ],
   "execution_count": 227
  },
  {
   "metadata": {
    "ExecuteTime": {
     "end_time": "2025-03-22T11:36:22.316902Z",
     "start_time": "2025-03-22T11:36:22.303900Z"
    }
   },
   "cell_type": "code",
   "outputs": [
    {
     "data": {
      "text/plain": [
       "['Finland', 'USA', 'Canada', 'Sweden', 'Canada', ..., 'Lithuania', 'Norway', NaN, 'Canada', 'Russia']\n",
       "Length: 4627\n",
       "Categories (43, object): ['Austria', 'Belarus', 'Belgium', 'Brazil', ..., 'USSR', 'Ukraine', 'Venezuela', 'Yugoslavia']"
      ]
     },
     "execution_count": 225,
     "metadata": {},
     "output_type": "execute_result"
    }
   ],
   "execution_count": 225,
   "source": "pd.Categorical(master['birthCountry'])",
   "id": "82c998b866b0261e"
  },
  {
   "metadata": {
    "ExecuteTime": {
     "end_time": "2025-03-22T11:36:22.834765Z",
     "start_time": "2025-03-22T11:36:22.820890Z"
    }
   },
   "cell_type": "code",
   "source": [
    "# kluczowa wada csv, to text nie zachowuje typów danych\n",
    "# zaleta to wszystko można zapisać wszystko, i jest obsługiwane przez\n",
    "# wszystkie narzędzia(excel, sql, python, etc)\n",
    "# wady parqueta, to nie wszystko obsługuje parquet, ale jest szybszy\n",
    "# można użyć picle(binarne, z 'c', natywny dla pythona, Java, C++),\n",
    "master.to_pickle(os.path.join('..', 'data', 'interim', 'master.pkl'))"
   ],
   "id": "b6598009425c08e7",
   "outputs": [],
   "execution_count": 228
  },
  {
   "metadata": {},
   "cell_type": "markdown",
   "source": "---",
   "id": "24b2a26129411064"
  },
  {
   "metadata": {
    "ExecuteTime": {
     "end_time": "2025-03-22T11:36:23.264004Z",
     "start_time": "2025-03-22T11:36:23.006440Z"
    }
   },
   "cell_type": "code",
   "source": "scoring = pd.read_csv(os.path.join('..', 'data', 'raw', 'Scoring.csv'))",
   "id": "87cee5937a9312a0",
   "outputs": [],
   "execution_count": 229
  },
  {
   "metadata": {
    "ExecuteTime": {
     "end_time": "2025-03-22T11:36:23.294312Z",
     "start_time": "2025-03-22T11:36:23.281418Z"
    }
   },
   "cell_type": "code",
   "source": "memory_mib(scoring)",
   "id": "46c51d6e5be8481f",
   "outputs": [
    {
     "data": {
      "text/plain": [
       "'10.87 MiB'"
      ]
     },
     "execution_count": 230,
     "metadata": {},
     "output_type": "execute_result"
    }
   ],
   "execution_count": 230
  },
  {
   "metadata": {
    "ExecuteTime": {
     "end_time": "2025-03-22T11:36:23.416663Z",
     "start_time": "2025-03-22T11:36:23.406081Z"
    }
   },
   "cell_type": "code",
   "source": "scoring.shape",
   "id": "46ed7bd3b44251df",
   "outputs": [
    {
     "data": {
      "text/plain": [
       "(45967, 31)"
      ]
     },
     "execution_count": 231,
     "metadata": {},
     "output_type": "execute_result"
    }
   ],
   "execution_count": 231
  },
  {
   "metadata": {
    "ExecuteTime": {
     "end_time": "2025-03-22T11:36:23.533471Z",
     "start_time": "2025-03-22T11:36:23.524489Z"
    }
   },
   "cell_type": "code",
   "source": "scoring.columns\n",
   "id": "8cd58a2443004c81",
   "outputs": [
    {
     "data": {
      "text/plain": [
       "Index(['playerID', 'year', 'stint', 'tmID', 'lgID', 'pos', 'GP', 'G', 'A',\n",
       "       'Pts', 'PIM', '+/-', 'PPG', 'PPA', 'SHG', 'SHA', 'GWG', 'GTG', 'SOG',\n",
       "       'PostGP', 'PostG', 'PostA', 'PostPts', 'PostPIM', 'Post+/-', 'PostPPG',\n",
       "       'PostPPA', 'PostSHG', 'PostSHA', 'PostGWG', 'PostSOG'],\n",
       "      dtype='object')"
      ]
     },
     "execution_count": 232,
     "metadata": {},
     "output_type": "execute_result"
    }
   ],
   "execution_count": 232
  },
  {
   "metadata": {
    "ExecuteTime": {
     "end_time": "2025-03-22T11:36:23.634184Z",
     "start_time": "2025-03-22T11:36:23.621537Z"
    }
   },
   "cell_type": "code",
   "source": "scoring.dtypes\n",
   "id": "1d43827ff3185315",
   "outputs": [
    {
     "data": {
      "text/plain": [
       "playerID     object\n",
       "year          int64\n",
       "stint         int64\n",
       "tmID         object\n",
       "lgID         object\n",
       "pos          object\n",
       "GP          float64\n",
       "G           float64\n",
       "A           float64\n",
       "Pts         float64\n",
       "PIM         float64\n",
       "+/-         float64\n",
       "PPG         float64\n",
       "PPA         float64\n",
       "SHG         float64\n",
       "SHA         float64\n",
       "GWG         float64\n",
       "GTG         float64\n",
       "SOG         float64\n",
       "PostGP      float64\n",
       "PostG       float64\n",
       "PostA       float64\n",
       "PostPts     float64\n",
       "PostPIM     float64\n",
       "Post+/-     float64\n",
       "PostPPG     float64\n",
       "PostPPA     float64\n",
       "PostSHG     float64\n",
       "PostSHA     float64\n",
       "PostGWG     float64\n",
       "PostSOG     float64\n",
       "dtype: object"
      ]
     },
     "execution_count": 233,
     "metadata": {},
     "output_type": "execute_result"
    }
   ],
   "execution_count": 233
  },
  {
   "metadata": {
    "ExecuteTime": {
     "end_time": "2025-03-22T11:36:23.841865Z",
     "start_time": "2025-03-22T11:36:23.809195Z"
    }
   },
   "cell_type": "code",
   "source": "scoring.info()",
   "id": "dd870c1b6083c06d",
   "outputs": [
    {
     "name": "stdout",
     "output_type": "stream",
     "text": [
      "<class 'pandas.core.frame.DataFrame'>\n",
      "RangeIndex: 45967 entries, 0 to 45966\n",
      "Data columns (total 31 columns):\n",
      " #   Column    Non-Null Count  Dtype  \n",
      "---  ------    --------------  -----  \n",
      " 0   playerID  45967 non-null  object \n",
      " 1   year      45967 non-null  int64  \n",
      " 2   stint     45967 non-null  int64  \n",
      " 3   tmID      45967 non-null  object \n",
      " 4   lgID      45967 non-null  object \n",
      " 5   pos       45385 non-null  object \n",
      " 6   GP        45699 non-null  float64\n",
      " 7   G         45699 non-null  float64\n",
      " 8   A         45699 non-null  float64\n",
      " 9   Pts       45699 non-null  float64\n",
      " 10  PIM       45699 non-null  float64\n",
      " 11  +/-       36265 non-null  float64\n",
      " 12  PPG       37748 non-null  float64\n",
      " 13  PPA       23040 non-null  float64\n",
      " 14  SHG       37744 non-null  float64\n",
      " 15  SHA       23214 non-null  float64\n",
      " 16  GWG       36567 non-null  float64\n",
      " 17  GTG       28106 non-null  float64\n",
      " 18  SOG       36364 non-null  float64\n",
      " 19  PostGP    19153 non-null  float64\n",
      " 20  PostG     19153 non-null  float64\n",
      " 21  PostA     19094 non-null  float64\n",
      " 22  PostPts   19094 non-null  float64\n",
      " 23  PostPIM   19094 non-null  float64\n",
      " 24  Post+/-   11004 non-null  float64\n",
      " 25  PostPPG   14492 non-null  float64\n",
      " 26  PostPPA   8854 non-null   float64\n",
      " 27  PostSHG   14492 non-null  float64\n",
      " 28  PostSHA   8855 non-null   float64\n",
      " 29  PostGWG   15657 non-null  float64\n",
      " 30  PostSOG   10392 non-null  float64\n",
      "dtypes: float64(25), int64(2), object(4)\n",
      "memory usage: 10.9+ MB\n"
     ]
    }
   ],
   "execution_count": 234
  },
  {
   "metadata": {
    "ExecuteTime": {
     "end_time": "2025-03-22T11:36:23.948075Z",
     "start_time": "2025-03-22T11:36:23.872231Z"
    }
   },
   "cell_type": "code",
   "source": "scoring.sample(n=10)",
   "id": "5f0363e92b9d90d0",
   "outputs": [
    {
     "data": {
      "text/plain": [
       "        playerID  year  stint tmID lgID pos    GP     G     A   Pts  ...  \\\n",
       "20977  kobasch01  2006      1  CAL  NHL   R  40.0   4.0  13.0  17.0  ...   \n",
       "24597  lukowmo01  1977      1  HOU  WHA   L  80.0  40.0  35.0  75.0  ...   \n",
       "8950   davisbi01  1977      1  WIJ  WHA   D  12.0   0.0   0.0   0.0  ...   \n",
       "4167   bradyne01  1993      1  DAL  NHL   C   5.0   0.0   1.0   1.0  ...   \n",
       "22991  lavoido01  1992      1  OTT  NHL   D   2.0   0.0   1.0   1.0  ...   \n",
       "40588  strudja01  1998      1  VAN  NHL   D  65.0   0.0   3.0   3.0  ...   \n",
       "8118   crawfma01  1986      1  VAN  NHL   L  21.0   0.0   3.0   3.0  ...   \n",
       "8444   cunniga01  1973      1  EDO  WHA   D   2.0   0.0   0.0   0.0  ...   \n",
       "44759  willija01  2011      1  PIT  NHL   C   8.0   1.0   1.0   2.0  ...   \n",
       "17591  horacto01  1990      1  PHI  NHL   L  34.0   3.0   6.0   9.0  ...   \n",
       "\n",
       "       PostA  PostPts  PostPIM  Post+/-  PostPPG  PostPPA  PostSHG  PostSHA  \\\n",
       "20977    NaN      NaN      NaN      NaN      NaN      NaN      NaN      NaN   \n",
       "24597    2.0      3.0     17.0     -3.0      NaN      NaN      NaN      NaN   \n",
       "8950     NaN      NaN      NaN      NaN      NaN      NaN      NaN      NaN   \n",
       "4167     NaN      NaN      NaN      NaN      NaN      NaN      NaN      NaN   \n",
       "22991    NaN      NaN      NaN      NaN      NaN      NaN      NaN      NaN   \n",
       "40588    NaN      NaN      NaN      NaN      NaN      NaN      NaN      NaN   \n",
       "8118     NaN      NaN      NaN      NaN      NaN      NaN      NaN      NaN   \n",
       "8444     NaN      NaN      NaN      NaN      NaN      NaN      NaN      NaN   \n",
       "44759    NaN      NaN      NaN      NaN      NaN      NaN      NaN      NaN   \n",
       "17591    NaN      NaN      NaN      NaN      NaN      NaN      NaN      NaN   \n",
       "\n",
       "       PostGWG  PostSOG  \n",
       "20977      NaN      NaN  \n",
       "24597      0.0      NaN  \n",
       "8950       NaN      NaN  \n",
       "4167       NaN      NaN  \n",
       "22991      NaN      NaN  \n",
       "40588      NaN      NaN  \n",
       "8118       NaN      NaN  \n",
       "8444       NaN      NaN  \n",
       "44759      NaN      NaN  \n",
       "17591      NaN      NaN  \n",
       "\n",
       "[10 rows x 31 columns]"
      ],
      "text/html": [
       "<div>\n",
       "<style scoped>\n",
       "    .dataframe tbody tr th:only-of-type {\n",
       "        vertical-align: middle;\n",
       "    }\n",
       "\n",
       "    .dataframe tbody tr th {\n",
       "        vertical-align: top;\n",
       "    }\n",
       "\n",
       "    .dataframe thead th {\n",
       "        text-align: right;\n",
       "    }\n",
       "</style>\n",
       "<table border=\"1\" class=\"dataframe\">\n",
       "  <thead>\n",
       "    <tr style=\"text-align: right;\">\n",
       "      <th></th>\n",
       "      <th>playerID</th>\n",
       "      <th>year</th>\n",
       "      <th>stint</th>\n",
       "      <th>tmID</th>\n",
       "      <th>lgID</th>\n",
       "      <th>pos</th>\n",
       "      <th>GP</th>\n",
       "      <th>G</th>\n",
       "      <th>A</th>\n",
       "      <th>Pts</th>\n",
       "      <th>...</th>\n",
       "      <th>PostA</th>\n",
       "      <th>PostPts</th>\n",
       "      <th>PostPIM</th>\n",
       "      <th>Post+/-</th>\n",
       "      <th>PostPPG</th>\n",
       "      <th>PostPPA</th>\n",
       "      <th>PostSHG</th>\n",
       "      <th>PostSHA</th>\n",
       "      <th>PostGWG</th>\n",
       "      <th>PostSOG</th>\n",
       "    </tr>\n",
       "  </thead>\n",
       "  <tbody>\n",
       "    <tr>\n",
       "      <th>20977</th>\n",
       "      <td>kobasch01</td>\n",
       "      <td>2006</td>\n",
       "      <td>1</td>\n",
       "      <td>CAL</td>\n",
       "      <td>NHL</td>\n",
       "      <td>R</td>\n",
       "      <td>40.0</td>\n",
       "      <td>4.0</td>\n",
       "      <td>13.0</td>\n",
       "      <td>17.0</td>\n",
       "      <td>...</td>\n",
       "      <td>NaN</td>\n",
       "      <td>NaN</td>\n",
       "      <td>NaN</td>\n",
       "      <td>NaN</td>\n",
       "      <td>NaN</td>\n",
       "      <td>NaN</td>\n",
       "      <td>NaN</td>\n",
       "      <td>NaN</td>\n",
       "      <td>NaN</td>\n",
       "      <td>NaN</td>\n",
       "    </tr>\n",
       "    <tr>\n",
       "      <th>24597</th>\n",
       "      <td>lukowmo01</td>\n",
       "      <td>1977</td>\n",
       "      <td>1</td>\n",
       "      <td>HOU</td>\n",
       "      <td>WHA</td>\n",
       "      <td>L</td>\n",
       "      <td>80.0</td>\n",
       "      <td>40.0</td>\n",
       "      <td>35.0</td>\n",
       "      <td>75.0</td>\n",
       "      <td>...</td>\n",
       "      <td>2.0</td>\n",
       "      <td>3.0</td>\n",
       "      <td>17.0</td>\n",
       "      <td>-3.0</td>\n",
       "      <td>NaN</td>\n",
       "      <td>NaN</td>\n",
       "      <td>NaN</td>\n",
       "      <td>NaN</td>\n",
       "      <td>0.0</td>\n",
       "      <td>NaN</td>\n",
       "    </tr>\n",
       "    <tr>\n",
       "      <th>8950</th>\n",
       "      <td>davisbi01</td>\n",
       "      <td>1977</td>\n",
       "      <td>1</td>\n",
       "      <td>WIJ</td>\n",
       "      <td>WHA</td>\n",
       "      <td>D</td>\n",
       "      <td>12.0</td>\n",
       "      <td>0.0</td>\n",
       "      <td>0.0</td>\n",
       "      <td>0.0</td>\n",
       "      <td>...</td>\n",
       "      <td>NaN</td>\n",
       "      <td>NaN</td>\n",
       "      <td>NaN</td>\n",
       "      <td>NaN</td>\n",
       "      <td>NaN</td>\n",
       "      <td>NaN</td>\n",
       "      <td>NaN</td>\n",
       "      <td>NaN</td>\n",
       "      <td>NaN</td>\n",
       "      <td>NaN</td>\n",
       "    </tr>\n",
       "    <tr>\n",
       "      <th>4167</th>\n",
       "      <td>bradyne01</td>\n",
       "      <td>1993</td>\n",
       "      <td>1</td>\n",
       "      <td>DAL</td>\n",
       "      <td>NHL</td>\n",
       "      <td>C</td>\n",
       "      <td>5.0</td>\n",
       "      <td>0.0</td>\n",
       "      <td>1.0</td>\n",
       "      <td>1.0</td>\n",
       "      <td>...</td>\n",
       "      <td>NaN</td>\n",
       "      <td>NaN</td>\n",
       "      <td>NaN</td>\n",
       "      <td>NaN</td>\n",
       "      <td>NaN</td>\n",
       "      <td>NaN</td>\n",
       "      <td>NaN</td>\n",
       "      <td>NaN</td>\n",
       "      <td>NaN</td>\n",
       "      <td>NaN</td>\n",
       "    </tr>\n",
       "    <tr>\n",
       "      <th>22991</th>\n",
       "      <td>lavoido01</td>\n",
       "      <td>1992</td>\n",
       "      <td>1</td>\n",
       "      <td>OTT</td>\n",
       "      <td>NHL</td>\n",
       "      <td>D</td>\n",
       "      <td>2.0</td>\n",
       "      <td>0.0</td>\n",
       "      <td>1.0</td>\n",
       "      <td>1.0</td>\n",
       "      <td>...</td>\n",
       "      <td>NaN</td>\n",
       "      <td>NaN</td>\n",
       "      <td>NaN</td>\n",
       "      <td>NaN</td>\n",
       "      <td>NaN</td>\n",
       "      <td>NaN</td>\n",
       "      <td>NaN</td>\n",
       "      <td>NaN</td>\n",
       "      <td>NaN</td>\n",
       "      <td>NaN</td>\n",
       "    </tr>\n",
       "    <tr>\n",
       "      <th>40588</th>\n",
       "      <td>strudja01</td>\n",
       "      <td>1998</td>\n",
       "      <td>1</td>\n",
       "      <td>VAN</td>\n",
       "      <td>NHL</td>\n",
       "      <td>D</td>\n",
       "      <td>65.0</td>\n",
       "      <td>0.0</td>\n",
       "      <td>3.0</td>\n",
       "      <td>3.0</td>\n",
       "      <td>...</td>\n",
       "      <td>NaN</td>\n",
       "      <td>NaN</td>\n",
       "      <td>NaN</td>\n",
       "      <td>NaN</td>\n",
       "      <td>NaN</td>\n",
       "      <td>NaN</td>\n",
       "      <td>NaN</td>\n",
       "      <td>NaN</td>\n",
       "      <td>NaN</td>\n",
       "      <td>NaN</td>\n",
       "    </tr>\n",
       "    <tr>\n",
       "      <th>8118</th>\n",
       "      <td>crawfma01</td>\n",
       "      <td>1986</td>\n",
       "      <td>1</td>\n",
       "      <td>VAN</td>\n",
       "      <td>NHL</td>\n",
       "      <td>L</td>\n",
       "      <td>21.0</td>\n",
       "      <td>0.0</td>\n",
       "      <td>3.0</td>\n",
       "      <td>3.0</td>\n",
       "      <td>...</td>\n",
       "      <td>NaN</td>\n",
       "      <td>NaN</td>\n",
       "      <td>NaN</td>\n",
       "      <td>NaN</td>\n",
       "      <td>NaN</td>\n",
       "      <td>NaN</td>\n",
       "      <td>NaN</td>\n",
       "      <td>NaN</td>\n",
       "      <td>NaN</td>\n",
       "      <td>NaN</td>\n",
       "    </tr>\n",
       "    <tr>\n",
       "      <th>8444</th>\n",
       "      <td>cunniga01</td>\n",
       "      <td>1973</td>\n",
       "      <td>1</td>\n",
       "      <td>EDO</td>\n",
       "      <td>WHA</td>\n",
       "      <td>D</td>\n",
       "      <td>2.0</td>\n",
       "      <td>0.0</td>\n",
       "      <td>0.0</td>\n",
       "      <td>0.0</td>\n",
       "      <td>...</td>\n",
       "      <td>NaN</td>\n",
       "      <td>NaN</td>\n",
       "      <td>NaN</td>\n",
       "      <td>NaN</td>\n",
       "      <td>NaN</td>\n",
       "      <td>NaN</td>\n",
       "      <td>NaN</td>\n",
       "      <td>NaN</td>\n",
       "      <td>NaN</td>\n",
       "      <td>NaN</td>\n",
       "    </tr>\n",
       "    <tr>\n",
       "      <th>44759</th>\n",
       "      <td>willija01</td>\n",
       "      <td>2011</td>\n",
       "      <td>1</td>\n",
       "      <td>PIT</td>\n",
       "      <td>NHL</td>\n",
       "      <td>C</td>\n",
       "      <td>8.0</td>\n",
       "      <td>1.0</td>\n",
       "      <td>1.0</td>\n",
       "      <td>2.0</td>\n",
       "      <td>...</td>\n",
       "      <td>NaN</td>\n",
       "      <td>NaN</td>\n",
       "      <td>NaN</td>\n",
       "      <td>NaN</td>\n",
       "      <td>NaN</td>\n",
       "      <td>NaN</td>\n",
       "      <td>NaN</td>\n",
       "      <td>NaN</td>\n",
       "      <td>NaN</td>\n",
       "      <td>NaN</td>\n",
       "    </tr>\n",
       "    <tr>\n",
       "      <th>17591</th>\n",
       "      <td>horacto01</td>\n",
       "      <td>1990</td>\n",
       "      <td>1</td>\n",
       "      <td>PHI</td>\n",
       "      <td>NHL</td>\n",
       "      <td>L</td>\n",
       "      <td>34.0</td>\n",
       "      <td>3.0</td>\n",
       "      <td>6.0</td>\n",
       "      <td>9.0</td>\n",
       "      <td>...</td>\n",
       "      <td>NaN</td>\n",
       "      <td>NaN</td>\n",
       "      <td>NaN</td>\n",
       "      <td>NaN</td>\n",
       "      <td>NaN</td>\n",
       "      <td>NaN</td>\n",
       "      <td>NaN</td>\n",
       "      <td>NaN</td>\n",
       "      <td>NaN</td>\n",
       "      <td>NaN</td>\n",
       "    </tr>\n",
       "  </tbody>\n",
       "</table>\n",
       "<p>10 rows × 31 columns</p>\n",
       "</div>"
      ]
     },
     "execution_count": 235,
     "metadata": {},
     "output_type": "execute_result"
    }
   ],
   "execution_count": 235
  },
  {
   "metadata": {
    "ExecuteTime": {
     "end_time": "2025-03-22T11:36:24.214165Z",
     "start_time": "2025-03-22T11:36:24.197585Z"
    }
   },
   "cell_type": "code",
   "source": "scoring_original = scoring.copy()",
   "id": "3a8a87821167ddf7",
   "outputs": [],
   "execution_count": 236
  },
  {
   "metadata": {
    "ExecuteTime": {
     "end_time": "2025-03-22T11:36:24.269132Z",
     "start_time": "2025-03-22T11:36:24.245504Z"
    }
   },
   "cell_type": "code",
   "source": "scoring = scoring.loc[(scoring['year'] > 1980) & (scoring['lgID'] == 'NHL')]",
   "id": "1fa4865729543a24",
   "outputs": [],
   "execution_count": 237
  },
  {
   "metadata": {
    "ExecuteTime": {
     "end_time": "2025-03-22T11:36:24.397936Z",
     "start_time": "2025-03-22T11:36:24.390051Z"
    }
   },
   "cell_type": "code",
   "source": "scoring.shape",
   "id": "1ffed950d0baf792",
   "outputs": [
    {
     "data": {
      "text/plain": [
       "(27914, 31)"
      ]
     },
     "execution_count": 238,
     "metadata": {},
     "output_type": "execute_result"
    }
   ],
   "execution_count": 238
  },
  {
   "metadata": {
    "ExecuteTime": {
     "end_time": "2025-03-22T11:36:24.599826Z",
     "start_time": "2025-03-22T11:36:24.586891Z"
    }
   },
   "cell_type": "code",
   "source": "scoring.iloc[:, [0, 1, 3, 6, 7, 8, 9, 14]].columns",
   "id": "366bc0537e1fa4fc",
   "outputs": [
    {
     "data": {
      "text/plain": [
       "Index(['playerID', 'year', 'tmID', 'GP', 'G', 'A', 'Pts', 'SHG'], dtype='object')"
      ]
     },
     "execution_count": 239,
     "metadata": {},
     "output_type": "execute_result"
    }
   ],
   "execution_count": 239
  },
  {
   "metadata": {
    "ExecuteTime": {
     "end_time": "2025-03-22T11:36:24.727539Z",
     "start_time": "2025-03-22T11:36:24.711232Z"
    }
   },
   "cell_type": "code",
   "source": "scoring = scoring.filter(regex='^(?!(post|PP|SH)).*')",
   "id": "977b00d75db0c83b",
   "outputs": [],
   "execution_count": 240
  },
  {
   "metadata": {
    "ExecuteTime": {
     "end_time": "2025-03-22T11:36:24.826628Z",
     "start_time": "2025-03-22T11:36:24.814054Z"
    }
   },
   "cell_type": "code",
   "source": "scoring = scoring.iloc[:, [0, 1, 3, 6, 7, 8, 9, 14]]",
   "id": "b0cc615c6fb01112",
   "outputs": [],
   "execution_count": 241
  },
  {
   "metadata": {
    "ExecuteTime": {
     "end_time": "2025-03-22T11:36:24.986925Z",
     "start_time": "2025-03-22T11:36:24.975756Z"
    }
   },
   "cell_type": "code",
   "source": "scoring.columns",
   "id": "9695683bba7d124d",
   "outputs": [
    {
     "data": {
      "text/plain": [
       "Index(['playerID', 'year', 'tmID', 'GP', 'G', 'A', 'Pts', 'SOG'], dtype='object')"
      ]
     },
     "execution_count": 242,
     "metadata": {},
     "output_type": "execute_result"
    }
   ],
   "execution_count": 242
  },
  {
   "metadata": {
    "ExecuteTime": {
     "end_time": "2025-03-22T11:36:25.050852Z",
     "start_time": "2025-03-22T11:36:25.029464Z"
    }
   },
   "cell_type": "code",
   "source": "scoring['tmID'].value_counts()",
   "id": "b5490a0d79b87018",
   "outputs": [
    {
     "data": {
      "text/plain": [
       "tmID\n",
       "PIT    1133\n",
       "NYI    1128\n",
       "LAK    1125\n",
       "TOR    1123\n",
       "NYR    1123\n",
       "BOS    1118\n",
       "PHI    1102\n",
       "CAL    1088\n",
       "EDM    1086\n",
       "WAS    1084\n",
       "CHI    1083\n",
       "STL    1079\n",
       "VAN    1065\n",
       "BUF    1052\n",
       "MTL    1052\n",
       "DET    1004\n",
       "NJD     989\n",
       "TBL     715\n",
       "SJS     679\n",
       "OTT     673\n",
       "FLO     656\n",
       "DAL     637\n",
       "HAR     598\n",
       "PHO     557\n",
       "COL     548\n",
       "WIN     543\n",
       "QUE     537\n",
       "MNS     470\n",
       "CAR     464\n",
       "NAS     463\n",
       "CBS     423\n",
       "ANA     422\n",
       "ATL     410\n",
       "MIN     384\n",
       "AND     224\n",
       "COR      39\n",
       "WPG      38\n",
       "Name: count, dtype: int64"
      ]
     },
     "execution_count": 243,
     "metadata": {},
     "output_type": "execute_result"
    }
   ],
   "execution_count": 243
  },
  {
   "metadata": {
    "ExecuteTime": {
     "end_time": "2025-03-22T11:36:25.289210Z",
     "start_time": "2025-03-22T11:36:25.277138Z"
    }
   },
   "cell_type": "code",
   "source": "scoring.loc[:, \"tmID\"] =  pd.Categorical(scoring['tmID'])",
   "id": "d9d9fa02147d5dd6",
   "outputs": [],
   "execution_count": 244
  },
  {
   "metadata": {
    "ExecuteTime": {
     "end_time": "2025-03-22T11:36:25.431632Z",
     "start_time": "2025-03-22T11:36:25.395314Z"
    }
   },
   "cell_type": "code",
   "source": "scoring.reset_index().head()",
   "id": "465e248da35d71a5",
   "outputs": [
    {
     "data": {
      "text/plain": [
       "   index   playerID  year tmID    GP    G     A   Pts    SOG\n",
       "0      0  aaltoan01  1997  ANA   3.0  0.0   0.0   0.0    1.0\n",
       "1      1  aaltoan01  1998  ANA  73.0  3.0   5.0   8.0   61.0\n",
       "2      2  aaltoan01  1999  ANA  63.0  7.0  11.0  18.0  102.0\n",
       "3      3  aaltoan01  2000  ANA  12.0  1.0   1.0   2.0   18.0\n",
       "4      7  abdelju01  2007  DET   2.0  0.0   0.0   0.0    6.0"
      ],
      "text/html": [
       "<div>\n",
       "<style scoped>\n",
       "    .dataframe tbody tr th:only-of-type {\n",
       "        vertical-align: middle;\n",
       "    }\n",
       "\n",
       "    .dataframe tbody tr th {\n",
       "        vertical-align: top;\n",
       "    }\n",
       "\n",
       "    .dataframe thead th {\n",
       "        text-align: right;\n",
       "    }\n",
       "</style>\n",
       "<table border=\"1\" class=\"dataframe\">\n",
       "  <thead>\n",
       "    <tr style=\"text-align: right;\">\n",
       "      <th></th>\n",
       "      <th>index</th>\n",
       "      <th>playerID</th>\n",
       "      <th>year</th>\n",
       "      <th>tmID</th>\n",
       "      <th>GP</th>\n",
       "      <th>G</th>\n",
       "      <th>A</th>\n",
       "      <th>Pts</th>\n",
       "      <th>SOG</th>\n",
       "    </tr>\n",
       "  </thead>\n",
       "  <tbody>\n",
       "    <tr>\n",
       "      <th>0</th>\n",
       "      <td>0</td>\n",
       "      <td>aaltoan01</td>\n",
       "      <td>1997</td>\n",
       "      <td>ANA</td>\n",
       "      <td>3.0</td>\n",
       "      <td>0.0</td>\n",
       "      <td>0.0</td>\n",
       "      <td>0.0</td>\n",
       "      <td>1.0</td>\n",
       "    </tr>\n",
       "    <tr>\n",
       "      <th>1</th>\n",
       "      <td>1</td>\n",
       "      <td>aaltoan01</td>\n",
       "      <td>1998</td>\n",
       "      <td>ANA</td>\n",
       "      <td>73.0</td>\n",
       "      <td>3.0</td>\n",
       "      <td>5.0</td>\n",
       "      <td>8.0</td>\n",
       "      <td>61.0</td>\n",
       "    </tr>\n",
       "    <tr>\n",
       "      <th>2</th>\n",
       "      <td>2</td>\n",
       "      <td>aaltoan01</td>\n",
       "      <td>1999</td>\n",
       "      <td>ANA</td>\n",
       "      <td>63.0</td>\n",
       "      <td>7.0</td>\n",
       "      <td>11.0</td>\n",
       "      <td>18.0</td>\n",
       "      <td>102.0</td>\n",
       "    </tr>\n",
       "    <tr>\n",
       "      <th>3</th>\n",
       "      <td>3</td>\n",
       "      <td>aaltoan01</td>\n",
       "      <td>2000</td>\n",
       "      <td>ANA</td>\n",
       "      <td>12.0</td>\n",
       "      <td>1.0</td>\n",
       "      <td>1.0</td>\n",
       "      <td>2.0</td>\n",
       "      <td>18.0</td>\n",
       "    </tr>\n",
       "    <tr>\n",
       "      <th>4</th>\n",
       "      <td>7</td>\n",
       "      <td>abdelju01</td>\n",
       "      <td>2007</td>\n",
       "      <td>DET</td>\n",
       "      <td>2.0</td>\n",
       "      <td>0.0</td>\n",
       "      <td>0.0</td>\n",
       "      <td>0.0</td>\n",
       "      <td>6.0</td>\n",
       "    </tr>\n",
       "  </tbody>\n",
       "</table>\n",
       "</div>"
      ]
     },
     "execution_count": 245,
     "metadata": {},
     "output_type": "execute_result"
    }
   ],
   "execution_count": 245
  },
  {
   "metadata": {
    "ExecuteTime": {
     "end_time": "2025-03-22T11:36:25.645390Z",
     "start_time": "2025-03-22T11:36:25.596647Z"
    }
   },
   "cell_type": "code",
   "source": "scoring.reset_index(drop=True).head()",
   "id": "928991f4dfc1bd80",
   "outputs": [
    {
     "data": {
      "text/plain": [
       "    playerID  year tmID    GP    G     A   Pts    SOG\n",
       "0  aaltoan01  1997  ANA   3.0  0.0   0.0   0.0    1.0\n",
       "1  aaltoan01  1998  ANA  73.0  3.0   5.0   8.0   61.0\n",
       "2  aaltoan01  1999  ANA  63.0  7.0  11.0  18.0  102.0\n",
       "3  aaltoan01  2000  ANA  12.0  1.0   1.0   2.0   18.0\n",
       "4  abdelju01  2007  DET   2.0  0.0   0.0   0.0    6.0"
      ],
      "text/html": [
       "<div>\n",
       "<style scoped>\n",
       "    .dataframe tbody tr th:only-of-type {\n",
       "        vertical-align: middle;\n",
       "    }\n",
       "\n",
       "    .dataframe tbody tr th {\n",
       "        vertical-align: top;\n",
       "    }\n",
       "\n",
       "    .dataframe thead th {\n",
       "        text-align: right;\n",
       "    }\n",
       "</style>\n",
       "<table border=\"1\" class=\"dataframe\">\n",
       "  <thead>\n",
       "    <tr style=\"text-align: right;\">\n",
       "      <th></th>\n",
       "      <th>playerID</th>\n",
       "      <th>year</th>\n",
       "      <th>tmID</th>\n",
       "      <th>GP</th>\n",
       "      <th>G</th>\n",
       "      <th>A</th>\n",
       "      <th>Pts</th>\n",
       "      <th>SOG</th>\n",
       "    </tr>\n",
       "  </thead>\n",
       "  <tbody>\n",
       "    <tr>\n",
       "      <th>0</th>\n",
       "      <td>aaltoan01</td>\n",
       "      <td>1997</td>\n",
       "      <td>ANA</td>\n",
       "      <td>3.0</td>\n",
       "      <td>0.0</td>\n",
       "      <td>0.0</td>\n",
       "      <td>0.0</td>\n",
       "      <td>1.0</td>\n",
       "    </tr>\n",
       "    <tr>\n",
       "      <th>1</th>\n",
       "      <td>aaltoan01</td>\n",
       "      <td>1998</td>\n",
       "      <td>ANA</td>\n",
       "      <td>73.0</td>\n",
       "      <td>3.0</td>\n",
       "      <td>5.0</td>\n",
       "      <td>8.0</td>\n",
       "      <td>61.0</td>\n",
       "    </tr>\n",
       "    <tr>\n",
       "      <th>2</th>\n",
       "      <td>aaltoan01</td>\n",
       "      <td>1999</td>\n",
       "      <td>ANA</td>\n",
       "      <td>63.0</td>\n",
       "      <td>7.0</td>\n",
       "      <td>11.0</td>\n",
       "      <td>18.0</td>\n",
       "      <td>102.0</td>\n",
       "    </tr>\n",
       "    <tr>\n",
       "      <th>3</th>\n",
       "      <td>aaltoan01</td>\n",
       "      <td>2000</td>\n",
       "      <td>ANA</td>\n",
       "      <td>12.0</td>\n",
       "      <td>1.0</td>\n",
       "      <td>1.0</td>\n",
       "      <td>2.0</td>\n",
       "      <td>18.0</td>\n",
       "    </tr>\n",
       "    <tr>\n",
       "      <th>4</th>\n",
       "      <td>abdelju01</td>\n",
       "      <td>2007</td>\n",
       "      <td>DET</td>\n",
       "      <td>2.0</td>\n",
       "      <td>0.0</td>\n",
       "      <td>0.0</td>\n",
       "      <td>0.0</td>\n",
       "      <td>6.0</td>\n",
       "    </tr>\n",
       "  </tbody>\n",
       "</table>\n",
       "</div>"
      ]
     },
     "execution_count": 246,
     "metadata": {},
     "output_type": "execute_result"
    }
   ],
   "execution_count": 246
  },
  {
   "metadata": {
    "ExecuteTime": {
     "end_time": "2025-03-22T11:36:25.927668Z",
     "start_time": "2025-03-22T11:36:25.918708Z"
    }
   },
   "cell_type": "code",
   "source": "scoring.reset_index(drop=True, inplace=True)",
   "id": "b42c78c6104d93d1",
   "outputs": [],
   "execution_count": 247
  },
  {
   "metadata": {
    "ExecuteTime": {
     "end_time": "2025-03-22T11:48:09.035261Z",
     "start_time": "2025-03-22T11:48:08.585894Z"
    }
   },
   "cell_type": "code",
   "source": "scoring.to_pickle(os.path.join('..', 'data', 'interim', 'scoring.pkl'))",
   "id": "65d66dbe87abcbd7",
   "outputs": [
    {
     "name": "stderr",
     "output_type": "stream",
     "text": [
      "/tmp/ipykernel_12726/1817049215.py:1: FutureWarning: Starting with pandas version 3.0 all arguments of to_pickle except for the argument 'path' will be keyword-only.\n",
      "  scoring.to_pickle(scoring, os.path.join('..', 'data', 'interim', 'scoring.pkl'))\n"
     ]
    },
    {
     "ename": "ValueError",
     "evalue": "Unrecognized compression type: ../data/interim/scoring.pkl\nValid compression types are ['infer', None, 'bz2', 'gzip', 'tar', 'xz', 'zip', 'zstd']",
     "output_type": "error",
     "traceback": [
      "\u001B[31m---------------------------------------------------------------------------\u001B[39m",
      "\u001B[31mValueError\u001B[39m                                Traceback (most recent call last)",
      "\u001B[36mCell\u001B[39m\u001B[36m \u001B[39m\u001B[32mIn[260]\u001B[39m\u001B[32m, line 1\u001B[39m\n\u001B[32m----> \u001B[39m\u001B[32m1\u001B[39m \u001B[43mscoring\u001B[49m\u001B[43m.\u001B[49m\u001B[43mto_pickle\u001B[49m\u001B[43m(\u001B[49m\u001B[43mscoring\u001B[49m\u001B[43m,\u001B[49m\u001B[43m \u001B[49m\u001B[43mos\u001B[49m\u001B[43m.\u001B[49m\u001B[43mpath\u001B[49m\u001B[43m.\u001B[49m\u001B[43mjoin\u001B[49m\u001B[43m(\u001B[49m\u001B[33;43m'\u001B[39;49m\u001B[33;43m..\u001B[39;49m\u001B[33;43m'\u001B[39;49m\u001B[43m,\u001B[49m\u001B[43m \u001B[49m\u001B[33;43m'\u001B[39;49m\u001B[33;43mdata\u001B[39;49m\u001B[33;43m'\u001B[39;49m\u001B[43m,\u001B[49m\u001B[43m \u001B[49m\u001B[33;43m'\u001B[39;49m\u001B[33;43minterim\u001B[39;49m\u001B[33;43m'\u001B[39;49m\u001B[43m,\u001B[49m\u001B[43m \u001B[49m\u001B[33;43m'\u001B[39;49m\u001B[33;43mscoring.pkl\u001B[39;49m\u001B[33;43m'\u001B[39;49m\u001B[43m)\u001B[49m\u001B[43m)\u001B[49m\n",
      "\u001B[36mFile \u001B[39m\u001B[32m~/workspace/data_sience/hockey-pd/.venv/lib/python3.13/site-packages/pandas/util/_decorators.py:333\u001B[39m, in \u001B[36mdeprecate_nonkeyword_arguments.<locals>.decorate.<locals>.wrapper\u001B[39m\u001B[34m(*args, **kwargs)\u001B[39m\n\u001B[32m    327\u001B[39m \u001B[38;5;28;01mif\u001B[39;00m \u001B[38;5;28mlen\u001B[39m(args) > num_allow_args:\n\u001B[32m    328\u001B[39m     warnings.warn(\n\u001B[32m    329\u001B[39m         msg.format(arguments=_format_argument_list(allow_args)),\n\u001B[32m    330\u001B[39m         \u001B[38;5;167;01mFutureWarning\u001B[39;00m,\n\u001B[32m    331\u001B[39m         stacklevel=find_stack_level(),\n\u001B[32m    332\u001B[39m     )\n\u001B[32m--> \u001B[39m\u001B[32m333\u001B[39m \u001B[38;5;28;01mreturn\u001B[39;00m \u001B[43mfunc\u001B[49m\u001B[43m(\u001B[49m\u001B[43m*\u001B[49m\u001B[43margs\u001B[49m\u001B[43m,\u001B[49m\u001B[43m \u001B[49m\u001B[43m*\u001B[49m\u001B[43m*\u001B[49m\u001B[43mkwargs\u001B[49m\u001B[43m)\u001B[49m\n",
      "\u001B[36mFile \u001B[39m\u001B[32m~/workspace/data_sience/hockey-pd/.venv/lib/python3.13/site-packages/pandas/core/generic.py:3165\u001B[39m, in \u001B[36mNDFrame.to_pickle\u001B[39m\u001B[34m(self, path, compression, protocol, storage_options)\u001B[39m\n\u001B[32m   3115\u001B[39m \u001B[38;5;250m\u001B[39m\u001B[33;03m\"\"\"\u001B[39;00m\n\u001B[32m   3116\u001B[39m \u001B[33;03mPickle (serialize) object to file.\u001B[39;00m\n\u001B[32m   3117\u001B[39m \n\u001B[32m   (...)\u001B[39m\u001B[32m   3161\u001B[39m \u001B[33;03m4    4    9\u001B[39;00m\n\u001B[32m   3162\u001B[39m \u001B[33;03m\"\"\"\u001B[39;00m  \u001B[38;5;66;03m# noqa: E501\u001B[39;00m\n\u001B[32m   3163\u001B[39m \u001B[38;5;28;01mfrom\u001B[39;00m\u001B[38;5;250m \u001B[39m\u001B[34;01mpandas\u001B[39;00m\u001B[34;01m.\u001B[39;00m\u001B[34;01mio\u001B[39;00m\u001B[34;01m.\u001B[39;00m\u001B[34;01mpickle\u001B[39;00m\u001B[38;5;250m \u001B[39m\u001B[38;5;28;01mimport\u001B[39;00m to_pickle\n\u001B[32m-> \u001B[39m\u001B[32m3165\u001B[39m \u001B[43mto_pickle\u001B[49m\u001B[43m(\u001B[49m\n\u001B[32m   3166\u001B[39m \u001B[43m    \u001B[49m\u001B[38;5;28;43mself\u001B[39;49m\u001B[43m,\u001B[49m\n\u001B[32m   3167\u001B[39m \u001B[43m    \u001B[49m\u001B[43mpath\u001B[49m\u001B[43m,\u001B[49m\n\u001B[32m   3168\u001B[39m \u001B[43m    \u001B[49m\u001B[43mcompression\u001B[49m\u001B[43m=\u001B[49m\u001B[43mcompression\u001B[49m\u001B[43m,\u001B[49m\n\u001B[32m   3169\u001B[39m \u001B[43m    \u001B[49m\u001B[43mprotocol\u001B[49m\u001B[43m=\u001B[49m\u001B[43mprotocol\u001B[49m\u001B[43m,\u001B[49m\n\u001B[32m   3170\u001B[39m \u001B[43m    \u001B[49m\u001B[43mstorage_options\u001B[49m\u001B[43m=\u001B[49m\u001B[43mstorage_options\u001B[49m\u001B[43m,\u001B[49m\n\u001B[32m   3171\u001B[39m \u001B[43m\u001B[49m\u001B[43m)\u001B[49m\n",
      "\u001B[36mFile \u001B[39m\u001B[32m~/workspace/data_sience/hockey-pd/.venv/lib/python3.13/site-packages/pandas/io/pickle.py:103\u001B[39m, in \u001B[36mto_pickle\u001B[39m\u001B[34m(obj, filepath_or_buffer, compression, protocol, storage_options)\u001B[39m\n\u001B[32m    100\u001B[39m \u001B[38;5;28;01mif\u001B[39;00m protocol < \u001B[32m0\u001B[39m:\n\u001B[32m    101\u001B[39m     protocol = pickle.HIGHEST_PROTOCOL\n\u001B[32m--> \u001B[39m\u001B[32m103\u001B[39m \u001B[38;5;28;01mwith\u001B[39;00m \u001B[43mget_handle\u001B[49m\u001B[43m(\u001B[49m\n\u001B[32m    104\u001B[39m \u001B[43m    \u001B[49m\u001B[43mfilepath_or_buffer\u001B[49m\u001B[43m,\u001B[49m\n\u001B[32m    105\u001B[39m \u001B[43m    \u001B[49m\u001B[33;43m\"\u001B[39;49m\u001B[33;43mwb\u001B[39;49m\u001B[33;43m\"\u001B[39;49m\u001B[43m,\u001B[49m\n\u001B[32m    106\u001B[39m \u001B[43m    \u001B[49m\u001B[43mcompression\u001B[49m\u001B[43m=\u001B[49m\u001B[43mcompression\u001B[49m\u001B[43m,\u001B[49m\n\u001B[32m    107\u001B[39m \u001B[43m    \u001B[49m\u001B[43mis_text\u001B[49m\u001B[43m=\u001B[49m\u001B[38;5;28;43;01mFalse\u001B[39;49;00m\u001B[43m,\u001B[49m\n\u001B[32m    108\u001B[39m \u001B[43m    \u001B[49m\u001B[43mstorage_options\u001B[49m\u001B[43m=\u001B[49m\u001B[43mstorage_options\u001B[49m\u001B[43m,\u001B[49m\n\u001B[32m    109\u001B[39m \u001B[43m\u001B[49m\u001B[43m)\u001B[49m \u001B[38;5;28;01mas\u001B[39;00m handles:\n\u001B[32m    110\u001B[39m     \u001B[38;5;66;03m# letting pickle write directly to the buffer is more memory-efficient\u001B[39;00m\n\u001B[32m    111\u001B[39m     pickle.dump(obj, handles.handle, protocol=protocol)\n",
      "\u001B[36mFile \u001B[39m\u001B[32m~/workspace/data_sience/hockey-pd/.venv/lib/python3.13/site-packages/pandas/io/common.py:728\u001B[39m, in \u001B[36mget_handle\u001B[39m\u001B[34m(path_or_buf, mode, encoding, compression, memory_map, is_text, errors, storage_options)\u001B[39m\n\u001B[32m    725\u001B[39m     codecs.lookup_error(errors)\n\u001B[32m    727\u001B[39m \u001B[38;5;66;03m# open URLs\u001B[39;00m\n\u001B[32m--> \u001B[39m\u001B[32m728\u001B[39m ioargs = \u001B[43m_get_filepath_or_buffer\u001B[49m\u001B[43m(\u001B[49m\n\u001B[32m    729\u001B[39m \u001B[43m    \u001B[49m\u001B[43mpath_or_buf\u001B[49m\u001B[43m,\u001B[49m\n\u001B[32m    730\u001B[39m \u001B[43m    \u001B[49m\u001B[43mencoding\u001B[49m\u001B[43m=\u001B[49m\u001B[43mencoding\u001B[49m\u001B[43m,\u001B[49m\n\u001B[32m    731\u001B[39m \u001B[43m    \u001B[49m\u001B[43mcompression\u001B[49m\u001B[43m=\u001B[49m\u001B[43mcompression\u001B[49m\u001B[43m,\u001B[49m\n\u001B[32m    732\u001B[39m \u001B[43m    \u001B[49m\u001B[43mmode\u001B[49m\u001B[43m=\u001B[49m\u001B[43mmode\u001B[49m\u001B[43m,\u001B[49m\n\u001B[32m    733\u001B[39m \u001B[43m    \u001B[49m\u001B[43mstorage_options\u001B[49m\u001B[43m=\u001B[49m\u001B[43mstorage_options\u001B[49m\u001B[43m,\u001B[49m\n\u001B[32m    734\u001B[39m \u001B[43m\u001B[49m\u001B[43m)\u001B[49m\n\u001B[32m    736\u001B[39m handle = ioargs.filepath_or_buffer\n\u001B[32m    737\u001B[39m handles: \u001B[38;5;28mlist\u001B[39m[BaseBuffer]\n",
      "\u001B[36mFile \u001B[39m\u001B[32m~/workspace/data_sience/hockey-pd/.venv/lib/python3.13/site-packages/pandas/io/common.py:339\u001B[39m, in \u001B[36m_get_filepath_or_buffer\u001B[39m\u001B[34m(filepath_or_buffer, encoding, compression, mode, storage_options)\u001B[39m\n\u001B[32m    337\u001B[39m \u001B[38;5;66;03m# handle compression dict\u001B[39;00m\n\u001B[32m    338\u001B[39m compression_method, compression = get_compression_method(compression)\n\u001B[32m--> \u001B[39m\u001B[32m339\u001B[39m compression_method = \u001B[43minfer_compression\u001B[49m\u001B[43m(\u001B[49m\u001B[43mfilepath_or_buffer\u001B[49m\u001B[43m,\u001B[49m\u001B[43m \u001B[49m\u001B[43mcompression_method\u001B[49m\u001B[43m)\u001B[49m\n\u001B[32m    341\u001B[39m \u001B[38;5;66;03m# GH21227 internal compression is not used for non-binary handles.\u001B[39;00m\n\u001B[32m    342\u001B[39m \u001B[38;5;28;01mif\u001B[39;00m compression_method \u001B[38;5;129;01mand\u001B[39;00m \u001B[38;5;28mhasattr\u001B[39m(filepath_or_buffer, \u001B[33m\"\u001B[39m\u001B[33mwrite\u001B[39m\u001B[33m\"\u001B[39m) \u001B[38;5;129;01mand\u001B[39;00m \u001B[33m\"\u001B[39m\u001B[33mb\u001B[39m\u001B[33m\"\u001B[39m \u001B[38;5;129;01mnot\u001B[39;00m \u001B[38;5;129;01min\u001B[39;00m mode:\n",
      "\u001B[36mFile \u001B[39m\u001B[32m~/workspace/data_sience/hockey-pd/.venv/lib/python3.13/site-packages/pandas/io/common.py:602\u001B[39m, in \u001B[36minfer_compression\u001B[39m\u001B[34m(filepath_or_buffer, compression)\u001B[39m\n\u001B[32m    597\u001B[39m valid = [\u001B[33m\"\u001B[39m\u001B[33minfer\u001B[39m\u001B[33m\"\u001B[39m, \u001B[38;5;28;01mNone\u001B[39;00m] + \u001B[38;5;28msorted\u001B[39m(_supported_compressions)\n\u001B[32m    598\u001B[39m msg = (\n\u001B[32m    599\u001B[39m     \u001B[33mf\u001B[39m\u001B[33m\"\u001B[39m\u001B[33mUnrecognized compression type: \u001B[39m\u001B[38;5;132;01m{\u001B[39;00mcompression\u001B[38;5;132;01m}\u001B[39;00m\u001B[38;5;130;01m\\n\u001B[39;00m\u001B[33m\"\u001B[39m\n\u001B[32m    600\u001B[39m     \u001B[33mf\u001B[39m\u001B[33m\"\u001B[39m\u001B[33mValid compression types are \u001B[39m\u001B[38;5;132;01m{\u001B[39;00mvalid\u001B[38;5;132;01m}\u001B[39;00m\u001B[33m\"\u001B[39m\n\u001B[32m    601\u001B[39m )\n\u001B[32m--> \u001B[39m\u001B[32m602\u001B[39m \u001B[38;5;28;01mraise\u001B[39;00m \u001B[38;5;167;01mValueError\u001B[39;00m(msg)\n",
      "\u001B[31mValueError\u001B[39m: Unrecognized compression type: ../data/interim/scoring.pkl\nValid compression types are ['infer', None, 'bz2', 'gzip', 'tar', 'xz', 'zip', 'zstd']"
     ]
    }
   ],
   "execution_count": 260
  },
  {
   "metadata": {},
   "cell_type": "markdown",
   "source": "---",
   "id": "55d39f6e272e3108"
  },
  {
   "metadata": {
    "ExecuteTime": {
     "end_time": "2025-03-22T11:36:26.293468Z",
     "start_time": "2025-03-22T11:36:26.273080Z"
    }
   },
   "cell_type": "code",
   "source": "teams = pd.read_csv(os.path.join('..', 'data', 'raw', 'Teams.csv'))",
   "id": "22072492aed149eb",
   "outputs": [],
   "execution_count": 249
  },
  {
   "metadata": {
    "ExecuteTime": {
     "end_time": "2025-03-22T11:36:26.517513Z",
     "start_time": "2025-03-22T11:36:26.500416Z"
    }
   },
   "cell_type": "code",
   "source": "teams.shape",
   "id": "f27957006b9fda60",
   "outputs": [
    {
     "data": {
      "text/plain": [
       "(1519, 27)"
      ]
     },
     "execution_count": 250,
     "metadata": {},
     "output_type": "execute_result"
    }
   ],
   "execution_count": 250
  },
  {
   "metadata": {
    "ExecuteTime": {
     "end_time": "2025-03-22T11:36:26.582669Z",
     "start_time": "2025-03-22T11:36:26.573736Z"
    }
   },
   "cell_type": "code",
   "source": "teams.columns",
   "id": "88402a701b21d52e",
   "outputs": [
    {
     "data": {
      "text/plain": [
       "Index(['year', 'lgID', 'tmID', 'franchID', 'confID', 'divID', 'rank',\n",
       "       'playoff', 'G', 'W', 'L', 'T', 'OTL', 'Pts', 'SoW', 'SoL', 'GF', 'GA',\n",
       "       'name', 'PIM', 'BenchMinor', 'PPG', 'PPC', 'SHA', 'PKG', 'PKC', 'SHF'],\n",
       "      dtype='object')"
      ]
     },
     "execution_count": 251,
     "metadata": {},
     "output_type": "execute_result"
    }
   ],
   "execution_count": 251
  },
  {
   "metadata": {
    "ExecuteTime": {
     "end_time": "2025-03-22T11:36:26.740642Z",
     "start_time": "2025-03-22T11:36:26.676710Z"
    }
   },
   "cell_type": "code",
   "source": "teams.sample(n=10)",
   "id": "86185a44118b8fc9",
   "outputs": [
    {
     "data": {
      "text/plain": [
       "      year lgID tmID franchID confID divID  rank playoff   G   W  ...   GA  \\\n",
       "637   1976  NHL  VAN      VAN     CC    SM     4     NaN  80  25  ...  294   \n",
       "504   1972  NHL  CHI      CHI    NaN    WD     1       F  78  42  ...  225   \n",
       "442   1967  NHL  MTL      MTL    NaN    ED     1      SC  74  42  ...  167   \n",
       "206   1931  NHL  NYR      NYR    NaN    AM     1       F  48  23  ...  112   \n",
       "1422  2008  NHL  PIT      PIT     EC    AT     2      SC  82  45  ...  239   \n",
       "936   1989  NHL  WIN      PHO     CC    SM     3     DSF  80  37  ...  290   \n",
       "126   1924  NHL  HAM      BKN    NaN   NaN     1    NHLF  30  19  ...   60   \n",
       "767   1981  NHL  WAS      WAS     WA    PT     5     NaN  80  26  ...  338   \n",
       "465   1969  NHL  MNS      DAL    NaN    WD     3      QF  76  19  ...  257   \n",
       "338   1950  NHL  MTL      MTL    NaN   NaN     3       F  70  25  ...  184   \n",
       "\n",
       "                       name     PIM  BenchMinor   PPG    PPC   SHA   PKG  \\\n",
       "637       Vancouver Canucks  1078.0        22.0  50.0  263.0   7.0  58.0   \n",
       "504     Chicago Black Hawks   864.0         4.0  52.0  244.0   4.0  51.0   \n",
       "442      Montreal Canadiens   698.0         NaN  50.0  245.0   3.0  34.0   \n",
       "206        New York Rangers   511.0         NaN   NaN    NaN   NaN   NaN   \n",
       "1422    Pittsburgh Penguins  1114.0         8.0  62.0  360.0  13.0  60.0   \n",
       "936           Winnipeg Jets  1639.0        10.0  65.0  347.0   7.0  57.0   \n",
       "126         Hamilton Tigers   335.0         NaN   NaN    NaN   NaN   NaN   \n",
       "767     Washington Capitals  1932.0        14.0  93.0  418.0  11.0  67.0   \n",
       "465   Minnesota North Stars  1008.0        20.0  57.0  274.0   7.0  65.0   \n",
       "338      Montreal Canadiens   835.0         NaN   NaN    NaN   NaN   NaN   \n",
       "\n",
       "        PKC   SHF  \n",
       "637   258.0   7.0  \n",
       "504   255.0  10.0  \n",
       "442   205.0   7.0  \n",
       "206     NaN   NaN  \n",
       "1422  347.0   7.0  \n",
       "936   333.0  14.0  \n",
       "126     NaN   NaN  \n",
       "767   309.0   8.0  \n",
       "465   284.0  10.0  \n",
       "338     NaN   NaN  \n",
       "\n",
       "[10 rows x 27 columns]"
      ],
      "text/html": [
       "<div>\n",
       "<style scoped>\n",
       "    .dataframe tbody tr th:only-of-type {\n",
       "        vertical-align: middle;\n",
       "    }\n",
       "\n",
       "    .dataframe tbody tr th {\n",
       "        vertical-align: top;\n",
       "    }\n",
       "\n",
       "    .dataframe thead th {\n",
       "        text-align: right;\n",
       "    }\n",
       "</style>\n",
       "<table border=\"1\" class=\"dataframe\">\n",
       "  <thead>\n",
       "    <tr style=\"text-align: right;\">\n",
       "      <th></th>\n",
       "      <th>year</th>\n",
       "      <th>lgID</th>\n",
       "      <th>tmID</th>\n",
       "      <th>franchID</th>\n",
       "      <th>confID</th>\n",
       "      <th>divID</th>\n",
       "      <th>rank</th>\n",
       "      <th>playoff</th>\n",
       "      <th>G</th>\n",
       "      <th>W</th>\n",
       "      <th>...</th>\n",
       "      <th>GA</th>\n",
       "      <th>name</th>\n",
       "      <th>PIM</th>\n",
       "      <th>BenchMinor</th>\n",
       "      <th>PPG</th>\n",
       "      <th>PPC</th>\n",
       "      <th>SHA</th>\n",
       "      <th>PKG</th>\n",
       "      <th>PKC</th>\n",
       "      <th>SHF</th>\n",
       "    </tr>\n",
       "  </thead>\n",
       "  <tbody>\n",
       "    <tr>\n",
       "      <th>637</th>\n",
       "      <td>1976</td>\n",
       "      <td>NHL</td>\n",
       "      <td>VAN</td>\n",
       "      <td>VAN</td>\n",
       "      <td>CC</td>\n",
       "      <td>SM</td>\n",
       "      <td>4</td>\n",
       "      <td>NaN</td>\n",
       "      <td>80</td>\n",
       "      <td>25</td>\n",
       "      <td>...</td>\n",
       "      <td>294</td>\n",
       "      <td>Vancouver Canucks</td>\n",
       "      <td>1078.0</td>\n",
       "      <td>22.0</td>\n",
       "      <td>50.0</td>\n",
       "      <td>263.0</td>\n",
       "      <td>7.0</td>\n",
       "      <td>58.0</td>\n",
       "      <td>258.0</td>\n",
       "      <td>7.0</td>\n",
       "    </tr>\n",
       "    <tr>\n",
       "      <th>504</th>\n",
       "      <td>1972</td>\n",
       "      <td>NHL</td>\n",
       "      <td>CHI</td>\n",
       "      <td>CHI</td>\n",
       "      <td>NaN</td>\n",
       "      <td>WD</td>\n",
       "      <td>1</td>\n",
       "      <td>F</td>\n",
       "      <td>78</td>\n",
       "      <td>42</td>\n",
       "      <td>...</td>\n",
       "      <td>225</td>\n",
       "      <td>Chicago Black Hawks</td>\n",
       "      <td>864.0</td>\n",
       "      <td>4.0</td>\n",
       "      <td>52.0</td>\n",
       "      <td>244.0</td>\n",
       "      <td>4.0</td>\n",
       "      <td>51.0</td>\n",
       "      <td>255.0</td>\n",
       "      <td>10.0</td>\n",
       "    </tr>\n",
       "    <tr>\n",
       "      <th>442</th>\n",
       "      <td>1967</td>\n",
       "      <td>NHL</td>\n",
       "      <td>MTL</td>\n",
       "      <td>MTL</td>\n",
       "      <td>NaN</td>\n",
       "      <td>ED</td>\n",
       "      <td>1</td>\n",
       "      <td>SC</td>\n",
       "      <td>74</td>\n",
       "      <td>42</td>\n",
       "      <td>...</td>\n",
       "      <td>167</td>\n",
       "      <td>Montreal Canadiens</td>\n",
       "      <td>698.0</td>\n",
       "      <td>NaN</td>\n",
       "      <td>50.0</td>\n",
       "      <td>245.0</td>\n",
       "      <td>3.0</td>\n",
       "      <td>34.0</td>\n",
       "      <td>205.0</td>\n",
       "      <td>7.0</td>\n",
       "    </tr>\n",
       "    <tr>\n",
       "      <th>206</th>\n",
       "      <td>1931</td>\n",
       "      <td>NHL</td>\n",
       "      <td>NYR</td>\n",
       "      <td>NYR</td>\n",
       "      <td>NaN</td>\n",
       "      <td>AM</td>\n",
       "      <td>1</td>\n",
       "      <td>F</td>\n",
       "      <td>48</td>\n",
       "      <td>23</td>\n",
       "      <td>...</td>\n",
       "      <td>112</td>\n",
       "      <td>New York Rangers</td>\n",
       "      <td>511.0</td>\n",
       "      <td>NaN</td>\n",
       "      <td>NaN</td>\n",
       "      <td>NaN</td>\n",
       "      <td>NaN</td>\n",
       "      <td>NaN</td>\n",
       "      <td>NaN</td>\n",
       "      <td>NaN</td>\n",
       "    </tr>\n",
       "    <tr>\n",
       "      <th>1422</th>\n",
       "      <td>2008</td>\n",
       "      <td>NHL</td>\n",
       "      <td>PIT</td>\n",
       "      <td>PIT</td>\n",
       "      <td>EC</td>\n",
       "      <td>AT</td>\n",
       "      <td>2</td>\n",
       "      <td>SC</td>\n",
       "      <td>82</td>\n",
       "      <td>45</td>\n",
       "      <td>...</td>\n",
       "      <td>239</td>\n",
       "      <td>Pittsburgh Penguins</td>\n",
       "      <td>1114.0</td>\n",
       "      <td>8.0</td>\n",
       "      <td>62.0</td>\n",
       "      <td>360.0</td>\n",
       "      <td>13.0</td>\n",
       "      <td>60.0</td>\n",
       "      <td>347.0</td>\n",
       "      <td>7.0</td>\n",
       "    </tr>\n",
       "    <tr>\n",
       "      <th>936</th>\n",
       "      <td>1989</td>\n",
       "      <td>NHL</td>\n",
       "      <td>WIN</td>\n",
       "      <td>PHO</td>\n",
       "      <td>CC</td>\n",
       "      <td>SM</td>\n",
       "      <td>3</td>\n",
       "      <td>DSF</td>\n",
       "      <td>80</td>\n",
       "      <td>37</td>\n",
       "      <td>...</td>\n",
       "      <td>290</td>\n",
       "      <td>Winnipeg Jets</td>\n",
       "      <td>1639.0</td>\n",
       "      <td>10.0</td>\n",
       "      <td>65.0</td>\n",
       "      <td>347.0</td>\n",
       "      <td>7.0</td>\n",
       "      <td>57.0</td>\n",
       "      <td>333.0</td>\n",
       "      <td>14.0</td>\n",
       "    </tr>\n",
       "    <tr>\n",
       "      <th>126</th>\n",
       "      <td>1924</td>\n",
       "      <td>NHL</td>\n",
       "      <td>HAM</td>\n",
       "      <td>BKN</td>\n",
       "      <td>NaN</td>\n",
       "      <td>NaN</td>\n",
       "      <td>1</td>\n",
       "      <td>NHLF</td>\n",
       "      <td>30</td>\n",
       "      <td>19</td>\n",
       "      <td>...</td>\n",
       "      <td>60</td>\n",
       "      <td>Hamilton Tigers</td>\n",
       "      <td>335.0</td>\n",
       "      <td>NaN</td>\n",
       "      <td>NaN</td>\n",
       "      <td>NaN</td>\n",
       "      <td>NaN</td>\n",
       "      <td>NaN</td>\n",
       "      <td>NaN</td>\n",
       "      <td>NaN</td>\n",
       "    </tr>\n",
       "    <tr>\n",
       "      <th>767</th>\n",
       "      <td>1981</td>\n",
       "      <td>NHL</td>\n",
       "      <td>WAS</td>\n",
       "      <td>WAS</td>\n",
       "      <td>WA</td>\n",
       "      <td>PT</td>\n",
       "      <td>5</td>\n",
       "      <td>NaN</td>\n",
       "      <td>80</td>\n",
       "      <td>26</td>\n",
       "      <td>...</td>\n",
       "      <td>338</td>\n",
       "      <td>Washington Capitals</td>\n",
       "      <td>1932.0</td>\n",
       "      <td>14.0</td>\n",
       "      <td>93.0</td>\n",
       "      <td>418.0</td>\n",
       "      <td>11.0</td>\n",
       "      <td>67.0</td>\n",
       "      <td>309.0</td>\n",
       "      <td>8.0</td>\n",
       "    </tr>\n",
       "    <tr>\n",
       "      <th>465</th>\n",
       "      <td>1969</td>\n",
       "      <td>NHL</td>\n",
       "      <td>MNS</td>\n",
       "      <td>DAL</td>\n",
       "      <td>NaN</td>\n",
       "      <td>WD</td>\n",
       "      <td>3</td>\n",
       "      <td>QF</td>\n",
       "      <td>76</td>\n",
       "      <td>19</td>\n",
       "      <td>...</td>\n",
       "      <td>257</td>\n",
       "      <td>Minnesota North Stars</td>\n",
       "      <td>1008.0</td>\n",
       "      <td>20.0</td>\n",
       "      <td>57.0</td>\n",
       "      <td>274.0</td>\n",
       "      <td>7.0</td>\n",
       "      <td>65.0</td>\n",
       "      <td>284.0</td>\n",
       "      <td>10.0</td>\n",
       "    </tr>\n",
       "    <tr>\n",
       "      <th>338</th>\n",
       "      <td>1950</td>\n",
       "      <td>NHL</td>\n",
       "      <td>MTL</td>\n",
       "      <td>MTL</td>\n",
       "      <td>NaN</td>\n",
       "      <td>NaN</td>\n",
       "      <td>3</td>\n",
       "      <td>F</td>\n",
       "      <td>70</td>\n",
       "      <td>25</td>\n",
       "      <td>...</td>\n",
       "      <td>184</td>\n",
       "      <td>Montreal Canadiens</td>\n",
       "      <td>835.0</td>\n",
       "      <td>NaN</td>\n",
       "      <td>NaN</td>\n",
       "      <td>NaN</td>\n",
       "      <td>NaN</td>\n",
       "      <td>NaN</td>\n",
       "      <td>NaN</td>\n",
       "      <td>NaN</td>\n",
       "    </tr>\n",
       "  </tbody>\n",
       "</table>\n",
       "<p>10 rows × 27 columns</p>\n",
       "</div>"
      ]
     },
     "execution_count": 252,
     "metadata": {},
     "output_type": "execute_result"
    }
   ],
   "execution_count": 252
  },
  {
   "metadata": {
    "ExecuteTime": {
     "end_time": "2025-03-22T11:36:26.953982Z",
     "start_time": "2025-03-22T11:36:26.929693Z"
    }
   },
   "cell_type": "code",
   "source": "teams.info()",
   "id": "2df1a894533cc558",
   "outputs": [
    {
     "name": "stdout",
     "output_type": "stream",
     "text": [
      "<class 'pandas.core.frame.DataFrame'>\n",
      "RangeIndex: 1519 entries, 0 to 1518\n",
      "Data columns (total 27 columns):\n",
      " #   Column      Non-Null Count  Dtype  \n",
      "---  ------      --------------  -----  \n",
      " 0   year        1519 non-null   int64  \n",
      " 1   lgID        1519 non-null   object \n",
      " 2   tmID        1519 non-null   object \n",
      " 3   franchID    1519 non-null   object \n",
      " 4   confID      902 non-null    object \n",
      " 5   divID       1171 non-null   object \n",
      " 6   rank        1519 non-null   int64  \n",
      " 7   playoff     936 non-null    object \n",
      " 8   G           1519 non-null   int64  \n",
      " 9   W           1519 non-null   int64  \n",
      " 10  L           1519 non-null   int64  \n",
      " 11  T           1309 non-null   float64\n",
      " 12  OTL         358 non-null    float64\n",
      " 13  Pts         1519 non-null   int64  \n",
      " 14  SoW         210 non-null    float64\n",
      " 15  SoL         210 non-null    float64\n",
      " 16  GF          1519 non-null   int64  \n",
      " 17  GA          1519 non-null   int64  \n",
      " 18  name        1519 non-null   object \n",
      " 19  PIM         1409 non-null   float64\n",
      " 20  BenchMinor  1028 non-null   float64\n",
      " 21  PPG         1101 non-null   float64\n",
      " 22  PPC         1100 non-null   float64\n",
      " 23  SHA         1101 non-null   float64\n",
      " 24  PKG         1101 non-null   float64\n",
      " 25  PKC         1100 non-null   float64\n",
      " 26  SHF         1101 non-null   float64\n",
      "dtypes: float64(12), int64(8), object(7)\n",
      "memory usage: 320.5+ KB\n"
     ]
    }
   ],
   "execution_count": 253
  },
  {
   "metadata": {
    "ExecuteTime": {
     "end_time": "2025-03-22T11:36:27.219226Z",
     "start_time": "2025-03-22T11:36:27.208898Z"
    }
   },
   "cell_type": "code",
   "source": "teams = teams.loc[(teams['year'] > 1980) & (teams['lgID'] == 'NHL')]",
   "id": "b01690fbbfc73120",
   "outputs": [],
   "execution_count": 254
  },
  {
   "metadata": {
    "ExecuteTime": {
     "end_time": "2025-03-22T11:42:24.832175Z",
     "start_time": "2025-03-22T11:42:24.749941Z"
    }
   },
   "cell_type": "code",
   "source": "teams",
   "id": "9ce1ac113aa0a338",
   "outputs": [
    {
     "data": {
      "text/plain": [
       "      year lgID tmID franchID confID divID  rank playoff   G   W  ...   GA  \\\n",
       "748   1981  NHL  BOS      BOS     WA    AD     2      DF  80  43  ...  285   \n",
       "749   1981  NHL  BUF      BUF     WA    AD     3     DSF  80  39  ...  273   \n",
       "750   1981  NHL  CAL      CAL     CC    SM     3     DSF  80  29  ...  345   \n",
       "751   1981  NHL  CHI      CHI     CC    NO     4      CF  80  30  ...  363   \n",
       "752   1981  NHL  COR      NJD     CC    SM     5     NaN  80  18  ...  362   \n",
       "...    ...  ...  ...      ...    ...   ...   ...     ...  ..  ..  ...  ...   \n",
       "1514  2011  NHL  TBL      TBL     EC    SE     3     NaN  82  38  ...  281   \n",
       "1515  2011  NHL  TOR      TOR     EC    NE     4     NaN  82  35  ...  264   \n",
       "1516  2011  NHL  VAN      VAN     WC    NW     1     CQF  82  51  ...  198   \n",
       "1517  2011  NHL  WAS      WAS     EC    SE     2     CSF  82  42  ...  230   \n",
       "1518  2011  NHL  WPG      WPG     EC    SE     4     NaN  82  37  ...  246   \n",
       "\n",
       "                     name     PIM  BenchMinor   PPG    PPC   SHA   PKG    PKC  \\\n",
       "748         Boston Bruins  1266.0         4.0  65.0  289.0   7.0  54.0  291.0   \n",
       "749        Buffalo Sabres  1425.0        18.0  63.0  301.0  10.0  57.0  281.0   \n",
       "750        Calgary Flames  1331.0        22.0  78.0  290.0   9.0  72.0  328.0   \n",
       "751   Chicago Black Hawks  1775.0        12.0  78.0  315.0  12.0  93.0  383.0   \n",
       "752      Colorado Rockies  1138.0        20.0  46.0  305.0  15.0  63.0  268.0   \n",
       "...                   ...     ...         ...   ...    ...   ...   ...    ...   \n",
       "1514  Tampa Bay Lightning   865.0        16.0  41.0  269.0  12.0  59.0  284.0   \n",
       "1515  Toronto Maple Leafs   824.0        16.0  49.0  267.0   6.0  55.0  242.0   \n",
       "1516    Vancouver Canucks  1049.0        10.0  57.0  288.0   4.0  40.0  286.0   \n",
       "1517  Washington Capitals   767.0        16.0  41.0  245.0  10.0  49.0  266.0   \n",
       "1518        Winnipeg Jets   905.0         4.0  45.0  251.0   8.0  58.0  292.0   \n",
       "\n",
       "       SHF  \n",
       "748   11.0  \n",
       "749    4.0  \n",
       "750    8.0  \n",
       "751   13.0  \n",
       "752    4.0  \n",
       "...    ...  \n",
       "1514   2.0  \n",
       "1515   5.0  \n",
       "1516   7.0  \n",
       "1517   3.0  \n",
       "1518   3.0  \n",
       "\n",
       "[771 rows x 27 columns]"
      ],
      "text/html": [
       "<div>\n",
       "<style scoped>\n",
       "    .dataframe tbody tr th:only-of-type {\n",
       "        vertical-align: middle;\n",
       "    }\n",
       "\n",
       "    .dataframe tbody tr th {\n",
       "        vertical-align: top;\n",
       "    }\n",
       "\n",
       "    .dataframe thead th {\n",
       "        text-align: right;\n",
       "    }\n",
       "</style>\n",
       "<table border=\"1\" class=\"dataframe\">\n",
       "  <thead>\n",
       "    <tr style=\"text-align: right;\">\n",
       "      <th></th>\n",
       "      <th>year</th>\n",
       "      <th>lgID</th>\n",
       "      <th>tmID</th>\n",
       "      <th>franchID</th>\n",
       "      <th>confID</th>\n",
       "      <th>divID</th>\n",
       "      <th>rank</th>\n",
       "      <th>playoff</th>\n",
       "      <th>G</th>\n",
       "      <th>W</th>\n",
       "      <th>...</th>\n",
       "      <th>GA</th>\n",
       "      <th>name</th>\n",
       "      <th>PIM</th>\n",
       "      <th>BenchMinor</th>\n",
       "      <th>PPG</th>\n",
       "      <th>PPC</th>\n",
       "      <th>SHA</th>\n",
       "      <th>PKG</th>\n",
       "      <th>PKC</th>\n",
       "      <th>SHF</th>\n",
       "    </tr>\n",
       "  </thead>\n",
       "  <tbody>\n",
       "    <tr>\n",
       "      <th>748</th>\n",
       "      <td>1981</td>\n",
       "      <td>NHL</td>\n",
       "      <td>BOS</td>\n",
       "      <td>BOS</td>\n",
       "      <td>WA</td>\n",
       "      <td>AD</td>\n",
       "      <td>2</td>\n",
       "      <td>DF</td>\n",
       "      <td>80</td>\n",
       "      <td>43</td>\n",
       "      <td>...</td>\n",
       "      <td>285</td>\n",
       "      <td>Boston Bruins</td>\n",
       "      <td>1266.0</td>\n",
       "      <td>4.0</td>\n",
       "      <td>65.0</td>\n",
       "      <td>289.0</td>\n",
       "      <td>7.0</td>\n",
       "      <td>54.0</td>\n",
       "      <td>291.0</td>\n",
       "      <td>11.0</td>\n",
       "    </tr>\n",
       "    <tr>\n",
       "      <th>749</th>\n",
       "      <td>1981</td>\n",
       "      <td>NHL</td>\n",
       "      <td>BUF</td>\n",
       "      <td>BUF</td>\n",
       "      <td>WA</td>\n",
       "      <td>AD</td>\n",
       "      <td>3</td>\n",
       "      <td>DSF</td>\n",
       "      <td>80</td>\n",
       "      <td>39</td>\n",
       "      <td>...</td>\n",
       "      <td>273</td>\n",
       "      <td>Buffalo Sabres</td>\n",
       "      <td>1425.0</td>\n",
       "      <td>18.0</td>\n",
       "      <td>63.0</td>\n",
       "      <td>301.0</td>\n",
       "      <td>10.0</td>\n",
       "      <td>57.0</td>\n",
       "      <td>281.0</td>\n",
       "      <td>4.0</td>\n",
       "    </tr>\n",
       "    <tr>\n",
       "      <th>750</th>\n",
       "      <td>1981</td>\n",
       "      <td>NHL</td>\n",
       "      <td>CAL</td>\n",
       "      <td>CAL</td>\n",
       "      <td>CC</td>\n",
       "      <td>SM</td>\n",
       "      <td>3</td>\n",
       "      <td>DSF</td>\n",
       "      <td>80</td>\n",
       "      <td>29</td>\n",
       "      <td>...</td>\n",
       "      <td>345</td>\n",
       "      <td>Calgary Flames</td>\n",
       "      <td>1331.0</td>\n",
       "      <td>22.0</td>\n",
       "      <td>78.0</td>\n",
       "      <td>290.0</td>\n",
       "      <td>9.0</td>\n",
       "      <td>72.0</td>\n",
       "      <td>328.0</td>\n",
       "      <td>8.0</td>\n",
       "    </tr>\n",
       "    <tr>\n",
       "      <th>751</th>\n",
       "      <td>1981</td>\n",
       "      <td>NHL</td>\n",
       "      <td>CHI</td>\n",
       "      <td>CHI</td>\n",
       "      <td>CC</td>\n",
       "      <td>NO</td>\n",
       "      <td>4</td>\n",
       "      <td>CF</td>\n",
       "      <td>80</td>\n",
       "      <td>30</td>\n",
       "      <td>...</td>\n",
       "      <td>363</td>\n",
       "      <td>Chicago Black Hawks</td>\n",
       "      <td>1775.0</td>\n",
       "      <td>12.0</td>\n",
       "      <td>78.0</td>\n",
       "      <td>315.0</td>\n",
       "      <td>12.0</td>\n",
       "      <td>93.0</td>\n",
       "      <td>383.0</td>\n",
       "      <td>13.0</td>\n",
       "    </tr>\n",
       "    <tr>\n",
       "      <th>752</th>\n",
       "      <td>1981</td>\n",
       "      <td>NHL</td>\n",
       "      <td>COR</td>\n",
       "      <td>NJD</td>\n",
       "      <td>CC</td>\n",
       "      <td>SM</td>\n",
       "      <td>5</td>\n",
       "      <td>NaN</td>\n",
       "      <td>80</td>\n",
       "      <td>18</td>\n",
       "      <td>...</td>\n",
       "      <td>362</td>\n",
       "      <td>Colorado Rockies</td>\n",
       "      <td>1138.0</td>\n",
       "      <td>20.0</td>\n",
       "      <td>46.0</td>\n",
       "      <td>305.0</td>\n",
       "      <td>15.0</td>\n",
       "      <td>63.0</td>\n",
       "      <td>268.0</td>\n",
       "      <td>4.0</td>\n",
       "    </tr>\n",
       "    <tr>\n",
       "      <th>...</th>\n",
       "      <td>...</td>\n",
       "      <td>...</td>\n",
       "      <td>...</td>\n",
       "      <td>...</td>\n",
       "      <td>...</td>\n",
       "      <td>...</td>\n",
       "      <td>...</td>\n",
       "      <td>...</td>\n",
       "      <td>...</td>\n",
       "      <td>...</td>\n",
       "      <td>...</td>\n",
       "      <td>...</td>\n",
       "      <td>...</td>\n",
       "      <td>...</td>\n",
       "      <td>...</td>\n",
       "      <td>...</td>\n",
       "      <td>...</td>\n",
       "      <td>...</td>\n",
       "      <td>...</td>\n",
       "      <td>...</td>\n",
       "      <td>...</td>\n",
       "    </tr>\n",
       "    <tr>\n",
       "      <th>1514</th>\n",
       "      <td>2011</td>\n",
       "      <td>NHL</td>\n",
       "      <td>TBL</td>\n",
       "      <td>TBL</td>\n",
       "      <td>EC</td>\n",
       "      <td>SE</td>\n",
       "      <td>3</td>\n",
       "      <td>NaN</td>\n",
       "      <td>82</td>\n",
       "      <td>38</td>\n",
       "      <td>...</td>\n",
       "      <td>281</td>\n",
       "      <td>Tampa Bay Lightning</td>\n",
       "      <td>865.0</td>\n",
       "      <td>16.0</td>\n",
       "      <td>41.0</td>\n",
       "      <td>269.0</td>\n",
       "      <td>12.0</td>\n",
       "      <td>59.0</td>\n",
       "      <td>284.0</td>\n",
       "      <td>2.0</td>\n",
       "    </tr>\n",
       "    <tr>\n",
       "      <th>1515</th>\n",
       "      <td>2011</td>\n",
       "      <td>NHL</td>\n",
       "      <td>TOR</td>\n",
       "      <td>TOR</td>\n",
       "      <td>EC</td>\n",
       "      <td>NE</td>\n",
       "      <td>4</td>\n",
       "      <td>NaN</td>\n",
       "      <td>82</td>\n",
       "      <td>35</td>\n",
       "      <td>...</td>\n",
       "      <td>264</td>\n",
       "      <td>Toronto Maple Leafs</td>\n",
       "      <td>824.0</td>\n",
       "      <td>16.0</td>\n",
       "      <td>49.0</td>\n",
       "      <td>267.0</td>\n",
       "      <td>6.0</td>\n",
       "      <td>55.0</td>\n",
       "      <td>242.0</td>\n",
       "      <td>5.0</td>\n",
       "    </tr>\n",
       "    <tr>\n",
       "      <th>1516</th>\n",
       "      <td>2011</td>\n",
       "      <td>NHL</td>\n",
       "      <td>VAN</td>\n",
       "      <td>VAN</td>\n",
       "      <td>WC</td>\n",
       "      <td>NW</td>\n",
       "      <td>1</td>\n",
       "      <td>CQF</td>\n",
       "      <td>82</td>\n",
       "      <td>51</td>\n",
       "      <td>...</td>\n",
       "      <td>198</td>\n",
       "      <td>Vancouver Canucks</td>\n",
       "      <td>1049.0</td>\n",
       "      <td>10.0</td>\n",
       "      <td>57.0</td>\n",
       "      <td>288.0</td>\n",
       "      <td>4.0</td>\n",
       "      <td>40.0</td>\n",
       "      <td>286.0</td>\n",
       "      <td>7.0</td>\n",
       "    </tr>\n",
       "    <tr>\n",
       "      <th>1517</th>\n",
       "      <td>2011</td>\n",
       "      <td>NHL</td>\n",
       "      <td>WAS</td>\n",
       "      <td>WAS</td>\n",
       "      <td>EC</td>\n",
       "      <td>SE</td>\n",
       "      <td>2</td>\n",
       "      <td>CSF</td>\n",
       "      <td>82</td>\n",
       "      <td>42</td>\n",
       "      <td>...</td>\n",
       "      <td>230</td>\n",
       "      <td>Washington Capitals</td>\n",
       "      <td>767.0</td>\n",
       "      <td>16.0</td>\n",
       "      <td>41.0</td>\n",
       "      <td>245.0</td>\n",
       "      <td>10.0</td>\n",
       "      <td>49.0</td>\n",
       "      <td>266.0</td>\n",
       "      <td>3.0</td>\n",
       "    </tr>\n",
       "    <tr>\n",
       "      <th>1518</th>\n",
       "      <td>2011</td>\n",
       "      <td>NHL</td>\n",
       "      <td>WPG</td>\n",
       "      <td>WPG</td>\n",
       "      <td>EC</td>\n",
       "      <td>SE</td>\n",
       "      <td>4</td>\n",
       "      <td>NaN</td>\n",
       "      <td>82</td>\n",
       "      <td>37</td>\n",
       "      <td>...</td>\n",
       "      <td>246</td>\n",
       "      <td>Winnipeg Jets</td>\n",
       "      <td>905.0</td>\n",
       "      <td>4.0</td>\n",
       "      <td>45.0</td>\n",
       "      <td>251.0</td>\n",
       "      <td>8.0</td>\n",
       "      <td>58.0</td>\n",
       "      <td>292.0</td>\n",
       "      <td>3.0</td>\n",
       "    </tr>\n",
       "  </tbody>\n",
       "</table>\n",
       "<p>771 rows × 27 columns</p>\n",
       "</div>"
      ]
     },
     "execution_count": 256,
     "metadata": {},
     "output_type": "execute_result"
    }
   ],
   "execution_count": 256
  },
  {
   "metadata": {
    "ExecuteTime": {
     "end_time": "2025-03-22T11:43:56.977850Z",
     "start_time": "2025-03-22T11:43:56.941721Z"
    }
   },
   "cell_type": "code",
   "source": "teams.nunique()",
   "id": "de7121607961e7c2",
   "outputs": [
    {
     "data": {
      "text/plain": [
       "year           30\n",
       "lgID            1\n",
       "tmID           37\n",
       "franchID       30\n",
       "confID          4\n",
       "divID          10\n",
       "rank            7\n",
       "playoff         7\n",
       "G               4\n",
       "W              49\n",
       "L              50\n",
       "T              19\n",
       "OTL            18\n",
       "Pts            90\n",
       "SoW            15\n",
       "SoL            12\n",
       "GF            209\n",
       "GA            214\n",
       "name           37\n",
       "PIM           594\n",
       "BenchMinor     22\n",
       "PPG            85\n",
       "PPC           244\n",
       "SHA            22\n",
       "PKG            85\n",
       "PKC           249\n",
       "SHF            28\n",
       "dtype: int64"
      ]
     },
     "execution_count": 257,
     "metadata": {},
     "output_type": "execute_result"
    }
   ],
   "execution_count": 257
  },
  {
   "metadata": {
    "ExecuteTime": {
     "end_time": "2025-03-22T11:47:30.135506Z",
     "start_time": "2025-03-22T11:47:30.126224Z"
    }
   },
   "cell_type": "code",
   "source": "teams.loc[:, 'tmID'] = pd.Categorical(teams['tmID'])",
   "id": "f80e05b6a6d210fb",
   "outputs": [],
   "execution_count": 258
  },
  {
   "metadata": {
    "ExecuteTime": {
     "end_time": "2025-03-22T11:47:52.246358Z",
     "start_time": "2025-03-22T11:47:52.237376Z"
    }
   },
   "cell_type": "code",
   "source": "teams.to_pickle(os.path.join('..', 'data', 'interim', 'teams.pkl'))",
   "id": "3e029efd17a34a95",
   "outputs": [],
   "execution_count": 259
  },
  {
   "metadata": {},
   "cell_type": "markdown",
   "source": "---",
   "id": "bb0c47dbddda60dc"
  },
  {
   "metadata": {
    "ExecuteTime": {
     "end_time": "2025-03-22T11:49:25.613025Z",
     "start_time": "2025-03-22T11:49:25.591646Z"
    }
   },
   "cell_type": "code",
   "source": "team_splits = pd.read_csv(os.path.join('..', 'data', 'raw', 'TeamSplits.csv'))",
   "id": "ce6f730b2003127f",
   "outputs": [],
   "execution_count": 262
  },
  {
   "metadata": {
    "ExecuteTime": {
     "end_time": "2025-03-22T11:49:38.024582Z",
     "start_time": "2025-03-22T11:49:38.014102Z"
    }
   },
   "cell_type": "code",
   "source": "team_splits.shape",
   "id": "6b4a8f96f4a48e97",
   "outputs": [
    {
     "data": {
      "text/plain": [
       "(1519, 43)"
      ]
     },
     "execution_count": 263,
     "metadata": {},
     "output_type": "execute_result"
    }
   ],
   "execution_count": 263
  },
  {
   "metadata": {
    "ExecuteTime": {
     "end_time": "2025-03-22T11:49:57.320658Z",
     "start_time": "2025-03-22T11:49:57.288814Z"
    }
   },
   "cell_type": "code",
   "source": "team_splits.info()",
   "id": "d3fd051bdf0c2827",
   "outputs": [
    {
     "name": "stdout",
     "output_type": "stream",
     "text": [
      "<class 'pandas.core.frame.DataFrame'>\n",
      "RangeIndex: 1519 entries, 0 to 1518\n",
      "Data columns (total 43 columns):\n",
      " #   Column  Non-Null Count  Dtype  \n",
      "---  ------  --------------  -----  \n",
      " 0   year    1519 non-null   int64  \n",
      " 1   lgID    1519 non-null   object \n",
      " 2   tmID    1519 non-null   object \n",
      " 3   hW      1519 non-null   int64  \n",
      " 4   hL      1519 non-null   int64  \n",
      " 5   hT      1309 non-null   float64\n",
      " 6   hOTL    358 non-null    float64\n",
      " 7   rW      1519 non-null   int64  \n",
      " 8   rL      1519 non-null   int64  \n",
      " 9   rT      1309 non-null   float64\n",
      " 10  rOTL    358 non-null    float64\n",
      " 11  SepW    2 non-null      float64\n",
      " 12  SepL    2 non-null      float64\n",
      " 13  SepT    0 non-null      float64\n",
      " 14  SepOL   2 non-null      float64\n",
      " 15  OctW    1199 non-null   float64\n",
      " 16  OctL    1199 non-null   float64\n",
      " 17  OctT    989 non-null    float64\n",
      " 18  OctOL   358 non-null    float64\n",
      " 19  NovW    1358 non-null   float64\n",
      " 20  NovL    1358 non-null   float64\n",
      " 21  NovT    1148 non-null   float64\n",
      " 22  NovOL   358 non-null    float64\n",
      " 23  DecW    1473 non-null   float64\n",
      " 24  DecL    1473 non-null   float64\n",
      " 25  DecT    1263 non-null   float64\n",
      " 26  DecOL   358 non-null    float64\n",
      " 27  JanW    1515 non-null   float64\n",
      " 28  JanL    1515 non-null   float64\n",
      " 29  JanT    1305 non-null   float64\n",
      " 30  JanOL   358 non-null    float64\n",
      " 31  FebW    1510 non-null   float64\n",
      " 32  FebL    1510 non-null   float64\n",
      " 33  FebT    1300 non-null   float64\n",
      " 34  FebOL   358 non-null    float64\n",
      " 35  MarW    1485 non-null   float64\n",
      " 36  MarL    1485 non-null   float64\n",
      " 37  MarT    1275 non-null   float64\n",
      " 38  MarOL   358 non-null    float64\n",
      " 39  AprW    1018 non-null   float64\n",
      " 40  AprL    1018 non-null   float64\n",
      " 41  AprT    808 non-null    float64\n",
      " 42  AprOL   358 non-null    float64\n",
      "dtypes: float64(36), int64(5), object(2)\n",
      "memory usage: 510.4+ KB\n"
     ]
    }
   ],
   "execution_count": 265
  },
  {
   "metadata": {
    "ExecuteTime": {
     "end_time": "2025-03-22T11:50:18.056950Z",
     "start_time": "2025-03-22T11:50:18.000908Z"
    }
   },
   "cell_type": "code",
   "source": "team_splits.head()",
   "id": "aab9d841bd8b120d",
   "outputs": [
    {
     "data": {
      "text/plain": [
       "   year lgID tmID  hW  hL   hT  hOTL  rW  rL   rT  ...  FebT  FebOL  MarW  \\\n",
       "0  1909  NHA  COB   2   4  0.0   NaN   2   4  0.0  ...   0.0    NaN   1.0   \n",
       "1  1909  NHA  HAI   3   3  0.0   NaN   1   5  0.0  ...   0.0    NaN   1.0   \n",
       "2  1909  NHA  LES   2   4  0.0   NaN   0   6  0.0  ...   0.0    NaN   1.0   \n",
       "3  1909  NHA  MOS   3   2  1.0   NaN   0   6  0.0  ...   0.0    NaN   1.0   \n",
       "4  1909  NHA  MOW   6   0  0.0   NaN   5   1  0.0  ...   0.0    NaN   3.0   \n",
       "\n",
       "   MarL  MarT  MarOL  AprW  AprL  AprT  AprOL  \n",
       "0   4.0   0.0    NaN   NaN   NaN   NaN    NaN  \n",
       "1   0.0   0.0    NaN   NaN   NaN   NaN    NaN  \n",
       "2   2.0   0.0    NaN   NaN   NaN   NaN    NaN  \n",
       "3   1.0   0.0    NaN   NaN   NaN   NaN    NaN  \n",
       "4   0.0   0.0    NaN   NaN   NaN   NaN    NaN  \n",
       "\n",
       "[5 rows x 43 columns]"
      ],
      "text/html": [
       "<div>\n",
       "<style scoped>\n",
       "    .dataframe tbody tr th:only-of-type {\n",
       "        vertical-align: middle;\n",
       "    }\n",
       "\n",
       "    .dataframe tbody tr th {\n",
       "        vertical-align: top;\n",
       "    }\n",
       "\n",
       "    .dataframe thead th {\n",
       "        text-align: right;\n",
       "    }\n",
       "</style>\n",
       "<table border=\"1\" class=\"dataframe\">\n",
       "  <thead>\n",
       "    <tr style=\"text-align: right;\">\n",
       "      <th></th>\n",
       "      <th>year</th>\n",
       "      <th>lgID</th>\n",
       "      <th>tmID</th>\n",
       "      <th>hW</th>\n",
       "      <th>hL</th>\n",
       "      <th>hT</th>\n",
       "      <th>hOTL</th>\n",
       "      <th>rW</th>\n",
       "      <th>rL</th>\n",
       "      <th>rT</th>\n",
       "      <th>...</th>\n",
       "      <th>FebT</th>\n",
       "      <th>FebOL</th>\n",
       "      <th>MarW</th>\n",
       "      <th>MarL</th>\n",
       "      <th>MarT</th>\n",
       "      <th>MarOL</th>\n",
       "      <th>AprW</th>\n",
       "      <th>AprL</th>\n",
       "      <th>AprT</th>\n",
       "      <th>AprOL</th>\n",
       "    </tr>\n",
       "  </thead>\n",
       "  <tbody>\n",
       "    <tr>\n",
       "      <th>0</th>\n",
       "      <td>1909</td>\n",
       "      <td>NHA</td>\n",
       "      <td>COB</td>\n",
       "      <td>2</td>\n",
       "      <td>4</td>\n",
       "      <td>0.0</td>\n",
       "      <td>NaN</td>\n",
       "      <td>2</td>\n",
       "      <td>4</td>\n",
       "      <td>0.0</td>\n",
       "      <td>...</td>\n",
       "      <td>0.0</td>\n",
       "      <td>NaN</td>\n",
       "      <td>1.0</td>\n",
       "      <td>4.0</td>\n",
       "      <td>0.0</td>\n",
       "      <td>NaN</td>\n",
       "      <td>NaN</td>\n",
       "      <td>NaN</td>\n",
       "      <td>NaN</td>\n",
       "      <td>NaN</td>\n",
       "    </tr>\n",
       "    <tr>\n",
       "      <th>1</th>\n",
       "      <td>1909</td>\n",
       "      <td>NHA</td>\n",
       "      <td>HAI</td>\n",
       "      <td>3</td>\n",
       "      <td>3</td>\n",
       "      <td>0.0</td>\n",
       "      <td>NaN</td>\n",
       "      <td>1</td>\n",
       "      <td>5</td>\n",
       "      <td>0.0</td>\n",
       "      <td>...</td>\n",
       "      <td>0.0</td>\n",
       "      <td>NaN</td>\n",
       "      <td>1.0</td>\n",
       "      <td>0.0</td>\n",
       "      <td>0.0</td>\n",
       "      <td>NaN</td>\n",
       "      <td>NaN</td>\n",
       "      <td>NaN</td>\n",
       "      <td>NaN</td>\n",
       "      <td>NaN</td>\n",
       "    </tr>\n",
       "    <tr>\n",
       "      <th>2</th>\n",
       "      <td>1909</td>\n",
       "      <td>NHA</td>\n",
       "      <td>LES</td>\n",
       "      <td>2</td>\n",
       "      <td>4</td>\n",
       "      <td>0.0</td>\n",
       "      <td>NaN</td>\n",
       "      <td>0</td>\n",
       "      <td>6</td>\n",
       "      <td>0.0</td>\n",
       "      <td>...</td>\n",
       "      <td>0.0</td>\n",
       "      <td>NaN</td>\n",
       "      <td>1.0</td>\n",
       "      <td>2.0</td>\n",
       "      <td>0.0</td>\n",
       "      <td>NaN</td>\n",
       "      <td>NaN</td>\n",
       "      <td>NaN</td>\n",
       "      <td>NaN</td>\n",
       "      <td>NaN</td>\n",
       "    </tr>\n",
       "    <tr>\n",
       "      <th>3</th>\n",
       "      <td>1909</td>\n",
       "      <td>NHA</td>\n",
       "      <td>MOS</td>\n",
       "      <td>3</td>\n",
       "      <td>2</td>\n",
       "      <td>1.0</td>\n",
       "      <td>NaN</td>\n",
       "      <td>0</td>\n",
       "      <td>6</td>\n",
       "      <td>0.0</td>\n",
       "      <td>...</td>\n",
       "      <td>0.0</td>\n",
       "      <td>NaN</td>\n",
       "      <td>1.0</td>\n",
       "      <td>1.0</td>\n",
       "      <td>0.0</td>\n",
       "      <td>NaN</td>\n",
       "      <td>NaN</td>\n",
       "      <td>NaN</td>\n",
       "      <td>NaN</td>\n",
       "      <td>NaN</td>\n",
       "    </tr>\n",
       "    <tr>\n",
       "      <th>4</th>\n",
       "      <td>1909</td>\n",
       "      <td>NHA</td>\n",
       "      <td>MOW</td>\n",
       "      <td>6</td>\n",
       "      <td>0</td>\n",
       "      <td>0.0</td>\n",
       "      <td>NaN</td>\n",
       "      <td>5</td>\n",
       "      <td>1</td>\n",
       "      <td>0.0</td>\n",
       "      <td>...</td>\n",
       "      <td>0.0</td>\n",
       "      <td>NaN</td>\n",
       "      <td>3.0</td>\n",
       "      <td>0.0</td>\n",
       "      <td>0.0</td>\n",
       "      <td>NaN</td>\n",
       "      <td>NaN</td>\n",
       "      <td>NaN</td>\n",
       "      <td>NaN</td>\n",
       "      <td>NaN</td>\n",
       "    </tr>\n",
       "  </tbody>\n",
       "</table>\n",
       "<p>5 rows × 43 columns</p>\n",
       "</div>"
      ]
     },
     "execution_count": 266,
     "metadata": {},
     "output_type": "execute_result"
    }
   ],
   "execution_count": 266
  },
  {
   "metadata": {
    "ExecuteTime": {
     "end_time": "2025-03-22T11:49:40.936008Z",
     "start_time": "2025-03-22T11:49:40.925276Z"
    }
   },
   "cell_type": "code",
   "outputs": [
    {
     "data": {
      "text/plain": [
       "Index(['year', 'lgID', 'tmID', 'hW', 'hL', 'hT', 'hOTL', 'rW', 'rL', 'rT',\n",
       "       'rOTL', 'SepW', 'SepL', 'SepT', 'SepOL', 'OctW', 'OctL', 'OctT',\n",
       "       'OctOL', 'NovW', 'NovL', 'NovT', 'NovOL', 'DecW', 'DecL', 'DecT',\n",
       "       'DecOL', 'JanW', 'JanL', 'JanT', 'JanOL', 'FebW', 'FebL', 'FebT',\n",
       "       'FebOL', 'MarW', 'MarL', 'MarT', 'MarOL', 'AprW', 'AprL', 'AprT',\n",
       "       'AprOL'],\n",
       "      dtype='object')"
      ]
     },
     "execution_count": 264,
     "metadata": {},
     "output_type": "execute_result"
    }
   ],
   "execution_count": 264,
   "source": "team_splits.columns",
   "id": "898010091f7da4e7"
  },
  {
   "metadata": {
    "ExecuteTime": {
     "end_time": "2025-03-22T11:53:03.644235Z",
     "start_time": "2025-03-22T11:53:03.633412Z"
    }
   },
   "cell_type": "code",
   "source": "team_splits = team_splits.loc[(team_splits[\"lgID\"] == 'NHL') & (team_splits[\"year\"] >= 1980)]",
   "id": "1936ad2816050abf",
   "outputs": [],
   "execution_count": 269
  },
  {
   "metadata": {
    "ExecuteTime": {
     "end_time": "2025-03-22T11:53:13.940423Z",
     "start_time": "2025-03-22T11:53:13.862058Z"
    }
   },
   "cell_type": "code",
   "source": "team_splits",
   "id": "854090ec484140a6",
   "outputs": [
    {
     "data": {
      "text/plain": [
       "      year lgID tmID  hW  hL    hT  hOTL  rW  rL   rT  ...  FebT  FebOL  MarW  \\\n",
       "727   1980  NHL  BOS  26  10   4.0   NaN  11  20  9.0  ...   2.0    NaN   8.0   \n",
       "728   1980  NHL  BUF  21   7  12.0   NaN  18  13  9.0  ...   3.0    NaN   8.0   \n",
       "729   1980  NHL  CAL  25   5  10.0   NaN  14  22  4.0  ...   1.0    NaN   6.0   \n",
       "730   1980  NHL  CHI  21  11   8.0   NaN  10  22  8.0  ...   4.0    NaN   4.0   \n",
       "731   1980  NHL  COR  15  16   9.0   NaN   7  29  4.0  ...   2.0    NaN   4.0   \n",
       "...    ...  ...  ...  ..  ..   ...   ...  ..  ..  ...  ...   ...    ...   ...   \n",
       "1514  2011  NHL  TBL  25  14   NaN   2.0  13  22  NaN  ...   NaN    2.0   7.0   \n",
       "1515  2011  NHL  TOR  18  16   NaN   7.0  17  21  NaN  ...   NaN    1.0   5.0   \n",
       "1516  2011  NHL  VAN  27  10   NaN   4.0  24  12  NaN  ...   NaN    4.0   9.0   \n",
       "1517  2011  NHL  WAS  26  11   NaN   4.0  16  21  NaN  ...   NaN    1.0   8.0   \n",
       "1518  2011  NHL  WPG  23  13   NaN   5.0  14  22  NaN  ...   NaN    2.0   6.0   \n",
       "\n",
       "      MarL  MarT  MarOL  AprW  AprL  AprT  AprOL  \n",
       "727    4.0   3.0    NaN   1.0   2.0   0.0    NaN  \n",
       "728    6.0   1.0    NaN   1.0   1.0   1.0    NaN  \n",
       "729    6.0   2.0    NaN   2.0   0.0   0.0    NaN  \n",
       "730    5.0   4.0    NaN   1.0   1.0   1.0    NaN  \n",
       "731    9.0   1.0    NaN   0.0   1.0   2.0    NaN  \n",
       "...    ...   ...    ...   ...   ...   ...    ...  \n",
       "1514   7.0   NaN    1.0   2.0   1.0   NaN    1.0  \n",
       "1515   8.0   NaN    2.0   1.0   1.0   NaN    1.0  \n",
       "1516   5.0   NaN    1.0   2.0   1.0   NaN    0.0  \n",
       "1517   5.0   NaN    3.0   2.0   1.0   NaN    0.0  \n",
       "1518   7.0   NaN    1.0   1.0   1.0   NaN    1.0  \n",
       "\n",
       "[792 rows x 43 columns]"
      ],
      "text/html": [
       "<div>\n",
       "<style scoped>\n",
       "    .dataframe tbody tr th:only-of-type {\n",
       "        vertical-align: middle;\n",
       "    }\n",
       "\n",
       "    .dataframe tbody tr th {\n",
       "        vertical-align: top;\n",
       "    }\n",
       "\n",
       "    .dataframe thead th {\n",
       "        text-align: right;\n",
       "    }\n",
       "</style>\n",
       "<table border=\"1\" class=\"dataframe\">\n",
       "  <thead>\n",
       "    <tr style=\"text-align: right;\">\n",
       "      <th></th>\n",
       "      <th>year</th>\n",
       "      <th>lgID</th>\n",
       "      <th>tmID</th>\n",
       "      <th>hW</th>\n",
       "      <th>hL</th>\n",
       "      <th>hT</th>\n",
       "      <th>hOTL</th>\n",
       "      <th>rW</th>\n",
       "      <th>rL</th>\n",
       "      <th>rT</th>\n",
       "      <th>...</th>\n",
       "      <th>FebT</th>\n",
       "      <th>FebOL</th>\n",
       "      <th>MarW</th>\n",
       "      <th>MarL</th>\n",
       "      <th>MarT</th>\n",
       "      <th>MarOL</th>\n",
       "      <th>AprW</th>\n",
       "      <th>AprL</th>\n",
       "      <th>AprT</th>\n",
       "      <th>AprOL</th>\n",
       "    </tr>\n",
       "  </thead>\n",
       "  <tbody>\n",
       "    <tr>\n",
       "      <th>727</th>\n",
       "      <td>1980</td>\n",
       "      <td>NHL</td>\n",
       "      <td>BOS</td>\n",
       "      <td>26</td>\n",
       "      <td>10</td>\n",
       "      <td>4.0</td>\n",
       "      <td>NaN</td>\n",
       "      <td>11</td>\n",
       "      <td>20</td>\n",
       "      <td>9.0</td>\n",
       "      <td>...</td>\n",
       "      <td>2.0</td>\n",
       "      <td>NaN</td>\n",
       "      <td>8.0</td>\n",
       "      <td>4.0</td>\n",
       "      <td>3.0</td>\n",
       "      <td>NaN</td>\n",
       "      <td>1.0</td>\n",
       "      <td>2.0</td>\n",
       "      <td>0.0</td>\n",
       "      <td>NaN</td>\n",
       "    </tr>\n",
       "    <tr>\n",
       "      <th>728</th>\n",
       "      <td>1980</td>\n",
       "      <td>NHL</td>\n",
       "      <td>BUF</td>\n",
       "      <td>21</td>\n",
       "      <td>7</td>\n",
       "      <td>12.0</td>\n",
       "      <td>NaN</td>\n",
       "      <td>18</td>\n",
       "      <td>13</td>\n",
       "      <td>9.0</td>\n",
       "      <td>...</td>\n",
       "      <td>3.0</td>\n",
       "      <td>NaN</td>\n",
       "      <td>8.0</td>\n",
       "      <td>6.0</td>\n",
       "      <td>1.0</td>\n",
       "      <td>NaN</td>\n",
       "      <td>1.0</td>\n",
       "      <td>1.0</td>\n",
       "      <td>1.0</td>\n",
       "      <td>NaN</td>\n",
       "    </tr>\n",
       "    <tr>\n",
       "      <th>729</th>\n",
       "      <td>1980</td>\n",
       "      <td>NHL</td>\n",
       "      <td>CAL</td>\n",
       "      <td>25</td>\n",
       "      <td>5</td>\n",
       "      <td>10.0</td>\n",
       "      <td>NaN</td>\n",
       "      <td>14</td>\n",
       "      <td>22</td>\n",
       "      <td>4.0</td>\n",
       "      <td>...</td>\n",
       "      <td>1.0</td>\n",
       "      <td>NaN</td>\n",
       "      <td>6.0</td>\n",
       "      <td>6.0</td>\n",
       "      <td>2.0</td>\n",
       "      <td>NaN</td>\n",
       "      <td>2.0</td>\n",
       "      <td>0.0</td>\n",
       "      <td>0.0</td>\n",
       "      <td>NaN</td>\n",
       "    </tr>\n",
       "    <tr>\n",
       "      <th>730</th>\n",
       "      <td>1980</td>\n",
       "      <td>NHL</td>\n",
       "      <td>CHI</td>\n",
       "      <td>21</td>\n",
       "      <td>11</td>\n",
       "      <td>8.0</td>\n",
       "      <td>NaN</td>\n",
       "      <td>10</td>\n",
       "      <td>22</td>\n",
       "      <td>8.0</td>\n",
       "      <td>...</td>\n",
       "      <td>4.0</td>\n",
       "      <td>NaN</td>\n",
       "      <td>4.0</td>\n",
       "      <td>5.0</td>\n",
       "      <td>4.0</td>\n",
       "      <td>NaN</td>\n",
       "      <td>1.0</td>\n",
       "      <td>1.0</td>\n",
       "      <td>1.0</td>\n",
       "      <td>NaN</td>\n",
       "    </tr>\n",
       "    <tr>\n",
       "      <th>731</th>\n",
       "      <td>1980</td>\n",
       "      <td>NHL</td>\n",
       "      <td>COR</td>\n",
       "      <td>15</td>\n",
       "      <td>16</td>\n",
       "      <td>9.0</td>\n",
       "      <td>NaN</td>\n",
       "      <td>7</td>\n",
       "      <td>29</td>\n",
       "      <td>4.0</td>\n",
       "      <td>...</td>\n",
       "      <td>2.0</td>\n",
       "      <td>NaN</td>\n",
       "      <td>4.0</td>\n",
       "      <td>9.0</td>\n",
       "      <td>1.0</td>\n",
       "      <td>NaN</td>\n",
       "      <td>0.0</td>\n",
       "      <td>1.0</td>\n",
       "      <td>2.0</td>\n",
       "      <td>NaN</td>\n",
       "    </tr>\n",
       "    <tr>\n",
       "      <th>...</th>\n",
       "      <td>...</td>\n",
       "      <td>...</td>\n",
       "      <td>...</td>\n",
       "      <td>...</td>\n",
       "      <td>...</td>\n",
       "      <td>...</td>\n",
       "      <td>...</td>\n",
       "      <td>...</td>\n",
       "      <td>...</td>\n",
       "      <td>...</td>\n",
       "      <td>...</td>\n",
       "      <td>...</td>\n",
       "      <td>...</td>\n",
       "      <td>...</td>\n",
       "      <td>...</td>\n",
       "      <td>...</td>\n",
       "      <td>...</td>\n",
       "      <td>...</td>\n",
       "      <td>...</td>\n",
       "      <td>...</td>\n",
       "      <td>...</td>\n",
       "    </tr>\n",
       "    <tr>\n",
       "      <th>1514</th>\n",
       "      <td>2011</td>\n",
       "      <td>NHL</td>\n",
       "      <td>TBL</td>\n",
       "      <td>25</td>\n",
       "      <td>14</td>\n",
       "      <td>NaN</td>\n",
       "      <td>2.0</td>\n",
       "      <td>13</td>\n",
       "      <td>22</td>\n",
       "      <td>NaN</td>\n",
       "      <td>...</td>\n",
       "      <td>NaN</td>\n",
       "      <td>2.0</td>\n",
       "      <td>7.0</td>\n",
       "      <td>7.0</td>\n",
       "      <td>NaN</td>\n",
       "      <td>1.0</td>\n",
       "      <td>2.0</td>\n",
       "      <td>1.0</td>\n",
       "      <td>NaN</td>\n",
       "      <td>1.0</td>\n",
       "    </tr>\n",
       "    <tr>\n",
       "      <th>1515</th>\n",
       "      <td>2011</td>\n",
       "      <td>NHL</td>\n",
       "      <td>TOR</td>\n",
       "      <td>18</td>\n",
       "      <td>16</td>\n",
       "      <td>NaN</td>\n",
       "      <td>7.0</td>\n",
       "      <td>17</td>\n",
       "      <td>21</td>\n",
       "      <td>NaN</td>\n",
       "      <td>...</td>\n",
       "      <td>NaN</td>\n",
       "      <td>1.0</td>\n",
       "      <td>5.0</td>\n",
       "      <td>8.0</td>\n",
       "      <td>NaN</td>\n",
       "      <td>2.0</td>\n",
       "      <td>1.0</td>\n",
       "      <td>1.0</td>\n",
       "      <td>NaN</td>\n",
       "      <td>1.0</td>\n",
       "    </tr>\n",
       "    <tr>\n",
       "      <th>1516</th>\n",
       "      <td>2011</td>\n",
       "      <td>NHL</td>\n",
       "      <td>VAN</td>\n",
       "      <td>27</td>\n",
       "      <td>10</td>\n",
       "      <td>NaN</td>\n",
       "      <td>4.0</td>\n",
       "      <td>24</td>\n",
       "      <td>12</td>\n",
       "      <td>NaN</td>\n",
       "      <td>...</td>\n",
       "      <td>NaN</td>\n",
       "      <td>4.0</td>\n",
       "      <td>9.0</td>\n",
       "      <td>5.0</td>\n",
       "      <td>NaN</td>\n",
       "      <td>1.0</td>\n",
       "      <td>2.0</td>\n",
       "      <td>1.0</td>\n",
       "      <td>NaN</td>\n",
       "      <td>0.0</td>\n",
       "    </tr>\n",
       "    <tr>\n",
       "      <th>1517</th>\n",
       "      <td>2011</td>\n",
       "      <td>NHL</td>\n",
       "      <td>WAS</td>\n",
       "      <td>26</td>\n",
       "      <td>11</td>\n",
       "      <td>NaN</td>\n",
       "      <td>4.0</td>\n",
       "      <td>16</td>\n",
       "      <td>21</td>\n",
       "      <td>NaN</td>\n",
       "      <td>...</td>\n",
       "      <td>NaN</td>\n",
       "      <td>1.0</td>\n",
       "      <td>8.0</td>\n",
       "      <td>5.0</td>\n",
       "      <td>NaN</td>\n",
       "      <td>3.0</td>\n",
       "      <td>2.0</td>\n",
       "      <td>1.0</td>\n",
       "      <td>NaN</td>\n",
       "      <td>0.0</td>\n",
       "    </tr>\n",
       "    <tr>\n",
       "      <th>1518</th>\n",
       "      <td>2011</td>\n",
       "      <td>NHL</td>\n",
       "      <td>WPG</td>\n",
       "      <td>23</td>\n",
       "      <td>13</td>\n",
       "      <td>NaN</td>\n",
       "      <td>5.0</td>\n",
       "      <td>14</td>\n",
       "      <td>22</td>\n",
       "      <td>NaN</td>\n",
       "      <td>...</td>\n",
       "      <td>NaN</td>\n",
       "      <td>2.0</td>\n",
       "      <td>6.0</td>\n",
       "      <td>7.0</td>\n",
       "      <td>NaN</td>\n",
       "      <td>1.0</td>\n",
       "      <td>1.0</td>\n",
       "      <td>1.0</td>\n",
       "      <td>NaN</td>\n",
       "      <td>1.0</td>\n",
       "    </tr>\n",
       "  </tbody>\n",
       "</table>\n",
       "<p>792 rows × 43 columns</p>\n",
       "</div>"
      ]
     },
     "execution_count": 270,
     "metadata": {},
     "output_type": "execute_result"
    }
   ],
   "execution_count": 270
  },
  {
   "metadata": {
    "ExecuteTime": {
     "end_time": "2025-03-22T11:55:19.380978Z",
     "start_time": "2025-03-22T11:55:19.372785Z"
    }
   },
   "cell_type": "code",
   "source": "cols_to_drop = team_splits.columns[3:11]",
   "id": "dfedd58c01cd2885",
   "outputs": [],
   "execution_count": 271
  },
  {
   "metadata": {
    "ExecuteTime": {
     "end_time": "2025-03-22T11:56:08.867227Z",
     "start_time": "2025-03-22T11:56:08.859180Z"
    }
   },
   "cell_type": "code",
   "source": "team_splits.drop(columns=cols_to_drop, inplace=True)",
   "id": "45476188e504181",
   "outputs": [],
   "execution_count": 272
  },
  {
   "metadata": {
    "ExecuteTime": {
     "end_time": "2025-03-22T11:56:28.976019Z",
     "start_time": "2025-03-22T11:56:28.965852Z"
    }
   },
   "cell_type": "code",
   "source": "team_splits.columns",
   "id": "ca72ffe1d6f3d9a4",
   "outputs": [
    {
     "data": {
      "text/plain": [
       "Index(['year', 'lgID', 'tmID', 'SepW', 'SepL', 'SepT', 'SepOL', 'OctW', 'OctL',\n",
       "       'OctT', 'OctOL', 'NovW', 'NovL', 'NovT', 'NovOL', 'DecW', 'DecL',\n",
       "       'DecT', 'DecOL', 'JanW', 'JanL', 'JanT', 'JanOL', 'FebW', 'FebL',\n",
       "       'FebT', 'FebOL', 'MarW', 'MarL', 'MarT', 'MarOL', 'AprW', 'AprL',\n",
       "       'AprT', 'AprOL'],\n",
       "      dtype='object')"
      ]
     },
     "execution_count": 274,
     "metadata": {},
     "output_type": "execute_result"
    }
   ],
   "execution_count": 274
  },
  {
   "metadata": {
    "ExecuteTime": {
     "end_time": "2025-03-22T11:57:54.349545Z",
     "start_time": "2025-03-22T11:57:54.341433Z"
    }
   },
   "cell_type": "code",
   "source": "team_splits.drop(columns=\"lgID\", inplace=True)",
   "id": "8fd42cae2b5906ce",
   "outputs": [],
   "execution_count": 275
  },
  {
   "metadata": {
    "ExecuteTime": {
     "end_time": "2025-03-22T11:58:43.402063Z",
     "start_time": "2025-03-22T11:58:43.392264Z"
    }
   },
   "cell_type": "code",
   "source": "team_splits.shape",
   "id": "4df82f1784ae7471",
   "outputs": [
    {
     "data": {
      "text/plain": [
       "(792, 34)"
      ]
     },
     "execution_count": 276,
     "metadata": {},
     "output_type": "execute_result"
    }
   ],
   "execution_count": 276
  },
  {
   "metadata": {
    "ExecuteTime": {
     "end_time": "2025-03-22T11:59:35.109888Z",
     "start_time": "2025-03-22T11:59:35.099093Z"
    }
   },
   "cell_type": "code",
   "source": "team_splits.loc[:, 'tmID'] = pd.Categorical(team_splits['tmID'])",
   "id": "1174c7bbc85793bb",
   "outputs": [],
   "execution_count": 277
  },
  {
   "metadata": {
    "ExecuteTime": {
     "end_time": "2025-03-22T12:44:05.088513Z",
     "start_time": "2025-03-22T12:44:05.078123Z"
    }
   },
   "cell_type": "code",
   "source": "team_splits.to_pickle(os.path.join('..', 'data', 'interim', 'team_splits.pkl'))\n",
   "id": "73f4b79597db2244",
   "outputs": [],
   "execution_count": 279
  }
 ],
 "metadata": {
  "kernelspec": {
   "display_name": "Python 3",
   "language": "python",
   "name": "python3"
  },
  "language_info": {
   "codemirror_mode": {
    "name": "ipython",
    "version": 2
   },
   "file_extension": ".py",
   "mimetype": "text/x-python",
   "name": "python",
   "nbconvert_exporter": "python",
   "pygments_lexer": "ipython2",
   "version": "2.7.6"
  }
 },
 "nbformat": 4,
 "nbformat_minor": 5
}
