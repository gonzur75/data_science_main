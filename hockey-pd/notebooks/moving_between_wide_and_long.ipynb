{
 "cells": [
  {
   "cell_type": "code",
   "id": "initial_id",
   "metadata": {
    "collapsed": true,
    "ExecuteTime": {
     "end_time": "2025-03-22T14:34:19.200701Z",
     "start_time": "2025-03-22T14:34:19.192686Z"
    }
   },
   "source": [
    "\n",
    "import pandas as pd\n",
    "import matplotlib.pyplot as plt\n"
   ],
   "outputs": [],
   "execution_count": 40
  },
  {
   "metadata": {
    "ExecuteTime": {
     "end_time": "2025-03-22T14:28:18.212255Z",
     "start_time": "2025-03-22T14:28:18.181030Z"
    }
   },
   "cell_type": "code",
   "source": [
    "scoring = pd.read_pickle('../data/interim/master_score.pkl')\n",
    "team_splits = pd.read_pickle('../data/interim/teams_team_splits.pkl')"
   ],
   "id": "f7ee564b5bbebab8",
   "outputs": [],
   "execution_count": 8
  },
  {
   "metadata": {
    "ExecuteTime": {
     "end_time": "2025-03-22T14:28:18.362279Z",
     "start_time": "2025-03-22T14:28:18.303668Z"
    }
   },
   "cell_type": "code",
   "source": "scoring.head()",
   "id": "b9e05f1aea54d2c8",
   "outputs": [
    {
     "data": {
      "text/plain": [
       "  firstName    lastName pos   playerID  year tmID    GP    G     A   Pts  \\\n",
       "0     Antti       Aalto   C  aaltoan01  1997  ANA   3.0  0.0   0.0   0.0   \n",
       "1     Antti       Aalto   C  aaltoan01  1998  ANA  73.0  3.0   5.0   8.0   \n",
       "2     Antti       Aalto   C  aaltoan01  1999  ANA  63.0  7.0  11.0  18.0   \n",
       "3     Antti       Aalto   C  aaltoan01  2000  ANA  12.0  1.0   1.0   2.0   \n",
       "4    Justin  Abdelkader   L  abdelju01  2007  DET   2.0  0.0   0.0   0.0   \n",
       "\n",
       "     SOG  \n",
       "0    1.0  \n",
       "1   61.0  \n",
       "2  102.0  \n",
       "3   18.0  \n",
       "4    6.0  "
      ],
      "text/html": [
       "<div>\n",
       "<style scoped>\n",
       "    .dataframe tbody tr th:only-of-type {\n",
       "        vertical-align: middle;\n",
       "    }\n",
       "\n",
       "    .dataframe tbody tr th {\n",
       "        vertical-align: top;\n",
       "    }\n",
       "\n",
       "    .dataframe thead th {\n",
       "        text-align: right;\n",
       "    }\n",
       "</style>\n",
       "<table border=\"1\" class=\"dataframe\">\n",
       "  <thead>\n",
       "    <tr style=\"text-align: right;\">\n",
       "      <th></th>\n",
       "      <th>firstName</th>\n",
       "      <th>lastName</th>\n",
       "      <th>pos</th>\n",
       "      <th>playerID</th>\n",
       "      <th>year</th>\n",
       "      <th>tmID</th>\n",
       "      <th>GP</th>\n",
       "      <th>G</th>\n",
       "      <th>A</th>\n",
       "      <th>Pts</th>\n",
       "      <th>SOG</th>\n",
       "    </tr>\n",
       "  </thead>\n",
       "  <tbody>\n",
       "    <tr>\n",
       "      <th>0</th>\n",
       "      <td>Antti</td>\n",
       "      <td>Aalto</td>\n",
       "      <td>C</td>\n",
       "      <td>aaltoan01</td>\n",
       "      <td>1997</td>\n",
       "      <td>ANA</td>\n",
       "      <td>3.0</td>\n",
       "      <td>0.0</td>\n",
       "      <td>0.0</td>\n",
       "      <td>0.0</td>\n",
       "      <td>1.0</td>\n",
       "    </tr>\n",
       "    <tr>\n",
       "      <th>1</th>\n",
       "      <td>Antti</td>\n",
       "      <td>Aalto</td>\n",
       "      <td>C</td>\n",
       "      <td>aaltoan01</td>\n",
       "      <td>1998</td>\n",
       "      <td>ANA</td>\n",
       "      <td>73.0</td>\n",
       "      <td>3.0</td>\n",
       "      <td>5.0</td>\n",
       "      <td>8.0</td>\n",
       "      <td>61.0</td>\n",
       "    </tr>\n",
       "    <tr>\n",
       "      <th>2</th>\n",
       "      <td>Antti</td>\n",
       "      <td>Aalto</td>\n",
       "      <td>C</td>\n",
       "      <td>aaltoan01</td>\n",
       "      <td>1999</td>\n",
       "      <td>ANA</td>\n",
       "      <td>63.0</td>\n",
       "      <td>7.0</td>\n",
       "      <td>11.0</td>\n",
       "      <td>18.0</td>\n",
       "      <td>102.0</td>\n",
       "    </tr>\n",
       "    <tr>\n",
       "      <th>3</th>\n",
       "      <td>Antti</td>\n",
       "      <td>Aalto</td>\n",
       "      <td>C</td>\n",
       "      <td>aaltoan01</td>\n",
       "      <td>2000</td>\n",
       "      <td>ANA</td>\n",
       "      <td>12.0</td>\n",
       "      <td>1.0</td>\n",
       "      <td>1.0</td>\n",
       "      <td>2.0</td>\n",
       "      <td>18.0</td>\n",
       "    </tr>\n",
       "    <tr>\n",
       "      <th>4</th>\n",
       "      <td>Justin</td>\n",
       "      <td>Abdelkader</td>\n",
       "      <td>L</td>\n",
       "      <td>abdelju01</td>\n",
       "      <td>2007</td>\n",
       "      <td>DET</td>\n",
       "      <td>2.0</td>\n",
       "      <td>0.0</td>\n",
       "      <td>0.0</td>\n",
       "      <td>0.0</td>\n",
       "      <td>6.0</td>\n",
       "    </tr>\n",
       "  </tbody>\n",
       "</table>\n",
       "</div>"
      ]
     },
     "execution_count": 9,
     "metadata": {},
     "output_type": "execute_result"
    }
   ],
   "execution_count": 9
  },
  {
   "metadata": {
    "ExecuteTime": {
     "end_time": "2025-03-22T14:28:18.700303Z",
     "start_time": "2025-03-22T14:28:18.677610Z"
    }
   },
   "cell_type": "code",
   "source": "three_years = scoring.loc[(scoring['year'] > 2000) & (scoring['year'] < 2004)]",
   "id": "eb3e73061a39ebee",
   "outputs": [],
   "execution_count": 10
  },
  {
   "metadata": {
    "ExecuteTime": {
     "end_time": "2025-03-22T14:28:18.911554Z",
     "start_time": "2025-03-22T14:28:18.861833Z"
    }
   },
   "cell_type": "code",
   "source": "three_years",
   "id": "4d1835ac333a0f5",
   "outputs": [
    {
     "data": {
      "text/plain": [
       "      firstName lastName pos   playerID  year tmID    GP     G     A   Pts  \\\n",
       "9         Ramzi     Abid   L   abidra01  2002  PHO  30.0  10.0   8.0  18.0   \n",
       "10        Ramzi     Abid   L   abidra01  2002  PIT   3.0   0.0   0.0   0.0   \n",
       "11        Ramzi     Abid   L   abidra01  2003  PIT  16.0   3.0   2.0   5.0   \n",
       "37        Craig    Adams   R  adamscr01  2001  CAR  33.0   0.0   1.0   1.0   \n",
       "38        Craig    Adams   R  adamscr01  2002  CAR  81.0   6.0  12.0  18.0   \n",
       "...         ...      ...  ..        ...   ...  ...   ...   ...   ...   ...   \n",
       "27906    Andrei   Zyuzin   D  zyuzian01  2001  TBL   9.0   0.0   2.0   2.0   \n",
       "27907    Andrei   Zyuzin   D  zyuzian01  2001  NJD  38.0   1.0   2.0   3.0   \n",
       "27908    Andrei   Zyuzin   D  zyuzian01  2002  NJD   1.0   0.0   1.0   1.0   \n",
       "27909    Andrei   Zyuzin   D  zyuzian01  2002  MIN  66.0   4.0  12.0  16.0   \n",
       "27910    Andrei   Zyuzin   D  zyuzian01  2003  MIN  65.0   8.0  13.0  21.0   \n",
       "\n",
       "         SOG  \n",
       "9       52.0  \n",
       "10       7.0  \n",
       "11      35.0  \n",
       "37      17.0  \n",
       "38     107.0  \n",
       "...      ...  \n",
       "27906   14.0  \n",
       "27907   47.0  \n",
       "27908    0.0  \n",
       "27909  113.0  \n",
       "27910  104.0  \n",
       "\n",
       "[3296 rows x 11 columns]"
      ],
      "text/html": [
       "<div>\n",
       "<style scoped>\n",
       "    .dataframe tbody tr th:only-of-type {\n",
       "        vertical-align: middle;\n",
       "    }\n",
       "\n",
       "    .dataframe tbody tr th {\n",
       "        vertical-align: top;\n",
       "    }\n",
       "\n",
       "    .dataframe thead th {\n",
       "        text-align: right;\n",
       "    }\n",
       "</style>\n",
       "<table border=\"1\" class=\"dataframe\">\n",
       "  <thead>\n",
       "    <tr style=\"text-align: right;\">\n",
       "      <th></th>\n",
       "      <th>firstName</th>\n",
       "      <th>lastName</th>\n",
       "      <th>pos</th>\n",
       "      <th>playerID</th>\n",
       "      <th>year</th>\n",
       "      <th>tmID</th>\n",
       "      <th>GP</th>\n",
       "      <th>G</th>\n",
       "      <th>A</th>\n",
       "      <th>Pts</th>\n",
       "      <th>SOG</th>\n",
       "    </tr>\n",
       "  </thead>\n",
       "  <tbody>\n",
       "    <tr>\n",
       "      <th>9</th>\n",
       "      <td>Ramzi</td>\n",
       "      <td>Abid</td>\n",
       "      <td>L</td>\n",
       "      <td>abidra01</td>\n",
       "      <td>2002</td>\n",
       "      <td>PHO</td>\n",
       "      <td>30.0</td>\n",
       "      <td>10.0</td>\n",
       "      <td>8.0</td>\n",
       "      <td>18.0</td>\n",
       "      <td>52.0</td>\n",
       "    </tr>\n",
       "    <tr>\n",
       "      <th>10</th>\n",
       "      <td>Ramzi</td>\n",
       "      <td>Abid</td>\n",
       "      <td>L</td>\n",
       "      <td>abidra01</td>\n",
       "      <td>2002</td>\n",
       "      <td>PIT</td>\n",
       "      <td>3.0</td>\n",
       "      <td>0.0</td>\n",
       "      <td>0.0</td>\n",
       "      <td>0.0</td>\n",
       "      <td>7.0</td>\n",
       "    </tr>\n",
       "    <tr>\n",
       "      <th>11</th>\n",
       "      <td>Ramzi</td>\n",
       "      <td>Abid</td>\n",
       "      <td>L</td>\n",
       "      <td>abidra01</td>\n",
       "      <td>2003</td>\n",
       "      <td>PIT</td>\n",
       "      <td>16.0</td>\n",
       "      <td>3.0</td>\n",
       "      <td>2.0</td>\n",
       "      <td>5.0</td>\n",
       "      <td>35.0</td>\n",
       "    </tr>\n",
       "    <tr>\n",
       "      <th>37</th>\n",
       "      <td>Craig</td>\n",
       "      <td>Adams</td>\n",
       "      <td>R</td>\n",
       "      <td>adamscr01</td>\n",
       "      <td>2001</td>\n",
       "      <td>CAR</td>\n",
       "      <td>33.0</td>\n",
       "      <td>0.0</td>\n",
       "      <td>1.0</td>\n",
       "      <td>1.0</td>\n",
       "      <td>17.0</td>\n",
       "    </tr>\n",
       "    <tr>\n",
       "      <th>38</th>\n",
       "      <td>Craig</td>\n",
       "      <td>Adams</td>\n",
       "      <td>R</td>\n",
       "      <td>adamscr01</td>\n",
       "      <td>2002</td>\n",
       "      <td>CAR</td>\n",
       "      <td>81.0</td>\n",
       "      <td>6.0</td>\n",
       "      <td>12.0</td>\n",
       "      <td>18.0</td>\n",
       "      <td>107.0</td>\n",
       "    </tr>\n",
       "    <tr>\n",
       "      <th>...</th>\n",
       "      <td>...</td>\n",
       "      <td>...</td>\n",
       "      <td>...</td>\n",
       "      <td>...</td>\n",
       "      <td>...</td>\n",
       "      <td>...</td>\n",
       "      <td>...</td>\n",
       "      <td>...</td>\n",
       "      <td>...</td>\n",
       "      <td>...</td>\n",
       "      <td>...</td>\n",
       "    </tr>\n",
       "    <tr>\n",
       "      <th>27906</th>\n",
       "      <td>Andrei</td>\n",
       "      <td>Zyuzin</td>\n",
       "      <td>D</td>\n",
       "      <td>zyuzian01</td>\n",
       "      <td>2001</td>\n",
       "      <td>TBL</td>\n",
       "      <td>9.0</td>\n",
       "      <td>0.0</td>\n",
       "      <td>2.0</td>\n",
       "      <td>2.0</td>\n",
       "      <td>14.0</td>\n",
       "    </tr>\n",
       "    <tr>\n",
       "      <th>27907</th>\n",
       "      <td>Andrei</td>\n",
       "      <td>Zyuzin</td>\n",
       "      <td>D</td>\n",
       "      <td>zyuzian01</td>\n",
       "      <td>2001</td>\n",
       "      <td>NJD</td>\n",
       "      <td>38.0</td>\n",
       "      <td>1.0</td>\n",
       "      <td>2.0</td>\n",
       "      <td>3.0</td>\n",
       "      <td>47.0</td>\n",
       "    </tr>\n",
       "    <tr>\n",
       "      <th>27908</th>\n",
       "      <td>Andrei</td>\n",
       "      <td>Zyuzin</td>\n",
       "      <td>D</td>\n",
       "      <td>zyuzian01</td>\n",
       "      <td>2002</td>\n",
       "      <td>NJD</td>\n",
       "      <td>1.0</td>\n",
       "      <td>0.0</td>\n",
       "      <td>1.0</td>\n",
       "      <td>1.0</td>\n",
       "      <td>0.0</td>\n",
       "    </tr>\n",
       "    <tr>\n",
       "      <th>27909</th>\n",
       "      <td>Andrei</td>\n",
       "      <td>Zyuzin</td>\n",
       "      <td>D</td>\n",
       "      <td>zyuzian01</td>\n",
       "      <td>2002</td>\n",
       "      <td>MIN</td>\n",
       "      <td>66.0</td>\n",
       "      <td>4.0</td>\n",
       "      <td>12.0</td>\n",
       "      <td>16.0</td>\n",
       "      <td>113.0</td>\n",
       "    </tr>\n",
       "    <tr>\n",
       "      <th>27910</th>\n",
       "      <td>Andrei</td>\n",
       "      <td>Zyuzin</td>\n",
       "      <td>D</td>\n",
       "      <td>zyuzian01</td>\n",
       "      <td>2003</td>\n",
       "      <td>MIN</td>\n",
       "      <td>65.0</td>\n",
       "      <td>8.0</td>\n",
       "      <td>13.0</td>\n",
       "      <td>21.0</td>\n",
       "      <td>104.0</td>\n",
       "    </tr>\n",
       "  </tbody>\n",
       "</table>\n",
       "<p>3296 rows × 11 columns</p>\n",
       "</div>"
      ]
     },
     "execution_count": 11,
     "metadata": {},
     "output_type": "execute_result"
    }
   ],
   "execution_count": 11
  },
  {
   "metadata": {
    "ExecuteTime": {
     "end_time": "2025-03-22T14:28:19.154233Z",
     "start_time": "2025-03-22T14:28:19.139896Z"
    }
   },
   "cell_type": "code",
   "source": "three_years = three_years.drop_duplicates(subset=[\"playerID\", 'year'])",
   "id": "1ae2fe5a98758ee7",
   "outputs": [],
   "execution_count": 12
  },
  {
   "metadata": {
    "ExecuteTime": {
     "end_time": "2025-03-22T14:28:19.386198Z",
     "start_time": "2025-03-22T14:28:19.361802Z"
    }
   },
   "cell_type": "code",
   "source": [
    "counts = three_years.value_counts('playerID')\n",
    "counts"
   ],
   "id": "5a2ab5d48d48332d",
   "outputs": [
    {
     "data": {
      "text/plain": [
       "playerID\n",
       "zyuzian01    3\n",
       "zubruda01    3\n",
       "adamscr01    3\n",
       "adamske01    3\n",
       "aebisda01    3\n",
       "            ..\n",
       "virtato01    1\n",
       "vorobpa01    1\n",
       "vujtevl01    1\n",
       "brookwa01    1\n",
       "vasilhe01    1\n",
       "Name: count, Length: 1320, dtype: int64"
      ]
     },
     "execution_count": 13,
     "metadata": {},
     "output_type": "execute_result"
    }
   ],
   "execution_count": 13
  },
  {
   "metadata": {
    "ExecuteTime": {
     "end_time": "2025-03-22T14:28:19.575506Z",
     "start_time": "2025-03-22T14:28:19.554857Z"
    }
   },
   "cell_type": "code",
   "source": [
    "index = counts.loc[counts == 3].sample(3).index\n",
    "index"
   ],
   "id": "91d36b05ff8ca969",
   "outputs": [
    {
     "data": {
      "text/plain": [
       "Index(['rolosdw01', 'pilarka01', 'gillha01'], dtype='object', name='playerID')"
      ]
     },
     "execution_count": 14,
     "metadata": {},
     "output_type": "execute_result"
    }
   ],
   "execution_count": 14
  },
  {
   "metadata": {
    "ExecuteTime": {
     "end_time": "2025-03-22T14:28:19.870726Z",
     "start_time": "2025-03-22T14:28:19.821762Z"
    }
   },
   "cell_type": "code",
   "source": [
    "df_3 = three_years.loc[three_years['playerID'].isin(index)]\n",
    "df_3"
   ],
   "id": "13f00b9a81a0d9d0",
   "outputs": [
    {
     "data": {
      "text/plain": [
       "      firstName lastName pos   playerID  year tmID    GP    G     A   Pts  \\\n",
       "8220        Hal     Gill   D   gillha01  2001  BOS  79.0  4.0  18.0  22.0   \n",
       "8221        Hal     Gill   D   gillha01  2002  BOS  76.0  4.0  13.0  17.0   \n",
       "8222        Hal     Gill   D   gillha01  2003  BOS  82.0  2.0   7.0   9.0   \n",
       "19717     Karel    Pilar   D  pilarka01  2001  TOR  23.0  1.0   3.0   4.0   \n",
       "19718     Karel    Pilar   D  pilarka01  2002  TOR  17.0  3.0   4.0   7.0   \n",
       "19719     Karel    Pilar   D  pilarka01  2003  TOR  50.0  2.0  17.0  19.0   \n",
       "21439    Dwayne  Roloson   G  rolosdw01  2001  MIN  45.0  0.0   0.0   0.0   \n",
       "21440    Dwayne  Roloson   G  rolosdw01  2002  MIN  50.0  0.0   1.0   1.0   \n",
       "21441    Dwayne  Roloson   G  rolosdw01  2003  MIN  48.0  0.0   1.0   1.0   \n",
       "\n",
       "         SOG  \n",
       "8220   137.0  \n",
       "8221   114.0  \n",
       "8222   104.0  \n",
       "19717   32.0  \n",
       "19718   22.0  \n",
       "19719   74.0  \n",
       "21439    0.0  \n",
       "21440    0.0  \n",
       "21441    0.0  "
      ],
      "text/html": [
       "<div>\n",
       "<style scoped>\n",
       "    .dataframe tbody tr th:only-of-type {\n",
       "        vertical-align: middle;\n",
       "    }\n",
       "\n",
       "    .dataframe tbody tr th {\n",
       "        vertical-align: top;\n",
       "    }\n",
       "\n",
       "    .dataframe thead th {\n",
       "        text-align: right;\n",
       "    }\n",
       "</style>\n",
       "<table border=\"1\" class=\"dataframe\">\n",
       "  <thead>\n",
       "    <tr style=\"text-align: right;\">\n",
       "      <th></th>\n",
       "      <th>firstName</th>\n",
       "      <th>lastName</th>\n",
       "      <th>pos</th>\n",
       "      <th>playerID</th>\n",
       "      <th>year</th>\n",
       "      <th>tmID</th>\n",
       "      <th>GP</th>\n",
       "      <th>G</th>\n",
       "      <th>A</th>\n",
       "      <th>Pts</th>\n",
       "      <th>SOG</th>\n",
       "    </tr>\n",
       "  </thead>\n",
       "  <tbody>\n",
       "    <tr>\n",
       "      <th>8220</th>\n",
       "      <td>Hal</td>\n",
       "      <td>Gill</td>\n",
       "      <td>D</td>\n",
       "      <td>gillha01</td>\n",
       "      <td>2001</td>\n",
       "      <td>BOS</td>\n",
       "      <td>79.0</td>\n",
       "      <td>4.0</td>\n",
       "      <td>18.0</td>\n",
       "      <td>22.0</td>\n",
       "      <td>137.0</td>\n",
       "    </tr>\n",
       "    <tr>\n",
       "      <th>8221</th>\n",
       "      <td>Hal</td>\n",
       "      <td>Gill</td>\n",
       "      <td>D</td>\n",
       "      <td>gillha01</td>\n",
       "      <td>2002</td>\n",
       "      <td>BOS</td>\n",
       "      <td>76.0</td>\n",
       "      <td>4.0</td>\n",
       "      <td>13.0</td>\n",
       "      <td>17.0</td>\n",
       "      <td>114.0</td>\n",
       "    </tr>\n",
       "    <tr>\n",
       "      <th>8222</th>\n",
       "      <td>Hal</td>\n",
       "      <td>Gill</td>\n",
       "      <td>D</td>\n",
       "      <td>gillha01</td>\n",
       "      <td>2003</td>\n",
       "      <td>BOS</td>\n",
       "      <td>82.0</td>\n",
       "      <td>2.0</td>\n",
       "      <td>7.0</td>\n",
       "      <td>9.0</td>\n",
       "      <td>104.0</td>\n",
       "    </tr>\n",
       "    <tr>\n",
       "      <th>19717</th>\n",
       "      <td>Karel</td>\n",
       "      <td>Pilar</td>\n",
       "      <td>D</td>\n",
       "      <td>pilarka01</td>\n",
       "      <td>2001</td>\n",
       "      <td>TOR</td>\n",
       "      <td>23.0</td>\n",
       "      <td>1.0</td>\n",
       "      <td>3.0</td>\n",
       "      <td>4.0</td>\n",
       "      <td>32.0</td>\n",
       "    </tr>\n",
       "    <tr>\n",
       "      <th>19718</th>\n",
       "      <td>Karel</td>\n",
       "      <td>Pilar</td>\n",
       "      <td>D</td>\n",
       "      <td>pilarka01</td>\n",
       "      <td>2002</td>\n",
       "      <td>TOR</td>\n",
       "      <td>17.0</td>\n",
       "      <td>3.0</td>\n",
       "      <td>4.0</td>\n",
       "      <td>7.0</td>\n",
       "      <td>22.0</td>\n",
       "    </tr>\n",
       "    <tr>\n",
       "      <th>19719</th>\n",
       "      <td>Karel</td>\n",
       "      <td>Pilar</td>\n",
       "      <td>D</td>\n",
       "      <td>pilarka01</td>\n",
       "      <td>2003</td>\n",
       "      <td>TOR</td>\n",
       "      <td>50.0</td>\n",
       "      <td>2.0</td>\n",
       "      <td>17.0</td>\n",
       "      <td>19.0</td>\n",
       "      <td>74.0</td>\n",
       "    </tr>\n",
       "    <tr>\n",
       "      <th>21439</th>\n",
       "      <td>Dwayne</td>\n",
       "      <td>Roloson</td>\n",
       "      <td>G</td>\n",
       "      <td>rolosdw01</td>\n",
       "      <td>2001</td>\n",
       "      <td>MIN</td>\n",
       "      <td>45.0</td>\n",
       "      <td>0.0</td>\n",
       "      <td>0.0</td>\n",
       "      <td>0.0</td>\n",
       "      <td>0.0</td>\n",
       "    </tr>\n",
       "    <tr>\n",
       "      <th>21440</th>\n",
       "      <td>Dwayne</td>\n",
       "      <td>Roloson</td>\n",
       "      <td>G</td>\n",
       "      <td>rolosdw01</td>\n",
       "      <td>2002</td>\n",
       "      <td>MIN</td>\n",
       "      <td>50.0</td>\n",
       "      <td>0.0</td>\n",
       "      <td>1.0</td>\n",
       "      <td>1.0</td>\n",
       "      <td>0.0</td>\n",
       "    </tr>\n",
       "    <tr>\n",
       "      <th>21441</th>\n",
       "      <td>Dwayne</td>\n",
       "      <td>Roloson</td>\n",
       "      <td>G</td>\n",
       "      <td>rolosdw01</td>\n",
       "      <td>2003</td>\n",
       "      <td>MIN</td>\n",
       "      <td>48.0</td>\n",
       "      <td>0.0</td>\n",
       "      <td>1.0</td>\n",
       "      <td>1.0</td>\n",
       "      <td>0.0</td>\n",
       "    </tr>\n",
       "  </tbody>\n",
       "</table>\n",
       "</div>"
      ]
     },
     "execution_count": 15,
     "metadata": {},
     "output_type": "execute_result"
    }
   ],
   "execution_count": 15
  },
  {
   "metadata": {
    "ExecuteTime": {
     "end_time": "2025-03-22T14:28:20.034539Z",
     "start_time": "2025-03-22T14:28:20.021968Z"
    }
   },
   "cell_type": "code",
   "source": "basic_df_3 = df_3[['playerID', 'year', 'G']]",
   "id": "7dfbdbbc683421e7",
   "outputs": [],
   "execution_count": 16
  },
  {
   "metadata": {
    "ExecuteTime": {
     "end_time": "2025-03-22T14:28:20.294567Z",
     "start_time": "2025-03-22T14:28:20.265647Z"
    }
   },
   "cell_type": "code",
   "source": "basic_df_3 # This is a long format",
   "id": "7c8560f6f03503",
   "outputs": [
    {
     "data": {
      "text/plain": [
       "        playerID  year    G\n",
       "8220    gillha01  2001  4.0\n",
       "8221    gillha01  2002  4.0\n",
       "8222    gillha01  2003  2.0\n",
       "19717  pilarka01  2001  1.0\n",
       "19718  pilarka01  2002  3.0\n",
       "19719  pilarka01  2003  2.0\n",
       "21439  rolosdw01  2001  0.0\n",
       "21440  rolosdw01  2002  0.0\n",
       "21441  rolosdw01  2003  0.0"
      ],
      "text/html": [
       "<div>\n",
       "<style scoped>\n",
       "    .dataframe tbody tr th:only-of-type {\n",
       "        vertical-align: middle;\n",
       "    }\n",
       "\n",
       "    .dataframe tbody tr th {\n",
       "        vertical-align: top;\n",
       "    }\n",
       "\n",
       "    .dataframe thead th {\n",
       "        text-align: right;\n",
       "    }\n",
       "</style>\n",
       "<table border=\"1\" class=\"dataframe\">\n",
       "  <thead>\n",
       "    <tr style=\"text-align: right;\">\n",
       "      <th></th>\n",
       "      <th>playerID</th>\n",
       "      <th>year</th>\n",
       "      <th>G</th>\n",
       "    </tr>\n",
       "  </thead>\n",
       "  <tbody>\n",
       "    <tr>\n",
       "      <th>8220</th>\n",
       "      <td>gillha01</td>\n",
       "      <td>2001</td>\n",
       "      <td>4.0</td>\n",
       "    </tr>\n",
       "    <tr>\n",
       "      <th>8221</th>\n",
       "      <td>gillha01</td>\n",
       "      <td>2002</td>\n",
       "      <td>4.0</td>\n",
       "    </tr>\n",
       "    <tr>\n",
       "      <th>8222</th>\n",
       "      <td>gillha01</td>\n",
       "      <td>2003</td>\n",
       "      <td>2.0</td>\n",
       "    </tr>\n",
       "    <tr>\n",
       "      <th>19717</th>\n",
       "      <td>pilarka01</td>\n",
       "      <td>2001</td>\n",
       "      <td>1.0</td>\n",
       "    </tr>\n",
       "    <tr>\n",
       "      <th>19718</th>\n",
       "      <td>pilarka01</td>\n",
       "      <td>2002</td>\n",
       "      <td>3.0</td>\n",
       "    </tr>\n",
       "    <tr>\n",
       "      <th>19719</th>\n",
       "      <td>pilarka01</td>\n",
       "      <td>2003</td>\n",
       "      <td>2.0</td>\n",
       "    </tr>\n",
       "    <tr>\n",
       "      <th>21439</th>\n",
       "      <td>rolosdw01</td>\n",
       "      <td>2001</td>\n",
       "      <td>0.0</td>\n",
       "    </tr>\n",
       "    <tr>\n",
       "      <th>21440</th>\n",
       "      <td>rolosdw01</td>\n",
       "      <td>2002</td>\n",
       "      <td>0.0</td>\n",
       "    </tr>\n",
       "    <tr>\n",
       "      <th>21441</th>\n",
       "      <td>rolosdw01</td>\n",
       "      <td>2003</td>\n",
       "      <td>0.0</td>\n",
       "    </tr>\n",
       "  </tbody>\n",
       "</table>\n",
       "</div>"
      ]
     },
     "execution_count": 17,
     "metadata": {},
     "output_type": "execute_result"
    }
   ],
   "execution_count": 17
  },
  {
   "metadata": {
    "ExecuteTime": {
     "end_time": "2025-03-22T14:28:20.496224Z",
     "start_time": "2025-03-22T14:28:20.452752Z"
    }
   },
   "cell_type": "code",
   "source": [
    "pivot = (\n",
    "    basic_df_3.pivot(index='playerID', columns='year', values='G'))\n",
    "pivot# This is a wide format"
   ],
   "id": "27ea132a13bc5cf8",
   "outputs": [
    {
     "data": {
      "text/plain": [
       "year       2001  2002  2003\n",
       "playerID                   \n",
       "gillha01    4.0   4.0   2.0\n",
       "pilarka01   1.0   3.0   2.0\n",
       "rolosdw01   0.0   0.0   0.0"
      ],
      "text/html": [
       "<div>\n",
       "<style scoped>\n",
       "    .dataframe tbody tr th:only-of-type {\n",
       "        vertical-align: middle;\n",
       "    }\n",
       "\n",
       "    .dataframe tbody tr th {\n",
       "        vertical-align: top;\n",
       "    }\n",
       "\n",
       "    .dataframe thead th {\n",
       "        text-align: right;\n",
       "    }\n",
       "</style>\n",
       "<table border=\"1\" class=\"dataframe\">\n",
       "  <thead>\n",
       "    <tr style=\"text-align: right;\">\n",
       "      <th>year</th>\n",
       "      <th>2001</th>\n",
       "      <th>2002</th>\n",
       "      <th>2003</th>\n",
       "    </tr>\n",
       "    <tr>\n",
       "      <th>playerID</th>\n",
       "      <th></th>\n",
       "      <th></th>\n",
       "      <th></th>\n",
       "    </tr>\n",
       "  </thead>\n",
       "  <tbody>\n",
       "    <tr>\n",
       "      <th>gillha01</th>\n",
       "      <td>4.0</td>\n",
       "      <td>4.0</td>\n",
       "      <td>2.0</td>\n",
       "    </tr>\n",
       "    <tr>\n",
       "      <th>pilarka01</th>\n",
       "      <td>1.0</td>\n",
       "      <td>3.0</td>\n",
       "      <td>2.0</td>\n",
       "    </tr>\n",
       "    <tr>\n",
       "      <th>rolosdw01</th>\n",
       "      <td>0.0</td>\n",
       "      <td>0.0</td>\n",
       "      <td>0.0</td>\n",
       "    </tr>\n",
       "  </tbody>\n",
       "</table>\n",
       "</div>"
      ]
     },
     "execution_count": 18,
     "metadata": {},
     "output_type": "execute_result"
    }
   ],
   "execution_count": 18
  },
  {
   "metadata": {
    "ExecuteTime": {
     "end_time": "2025-03-22T14:28:20.754818Z",
     "start_time": "2025-03-22T14:28:20.743272Z"
    }
   },
   "cell_type": "code",
   "source": "pivot.index",
   "id": "b9ae44568c863676",
   "outputs": [
    {
     "data": {
      "text/plain": [
       "Index(['gillha01', 'pilarka01', 'rolosdw01'], dtype='object', name='playerID')"
      ]
     },
     "execution_count": 19,
     "metadata": {},
     "output_type": "execute_result"
    }
   ],
   "execution_count": 19
  },
  {
   "metadata": {
    "ExecuteTime": {
     "end_time": "2025-03-22T14:28:21.249321Z",
     "start_time": "2025-03-22T14:28:21.235602Z"
    }
   },
   "cell_type": "code",
   "source": "pivot.columns",
   "id": "3128e8e26147514",
   "outputs": [
    {
     "data": {
      "text/plain": [
       "Index([2001, 2002, 2003], dtype='int64', name='year')"
      ]
     },
     "execution_count": 20,
     "metadata": {},
     "output_type": "execute_result"
    }
   ],
   "execution_count": 20
  },
  {
   "metadata": {
    "ExecuteTime": {
     "end_time": "2025-03-22T14:28:21.515356Z",
     "start_time": "2025-03-22T14:28:21.503211Z"
    }
   },
   "cell_type": "code",
   "source": "pivot.index.name = None",
   "id": "2d9865b405d9c014",
   "outputs": [],
   "execution_count": 21
  },
  {
   "metadata": {
    "ExecuteTime": {
     "end_time": "2025-03-22T14:28:21.927575Z",
     "start_time": "2025-03-22T14:28:21.918715Z"
    }
   },
   "cell_type": "code",
   "source": "pivot.columns.name = None",
   "id": "ae1a0981aceb091b",
   "outputs": [],
   "execution_count": 22
  },
  {
   "metadata": {
    "ExecuteTime": {
     "end_time": "2025-03-22T14:28:22.087771Z",
     "start_time": "2025-03-22T14:28:22.061089Z"
    }
   },
   "cell_type": "code",
   "source": "pivot",
   "id": "ee965a40ca7e8c87",
   "outputs": [
    {
     "data": {
      "text/plain": [
       "           2001  2002  2003\n",
       "gillha01    4.0   4.0   2.0\n",
       "pilarka01   1.0   3.0   2.0\n",
       "rolosdw01   0.0   0.0   0.0"
      ],
      "text/html": [
       "<div>\n",
       "<style scoped>\n",
       "    .dataframe tbody tr th:only-of-type {\n",
       "        vertical-align: middle;\n",
       "    }\n",
       "\n",
       "    .dataframe tbody tr th {\n",
       "        vertical-align: top;\n",
       "    }\n",
       "\n",
       "    .dataframe thead th {\n",
       "        text-align: right;\n",
       "    }\n",
       "</style>\n",
       "<table border=\"1\" class=\"dataframe\">\n",
       "  <thead>\n",
       "    <tr style=\"text-align: right;\">\n",
       "      <th></th>\n",
       "      <th>2001</th>\n",
       "      <th>2002</th>\n",
       "      <th>2003</th>\n",
       "    </tr>\n",
       "  </thead>\n",
       "  <tbody>\n",
       "    <tr>\n",
       "      <th>gillha01</th>\n",
       "      <td>4.0</td>\n",
       "      <td>4.0</td>\n",
       "      <td>2.0</td>\n",
       "    </tr>\n",
       "    <tr>\n",
       "      <th>pilarka01</th>\n",
       "      <td>1.0</td>\n",
       "      <td>3.0</td>\n",
       "      <td>2.0</td>\n",
       "    </tr>\n",
       "    <tr>\n",
       "      <th>rolosdw01</th>\n",
       "      <td>0.0</td>\n",
       "      <td>0.0</td>\n",
       "      <td>0.0</td>\n",
       "    </tr>\n",
       "  </tbody>\n",
       "</table>\n",
       "</div>"
      ]
     },
     "execution_count": 23,
     "metadata": {},
     "output_type": "execute_result"
    }
   ],
   "execution_count": 23
  },
  {
   "metadata": {
    "ExecuteTime": {
     "end_time": "2025-03-22T14:28:22.331061Z",
     "start_time": "2025-03-22T14:28:22.321855Z"
    }
   },
   "cell_type": "code",
   "source": "pivot.index.name = 'playerID'",
   "id": "efd11b9e928096b1",
   "outputs": [],
   "execution_count": 24
  },
  {
   "metadata": {
    "ExecuteTime": {
     "end_time": "2025-03-22T14:28:22.525450Z",
     "start_time": "2025-03-22T14:28:22.517852Z"
    }
   },
   "cell_type": "code",
   "source": "pivot.columns.name = 'year'",
   "id": "ed237f0a60fa1a05",
   "outputs": [],
   "execution_count": 25
  },
  {
   "metadata": {
    "ExecuteTime": {
     "end_time": "2025-03-22T14:28:22.615815Z",
     "start_time": "2025-03-22T14:28:22.588589Z"
    }
   },
   "cell_type": "code",
   "source": "pivot",
   "id": "9eda41767ca3ce22",
   "outputs": [
    {
     "data": {
      "text/plain": [
       "year       2001  2002  2003\n",
       "playerID                   \n",
       "gillha01    4.0   4.0   2.0\n",
       "pilarka01   1.0   3.0   2.0\n",
       "rolosdw01   0.0   0.0   0.0"
      ],
      "text/html": [
       "<div>\n",
       "<style scoped>\n",
       "    .dataframe tbody tr th:only-of-type {\n",
       "        vertical-align: middle;\n",
       "    }\n",
       "\n",
       "    .dataframe tbody tr th {\n",
       "        vertical-align: top;\n",
       "    }\n",
       "\n",
       "    .dataframe thead th {\n",
       "        text-align: right;\n",
       "    }\n",
       "</style>\n",
       "<table border=\"1\" class=\"dataframe\">\n",
       "  <thead>\n",
       "    <tr style=\"text-align: right;\">\n",
       "      <th>year</th>\n",
       "      <th>2001</th>\n",
       "      <th>2002</th>\n",
       "      <th>2003</th>\n",
       "    </tr>\n",
       "    <tr>\n",
       "      <th>playerID</th>\n",
       "      <th></th>\n",
       "      <th></th>\n",
       "      <th></th>\n",
       "    </tr>\n",
       "  </thead>\n",
       "  <tbody>\n",
       "    <tr>\n",
       "      <th>gillha01</th>\n",
       "      <td>4.0</td>\n",
       "      <td>4.0</td>\n",
       "      <td>2.0</td>\n",
       "    </tr>\n",
       "    <tr>\n",
       "      <th>pilarka01</th>\n",
       "      <td>1.0</td>\n",
       "      <td>3.0</td>\n",
       "      <td>2.0</td>\n",
       "    </tr>\n",
       "    <tr>\n",
       "      <th>rolosdw01</th>\n",
       "      <td>0.0</td>\n",
       "      <td>0.0</td>\n",
       "      <td>0.0</td>\n",
       "    </tr>\n",
       "  </tbody>\n",
       "</table>\n",
       "</div>"
      ]
     },
     "execution_count": 26,
     "metadata": {},
     "output_type": "execute_result"
    }
   ],
   "execution_count": 26
  },
  {
   "metadata": {
    "ExecuteTime": {
     "end_time": "2025-03-22T14:28:22.872959Z",
     "start_time": "2025-03-22T14:28:22.845102Z"
    }
   },
   "cell_type": "code",
   "source": "basic_df_3",
   "id": "cfe77af89cccba81",
   "outputs": [
    {
     "data": {
      "text/plain": [
       "        playerID  year    G\n",
       "8220    gillha01  2001  4.0\n",
       "8221    gillha01  2002  4.0\n",
       "8222    gillha01  2003  2.0\n",
       "19717  pilarka01  2001  1.0\n",
       "19718  pilarka01  2002  3.0\n",
       "19719  pilarka01  2003  2.0\n",
       "21439  rolosdw01  2001  0.0\n",
       "21440  rolosdw01  2002  0.0\n",
       "21441  rolosdw01  2003  0.0"
      ],
      "text/html": [
       "<div>\n",
       "<style scoped>\n",
       "    .dataframe tbody tr th:only-of-type {\n",
       "        vertical-align: middle;\n",
       "    }\n",
       "\n",
       "    .dataframe tbody tr th {\n",
       "        vertical-align: top;\n",
       "    }\n",
       "\n",
       "    .dataframe thead th {\n",
       "        text-align: right;\n",
       "    }\n",
       "</style>\n",
       "<table border=\"1\" class=\"dataframe\">\n",
       "  <thead>\n",
       "    <tr style=\"text-align: right;\">\n",
       "      <th></th>\n",
       "      <th>playerID</th>\n",
       "      <th>year</th>\n",
       "      <th>G</th>\n",
       "    </tr>\n",
       "  </thead>\n",
       "  <tbody>\n",
       "    <tr>\n",
       "      <th>8220</th>\n",
       "      <td>gillha01</td>\n",
       "      <td>2001</td>\n",
       "      <td>4.0</td>\n",
       "    </tr>\n",
       "    <tr>\n",
       "      <th>8221</th>\n",
       "      <td>gillha01</td>\n",
       "      <td>2002</td>\n",
       "      <td>4.0</td>\n",
       "    </tr>\n",
       "    <tr>\n",
       "      <th>8222</th>\n",
       "      <td>gillha01</td>\n",
       "      <td>2003</td>\n",
       "      <td>2.0</td>\n",
       "    </tr>\n",
       "    <tr>\n",
       "      <th>19717</th>\n",
       "      <td>pilarka01</td>\n",
       "      <td>2001</td>\n",
       "      <td>1.0</td>\n",
       "    </tr>\n",
       "    <tr>\n",
       "      <th>19718</th>\n",
       "      <td>pilarka01</td>\n",
       "      <td>2002</td>\n",
       "      <td>3.0</td>\n",
       "    </tr>\n",
       "    <tr>\n",
       "      <th>19719</th>\n",
       "      <td>pilarka01</td>\n",
       "      <td>2003</td>\n",
       "      <td>2.0</td>\n",
       "    </tr>\n",
       "    <tr>\n",
       "      <th>21439</th>\n",
       "      <td>rolosdw01</td>\n",
       "      <td>2001</td>\n",
       "      <td>0.0</td>\n",
       "    </tr>\n",
       "    <tr>\n",
       "      <th>21440</th>\n",
       "      <td>rolosdw01</td>\n",
       "      <td>2002</td>\n",
       "      <td>0.0</td>\n",
       "    </tr>\n",
       "    <tr>\n",
       "      <th>21441</th>\n",
       "      <td>rolosdw01</td>\n",
       "      <td>2003</td>\n",
       "      <td>0.0</td>\n",
       "    </tr>\n",
       "  </tbody>\n",
       "</table>\n",
       "</div>"
      ]
     },
     "execution_count": 27,
     "metadata": {},
     "output_type": "execute_result"
    }
   ],
   "execution_count": 27
  },
  {
   "metadata": {
    "ExecuteTime": {
     "end_time": "2025-03-22T14:28:23.019910Z",
     "start_time": "2025-03-22T14:28:22.991271Z"
    }
   },
   "cell_type": "code",
   "source": "basic_df_3.set_index('playerID')",
   "id": "e67358d069203448",
   "outputs": [
    {
     "data": {
      "text/plain": [
       "           year    G\n",
       "playerID            \n",
       "gillha01   2001  4.0\n",
       "gillha01   2002  4.0\n",
       "gillha01   2003  2.0\n",
       "pilarka01  2001  1.0\n",
       "pilarka01  2002  3.0\n",
       "pilarka01  2003  2.0\n",
       "rolosdw01  2001  0.0\n",
       "rolosdw01  2002  0.0\n",
       "rolosdw01  2003  0.0"
      ],
      "text/html": [
       "<div>\n",
       "<style scoped>\n",
       "    .dataframe tbody tr th:only-of-type {\n",
       "        vertical-align: middle;\n",
       "    }\n",
       "\n",
       "    .dataframe tbody tr th {\n",
       "        vertical-align: top;\n",
       "    }\n",
       "\n",
       "    .dataframe thead th {\n",
       "        text-align: right;\n",
       "    }\n",
       "</style>\n",
       "<table border=\"1\" class=\"dataframe\">\n",
       "  <thead>\n",
       "    <tr style=\"text-align: right;\">\n",
       "      <th></th>\n",
       "      <th>year</th>\n",
       "      <th>G</th>\n",
       "    </tr>\n",
       "    <tr>\n",
       "      <th>playerID</th>\n",
       "      <th></th>\n",
       "      <th></th>\n",
       "    </tr>\n",
       "  </thead>\n",
       "  <tbody>\n",
       "    <tr>\n",
       "      <th>gillha01</th>\n",
       "      <td>2001</td>\n",
       "      <td>4.0</td>\n",
       "    </tr>\n",
       "    <tr>\n",
       "      <th>gillha01</th>\n",
       "      <td>2002</td>\n",
       "      <td>4.0</td>\n",
       "    </tr>\n",
       "    <tr>\n",
       "      <th>gillha01</th>\n",
       "      <td>2003</td>\n",
       "      <td>2.0</td>\n",
       "    </tr>\n",
       "    <tr>\n",
       "      <th>pilarka01</th>\n",
       "      <td>2001</td>\n",
       "      <td>1.0</td>\n",
       "    </tr>\n",
       "    <tr>\n",
       "      <th>pilarka01</th>\n",
       "      <td>2002</td>\n",
       "      <td>3.0</td>\n",
       "    </tr>\n",
       "    <tr>\n",
       "      <th>pilarka01</th>\n",
       "      <td>2003</td>\n",
       "      <td>2.0</td>\n",
       "    </tr>\n",
       "    <tr>\n",
       "      <th>rolosdw01</th>\n",
       "      <td>2001</td>\n",
       "      <td>0.0</td>\n",
       "    </tr>\n",
       "    <tr>\n",
       "      <th>rolosdw01</th>\n",
       "      <td>2002</td>\n",
       "      <td>0.0</td>\n",
       "    </tr>\n",
       "    <tr>\n",
       "      <th>rolosdw01</th>\n",
       "      <td>2003</td>\n",
       "      <td>0.0</td>\n",
       "    </tr>\n",
       "  </tbody>\n",
       "</table>\n",
       "</div>"
      ]
     },
     "execution_count": 28,
     "metadata": {},
     "output_type": "execute_result"
    }
   ],
   "execution_count": 28
  },
  {
   "metadata": {
    "ExecuteTime": {
     "end_time": "2025-03-22T14:34:27.673744Z",
     "start_time": "2025-03-22T14:34:26.142169Z"
    }
   },
   "cell_type": "code",
   "source": [
    "ax1, ax32 = basic_df_3.set_index('playerID').plot(plot='bar', subplots=True)\n",
    "plt.show()"
   ],
   "id": "f90de2ef7116b28e",
   "outputs": [
    {
     "ename": "AttributeError",
     "evalue": "Line2D.set() got an unexpected keyword argument 'plot'",
     "output_type": "error",
     "traceback": [
      "\u001B[31m---------------------------------------------------------------------------\u001B[39m",
      "\u001B[31mAttributeError\u001B[39m                            Traceback (most recent call last)",
      "\u001B[36mCell\u001B[39m\u001B[36m \u001B[39m\u001B[32mIn[41]\u001B[39m\u001B[32m, line 1\u001B[39m\n\u001B[32m----> \u001B[39m\u001B[32m1\u001B[39m ax1, ax32 = \u001B[43mbasic_df_3\u001B[49m\u001B[43m.\u001B[49m\u001B[43mset_index\u001B[49m\u001B[43m(\u001B[49m\u001B[33;43m'\u001B[39;49m\u001B[33;43mplayerID\u001B[39;49m\u001B[33;43m'\u001B[39;49m\u001B[43m)\u001B[49m\u001B[43m.\u001B[49m\u001B[43mplot\u001B[49m\u001B[43m(\u001B[49m\u001B[43mplot\u001B[49m\u001B[43m=\u001B[49m\u001B[33;43m'\u001B[39;49m\u001B[33;43mbar\u001B[39;49m\u001B[33;43m'\u001B[39;49m\u001B[43m,\u001B[49m\u001B[43m \u001B[49m\u001B[43msubplots\u001B[49m\u001B[43m=\u001B[49m\u001B[38;5;28;43;01mTrue\u001B[39;49;00m\u001B[43m)\u001B[49m\n\u001B[32m      2\u001B[39m plt.show()\n",
      "\u001B[36mFile \u001B[39m\u001B[32m~/workspace/data_sience/hockey-pd/.venv/lib/python3.13/site-packages/pandas/plotting/_core.py:1030\u001B[39m, in \u001B[36mPlotAccessor.__call__\u001B[39m\u001B[34m(self, *args, **kwargs)\u001B[39m\n\u001B[32m   1027\u001B[39m             label_name = label_kw \u001B[38;5;129;01mor\u001B[39;00m data.columns\n\u001B[32m   1028\u001B[39m             data.columns = label_name\n\u001B[32m-> \u001B[39m\u001B[32m1030\u001B[39m \u001B[38;5;28;01mreturn\u001B[39;00m \u001B[43mplot_backend\u001B[49m\u001B[43m.\u001B[49m\u001B[43mplot\u001B[49m\u001B[43m(\u001B[49m\u001B[43mdata\u001B[49m\u001B[43m,\u001B[49m\u001B[43m \u001B[49m\u001B[43mkind\u001B[49m\u001B[43m=\u001B[49m\u001B[43mkind\u001B[49m\u001B[43m,\u001B[49m\u001B[43m \u001B[49m\u001B[43m*\u001B[49m\u001B[43m*\u001B[49m\u001B[43mkwargs\u001B[49m\u001B[43m)\u001B[49m\n",
      "\u001B[36mFile \u001B[39m\u001B[32m~/workspace/data_sience/hockey-pd/.venv/lib/python3.13/site-packages/pandas/plotting/_matplotlib/__init__.py:71\u001B[39m, in \u001B[36mplot\u001B[39m\u001B[34m(data, kind, **kwargs)\u001B[39m\n\u001B[32m     69\u001B[39m         kwargs[\u001B[33m\"\u001B[39m\u001B[33max\u001B[39m\u001B[33m\"\u001B[39m] = \u001B[38;5;28mgetattr\u001B[39m(ax, \u001B[33m\"\u001B[39m\u001B[33mleft_ax\u001B[39m\u001B[33m\"\u001B[39m, ax)\n\u001B[32m     70\u001B[39m plot_obj = PLOT_CLASSES[kind](data, **kwargs)\n\u001B[32m---> \u001B[39m\u001B[32m71\u001B[39m \u001B[43mplot_obj\u001B[49m\u001B[43m.\u001B[49m\u001B[43mgenerate\u001B[49m\u001B[43m(\u001B[49m\u001B[43m)\u001B[49m\n\u001B[32m     72\u001B[39m plot_obj.draw()\n\u001B[32m     73\u001B[39m \u001B[38;5;28;01mreturn\u001B[39;00m plot_obj.result\n",
      "\u001B[36mFile \u001B[39m\u001B[32m~/workspace/data_sience/hockey-pd/.venv/lib/python3.13/site-packages/pandas/plotting/_matplotlib/core.py:501\u001B[39m, in \u001B[36mMPLPlot.generate\u001B[39m\u001B[34m(self)\u001B[39m\n\u001B[32m    499\u001B[39m \u001B[38;5;28mself\u001B[39m._compute_plot_data()\n\u001B[32m    500\u001B[39m fig = \u001B[38;5;28mself\u001B[39m.fig\n\u001B[32m--> \u001B[39m\u001B[32m501\u001B[39m \u001B[38;5;28;43mself\u001B[39;49m\u001B[43m.\u001B[49m\u001B[43m_make_plot\u001B[49m\u001B[43m(\u001B[49m\u001B[43mfig\u001B[49m\u001B[43m)\u001B[49m\n\u001B[32m    502\u001B[39m \u001B[38;5;28mself\u001B[39m._add_table()\n\u001B[32m    503\u001B[39m \u001B[38;5;28mself\u001B[39m._make_legend()\n",
      "\u001B[36mFile \u001B[39m\u001B[32m~/workspace/data_sience/hockey-pd/.venv/lib/python3.13/site-packages/pandas/plotting/_matplotlib/core.py:1550\u001B[39m, in \u001B[36mLinePlot._make_plot\u001B[39m\u001B[34m(self, fig)\u001B[39m\n\u001B[32m   1547\u001B[39m label = \u001B[38;5;28mself\u001B[39m._mark_right_label(label, index=i)\n\u001B[32m   1548\u001B[39m kwds[\u001B[33m\"\u001B[39m\u001B[33mlabel\u001B[39m\u001B[33m\"\u001B[39m] = label\n\u001B[32m-> \u001B[39m\u001B[32m1550\u001B[39m newlines = \u001B[43mplotf\u001B[49m\u001B[43m(\u001B[49m\n\u001B[32m   1551\u001B[39m \u001B[43m    \u001B[49m\u001B[43max\u001B[49m\u001B[43m,\u001B[49m\n\u001B[32m   1552\u001B[39m \u001B[43m    \u001B[49m\u001B[43mx\u001B[49m\u001B[43m,\u001B[49m\n\u001B[32m   1553\u001B[39m \u001B[43m    \u001B[49m\u001B[43my\u001B[49m\u001B[43m,\u001B[49m\n\u001B[32m   1554\u001B[39m \u001B[43m    \u001B[49m\u001B[43mstyle\u001B[49m\u001B[43m=\u001B[49m\u001B[43mstyle\u001B[49m\u001B[43m,\u001B[49m\n\u001B[32m   1555\u001B[39m \u001B[43m    \u001B[49m\u001B[43mcolumn_num\u001B[49m\u001B[43m=\u001B[49m\u001B[43mi\u001B[49m\u001B[43m,\u001B[49m\n\u001B[32m   1556\u001B[39m \u001B[43m    \u001B[49m\u001B[43mstacking_id\u001B[49m\u001B[43m=\u001B[49m\u001B[43mstacking_id\u001B[49m\u001B[43m,\u001B[49m\n\u001B[32m   1557\u001B[39m \u001B[43m    \u001B[49m\u001B[43mis_errorbar\u001B[49m\u001B[43m=\u001B[49m\u001B[43mis_errorbar\u001B[49m\u001B[43m,\u001B[49m\n\u001B[32m   1558\u001B[39m \u001B[43m    \u001B[49m\u001B[43m*\u001B[49m\u001B[43m*\u001B[49m\u001B[43mkwds\u001B[49m\u001B[43m,\u001B[49m\n\u001B[32m   1559\u001B[39m \u001B[43m\u001B[49m\u001B[43m)\u001B[49m\n\u001B[32m   1560\u001B[39m \u001B[38;5;28mself\u001B[39m._append_legend_handles_labels(newlines[\u001B[32m0\u001B[39m], label)\n\u001B[32m   1562\u001B[39m \u001B[38;5;28;01mif\u001B[39;00m \u001B[38;5;28mself\u001B[39m._is_ts_plot():\n\u001B[32m   1563\u001B[39m     \u001B[38;5;66;03m# reset of xlim should be used for ts data\u001B[39;00m\n\u001B[32m   1564\u001B[39m     \u001B[38;5;66;03m# TODO: GH28021, should find a way to change view limit on xaxis\u001B[39;00m\n",
      "\u001B[36mFile \u001B[39m\u001B[32m~/workspace/data_sience/hockey-pd/.venv/lib/python3.13/site-packages/pandas/plotting/_matplotlib/core.py:1586\u001B[39m, in \u001B[36mLinePlot._plot\u001B[39m\u001B[34m(cls, ax, x, y, style, column_num, stacking_id, **kwds)\u001B[39m\n\u001B[32m   1584\u001B[39m     \u001B[38;5;28mcls\u001B[39m._initialize_stacker(ax, stacking_id, \u001B[38;5;28mlen\u001B[39m(y))\n\u001B[32m   1585\u001B[39m y_values = \u001B[38;5;28mcls\u001B[39m._get_stacked_values(ax, stacking_id, y, kwds[\u001B[33m\"\u001B[39m\u001B[33mlabel\u001B[39m\u001B[33m\"\u001B[39m])\n\u001B[32m-> \u001B[39m\u001B[32m1586\u001B[39m lines = \u001B[43mMPLPlot\u001B[49m\u001B[43m.\u001B[49m\u001B[43m_plot\u001B[49m\u001B[43m(\u001B[49m\u001B[43max\u001B[49m\u001B[43m,\u001B[49m\u001B[43m \u001B[49m\u001B[43mx\u001B[49m\u001B[43m,\u001B[49m\u001B[43m \u001B[49m\u001B[43my_values\u001B[49m\u001B[43m,\u001B[49m\u001B[43m \u001B[49m\u001B[43mstyle\u001B[49m\u001B[43m=\u001B[49m\u001B[43mstyle\u001B[49m\u001B[43m,\u001B[49m\u001B[43m \u001B[49m\u001B[43m*\u001B[49m\u001B[43m*\u001B[49m\u001B[43mkwds\u001B[49m\u001B[43m)\u001B[49m\n\u001B[32m   1587\u001B[39m \u001B[38;5;28mcls\u001B[39m._update_stacker(ax, stacking_id, y)\n\u001B[32m   1588\u001B[39m \u001B[38;5;28;01mreturn\u001B[39;00m lines\n",
      "\u001B[36mFile \u001B[39m\u001B[32m~/workspace/data_sience/hockey-pd/.venv/lib/python3.13/site-packages/pandas/plotting/_matplotlib/converter.py:95\u001B[39m, in \u001B[36mregister_pandas_matplotlib_converters.<locals>.wrapper\u001B[39m\u001B[34m(*args, **kwargs)\u001B[39m\n\u001B[32m     92\u001B[39m \u001B[38;5;129m@functools\u001B[39m.wraps(func)\n\u001B[32m     93\u001B[39m \u001B[38;5;28;01mdef\u001B[39;00m\u001B[38;5;250m \u001B[39m\u001B[34mwrapper\u001B[39m(*args, **kwargs):\n\u001B[32m     94\u001B[39m     \u001B[38;5;28;01mwith\u001B[39;00m pandas_converters():\n\u001B[32m---> \u001B[39m\u001B[32m95\u001B[39m         \u001B[38;5;28;01mreturn\u001B[39;00m \u001B[43mfunc\u001B[49m\u001B[43m(\u001B[49m\u001B[43m*\u001B[49m\u001B[43margs\u001B[49m\u001B[43m,\u001B[49m\u001B[43m \u001B[49m\u001B[43m*\u001B[49m\u001B[43m*\u001B[49m\u001B[43mkwargs\u001B[49m\u001B[43m)\u001B[49m\n",
      "\u001B[36mFile \u001B[39m\u001B[32m~/workspace/data_sience/hockey-pd/.venv/lib/python3.13/site-packages/pandas/plotting/_matplotlib/core.py:981\u001B[39m, in \u001B[36mMPLPlot._plot\u001B[39m\u001B[34m(cls, ax, x, y, style, is_errorbar, **kwds)\u001B[39m\n\u001B[32m    978\u001B[39m \u001B[38;5;28;01melse\u001B[39;00m:\n\u001B[32m    979\u001B[39m     \u001B[38;5;66;03m# prevent style kwarg from going to errorbar, where it is unsupported\u001B[39;00m\n\u001B[32m    980\u001B[39m     args = (x, y, style) \u001B[38;5;28;01mif\u001B[39;00m style \u001B[38;5;129;01mis\u001B[39;00m \u001B[38;5;129;01mnot\u001B[39;00m \u001B[38;5;28;01mNone\u001B[39;00m \u001B[38;5;28;01melse\u001B[39;00m (x, y)\n\u001B[32m--> \u001B[39m\u001B[32m981\u001B[39m     \u001B[38;5;28;01mreturn\u001B[39;00m \u001B[43max\u001B[49m\u001B[43m.\u001B[49m\u001B[43mplot\u001B[49m\u001B[43m(\u001B[49m\u001B[43m*\u001B[49m\u001B[43margs\u001B[49m\u001B[43m,\u001B[49m\u001B[43m \u001B[49m\u001B[43m*\u001B[49m\u001B[43m*\u001B[49m\u001B[43mkwds\u001B[49m\u001B[43m)\u001B[49m\n",
      "\u001B[36mFile \u001B[39m\u001B[32m~/workspace/data_sience/hockey-pd/.venv/lib/python3.13/site-packages/matplotlib/axes/_axes.py:1777\u001B[39m, in \u001B[36mAxes.plot\u001B[39m\u001B[34m(self, scalex, scaley, data, *args, **kwargs)\u001B[39m\n\u001B[32m   1534\u001B[39m \u001B[38;5;250m\u001B[39m\u001B[33;03m\"\"\"\u001B[39;00m\n\u001B[32m   1535\u001B[39m \u001B[33;03mPlot y versus x as lines and/or markers.\u001B[39;00m\n\u001B[32m   1536\u001B[39m \n\u001B[32m   (...)\u001B[39m\u001B[32m   1774\u001B[39m \u001B[33;03m(``'green'``) or hex strings (``'#008000'``).\u001B[39;00m\n\u001B[32m   1775\u001B[39m \u001B[33;03m\"\"\"\u001B[39;00m\n\u001B[32m   1776\u001B[39m kwargs = cbook.normalize_kwargs(kwargs, mlines.Line2D)\n\u001B[32m-> \u001B[39m\u001B[32m1777\u001B[39m lines = [*\u001B[38;5;28mself\u001B[39m._get_lines(\u001B[38;5;28mself\u001B[39m, *args, data=data, **kwargs)]\n\u001B[32m   1778\u001B[39m \u001B[38;5;28;01mfor\u001B[39;00m line \u001B[38;5;129;01min\u001B[39;00m lines:\n\u001B[32m   1779\u001B[39m     \u001B[38;5;28mself\u001B[39m.add_line(line)\n",
      "\u001B[36mFile \u001B[39m\u001B[32m~/workspace/data_sience/hockey-pd/.venv/lib/python3.13/site-packages/matplotlib/axes/_base.py:297\u001B[39m, in \u001B[36m_process_plot_var_args.__call__\u001B[39m\u001B[34m(self, axes, data, return_kwargs, *args, **kwargs)\u001B[39m\n\u001B[32m    295\u001B[39m     this += args[\u001B[32m0\u001B[39m],\n\u001B[32m    296\u001B[39m     args = args[\u001B[32m1\u001B[39m:]\n\u001B[32m--> \u001B[39m\u001B[32m297\u001B[39m \u001B[38;5;28;01myield from\u001B[39;00m \u001B[38;5;28;43mself\u001B[39;49m\u001B[43m.\u001B[49m\u001B[43m_plot_args\u001B[49m\u001B[43m(\u001B[49m\n\u001B[32m    298\u001B[39m \u001B[43m    \u001B[49m\u001B[43maxes\u001B[49m\u001B[43m,\u001B[49m\u001B[43m \u001B[49m\u001B[43mthis\u001B[49m\u001B[43m,\u001B[49m\u001B[43m \u001B[49m\u001B[43mkwargs\u001B[49m\u001B[43m,\u001B[49m\u001B[43m \u001B[49m\u001B[43mambiguous_fmt_datakey\u001B[49m\u001B[43m=\u001B[49m\u001B[43mambiguous_fmt_datakey\u001B[49m\u001B[43m,\u001B[49m\n\u001B[32m    299\u001B[39m \u001B[43m    \u001B[49m\u001B[43mreturn_kwargs\u001B[49m\u001B[43m=\u001B[49m\u001B[43mreturn_kwargs\u001B[49m\n\u001B[32m    300\u001B[39m \u001B[43m\u001B[49m\u001B[43m)\u001B[49m\n",
      "\u001B[36mFile \u001B[39m\u001B[32m~/workspace/data_sience/hockey-pd/.venv/lib/python3.13/site-packages/matplotlib/axes/_base.py:546\u001B[39m, in \u001B[36m_process_plot_var_args._plot_args\u001B[39m\u001B[34m(self, axes, tup, kwargs, return_kwargs, ambiguous_fmt_datakey)\u001B[39m\n\u001B[32m    544\u001B[39m     \u001B[38;5;28;01mreturn\u001B[39;00m \u001B[38;5;28mlist\u001B[39m(result)\n\u001B[32m    545\u001B[39m \u001B[38;5;28;01melse\u001B[39;00m:\n\u001B[32m--> \u001B[39m\u001B[32m546\u001B[39m     \u001B[38;5;28;01mreturn\u001B[39;00m \u001B[43m[\u001B[49m\u001B[43ml\u001B[49m\u001B[43m[\u001B[49m\u001B[32;43m0\u001B[39;49m\u001B[43m]\u001B[49m\u001B[43m \u001B[49m\u001B[38;5;28;43;01mfor\u001B[39;49;00m\u001B[43m \u001B[49m\u001B[43ml\u001B[49m\u001B[43m \u001B[49m\u001B[38;5;129;43;01min\u001B[39;49;00m\u001B[43m \u001B[49m\u001B[43mresult\u001B[49m\u001B[43m]\u001B[49m\n",
      "\u001B[36mFile \u001B[39m\u001B[32m~/workspace/data_sience/hockey-pd/.venv/lib/python3.13/site-packages/matplotlib/axes/_base.py:539\u001B[39m, in \u001B[36m<genexpr>\u001B[39m\u001B[34m(.0)\u001B[39m\n\u001B[32m    534\u001B[39m \u001B[38;5;28;01melse\u001B[39;00m:\n\u001B[32m    535\u001B[39m     \u001B[38;5;28;01mraise\u001B[39;00m \u001B[38;5;167;01mValueError\u001B[39;00m(\n\u001B[32m    536\u001B[39m         \u001B[33mf\u001B[39m\u001B[33m\"\u001B[39m\u001B[33mlabel must be scalar or have the same length as the input \u001B[39m\u001B[33m\"\u001B[39m\n\u001B[32m    537\u001B[39m         \u001B[33mf\u001B[39m\u001B[33m\"\u001B[39m\u001B[33mdata, but found \u001B[39m\u001B[38;5;132;01m{\u001B[39;00m\u001B[38;5;28mlen\u001B[39m(label)\u001B[38;5;132;01m}\u001B[39;00m\u001B[33m for \u001B[39m\u001B[38;5;132;01m{\u001B[39;00mn_datasets\u001B[38;5;132;01m}\u001B[39;00m\u001B[33m datasets.\u001B[39m\u001B[33m\"\u001B[39m)\n\u001B[32m--> \u001B[39m\u001B[32m539\u001B[39m result = (\u001B[43mmake_artist\u001B[49m\u001B[43m(\u001B[49m\u001B[43maxes\u001B[49m\u001B[43m,\u001B[49m\u001B[43m \u001B[49m\u001B[43mx\u001B[49m\u001B[43m[\u001B[49m\u001B[43m:\u001B[49m\u001B[43m,\u001B[49m\u001B[43m \u001B[49m\u001B[43mj\u001B[49m\u001B[43m \u001B[49m\u001B[43m%\u001B[49m\u001B[43m \u001B[49m\u001B[43mncx\u001B[49m\u001B[43m]\u001B[49m\u001B[43m,\u001B[49m\u001B[43m \u001B[49m\u001B[43my\u001B[49m\u001B[43m[\u001B[49m\u001B[43m:\u001B[49m\u001B[43m,\u001B[49m\u001B[43m \u001B[49m\u001B[43mj\u001B[49m\u001B[43m \u001B[49m\u001B[43m%\u001B[49m\u001B[43m \u001B[49m\u001B[43mncy\u001B[49m\u001B[43m]\u001B[49m\u001B[43m,\u001B[49m\u001B[43m \u001B[49m\u001B[43mkw\u001B[49m\u001B[43m,\u001B[49m\n\u001B[32m    540\u001B[39m \u001B[43m                      \u001B[49m\u001B[43m{\u001B[49m\u001B[43m*\u001B[49m\u001B[43m*\u001B[49m\u001B[43mkwargs\u001B[49m\u001B[43m,\u001B[49m\u001B[43m \u001B[49m\u001B[33;43m'\u001B[39;49m\u001B[33;43mlabel\u001B[39;49m\u001B[33;43m'\u001B[39;49m\u001B[43m:\u001B[49m\u001B[43m \u001B[49m\u001B[43mlabel\u001B[49m\u001B[43m}\u001B[49m\u001B[43m)\u001B[49m\n\u001B[32m    541\u001B[39m           \u001B[38;5;28;01mfor\u001B[39;00m j, label \u001B[38;5;129;01min\u001B[39;00m \u001B[38;5;28menumerate\u001B[39m(labels))\n\u001B[32m    543\u001B[39m \u001B[38;5;28;01mif\u001B[39;00m return_kwargs:\n\u001B[32m    544\u001B[39m     \u001B[38;5;28;01mreturn\u001B[39;00m \u001B[38;5;28mlist\u001B[39m(result)\n",
      "\u001B[36mFile \u001B[39m\u001B[32m~/workspace/data_sience/hockey-pd/.venv/lib/python3.13/site-packages/matplotlib/axes/_base.py:338\u001B[39m, in \u001B[36m_process_plot_var_args._make_line\u001B[39m\u001B[34m(self, axes, x, y, kw, kwargs)\u001B[39m\n\u001B[32m    336\u001B[39m kw = {**kw, **kwargs}  \u001B[38;5;66;03m# Don't modify the original kw.\u001B[39;00m\n\u001B[32m    337\u001B[39m \u001B[38;5;28mself\u001B[39m._setdefaults(\u001B[38;5;28mself\u001B[39m._getdefaults(kw), kw)\n\u001B[32m--> \u001B[39m\u001B[32m338\u001B[39m seg = \u001B[43mmlines\u001B[49m\u001B[43m.\u001B[49m\u001B[43mLine2D\u001B[49m\u001B[43m(\u001B[49m\u001B[43mx\u001B[49m\u001B[43m,\u001B[49m\u001B[43m \u001B[49m\u001B[43my\u001B[49m\u001B[43m,\u001B[49m\u001B[43m \u001B[49m\u001B[43m*\u001B[49m\u001B[43m*\u001B[49m\u001B[43mkw\u001B[49m\u001B[43m)\u001B[49m\n\u001B[32m    339\u001B[39m \u001B[38;5;28;01mreturn\u001B[39;00m seg, kw\n",
      "\u001B[36mFile \u001B[39m\u001B[32m~/workspace/data_sience/hockey-pd/.venv/lib/python3.13/site-packages/matplotlib/lines.py:407\u001B[39m, in \u001B[36mLine2D.__init__\u001B[39m\u001B[34m(self, xdata, ydata, linewidth, linestyle, color, gapcolor, marker, markersize, markeredgewidth, markeredgecolor, markerfacecolor, markerfacecoloralt, fillstyle, antialiased, dash_capstyle, solid_capstyle, dash_joinstyle, solid_joinstyle, pickradius, drawstyle, markevery, **kwargs)\u001B[39m\n\u001B[32m    403\u001B[39m \u001B[38;5;28mself\u001B[39m.set_markeredgewidth(markeredgewidth)\n\u001B[32m    405\u001B[39m \u001B[38;5;66;03m# update kwargs before updating data to give the caller a\u001B[39;00m\n\u001B[32m    406\u001B[39m \u001B[38;5;66;03m# chance to init axes (and hence unit support)\u001B[39;00m\n\u001B[32m--> \u001B[39m\u001B[32m407\u001B[39m \u001B[38;5;28;43mself\u001B[39;49m\u001B[43m.\u001B[49m\u001B[43m_internal_update\u001B[49m\u001B[43m(\u001B[49m\u001B[43mkwargs\u001B[49m\u001B[43m)\u001B[49m\n\u001B[32m    408\u001B[39m \u001B[38;5;28mself\u001B[39m.pickradius = pickradius\n\u001B[32m    409\u001B[39m \u001B[38;5;28mself\u001B[39m.ind_offset = \u001B[32m0\u001B[39m\n",
      "\u001B[36mFile \u001B[39m\u001B[32m~/workspace/data_sience/hockey-pd/.venv/lib/python3.13/site-packages/matplotlib/artist.py:1233\u001B[39m, in \u001B[36mArtist._internal_update\u001B[39m\u001B[34m(self, kwargs)\u001B[39m\n\u001B[32m   1226\u001B[39m \u001B[38;5;28;01mdef\u001B[39;00m\u001B[38;5;250m \u001B[39m\u001B[34m_internal_update\u001B[39m(\u001B[38;5;28mself\u001B[39m, kwargs):\n\u001B[32m   1227\u001B[39m \u001B[38;5;250m    \u001B[39m\u001B[33;03m\"\"\"\u001B[39;00m\n\u001B[32m   1228\u001B[39m \u001B[33;03m    Update artist properties without prenormalizing them, but generating\u001B[39;00m\n\u001B[32m   1229\u001B[39m \u001B[33;03m    errors as if calling `set`.\u001B[39;00m\n\u001B[32m   1230\u001B[39m \n\u001B[32m   1231\u001B[39m \u001B[33;03m    The lack of prenormalization is to maintain backcompatibility.\u001B[39;00m\n\u001B[32m   1232\u001B[39m \u001B[33;03m    \"\"\"\u001B[39;00m\n\u001B[32m-> \u001B[39m\u001B[32m1233\u001B[39m     \u001B[38;5;28;01mreturn\u001B[39;00m \u001B[38;5;28;43mself\u001B[39;49m\u001B[43m.\u001B[49m\u001B[43m_update_props\u001B[49m\u001B[43m(\u001B[49m\n\u001B[32m   1234\u001B[39m \u001B[43m        \u001B[49m\u001B[43mkwargs\u001B[49m\u001B[43m,\u001B[49m\u001B[43m \u001B[49m\u001B[33;43m\"\u001B[39;49m\u001B[38;5;132;43;01m{cls.__name__}\u001B[39;49;00m\u001B[33;43m.set() got an unexpected keyword argument \u001B[39;49m\u001B[33;43m\"\u001B[39;49m\n\u001B[32m   1235\u001B[39m \u001B[43m        \u001B[49m\u001B[33;43m\"\u001B[39;49m\u001B[38;5;132;43;01m{prop_name!r}\u001B[39;49;00m\u001B[33;43m\"\u001B[39;49m\u001B[43m)\u001B[49m\n",
      "\u001B[36mFile \u001B[39m\u001B[32m~/workspace/data_sience/hockey-pd/.venv/lib/python3.13/site-packages/matplotlib/artist.py:1206\u001B[39m, in \u001B[36mArtist._update_props\u001B[39m\u001B[34m(self, props, errfmt)\u001B[39m\n\u001B[32m   1204\u001B[39m             func = \u001B[38;5;28mgetattr\u001B[39m(\u001B[38;5;28mself\u001B[39m, \u001B[33mf\u001B[39m\u001B[33m\"\u001B[39m\u001B[33mset_\u001B[39m\u001B[38;5;132;01m{\u001B[39;00mk\u001B[38;5;132;01m}\u001B[39;00m\u001B[33m\"\u001B[39m, \u001B[38;5;28;01mNone\u001B[39;00m)\n\u001B[32m   1205\u001B[39m             \u001B[38;5;28;01mif\u001B[39;00m \u001B[38;5;129;01mnot\u001B[39;00m \u001B[38;5;28mcallable\u001B[39m(func):\n\u001B[32m-> \u001B[39m\u001B[32m1206\u001B[39m                 \u001B[38;5;28;01mraise\u001B[39;00m \u001B[38;5;167;01mAttributeError\u001B[39;00m(\n\u001B[32m   1207\u001B[39m                     errfmt.format(\u001B[38;5;28mcls\u001B[39m=\u001B[38;5;28mtype\u001B[39m(\u001B[38;5;28mself\u001B[39m), prop_name=k),\n\u001B[32m   1208\u001B[39m                     name=k)\n\u001B[32m   1209\u001B[39m             ret.append(func(v))\n\u001B[32m   1210\u001B[39m \u001B[38;5;28;01mif\u001B[39;00m ret:\n",
      "\u001B[31mAttributeError\u001B[39m: Line2D.set() got an unexpected keyword argument 'plot'"
     ]
    },
    {
     "data": {
      "text/plain": [
       "<Figure size 640x480 with 2 Axes>"
      ],
      "image/png": "[encoded data removed]"
     },
     "metadata": {},
     "output_type": "display_data"
    }
   ],
   "execution_count": 41
  },
  {
   "metadata": {
    "ExecuteTime": {
     "end_time": "2025-03-22T14:34:33.627850Z",
     "start_time": "2025-03-22T14:34:33.519349Z"
    }
   },
   "cell_type": "code",
   "source": [
    "fig, ax = plt.sub(figsize=(10, 5))\n",
    "pivot.plot(kind='bar', ax=ax)\n",
    "\n"
   ],
   "id": "390bbb0651101fd",
   "outputs": [
    {
     "ename": "AttributeError",
     "evalue": "module 'matplotlib.pyplot' has no attribute 'sub'",
     "output_type": "error",
     "traceback": [
      "\u001B[31m---------------------------------------------------------------------------\u001B[39m",
      "\u001B[31mAttributeError\u001B[39m                            Traceback (most recent call last)",
      "\u001B[36mCell\u001B[39m\u001B[36m \u001B[39m\u001B[32mIn[42]\u001B[39m\u001B[32m, line 1\u001B[39m\n\u001B[32m----> \u001B[39m\u001B[32m1\u001B[39m fig, ax = \u001B[43mplt\u001B[49m\u001B[43m.\u001B[49m\u001B[43msub\u001B[49m(figsize=(\u001B[32m10\u001B[39m, \u001B[32m5\u001B[39m))\n\u001B[32m      2\u001B[39m pivot.plot(kind=\u001B[33m'\u001B[39m\u001B[33mbar\u001B[39m\u001B[33m'\u001B[39m, ax=ax)\n",
      "\u001B[31mAttributeError\u001B[39m: module 'matplotlib.pyplot' has no attribute 'sub'"
     ]
    }
   ],
   "execution_count": 42
  },
  {
   "metadata": {
    "ExecuteTime": {
     "end_time": "2025-03-22T14:31:39.150592Z",
     "start_time": "2025-03-22T14:31:39.125492Z"
    }
   },
   "cell_type": "code",
   "source": "pivot",
   "id": "7a8d0615157d7c4c",
   "outputs": [
    {
     "data": {
      "text/plain": [
       "year       2001  2002  2003\n",
       "playerID                   \n",
       "gillha01    4.0   4.0   2.0\n",
       "pilarka01   1.0   3.0   2.0\n",
       "rolosdw01   0.0   0.0   0.0"
      ],
      "text/html": [
       "<div>\n",
       "<style scoped>\n",
       "    .dataframe tbody tr th:only-of-type {\n",
       "        vertical-align: middle;\n",
       "    }\n",
       "\n",
       "    .dataframe tbody tr th {\n",
       "        vertical-align: top;\n",
       "    }\n",
       "\n",
       "    .dataframe thead th {\n",
       "        text-align: right;\n",
       "    }\n",
       "</style>\n",
       "<table border=\"1\" class=\"dataframe\">\n",
       "  <thead>\n",
       "    <tr style=\"text-align: right;\">\n",
       "      <th>year</th>\n",
       "      <th>2001</th>\n",
       "      <th>2002</th>\n",
       "      <th>2003</th>\n",
       "    </tr>\n",
       "    <tr>\n",
       "      <th>playerID</th>\n",
       "      <th></th>\n",
       "      <th></th>\n",
       "      <th></th>\n",
       "    </tr>\n",
       "  </thead>\n",
       "  <tbody>\n",
       "    <tr>\n",
       "      <th>gillha01</th>\n",
       "      <td>4.0</td>\n",
       "      <td>4.0</td>\n",
       "      <td>2.0</td>\n",
       "    </tr>\n",
       "    <tr>\n",
       "      <th>pilarka01</th>\n",
       "      <td>1.0</td>\n",
       "      <td>3.0</td>\n",
       "      <td>2.0</td>\n",
       "    </tr>\n",
       "    <tr>\n",
       "      <th>rolosdw01</th>\n",
       "      <td>0.0</td>\n",
       "      <td>0.0</td>\n",
       "      <td>0.0</td>\n",
       "    </tr>\n",
       "  </tbody>\n",
       "</table>\n",
       "</div>"
      ]
     },
     "execution_count": 37,
     "metadata": {},
     "output_type": "execute_result"
    }
   ],
   "execution_count": 37
  },
  {
   "metadata": {
    "ExecuteTime": {
     "end_time": "2025-03-22T14:37:01.743306Z",
     "start_time": "2025-03-22T14:37:01.734274Z"
    }
   },
   "cell_type": "code",
   "source": "piwot = pivot.reset_index(inplace=True)",
   "id": "d44f0c9c4da24b60",
   "outputs": [],
   "execution_count": 44
  },
  {
   "metadata": {
    "ExecuteTime": {
     "end_time": "2025-03-22T14:37:02.647092Z",
     "start_time": "2025-03-22T14:37:02.610230Z"
    }
   },
   "cell_type": "code",
   "source": "pivot.melt(id_vars=['playerID'])",
   "id": "23d60ed17c398830",
   "outputs": [
    {
     "data": {
      "text/plain": [
       "    playerID  year  value\n",
       "0   gillha01  2001    4.0\n",
       "1  pilarka01  2001    1.0\n",
       "2  rolosdw01  2001    0.0\n",
       "3   gillha01  2002    4.0\n",
       "4  pilarka01  2002    3.0\n",
       "5  rolosdw01  2002    0.0\n",
       "6   gillha01  2003    2.0\n",
       "7  pilarka01  2003    2.0\n",
       "8  rolosdw01  2003    0.0"
      ],
      "text/html": [
       "<div>\n",
       "<style scoped>\n",
       "    .dataframe tbody tr th:only-of-type {\n",
       "        vertical-align: middle;\n",
       "    }\n",
       "\n",
       "    .dataframe tbody tr th {\n",
       "        vertical-align: top;\n",
       "    }\n",
       "\n",
       "    .dataframe thead th {\n",
       "        text-align: right;\n",
       "    }\n",
       "</style>\n",
       "<table border=\"1\" class=\"dataframe\">\n",
       "  <thead>\n",
       "    <tr style=\"text-align: right;\">\n",
       "      <th></th>\n",
       "      <th>playerID</th>\n",
       "      <th>year</th>\n",
       "      <th>value</th>\n",
       "    </tr>\n",
       "  </thead>\n",
       "  <tbody>\n",
       "    <tr>\n",
       "      <th>0</th>\n",
       "      <td>gillha01</td>\n",
       "      <td>2001</td>\n",
       "      <td>4.0</td>\n",
       "    </tr>\n",
       "    <tr>\n",
       "      <th>1</th>\n",
       "      <td>pilarka01</td>\n",
       "      <td>2001</td>\n",
       "      <td>1.0</td>\n",
       "    </tr>\n",
       "    <tr>\n",
       "      <th>2</th>\n",
       "      <td>rolosdw01</td>\n",
       "      <td>2001</td>\n",
       "      <td>0.0</td>\n",
       "    </tr>\n",
       "    <tr>\n",
       "      <th>3</th>\n",
       "      <td>gillha01</td>\n",
       "      <td>2002</td>\n",
       "      <td>4.0</td>\n",
       "    </tr>\n",
       "    <tr>\n",
       "      <th>4</th>\n",
       "      <td>pilarka01</td>\n",
       "      <td>2002</td>\n",
       "      <td>3.0</td>\n",
       "    </tr>\n",
       "    <tr>\n",
       "      <th>5</th>\n",
       "      <td>rolosdw01</td>\n",
       "      <td>2002</td>\n",
       "      <td>0.0</td>\n",
       "    </tr>\n",
       "    <tr>\n",
       "      <th>6</th>\n",
       "      <td>gillha01</td>\n",
       "      <td>2003</td>\n",
       "      <td>2.0</td>\n",
       "    </tr>\n",
       "    <tr>\n",
       "      <th>7</th>\n",
       "      <td>pilarka01</td>\n",
       "      <td>2003</td>\n",
       "      <td>2.0</td>\n",
       "    </tr>\n",
       "    <tr>\n",
       "      <th>8</th>\n",
       "      <td>rolosdw01</td>\n",
       "      <td>2003</td>\n",
       "      <td>0.0</td>\n",
       "    </tr>\n",
       "  </tbody>\n",
       "</table>\n",
       "</div>"
      ]
     },
     "execution_count": 45,
     "metadata": {},
     "output_type": "execute_result"
    }
   ],
   "execution_count": 45
  },
  {
   "metadata": {
    "ExecuteTime": {
     "end_time": "2025-03-22T14:37:55.333346Z",
     "start_time": "2025-03-22T14:37:55.301497Z"
    }
   },
   "cell_type": "code",
   "source": "pivot.melt(id_vars=['playerID'], var_name='year', value_name='goals')",
   "id": "1d24d94ae5316b0d",
   "outputs": [
    {
     "data": {
      "text/plain": [
       "    playerID  year  goals\n",
       "0   gillha01  2001    4.0\n",
       "1  pilarka01  2001    1.0\n",
       "2  rolosdw01  2001    0.0\n",
       "3   gillha01  2002    4.0\n",
       "4  pilarka01  2002    3.0\n",
       "5  rolosdw01  2002    0.0\n",
       "6   gillha01  2003    2.0\n",
       "7  pilarka01  2003    2.0\n",
       "8  rolosdw01  2003    0.0"
      ],
      "text/html": [
       "<div>\n",
       "<style scoped>\n",
       "    .dataframe tbody tr th:only-of-type {\n",
       "        vertical-align: middle;\n",
       "    }\n",
       "\n",
       "    .dataframe tbody tr th {\n",
       "        vertical-align: top;\n",
       "    }\n",
       "\n",
       "    .dataframe thead th {\n",
       "        text-align: right;\n",
       "    }\n",
       "</style>\n",
       "<table border=\"1\" class=\"dataframe\">\n",
       "  <thead>\n",
       "    <tr style=\"text-align: right;\">\n",
       "      <th></th>\n",
       "      <th>playerID</th>\n",
       "      <th>year</th>\n",
       "      <th>goals</th>\n",
       "    </tr>\n",
       "  </thead>\n",
       "  <tbody>\n",
       "    <tr>\n",
       "      <th>0</th>\n",
       "      <td>gillha01</td>\n",
       "      <td>2001</td>\n",
       "      <td>4.0</td>\n",
       "    </tr>\n",
       "    <tr>\n",
       "      <th>1</th>\n",
       "      <td>pilarka01</td>\n",
       "      <td>2001</td>\n",
       "      <td>1.0</td>\n",
       "    </tr>\n",
       "    <tr>\n",
       "      <th>2</th>\n",
       "      <td>rolosdw01</td>\n",
       "      <td>2001</td>\n",
       "      <td>0.0</td>\n",
       "    </tr>\n",
       "    <tr>\n",
       "      <th>3</th>\n",
       "      <td>gillha01</td>\n",
       "      <td>2002</td>\n",
       "      <td>4.0</td>\n",
       "    </tr>\n",
       "    <tr>\n",
       "      <th>4</th>\n",
       "      <td>pilarka01</td>\n",
       "      <td>2002</td>\n",
       "      <td>3.0</td>\n",
       "    </tr>\n",
       "    <tr>\n",
       "      <th>5</th>\n",
       "      <td>rolosdw01</td>\n",
       "      <td>2002</td>\n",
       "      <td>0.0</td>\n",
       "    </tr>\n",
       "    <tr>\n",
       "      <th>6</th>\n",
       "      <td>gillha01</td>\n",
       "      <td>2003</td>\n",
       "      <td>2.0</td>\n",
       "    </tr>\n",
       "    <tr>\n",
       "      <th>7</th>\n",
       "      <td>pilarka01</td>\n",
       "      <td>2003</td>\n",
       "      <td>2.0</td>\n",
       "    </tr>\n",
       "    <tr>\n",
       "      <th>8</th>\n",
       "      <td>rolosdw01</td>\n",
       "      <td>2003</td>\n",
       "      <td>0.0</td>\n",
       "    </tr>\n",
       "  </tbody>\n",
       "</table>\n",
       "</div>"
      ]
     },
     "execution_count": 46,
     "metadata": {},
     "output_type": "execute_result"
    }
   ],
   "execution_count": 46
  },
  {
   "metadata": {
    "ExecuteTime": {
     "end_time": "2025-03-22T14:38:58.766814Z",
     "start_time": "2025-03-22T14:38:58.737942Z"
    }
   },
   "cell_type": "code",
   "source": "pivot.melt(id_vars=['playerID'], var_name='year', value_name='goals', value_vars=[2001, 2002])",
   "id": "c2024e1f55b6262",
   "outputs": [
    {
     "data": {
      "text/plain": [
       "    playerID  year  goals\n",
       "0   gillha01  2001    4.0\n",
       "1  pilarka01  2001    1.0\n",
       "2  rolosdw01  2001    0.0\n",
       "3   gillha01  2002    4.0\n",
       "4  pilarka01  2002    3.0\n",
       "5  rolosdw01  2002    0.0"
      ],
      "text/html": [
       "<div>\n",
       "<style scoped>\n",
       "    .dataframe tbody tr th:only-of-type {\n",
       "        vertical-align: middle;\n",
       "    }\n",
       "\n",
       "    .dataframe tbody tr th {\n",
       "        vertical-align: top;\n",
       "    }\n",
       "\n",
       "    .dataframe thead th {\n",
       "        text-align: right;\n",
       "    }\n",
       "</style>\n",
       "<table border=\"1\" class=\"dataframe\">\n",
       "  <thead>\n",
       "    <tr style=\"text-align: right;\">\n",
       "      <th></th>\n",
       "      <th>playerID</th>\n",
       "      <th>year</th>\n",
       "      <th>goals</th>\n",
       "    </tr>\n",
       "  </thead>\n",
       "  <tbody>\n",
       "    <tr>\n",
       "      <th>0</th>\n",
       "      <td>gillha01</td>\n",
       "      <td>2001</td>\n",
       "      <td>4.0</td>\n",
       "    </tr>\n",
       "    <tr>\n",
       "      <th>1</th>\n",
       "      <td>pilarka01</td>\n",
       "      <td>2001</td>\n",
       "      <td>1.0</td>\n",
       "    </tr>\n",
       "    <tr>\n",
       "      <th>2</th>\n",
       "      <td>rolosdw01</td>\n",
       "      <td>2001</td>\n",
       "      <td>0.0</td>\n",
       "    </tr>\n",
       "    <tr>\n",
       "      <th>3</th>\n",
       "      <td>gillha01</td>\n",
       "      <td>2002</td>\n",
       "      <td>4.0</td>\n",
       "    </tr>\n",
       "    <tr>\n",
       "      <th>4</th>\n",
       "      <td>pilarka01</td>\n",
       "      <td>2002</td>\n",
       "      <td>3.0</td>\n",
       "    </tr>\n",
       "    <tr>\n",
       "      <th>5</th>\n",
       "      <td>rolosdw01</td>\n",
       "      <td>2002</td>\n",
       "      <td>0.0</td>\n",
       "    </tr>\n",
       "  </tbody>\n",
       "</table>\n",
       "</div>"
      ]
     },
     "execution_count": 47,
     "metadata": {},
     "output_type": "execute_result"
    }
   ],
   "execution_count": 47
  },
  {
   "metadata": {
    "ExecuteTime": {
     "end_time": "2025-03-22T14:42:55.619844Z",
     "start_time": "2025-03-22T14:42:55.607001Z"
    }
   },
   "cell_type": "code",
   "source": "larger_df_3 = df_3[['playerID', 'tmID', 'year', 'G']]",
   "id": "840168e31e3e70f",
   "outputs": [],
   "execution_count": 50
  },
  {
   "metadata": {
    "ExecuteTime": {
     "end_time": "2025-03-22T14:43:01.498003Z",
     "start_time": "2025-03-22T14:43:01.464090Z"
    }
   },
   "cell_type": "code",
   "source": "larger_df_3",
   "id": "11529fcb7e352a21",
   "outputs": [
    {
     "data": {
      "text/plain": [
       "        playerID tmID  year    G\n",
       "8220    gillha01  BOS  2001  4.0\n",
       "8221    gillha01  BOS  2002  4.0\n",
       "8222    gillha01  BOS  2003  2.0\n",
       "19717  pilarka01  TOR  2001  1.0\n",
       "19718  pilarka01  TOR  2002  3.0\n",
       "19719  pilarka01  TOR  2003  2.0\n",
       "21439  rolosdw01  MIN  2001  0.0\n",
       "21440  rolosdw01  MIN  2002  0.0\n",
       "21441  rolosdw01  MIN  2003  0.0"
      ],
      "text/html": [
       "<div>\n",
       "<style scoped>\n",
       "    .dataframe tbody tr th:only-of-type {\n",
       "        vertical-align: middle;\n",
       "    }\n",
       "\n",
       "    .dataframe tbody tr th {\n",
       "        vertical-align: top;\n",
       "    }\n",
       "\n",
       "    .dataframe thead th {\n",
       "        text-align: right;\n",
       "    }\n",
       "</style>\n",
       "<table border=\"1\" class=\"dataframe\">\n",
       "  <thead>\n",
       "    <tr style=\"text-align: right;\">\n",
       "      <th></th>\n",
       "      <th>playerID</th>\n",
       "      <th>tmID</th>\n",
       "      <th>year</th>\n",
       "      <th>G</th>\n",
       "    </tr>\n",
       "  </thead>\n",
       "  <tbody>\n",
       "    <tr>\n",
       "      <th>8220</th>\n",
       "      <td>gillha01</td>\n",
       "      <td>BOS</td>\n",
       "      <td>2001</td>\n",
       "      <td>4.0</td>\n",
       "    </tr>\n",
       "    <tr>\n",
       "      <th>8221</th>\n",
       "      <td>gillha01</td>\n",
       "      <td>BOS</td>\n",
       "      <td>2002</td>\n",
       "      <td>4.0</td>\n",
       "    </tr>\n",
       "    <tr>\n",
       "      <th>8222</th>\n",
       "      <td>gillha01</td>\n",
       "      <td>BOS</td>\n",
       "      <td>2003</td>\n",
       "      <td>2.0</td>\n",
       "    </tr>\n",
       "    <tr>\n",
       "      <th>19717</th>\n",
       "      <td>pilarka01</td>\n",
       "      <td>TOR</td>\n",
       "      <td>2001</td>\n",
       "      <td>1.0</td>\n",
       "    </tr>\n",
       "    <tr>\n",
       "      <th>19718</th>\n",
       "      <td>pilarka01</td>\n",
       "      <td>TOR</td>\n",
       "      <td>2002</td>\n",
       "      <td>3.0</td>\n",
       "    </tr>\n",
       "    <tr>\n",
       "      <th>19719</th>\n",
       "      <td>pilarka01</td>\n",
       "      <td>TOR</td>\n",
       "      <td>2003</td>\n",
       "      <td>2.0</td>\n",
       "    </tr>\n",
       "    <tr>\n",
       "      <th>21439</th>\n",
       "      <td>rolosdw01</td>\n",
       "      <td>MIN</td>\n",
       "      <td>2001</td>\n",
       "      <td>0.0</td>\n",
       "    </tr>\n",
       "    <tr>\n",
       "      <th>21440</th>\n",
       "      <td>rolosdw01</td>\n",
       "      <td>MIN</td>\n",
       "      <td>2002</td>\n",
       "      <td>0.0</td>\n",
       "    </tr>\n",
       "    <tr>\n",
       "      <th>21441</th>\n",
       "      <td>rolosdw01</td>\n",
       "      <td>MIN</td>\n",
       "      <td>2003</td>\n",
       "      <td>0.0</td>\n",
       "    </tr>\n",
       "  </tbody>\n",
       "</table>\n",
       "</div>"
      ]
     },
     "execution_count": 51,
     "metadata": {},
     "output_type": "execute_result"
    }
   ],
   "execution_count": 51
  },
  {
   "metadata": {
    "ExecuteTime": {
     "end_time": "2025-03-22T14:43:45.776883Z",
     "start_time": "2025-03-22T14:43:45.736523Z"
    }
   },
   "cell_type": "code",
   "source": "larger_df_3.pivot(index=['playerID', 'tmID'], columns='year', values='G')",
   "id": "8c487c591f976cdb",
   "outputs": [
    {
     "data": {
      "text/plain": [
       "year            2001  2002  2003\n",
       "playerID  tmID                  \n",
       "gillha01  BOS    4.0   4.0   2.0\n",
       "pilarka01 TOR    1.0   3.0   2.0\n",
       "rolosdw01 MIN    0.0   0.0   0.0"
      ],
      "text/html": [
       "<div>\n",
       "<style scoped>\n",
       "    .dataframe tbody tr th:only-of-type {\n",
       "        vertical-align: middle;\n",
       "    }\n",
       "\n",
       "    .dataframe tbody tr th {\n",
       "        vertical-align: top;\n",
       "    }\n",
       "\n",
       "    .dataframe thead th {\n",
       "        text-align: right;\n",
       "    }\n",
       "</style>\n",
       "<table border=\"1\" class=\"dataframe\">\n",
       "  <thead>\n",
       "    <tr style=\"text-align: right;\">\n",
       "      <th></th>\n",
       "      <th>year</th>\n",
       "      <th>2001</th>\n",
       "      <th>2002</th>\n",
       "      <th>2003</th>\n",
       "    </tr>\n",
       "    <tr>\n",
       "      <th>playerID</th>\n",
       "      <th>tmID</th>\n",
       "      <th></th>\n",
       "      <th></th>\n",
       "      <th></th>\n",
       "    </tr>\n",
       "  </thead>\n",
       "  <tbody>\n",
       "    <tr>\n",
       "      <th>gillha01</th>\n",
       "      <th>BOS</th>\n",
       "      <td>4.0</td>\n",
       "      <td>4.0</td>\n",
       "      <td>2.0</td>\n",
       "    </tr>\n",
       "    <tr>\n",
       "      <th>pilarka01</th>\n",
       "      <th>TOR</th>\n",
       "      <td>1.0</td>\n",
       "      <td>3.0</td>\n",
       "      <td>2.0</td>\n",
       "    </tr>\n",
       "    <tr>\n",
       "      <th>rolosdw01</th>\n",
       "      <th>MIN</th>\n",
       "      <td>0.0</td>\n",
       "      <td>0.0</td>\n",
       "      <td>0.0</td>\n",
       "    </tr>\n",
       "  </tbody>\n",
       "</table>\n",
       "</div>"
      ]
     },
     "execution_count": 52,
     "metadata": {},
     "output_type": "execute_result"
    }
   ],
   "execution_count": 52
  },
  {
   "metadata": {
    "ExecuteTime": {
     "end_time": "2025-03-22T14:46:25.412905Z",
     "start_time": "2025-03-22T14:46:25.404061Z"
    }
   },
   "cell_type": "code",
   "source": "larger_df_3 = df_3[['playerID', 'tmID', 'year', 'G', 'A']]",
   "id": "ba78151c66acd166",
   "outputs": [],
   "execution_count": 53
  },
  {
   "metadata": {
    "ExecuteTime": {
     "end_time": "2025-03-22T14:46:48.257578Z",
     "start_time": "2025-03-22T14:46:48.199727Z"
    }
   },
   "cell_type": "code",
   "source": "larger_df_3.pivot(index=['playerID', 'tmID'], columns='year', values=['G', 'A'])",
   "id": "b0be9e32eb97b674",
   "outputs": [
    {
     "data": {
      "text/plain": [
       "                  G               A            \n",
       "year           2001 2002 2003  2001  2002  2003\n",
       "playerID  tmID                                 \n",
       "gillha01  BOS   4.0  4.0  2.0  18.0  13.0   7.0\n",
       "pilarka01 TOR   1.0  3.0  2.0   3.0   4.0  17.0\n",
       "rolosdw01 MIN   0.0  0.0  0.0   0.0   1.0   1.0"
      ],
      "text/html": [
       "<div>\n",
       "<style scoped>\n",
       "    .dataframe tbody tr th:only-of-type {\n",
       "        vertical-align: middle;\n",
       "    }\n",
       "\n",
       "    .dataframe tbody tr th {\n",
       "        vertical-align: top;\n",
       "    }\n",
       "\n",
       "    .dataframe thead tr th {\n",
       "        text-align: left;\n",
       "    }\n",
       "\n",
       "    .dataframe thead tr:last-of-type th {\n",
       "        text-align: right;\n",
       "    }\n",
       "</style>\n",
       "<table border=\"1\" class=\"dataframe\">\n",
       "  <thead>\n",
       "    <tr>\n",
       "      <th></th>\n",
       "      <th></th>\n",
       "      <th colspan=\"3\" halign=\"left\">G</th>\n",
       "      <th colspan=\"3\" halign=\"left\">A</th>\n",
       "    </tr>\n",
       "    <tr>\n",
       "      <th></th>\n",
       "      <th>year</th>\n",
       "      <th>2001</th>\n",
       "      <th>2002</th>\n",
       "      <th>2003</th>\n",
       "      <th>2001</th>\n",
       "      <th>2002</th>\n",
       "      <th>2003</th>\n",
       "    </tr>\n",
       "    <tr>\n",
       "      <th>playerID</th>\n",
       "      <th>tmID</th>\n",
       "      <th></th>\n",
       "      <th></th>\n",
       "      <th></th>\n",
       "      <th></th>\n",
       "      <th></th>\n",
       "      <th></th>\n",
       "    </tr>\n",
       "  </thead>\n",
       "  <tbody>\n",
       "    <tr>\n",
       "      <th>gillha01</th>\n",
       "      <th>BOS</th>\n",
       "      <td>4.0</td>\n",
       "      <td>4.0</td>\n",
       "      <td>2.0</td>\n",
       "      <td>18.0</td>\n",
       "      <td>13.0</td>\n",
       "      <td>7.0</td>\n",
       "    </tr>\n",
       "    <tr>\n",
       "      <th>pilarka01</th>\n",
       "      <th>TOR</th>\n",
       "      <td>1.0</td>\n",
       "      <td>3.0</td>\n",
       "      <td>2.0</td>\n",
       "      <td>3.0</td>\n",
       "      <td>4.0</td>\n",
       "      <td>17.0</td>\n",
       "    </tr>\n",
       "    <tr>\n",
       "      <th>rolosdw01</th>\n",
       "      <th>MIN</th>\n",
       "      <td>0.0</td>\n",
       "      <td>0.0</td>\n",
       "      <td>0.0</td>\n",
       "      <td>0.0</td>\n",
       "      <td>1.0</td>\n",
       "      <td>1.0</td>\n",
       "    </tr>\n",
       "  </tbody>\n",
       "</table>\n",
       "</div>"
      ]
     },
     "execution_count": 54,
     "metadata": {},
     "output_type": "execute_result"
    }
   ],
   "execution_count": 54
  },
  {
   "metadata": {
    "ExecuteTime": {
     "end_time": "2025-03-22T14:48:13.302948Z",
     "start_time": "2025-03-22T14:48:13.286557Z"
    }
   },
   "cell_type": "code",
   "source": "result = larger_df_3.pivot(index=['playerID', 'tmID'], columns='year', values=['G', 'A'])",
   "id": "e83e488a58e103ee",
   "outputs": [],
   "execution_count": 55
  },
  {
   "metadata": {
    "ExecuteTime": {
     "end_time": "2025-03-22T14:48:19.741333Z",
     "start_time": "2025-03-22T14:48:19.728574Z"
    }
   },
   "cell_type": "code",
   "source": "result.columns",
   "id": "3dfbb21640736f8f",
   "outputs": [
    {
     "data": {
      "text/plain": [
       "MultiIndex([('G', 2001),\n",
       "            ('G', 2002),\n",
       "            ('G', 2003),\n",
       "            ('A', 2001),\n",
       "            ('A', 2002),\n",
       "            ('A', 2003)],\n",
       "           names=[None, 'year'])"
      ]
     },
     "execution_count": 56,
     "metadata": {},
     "output_type": "execute_result"
    }
   ],
   "execution_count": 56
  },
  {
   "metadata": {
    "ExecuteTime": {
     "end_time": "2025-03-22T14:57:41.882641Z",
     "start_time": "2025-03-22T14:57:41.864460Z"
    }
   },
   "cell_type": "code",
   "source": "result.loc['gillha01',('A', 2001)]",
   "id": "c1e8936211878bad",
   "outputs": [
    {
     "data": {
      "text/plain": [
       "tmID\n",
       "BOS    18.0\n",
       "Name: (A, 2001), dtype: float64"
      ]
     },
     "execution_count": 61,
     "metadata": {},
     "output_type": "execute_result"
    }
   ],
   "execution_count": 61
  },
  {
   "metadata": {
    "ExecuteTime": {
     "end_time": "2025-03-23T10:22:43.972821Z",
     "start_time": "2025-03-23T10:22:43.487114Z"
    }
   },
   "cell_type": "code",
   "source": "",
   "id": "178aeb686514af1",
   "outputs": [
    {
     "ename": "NameError",
     "evalue": "name 'team_splits' is not defined",
     "output_type": "error",
     "traceback": [
      "\u001B[31m---------------------------------------------------------------------------\u001B[39m",
      "\u001B[31mNameError\u001B[39m                                 Traceback (most recent call last)",
      "\u001B[36mCell\u001B[39m\u001B[36m \u001B[39m\u001B[32mIn[1]\u001B[39m\u001B[32m, line 1\u001B[39m\n\u001B[32m----> \u001B[39m\u001B[32m1\u001B[39m \u001B[43mteam_splits\u001B[49m.unstack(level=[\u001B[33m\"\u001B[39m\u001B[33myear\u001B[39m\u001B[33m\"\u001B[39m, \u001B[33m\"\u001B[39m\u001B[33mmonth\u001B[39m\u001B[33m\"\u001B[39m]).head()\n",
      "\u001B[31mNameError\u001B[39m: name 'team_splits' is not defined"
     ]
    }
   ],
   "execution_count": 1
  },
  {
   "metadata": {},
   "cell_type": "code",
   "outputs": [],
   "execution_count": null,
   "source": "",
   "id": "555355e2d2798d6f"
  }
 ],
 "metadata": {
  "kernelspec": {
   "display_name": "Python 3",
   "language": "python",
   "name": "python3"
  },
  "language_info": {
   "codemirror_mode": {
    "name": "ipython",
    "version": 2
   },
   "file_extension": ".py",
   "mimetype": "text/x-python",
   "name": "python",
   "nbconvert_exporter": "python",
   "pygments_lexer": "ipython2",
   "version": "2.7.6"
  }
 },
 "nbformat": 4,
 "nbformat_minor": 5
}
